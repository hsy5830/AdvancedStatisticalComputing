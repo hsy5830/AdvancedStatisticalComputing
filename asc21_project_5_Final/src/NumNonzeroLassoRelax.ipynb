{
 "cells": [
  {
   "cell_type": "markdown",
   "metadata": {},
   "source": [
    "## Why number of nonzero differ : Lasso VS Relaxed Lasso"
   ]
  },
  {
   "cell_type": "code",
   "execution_count": 4,
   "metadata": {},
   "outputs": [
    {
     "data": {
      "text/plain": [
       "#11 (generic function with 1 method)"
      ]
     },
     "execution_count": 4,
     "metadata": {},
     "output_type": "execute_result"
    }
   ],
   "source": [
    "include(\"lasso_glmnet.jl\")\n",
    "include(\"data_generator.jl\")"
   ]
  },
  {
   "cell_type": "code",
   "execution_count": 41,
   "metadata": {},
   "outputs": [],
   "source": [
    "using Random \n",
    "Random.seed!(1)\n",
    "n = 500\n",
    "p = 100\n",
    "β_type = 2\n",
    "s = 5\n",
    "ν = 0.7\n",
    "ρ = 0.35\n",
    "\n",
    "X, Σ = gen_pred(n, p, ρ)\n",
    "X_test = gen_pred(n, p , ρ)[1]\n",
    "\n",
    "β = gen_beta(β_type, p, s)\n",
    "σ2 = β'*Σ*β / ν;\n",
    "y = gen_resp(X, β, Σ, ν) ;"
   ]
  },
  {
   "cell_type": "code",
   "execution_count": 42,
   "metadata": {},
   "outputs": [],
   "source": [
    "# Lasso tuning procedure\n",
    "β_path_lasso , λgrid = lasso_glmnet(X, y, nlambda = 50, nrelax = 1, intercept = false)\n",
    "test_lasso = zeros(size(β_path_lasso, 2))\n",
    "\n",
    "for i in 1:size(β_path_lasso, 2)           \n",
    "    β_test = β_path_lasso[:, i]\n",
    "    test_lasso[i] = norm(X_test * β - X_test * β_test)^2 / norm(X_test * β)^2\n",
    "end\n",
    "\n",
    "β̂_lasso = β_path_lasso[:, argmin(test_lasso)] ;"
   ]
  },
  {
   "cell_type": "code",
   "execution_count": 43,
   "metadata": {},
   "outputs": [
    {
     "name": "stdout",
     "output_type": "stream",
     "text": [
      "length(test_lasso) = 42\n",
      "count(!iszero, β̂_lasso) = 11\n",
      "argmin(test_lasso) = 12\n",
      "λgrid[argmin(test_lasso)] = 0.2807829056926784\n"
     ]
    },
    {
     "data": {
      "text/plain": [
       "0.2807829056926784"
      ]
     },
     "execution_count": 43,
     "metadata": {},
     "output_type": "execute_result"
    }
   ],
   "source": [
    "@show length(test_lasso)\n",
    "@show count(!iszero, β̂_lasso)\n",
    "@show argmin(test_lasso)\n",
    "@show λgrid[argmin(test_lasso)]"
   ]
  },
  {
   "cell_type": "code",
   "execution_count": 61,
   "metadata": {},
   "outputs": [],
   "source": [
    " # Relaxed Lasso tuning procedure\n",
    " β_path_relaxo , relaxλgrid = lasso_glmnet(X, y, nlambda = 50, nrelax = 11, intercept = false)\n",
    " test_relaxo = zeros(size(β_path_relaxo, 2))\n",
    " \n",
    " for i in 1:size(β_path_relaxo, 2)           \n",
    "     β_test = β_path_relaxo[:, i]\n",
    "     test_relaxo[i] = norm(X_test * β - X_test * β_test)^2 / norm(X_test * β)^2\n",
    " end\n",
    " \n",
    " β̂_relaxo = β_path_relaxo[:, argmin(test_relaxo)] ;"
   ]
  },
  {
   "cell_type": "code",
   "execution_count": 45,
   "metadata": {},
   "outputs": [
    {
     "name": "stdout",
     "output_type": "stream",
     "text": [
      "length(test_relaxo) = 462\n",
      "count(!iszero, β̂_relaxo) = 5\n",
      "argmin(test_relaxo) = 76\n"
     ]
    },
    {
     "data": {
      "text/plain": [
       "76"
      ]
     },
     "execution_count": 45,
     "metadata": {},
     "output_type": "execute_result"
    }
   ],
   "source": [
    "@show length(test_relaxo)\n",
    "@show count(!iszero, β̂_relaxo)\n",
    "@show argmin(test_relaxo)\n"
   ]
  },
  {
   "cell_type": "markdown",
   "metadata": {},
   "source": [
    "$76 = 7 * 10 + 6$ . Thus relaxed lasso uses $7$-th $\\lambda$ and $6$-th $\\gamma$"
   ]
  },
  {
   "cell_type": "code",
   "execution_count": 46,
   "metadata": {},
   "outputs": [
    {
     "name": "stdout",
     "output_type": "stream",
     "text": [
      "relaxλgrid[7] = 0.7186773029952344\n"
     ]
    },
    {
     "data": {
      "text/plain": [
       "0.7186773029952344"
      ]
     },
     "execution_count": 46,
     "metadata": {},
     "output_type": "execute_result"
    }
   ],
   "source": [
    "@show relaxλgrid[7]     "
   ]
  },
  {
   "cell_type": "markdown",
   "metadata": {},
   "source": [
    "For the same training data and validatiaon data , the relaxed lasso chooses tuning parameter $λ = 0.718$ and $γ = 0.5$ while the lasso chooses tuning parameter $\\lambda = 0.281$"
   ]
  },
  {
   "cell_type": "markdown",
   "metadata": {},
   "source": [
    "Since relaxed lasso chooses larger $\\lambda$ than the lasso through the tuning (which can be balanced by taking weighted average with active set restriced LSE), we can now understand why relaxed lasso has smaller nonzero values in the figures."
   ]
  },
  {
   "cell_type": "code",
   "execution_count": 64,
   "metadata": {},
   "outputs": [],
   "source": [
    "using SparseArrays"
   ]
  },
  {
   "cell_type": "code",
   "execution_count": 65,
   "metadata": {},
   "outputs": [
    {
     "data": {
      "text/plain": [
       "100-element SparseVector{Float64, Int64} with 11 stored entries:\n",
       "  [1  ]  =  0.84479\n",
       "  [2  ]  =  0.918044\n",
       "  [3  ]  =  0.989172\n",
       "  [4  ]  =  0.913061\n",
       "  [5  ]  =  0.722364\n",
       "  [26 ]  =  0.105994\n",
       "  [30 ]  =  -0.0439563\n",
       "  [70 ]  =  -0.0422064\n",
       "  [76 ]  =  0.237095\n",
       "  [80 ]  =  -0.0697346\n",
       "  [82 ]  =  -0.0246187"
      ]
     },
     "execution_count": 65,
     "metadata": {},
     "output_type": "execute_result"
    }
   ],
   "source": [
    "sparse(β̂_lasso)"
   ]
  },
  {
   "cell_type": "code",
   "execution_count": 66,
   "metadata": {},
   "outputs": [
    {
     "data": {
      "text/plain": [
       "100-element SparseVector{Float64, Int64} with 5 stored entries:\n",
       "  [1  ]  =  0.998882\n",
       "  [2  ]  =  1.04285\n",
       "  [3  ]  =  1.09293\n",
       "  [4  ]  =  1.02919\n",
       "  [5  ]  =  0.882299"
      ]
     },
     "execution_count": 66,
     "metadata": {},
     "output_type": "execute_result"
    }
   ],
   "source": [
    "sparse(β̂_relaxo)"
   ]
  },
  {
   "cell_type": "code",
   "execution_count": 67,
   "metadata": {},
   "outputs": [
    {
     "data": {
      "text/plain": [
       "100-element SparseVector{Float64, Int64} with 5 stored entries:\n",
       "  [1  ]  =  1.0\n",
       "  [2  ]  =  1.0\n",
       "  [3  ]  =  1.0\n",
       "  [4  ]  =  1.0\n",
       "  [5  ]  =  1.0"
      ]
     },
     "execution_count": 67,
     "metadata": {},
     "output_type": "execute_result"
    }
   ],
   "source": [
    "sparse(β)"
   ]
  },
  {
   "cell_type": "markdown",
   "metadata": {},
   "source": [
    "Indeed, relaxed lasso has come very close to true $\\beta$ while the lasso is a little further from true $\\beta$ than the relaxed one."
   ]
  }
 ],
 "metadata": {
  "kernelspec": {
   "display_name": "Julia 1.6.2",
   "language": "julia",
   "name": "julia-1.6"
  },
  "language_info": {
   "file_extension": ".jl",
   "mimetype": "application/julia",
   "name": "julia",
   "version": "1.6.2"
  },
  "orig_nbformat": 4
 },
 "nbformat": 4,
 "nbformat_minor": 2
}
