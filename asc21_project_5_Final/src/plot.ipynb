{
 "cells": [
  {
   "cell_type": "code",
   "execution_count": null,
   "id": "7a98bc50",
   "metadata": {
    "scrolled": false
   },
   "outputs": [],
   "source": [
    "include(\"bs.jl\")\n",
    "include(\"fs.jl\")\n",
    "include(\"lasso_glmnet.jl\")\n",
    "include(\"plot_generator.jl\")\n",
    "\n",
    "using Convex, Gurobi\n",
    "\n",
    "ENV[\"GRB_LICENSE_FILE\"] = \"/Library/gurobi903/gurobi.lic\"  # set as YOUR path to license file\n",
    "const GRB_ENV = Gurobi.Env()\n",
    "const MOI = Convex.MOI"
   ]
  },
  {
   "cell_type": "markdown",
   "id": "ea1b7daf",
   "metadata": {},
   "source": [
    "# Setup and Function Description\n",
    "\n",
    "SNR range : $\\nu = [0.05, 0.09, 0.14, 0.25, 0.42, 0.71, 1.22, 2.07, 3.52, 6.00]$ (0.05 to 6 on a log scale)\n",
    "\n",
    "A function `gen_plot(i, j, k)` generates plots and elapsed time in one setting with the following index.\n",
    "\n",
    "* `i` : $\\rho = [0, 0.35, 0.7]$\n",
    "* `j` : beta-type = [1, 2, 3, 5]\n",
    "* `k` : metric = RR, RTE, PVE, NN, FS\n",
    "\n",
    "The outputs of `gen_plot(i, j, k)` are\n",
    "\n",
    "* figure with the index [$\\rho$, beta-type, metric]\n",
    "* elapsed time with the index [method, beta-type, $\\rho$, $\\nu$, iteration]"
   ]
  },
  {
   "cell_type": "markdown",
   "id": "373496bc",
   "metadata": {},
   "source": [
    "# Low setting (n = 100, p = 10, s = 5)"
   ]
  },
  {
   "cell_type": "code",
   "execution_count": null,
   "id": "079810f9",
   "metadata": {
    "scrolled": true
   },
   "outputs": [],
   "source": [
    "fig_low, time_low = gen_plot(100, 10, 5);"
   ]
  },
  {
   "cell_type": "code",
   "execution_count": null,
   "id": "8373baee",
   "metadata": {},
   "outputs": [],
   "source": [
    "legend = plot(fig_low[1, 1, 1], legend = :topright, foreground_color_legend = nothing)\n",
    "\n",
    "l = @layout([a b c; d e f; g h i; j k l])\n",
    "title = \"Low setting : n = 100, p = 10, s = 5 \\n - Row : beta-type = [1, 2, 3, 5] \\n - Column : Correlation = [0, 0.35, 0.7]\"\n",
    "\n",
    "RR_low_plt = plot(legend, fig_low[1, 2, 1], fig_low[1, 3, 1],\n",
    "    fig_low[2, 1, 1], fig_low[2, 2, 1], fig_low[2, 3, 1],\n",
    "    fig_low[3, 1, 1], fig_low[3, 2, 1], fig_low[3, 3, 1],\n",
    "    fig_low[4, 1, 1], fig_low[4, 2, 1], fig_low[4, 3, 1], size = (1200, 1600),\n",
    "    layout = l, margin = 3Plots.mm, ylabel = \"\", dpi = 300, plot_title = title)\n",
    "\n",
    "savefig(RR_low_plt, \"1. RR_low.png\")"
   ]
  },
  {
   "cell_type": "code",
   "execution_count": null,
   "id": "fd23e40d",
   "metadata": {},
   "outputs": [],
   "source": [
    "legend = plot(fig_low[4, 3, 2], legend = :topleft, foreground_color_legend = nothing)\n",
    "\n",
    "l = @layout([a b c; d e f; g h i; j k l])\n",
    "title = \"Low setting : n = 100, p = 10, s = 5 \\n - Row : beta-type = [1, 2, 3, 5] \\n - Column : Correlation = [0, 0.35, 0.7]\"\n",
    "\n",
    "RTE_low_plt = plot(fig_low[1, 1, 2], fig_low[1, 2, 2], fig_low[1, 3, 2],\n",
    "    fig_low[2, 1, 2], fig_low[2, 2, 2], fig_low[2, 3, 2],\n",
    "    fig_low[3, 1, 2], fig_low[3, 2, 2], fig_low[3, 3, 2],\n",
    "    fig_low[4, 1, 2], fig_low[4, 2, 2], legend, size = (1200, 1600),\n",
    "    layout = l, margin = 3Plots.mm, ylabel = \"\", dpi = 300, plot_title = title)\n",
    "\n",
    "savefig(RTE_low_plt, \"2. RTE_low.png\")"
   ]
  },
  {
   "cell_type": "code",
   "execution_count": null,
   "id": "2781265b",
   "metadata": {},
   "outputs": [],
   "source": [
    "legend = plot(fig_low[1, 1, 3], legend = :topleft,\n",
    "              foreground_color_legend = nothing, legend_title_font_halign = :right)\n",
    "\n",
    "l = @layout([a b c; d e f; g h i; j k l])\n",
    "title = \"Low setting : n = 100, p = 10, s = 5 \\n - Row : beta-type = [1, 2, 3, 5] \\n - Column : Correlation = [0, 0.35, 0.7]\"\n",
    "\n",
    "PVE_low_plt = plot(legend, fig_low[1, 2, 3], fig_low[1, 3, 3],\n",
    "    fig_low[2, 1, 3], fig_low[2, 2, 3], fig_low[2, 3, 3],\n",
    "    fig_low[3, 1, 3], fig_low[3, 2, 3], fig_low[3, 3, 3],\n",
    "    fig_low[4, 1, 3], fig_low[4, 2, 3], fig_low[4, 3, 3], size = (1200, 1600),\n",
    "    layout = l, margin = 3Plots.mm, ylabel = \"\", dpi = 300, plot_title = title)\n",
    "\n",
    "savefig(PVE_low_plt, \"3. PVE_low.png\")"
   ]
  },
  {
   "cell_type": "code",
   "execution_count": null,
   "id": "bed00a83",
   "metadata": {},
   "outputs": [],
   "source": [
    "legend = plot(fig_low[1, 1, 4], legend = :bottomright, foreground_color_legend = nothing)\n",
    "\n",
    "l = @layout([a b c; d e f; g h i; j k l])\n",
    "title = \"Low setting : n = 100, p = 10, s = 5 \\n - Row : beta-type = [1, 2, 3, 5] \\n - Column : Correlation = [0, 0.35, 0.7]\"\n",
    "\n",
    "NN_low_plt = plot(legend, fig_low[1, 2, 4], fig_low[1, 3, 4],\n",
    "    fig_low[2, 1, 4], fig_low[2, 2, 4], fig_low[2, 3, 4],\n",
    "    fig_low[3, 1, 4], fig_low[3, 2, 4], fig_low[3, 3, 4],\n",
    "    fig_low[4, 1, 4], fig_low[4, 2, 4], fig_low[4, 3, 4], size = (1200, 1600),\n",
    "    layout = l, margin = 3Plots.mm, ylabel = \"\", dpi = 300, plot_title = title)\n",
    "\n",
    "savefig(NN_low_plt, \"4. NN_low.png\")"
   ]
  },
  {
   "cell_type": "code",
   "execution_count": null,
   "id": "ab2253f5",
   "metadata": {},
   "outputs": [],
   "source": [
    "legend = plot(fig_low[1, 1, 5], legend = :bottomright, foreground_color_legend = nothing)\n",
    "\n",
    "l = @layout([a b c; d e f; g h i; j k l])\n",
    "title = \"Low setting : n = 100, p = 10, s = 5 \\n - Row : beta-type = [1, 2, 3, 5] \\n - Column : Correlation = [0, 0.35, 0.7]\"\n",
    "\n",
    "FS_low_plt = plot(legend, fig_low[1, 2, 5], fig_low[1, 3, 5],\n",
    "    fig_low[2, 1, 5], fig_low[2, 2, 5], fig_low[2, 3, 5],\n",
    "    fig_low[3, 1, 5], fig_low[3, 2, 5], fig_low[3, 3, 5],\n",
    "    fig_low[4, 1, 5], fig_low[4, 2, 5], fig_low[4, 3, 5], size = (1200, 1600),\n",
    "    layout = l, margin = 3Plots.mm, ylabel = \"\", dpi = 300, plot_title = title)\n",
    "\n",
    "savefig(FS_low_plt, \"5. FS_low.png\")"
   ]
  },
  {
   "cell_type": "code",
   "execution_count": null,
   "id": "d28f3fc3",
   "metadata": {
    "scrolled": true
   },
   "outputs": [],
   "source": [
    "fig5_1 = fig_low[2, 2, 2]\n",
    "fig5_2 = plot(fig_low[2, 2, 3], legend = :topleft, foreground_color_legend = nothing)\n",
    "fig5_3 = fig_low[2, 2, 4]\n",
    "fig5_4 = fig_low[2, 2, 5]\n",
    "\n",
    "fig5 = plot(fig5_1, fig5_2, fig5_3, fig5_4, size = (800, 800), top_margin = 4Plots.mm, dpi = 300,\n",
    "    plot_title = \"Low setting : n = 100, p = 10, s = 5\\n Correlation ρ = 0.35, beta-type 2\")\n",
    "\n",
    "savefig(fig5, \"Figure 5.png\")"
   ]
  },
  {
   "cell_type": "code",
   "execution_count": null,
   "id": "41a5e7b2",
   "metadata": {},
   "outputs": [],
   "source": [
    "mean(mean(time_low, dims = 4), dims = 5)[1]"
   ]
  },
  {
   "cell_type": "code",
   "execution_count": null,
   "id": "6179b842",
   "metadata": {},
   "outputs": [],
   "source": [
    "mean(mean(time_low, dims = 4), dims = 5)[2]"
   ]
  },
  {
   "cell_type": "code",
   "execution_count": null,
   "id": "71c85b65",
   "metadata": {},
   "outputs": [],
   "source": [
    "mean(mean(time_low, dims = 4), dims = 5)[3]"
   ]
  },
  {
   "cell_type": "code",
   "execution_count": null,
   "id": "3578416e",
   "metadata": {},
   "outputs": [],
   "source": [
    "mean(mean(time_low, dims = 4), dims = 5)[4]"
   ]
  },
  {
   "cell_type": "markdown",
   "id": "9b143cfc",
   "metadata": {},
   "source": [
    "---"
   ]
  },
  {
   "cell_type": "markdown",
   "id": "4d5d0712",
   "metadata": {},
   "source": [
    "# Medium setting (n = 500, p = 100, s = 5)"
   ]
  },
  {
   "cell_type": "code",
   "execution_count": null,
   "id": "8ef66f4f",
   "metadata": {
    "scrolled": true
   },
   "outputs": [],
   "source": [
    "fig_med, time_med = gen_plot(500, 100, 5);"
   ]
  },
  {
   "cell_type": "code",
   "execution_count": null,
   "id": "e2dbfdfc",
   "metadata": {},
   "outputs": [],
   "source": [
    "savefig(plot(fig_med[1, 1, 1], legend = :topright, foreground_color_legend = nothing, dpi = 300, size = (600, 600),\n",
    "        title = \"Medium setting : n = 500, p = 100, s = 5\\n Correlation ρ = 0.35, beta-type 2\"), \"1. RR_med.png\")\n",
    "\n",
    "savefig(plot(fig_med[1, 1, 2], legend = :none, dpi = 300, size = (600, 600),\n",
    "        title = \"Medium setting : n = 500, p = 100, s = 5\\n Correlation ρ = 0.35, beta-type 2\"), \"2. RTE_med.png\")\n",
    "\n",
    "savefig(plot(fig_med[1, 1, 3], legend = :topleft, foreground_color_legend = nothing, dpi = 300, size = (600, 600),\n",
    "        title = \"Medium setting : n = 500, p = 100, s = 5\\n Correlation ρ = 0.35, beta-type 2\"), \"3. PVE_med.png\")\n",
    "\n",
    "savefig(plot(fig_med[1, 1, 4], legend = :none, dpi = 300, size = (600, 600),\n",
    "        title = \"Medium setting : n = 500, p = 100, s = 5\\n Correlation ρ = 0.35, beta-type 2\"), \"4. NN_med.png\")\n",
    "\n",
    "savefig(plot(fig_med[1, 1, 5], legend = :none, dpi = 300, size = (600, 600),\n",
    "        title = \"Medium setting : n = 500, p = 100, s = 5\\n Correlation ρ = 0.35, beta-type 2\"), \"5. FS_med.png\")"
   ]
  },
  {
   "cell_type": "code",
   "execution_count": null,
   "id": "9144ddfd",
   "metadata": {},
   "outputs": [],
   "source": [
    "fig6_1 = fig_med[1, 1, 2]\n",
    "fig6_2 = plot(fig_med[1, 1, 3], legend = :topleft, foreground_color_legend = nothing)\n",
    "fig6_3 = fig_med[1, 1, 4]\n",
    "fig6_4 = fig_med[1, 1, 5]\n",
    "\n",
    "fig6 = plot(fig6_1, fig6_2, fig6_3, fig6_4, size = (800, 800), top_margin = 4Plots.mm, dpi = 300,\n",
    "    plot_title = \"Medium setting : n = 500, p = 100, s = 5\\n Correlation ρ = 0.35, beta-type 2\")\n",
    "\n",
    "savefig(fig6, \"Figure 6.png\")"
   ]
  },
  {
   "cell_type": "code",
   "execution_count": null,
   "id": "758a5c23",
   "metadata": {},
   "outputs": [],
   "source": [
    "mean(mean(time_med, dims = 4), dims = 5)[1]"
   ]
  },
  {
   "cell_type": "code",
   "execution_count": null,
   "id": "befdc1cd",
   "metadata": {},
   "outputs": [],
   "source": [
    "mean(mean(time_med, dims = 4), dims = 5)[2]"
   ]
  },
  {
   "cell_type": "code",
   "execution_count": null,
   "id": "2220ae67",
   "metadata": {},
   "outputs": [],
   "source": [
    "mean(mean(time_med, dims = 4), dims = 5)[3]"
   ]
  },
  {
   "cell_type": "code",
   "execution_count": null,
   "id": "6d735850",
   "metadata": {},
   "outputs": [],
   "source": [
    "mean(mean(time_med, dims = 4), dims = 5)[4]"
   ]
  },
  {
   "cell_type": "markdown",
   "id": "0a6b19d9",
   "metadata": {},
   "source": [
    "---"
   ]
  },
  {
   "cell_type": "markdown",
   "id": "46c26f3d",
   "metadata": {},
   "source": [
    "# High-5 setting (n = 50, p = 1000, s = 5)"
   ]
  },
  {
   "cell_type": "code",
   "execution_count": null,
   "id": "c3b66760",
   "metadata": {
    "scrolled": false
   },
   "outputs": [],
   "source": [
    "fig_high5_b2, time_high5_b2 = gen_plot(50, 1000, 5);"
   ]
  },
  {
   "cell_type": "code",
   "execution_count": null,
   "id": "14433693",
   "metadata": {},
   "outputs": [],
   "source": [
    "savefig(plot(fig_high5_b2[1, 1, 1], legend = :topright, foreground_color_legend = nothing, dpi = 300, size = (600, 600),\n",
    "        title = \"high5_b2 setting : n = 50, p = 1000, s = 5\\n Correlation ρ = 0.35, beta-type 2\"), \"1. RR_high5_b2.png\")\n",
    "\n",
    "savefig(plot(fig_high5_b2[1, 1, 2], legend = :topleft, dpi = 300, size = (600, 600),\n",
    "        title = \"high5_b2 setting : n = 50, p = 1000, s = 5\\n Correlation ρ = 0.35, beta-type 2\"), \"2. RTE_high5_b2.png\")\n",
    "\n",
    "savefig(plot(fig_high5_b2[1, 1, 3], legend = :topleft, foreground_color_legend = nothing, dpi = 300, size = (600, 600),\n",
    "        title = \"high5_b2 setting : n = 50, p = 1000, s = 5\\n Correlation ρ = 0.35, beta-type 2\"), \"3. PVE_high5_b2.png\")\n",
    "\n",
    "savefig(plot(fig_high5_b2[1, 1, 4], legend = :topleft, dpi = 300, size = (600, 600),\n",
    "        title = \"high5_b2 setting : n = 50, p = 1000, s = 5\\n Correlation ρ = 0.35, beta-type 2\"), \"4. NN_high5_b2.png\")\n",
    "\n",
    "savefig(plot(fig_high5_b2[1, 1, 5], legend = :topleft, dpi = 300, size = (600, 600),\n",
    "        title = \"high5_b2 setting : n = 50, p = 1000, s = 5\\n Correlation ρ = 0.35, beta-type 2\"), \"5. FS_high5_b2.png\")"
   ]
  },
  {
   "cell_type": "code",
   "execution_count": null,
   "id": "202c2c43",
   "metadata": {},
   "outputs": [],
   "source": [
    "fig7_1 = fig_high5_b2[1, 1, 2]\n",
    "fig7_2 = plot(fig_high5_b2[1, 1, 3], legend = :topleft, foreground_color_legend = nothing)\n",
    "fig7_3 = fig_high5_b2[1, 1, 4]\n",
    "fig7_4 = fig_high5_b2[1, 1, 5]\n",
    "\n",
    "fig7 = plot(fig7_1, fig7_2, fig7_3, fig7_4, size = (800, 800), top_margin = 4Plots.mm, dpi = 300,\n",
    "    plot_title = \"High-5 setting : n = 50, p = 1000, s = 5\\n Correlation ρ = 0.35, beta-type 2\")\n",
    "\n",
    "savefig(fig7, \"Figure 7.png\")"
   ]
  },
  {
   "cell_type": "code",
   "execution_count": null,
   "id": "6bb543e4",
   "metadata": {},
   "outputs": [],
   "source": [
    "mean(mean(time_high5_b2, dims = 4), dims = 5)[1]"
   ]
  },
  {
   "cell_type": "code",
   "execution_count": null,
   "id": "9ba0d707",
   "metadata": {},
   "outputs": [],
   "source": [
    "mean(mean(time_high5_b2, dims = 4), dims = 5)[2]"
   ]
  },
  {
   "cell_type": "code",
   "execution_count": null,
   "id": "c6c25ab7",
   "metadata": {},
   "outputs": [],
   "source": [
    "mean(mean(time_high5_b2, dims = 4), dims = 5)[3]"
   ]
  },
  {
   "cell_type": "code",
   "execution_count": null,
   "id": "fdee0431",
   "metadata": {},
   "outputs": [],
   "source": [
    "mean(mean(time_high5_b2, dims = 4), dims = 5)[4]"
   ]
  },
  {
   "cell_type": "markdown",
   "id": "cdf0e486",
   "metadata": {},
   "source": [
    "---"
   ]
  },
  {
   "cell_type": "code",
   "execution_count": null,
   "id": "50f611b3",
   "metadata": {},
   "outputs": [],
   "source": [
    "fig_high5_b1, time_high5_b1 = gen_plot(50, 1000, 5);"
   ]
  },
  {
   "cell_type": "code",
   "execution_count": null,
   "id": "7bf6defd",
   "metadata": {},
   "outputs": [],
   "source": [
    "savefig(plot(fig_high5_b1[1, 1, 1], legend = :topright, foreground_color_legend = nothing, dpi = 300, size = (600, 600),\n",
    "        title = \"high5_b1 setting : n = 50, p = 1000, s = 5\\n Correlation ρ = 0.35, beta-type 1\"), \"1. RR_high5_b1.png\")\n",
    "\n",
    "savefig(plot(fig_high5_b1[1, 1, 2], legend = :topleft, dpi = 300, size = (600, 600),\n",
    "        title = \"high5_b1 setting : n = 50, p = 1000, s = 5\\n Correlation ρ = 0.35, beta-type 1\"), \"2. RTE_high5_b1.png\")\n",
    "\n",
    "savefig(plot(fig_high5_b1[1, 1, 3], legend = :topleft, foreground_color_legend = nothing, dpi = 300, size = (600, 600),\n",
    "        title = \"high5_b1 setting : n = 50, p = 1000, s = 5\\n Correlation ρ = 0.35, beta-type 1\"), \"3. PVE_high5_b1.png\")\n",
    "\n",
    "savefig(plot(fig_high5_b1[1, 1, 4], legend = :topleft, dpi = 300, size = (600, 600),\n",
    "        title = \"high5_b1 setting : n = 50, p = 1000, s = 5\\n Correlation ρ = 0.35, beta-type 1\"), \"4. NN_high5_b1.png\")\n",
    "\n",
    "savefig(plot(fig_high5_b1[1, 1, 5], legend = :topleft, dpi = 300, size = (600, 600),\n",
    "        title = \"high5_b1 setting : n = 50, p = 1000, s = 5\\n Correlation ρ = 0.35, beta-type 1\"), \"5. FS_high5_b1.png\")"
   ]
  },
  {
   "cell_type": "code",
   "execution_count": null,
   "id": "4b4126d9",
   "metadata": {},
   "outputs": [],
   "source": [
    "fig8_1 = fig_high5_b1[1, 1, 2]\n",
    "fig8_2 = plot(fig_high5_b1[1, 1, 3], legend = :topleft, foreground_color_legend = nothing)\n",
    "fig8_3 = fig_high5_b1[1, 1, 4]\n",
    "fig8_4 = fig_high5_b1[1, 1, 5]\n",
    "\n",
    "fig8 = plot(fig8_1, fig8_2, fig8_3, fig8_4, size = (800, 800), top_margin = 4Plots.mm, dpi = 300,\n",
    "    plot_title = \"High-5 setting : n = 50, p = 1000, s = 5\\n Correlation ρ = 0.35, beta-type 1\")\n",
    "\n",
    "savefig(fig8, \"Figure 8.png\")"
   ]
  },
  {
   "cell_type": "code",
   "execution_count": null,
   "id": "0036f570",
   "metadata": {},
   "outputs": [],
   "source": [
    "mean(mean(time_high5_b1, dims = 4), dims = 5)[1]"
   ]
  },
  {
   "cell_type": "code",
   "execution_count": null,
   "id": "b2abae23",
   "metadata": {},
   "outputs": [],
   "source": [
    "mean(mean(time_high5_b1, dims = 4), dims = 5)[2]"
   ]
  },
  {
   "cell_type": "code",
   "execution_count": null,
   "id": "fa165482",
   "metadata": {},
   "outputs": [],
   "source": [
    "mean(mean(time_high5_b1, dims = 4), dims = 5)[3]"
   ]
  },
  {
   "cell_type": "code",
   "execution_count": null,
   "id": "52d06952",
   "metadata": {},
   "outputs": [],
   "source": [
    "mean(mean(time_high5_b1, dims = 4), dims = 5)[4]"
   ]
  },
  {
   "cell_type": "markdown",
   "id": "930dfb3a",
   "metadata": {},
   "source": [
    "---"
   ]
  },
  {
   "cell_type": "markdown",
   "id": "178c7a16",
   "metadata": {},
   "source": [
    "# High-10 setting (n = 100, p = 1000, s = 10)"
   ]
  },
  {
   "cell_type": "code",
   "execution_count": null,
   "id": "591f58e7",
   "metadata": {},
   "outputs": [],
   "source": [
    "fig_high10, time_high10 = gen_plot(100, 1000, 10);"
   ]
  }
 ],
 "metadata": {
  "kernelspec": {
   "display_name": "Julia 1.6.2",
   "language": "julia",
   "name": "julia-1.6"
  },
  "language_info": {
   "file_extension": ".jl",
   "mimetype": "application/julia",
   "name": "julia",
   "version": "1.6.2"
  }
 },
 "nbformat": 4,
 "nbformat_minor": 5
}
