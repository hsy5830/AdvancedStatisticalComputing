{
 "cells": [
  {
   "cell_type": "markdown",
   "id": "38bee3c5",
   "metadata": {},
   "source": [
    "# .jl files"
   ]
  },
  {
   "cell_type": "code",
   "execution_count": 2,
   "id": "6a12c813",
   "metadata": {
    "ExecuteTime": {
     "end_time": "2021-12-12T00:16:18.176000+09:00",
     "start_time": "2021-12-11T15:16:18.051Z"
    }
   },
   "outputs": [
    {
     "name": "stderr",
     "output_type": "stream",
     "text": [
      "WARNING: using StatsBase.standardize in module Main conflicts with an existing identifier.\n"
     ]
    },
    {
     "data": {
      "text/plain": [
       "#13 (generic function with 1 method)"
      ]
     },
     "execution_count": 2,
     "metadata": {},
     "output_type": "execute_result"
    }
   ],
   "source": [
    "include(\"./fs.jl\")\n",
    "include(\"./lasso_glmnet.jl\")\n",
    "include(\"./bs.jl\")\n",
    "include(\"./data_generator.jl\")"
   ]
  },
  {
   "cell_type": "markdown",
   "id": "b379db91",
   "metadata": {},
   "source": [
    "* settings"
   ]
  },
  {
   "cell_type": "code",
   "execution_count": null,
   "id": "3fb4553f",
   "metadata": {
    "ExecuteTime": {
     "end_time": "2021-12-12T00:16:03.729000+09:00",
     "start_time": "2021-12-11T15:16:03.725Z"
    }
   },
   "outputs": [],
   "source": [
    "Random.seed!(1)\n",
    "n = 70\n",
    "p = 10\n",
    "β_type = 2\n",
    "s = 5\n",
    "ν = 0.7\n",
    "ρ = 0.35\n",
    "\n",
    "X, Σ = gen_pred(n, p, ρ)\n",
    "Xc = (X .- mean(X, dims=1))./std(X, dims=1)\n",
    "\n",
    "β = gen_beta(β_type, p, s)\n",
    "y = gen_resp(X, β, Σ, ν)\n",
    "\n",
    "\n",
    "σ2 = β'*Σ*β / ν;"
   ]
  },
  {
   "cell_type": "markdown",
   "id": "2cee1429",
   "metadata": {},
   "source": [
    "# Simulation - fs.jl"
   ]
  },
  {
   "cell_type": "code",
   "execution_count": null,
   "id": "405075cd",
   "metadata": {
    "ExecuteTime": {
     "end_time": "2021-12-11T23:51:52.989000+09:00",
     "start_time": "2021-12-11T14:51:49.850Z"
    }
   },
   "outputs": [],
   "source": [
    "iter = 500 # iteration of monte carlo evaluation\n",
    "y_mat = zeros(n,iter)     # n x iter     : i-th row == y_i in d.f\n",
    "ŷ_mat = zeros(n,iter,p)   # n x iter x p : k = 1,...,p (number of nonzeros)\n",
    "\n",
    "\n",
    "for j = 1:iter\n",
    "    y = gen_resp(X, β, Σ, ν)   # generate new y from original X\n",
    "    y .-= mean(y)\n",
    "    \n",
    "    beta = fs(X, y)[:, 2:end]  # p x p\n",
    "\n",
    "    y_mat[:, j] = y\n",
    "    ŷ = zeros(n)\n",
    "\n",
    "    for k = 1:p\n",
    "        beta_k = beta[:, k]\n",
    "        mul!(ŷ , X, beta_k)\n",
    "        ŷ_mat[:, j, k] = ŷ\n",
    "    end\n",
    "end\n",
    "\n",
    "# compute d.f\n",
    "df_fs = zeros(p)\n",
    "for k = 1:p\n",
    "    for i in 1:n\n",
    "        df_fs[k] += cov(y_mat[i, :], ŷ_mat[i, :, k])\n",
    "    end\n",
    "    df_fs[k] /= σ2\n",
    "end\n",
    "df_fs;"
   ]
  },
  {
   "cell_type": "markdown",
   "id": "49181c53",
   "metadata": {},
   "source": [
    "# Simulation - lasso(glmnet)"
   ]
  },
  {
   "cell_type": "code",
   "execution_count": null,
   "id": "aa92b748",
   "metadata": {
    "ExecuteTime": {
     "end_time": "2021-12-11T23:51:53.297000+09:00",
     "start_time": "2021-12-11T14:51:50.293Z"
    }
   },
   "outputs": [],
   "source": [
    "iter = 500 # iteration of monte carlo evaluation\n",
    "y_mat = zeros(n, iter*100)\n",
    "ŷ_mat = zeros(n, iter*100)\n",
    "dfvec = zeros(iter*100) ;\n",
    "\n",
    "\n",
    "using GLMNet\n",
    "for j = 1:iter\n",
    "    y = gen_resp(X, β, Σ, ν)\n",
    "    # y .-= mean(y)\n",
    "    ŷ, β̂ = prediction_glmnet_df(X, y, X)\n",
    "\n",
    "    \n",
    "    ŷ_mat[:, (100*(j-1)+1):(100*j)] = ŷ\n",
    "    for i = 1:100\n",
    "        y_mat[: , 100*(j-1)+i] = y\n",
    "    end\n",
    "    dfvec[(100*(j-1)+1):(100*j)] = vec(count(!iszero, β̂ , dims=1))\n",
    "end\n",
    "\n",
    "\n",
    "\n",
    "df_lasso = zeros(p)\n",
    "for k = 1:p\n",
    "    indices = findall(x-> x==k, dfvec)\n",
    "    for i in 1:n\n",
    "        df_lasso[k] += cov(y_mat[i, indices], ŷ_mat[i, indices])\n",
    "    end\n",
    "    df_lasso[k] /= σ2\n",
    "end\n"
   ]
  },
  {
   "cell_type": "markdown",
   "id": "88abc52f",
   "metadata": {},
   "source": [
    "# Simulation - relaxed lasso"
   ]
  },
  {
   "cell_type": "markdown",
   "id": "01cc9f1d",
   "metadata": {},
   "source": [
    "\n",
    "## γ = 0.5"
   ]
  },
  {
   "cell_type": "code",
   "execution_count": null,
   "id": "a461c49f",
   "metadata": {
    "ExecuteTime": {
     "end_time": "2021-12-11T23:52:04.767000+09:00",
     "start_time": "2021-12-11T14:51:50.895Z"
    }
   },
   "outputs": [],
   "source": [
    "iter = 500\n",
    "y_mat = zeros(n, iter*100)\n",
    "ŷ_mat = zeros(n, iter*100)\n",
    "dfvec = zeros(iter*100)\n",
    "\n",
    "using GLMNet\n",
    "for j = 1:iter\n",
    "    y = gen_resp(X, β, Σ, ν)\n",
    "   \n",
    "    ŷ, β̂ = prediction_glmnet_df(X, y, X, nrelax = 3)\n",
    "    \n",
    "    ŷ_mat[:, (100*(j-1)+1):(100*j)] = ŷ[:, 3*(1:100).-1]\n",
    "    for i = 1:100\n",
    "        y_mat[: , 100*(j-1)+i] = y\n",
    "    end\n",
    "    dfvec[(100*(j-1)+1):(100*j)] = vec(count(!iszero, β̂[:, 3*(1:100).-1] , dims=1))\n",
    "end\n",
    "\n",
    "df_rlx05 = zeros(p)\n",
    "for k = 1:p\n",
    "    indices = findall(x-> x==k, dfvec)\n",
    "    for i in 1:n\n",
    "        df_rlx05[k] += cov(y_mat[i, indices], ŷ_mat[i, indices])\n",
    "    end\n",
    "    df_rlx05[k] /= σ2\n",
    "end\n",
    "df_rlx05"
   ]
  },
  {
   "cell_type": "markdown",
   "id": "490b4d2e",
   "metadata": {},
   "source": [
    "## γ = 0"
   ]
  },
  {
   "cell_type": "code",
   "execution_count": null,
   "id": "e3a0b6db",
   "metadata": {
    "ExecuteTime": {
     "end_time": "2021-12-11T23:52:16.182000+09:00",
     "start_time": "2021-12-11T14:51:51.328Z"
    }
   },
   "outputs": [],
   "source": [
    "iter = 500\n",
    "y_mat = zeros(n, iter*100)\n",
    "ŷ_mat = zeros(n, iter*100)\n",
    "dfvec = zeros(iter*100)\n",
    "\n",
    "for j = 1:iter\n",
    "    y = gen_resp(X, β, Σ, ν)\n",
    "   \n",
    "    ŷ, β̂ = prediction_glmnet_df(X, y, X, nrelax = 3)\n",
    "    \n",
    "    ŷ_mat[:, (100*(j-1)+1):(100*j)] = ŷ[:, 3*(1:100)]\n",
    "    for i = 1:100\n",
    "        y_mat[: , 100*(j-1)+i] = y\n",
    "    end\n",
    "    dfvec[(100*(j-1)+1):(100*j)] = vec(count(!iszero, β̂[:, 3*(1:100)] , dims=1))\n",
    "end\n",
    "\n",
    "df_rlx00 = zeros(p)\n",
    "for k = 1:p\n",
    "    indices = findall(x-> x==k, dfvec)\n",
    "    for i in 1:n\n",
    "        df_rlx00[k] += cov(y_mat[i, indices], ŷ_mat[i, indices])\n",
    "    end\n",
    "    df_rlx00[k] /= σ2\n",
    "end\n",
    "\n"
   ]
  },
  {
   "cell_type": "markdown",
   "id": "be3c8873",
   "metadata": {},
   "source": [
    "# Simulation - bs.jl"
   ]
  },
  {
   "cell_type": "code",
   "execution_count": null,
   "id": "c11b7c93",
   "metadata": {
    "ExecuteTime": {
     "end_time": "2021-12-12T00:16:21.088000+09:00",
     "start_time": "2021-12-11T15:16:21.085Z"
    }
   },
   "outputs": [],
   "source": [
    "using Convex, Gurobi\n",
    "\n",
    "# ENV[\"GRB_LICENSE_FILE\"]=\"/Library/gurobi903/gurobi.lic\"  # set as YOUR path to license file\n",
    "const GRB_ENV = Gurobi.Env()\n",
    "const MOI = Convex.MOI"
   ]
  },
  {
   "cell_type": "code",
   "execution_count": null,
   "id": "ba49f0f1",
   "metadata": {
    "ExecuteTime": {
     "end_time": "2021-12-12T00:23:41.430000+09:00",
     "start_time": "2021-12-11T15:16:21.446Z"
    },
    "scrolled": true
   },
   "outputs": [],
   "source": [
    "iter = 100 # iteration of monte carlo evaluation\n",
    "y_mat = zeros(n,iter)     # n x iter     : i-th row == y_i in d.f\n",
    "ŷ_mat = zeros(n,iter,p)   # n x iter x p : k = 1,...,p (number of nonzeros)\n",
    "\n",
    "for j = 1:iter\n",
    "    y = gen_resp(X, β, Σ, ν)\n",
    "\n",
    "    ŷ =  prediction_bs(X, y, X)[1][:,2:end]\n",
    "    for k = 1:p\n",
    "        ŷ_mat[:, j, k] = ŷ[:, k]\n",
    "    end\n",
    "\n",
    "    y_mat[:, j] = y\n",
    "\n",
    "end\n",
    "\n",
    "# compute d.f\n",
    "df_bs = zeros(p)\n",
    "for k = 1:p\n",
    "    for i in 1:n\n",
    "        df_bs[k] += cov(y_mat[i, :], ŷ_mat[i, :, k])\n",
    "    end\n",
    "    df_bs[k] /= σ2\n",
    "end\n",
    "df_bs;"
   ]
  },
  {
   "cell_type": "markdown",
   "id": "c050c107",
   "metadata": {},
   "source": [
    "# Merged graph"
   ]
  },
  {
   "cell_type": "markdown",
   "id": "2133bc14",
   "metadata": {},
   "source": [
    "* Plots"
   ]
  },
  {
   "cell_type": "code",
   "execution_count": null,
   "id": "cbdd9e17",
   "metadata": {
    "ExecuteTime": {
     "end_time": "2021-12-12T00:26:33.622000+09:00",
     "start_time": "2021-12-11T15:26:33.494Z"
    }
   },
   "outputs": [],
   "source": [
    "df = [df_bs'; df_fs'; df_lasso'; df_rlx00'; df_rlx05']\n",
    "color = [:coral1 :gold3 :seagreen3 :deepskyblue :violet]\n",
    "plt = Plots.plot(0:p, [zeros(5)'; df'],\n",
    "    line = (3, color),\n",
    "    label = [\"Forward stepwise\" \"Lasso\" \"Relaxed lasso : 0\" \"Relaxed lasso : 0.5\"],\n",
    "    xlabel = \"Number of nonzero coefficients\",\n",
    "    ylabel = \"Degress of freedom\",\n",
    "    legend=:bottomright, legend_title = \"Methods\", foreground_color_legend = nothing,\n",
    "    legend_font_halign = :left, legend_title_font_halign = :right, size = (600, 600), dpi = 300,\n",
    "    markerstrokecolor=color,markerstrokewidth = 1,marker = (:circle, color), framestyle = :box)\n",
    "Plots.plot!(plt, 0:p, 0:p, linestyle=:dot, color=:black, label = \"\")"
   ]
  },
  {
   "cell_type": "code",
   "execution_count": null,
   "id": "d073ba4a",
   "metadata": {
    "ExecuteTime": {
     "end_time": "2021-12-11T23:42:59.718000+09:00",
     "start_time": "2021-12-11T14:42:59.712Z"
    }
   },
   "outputs": [],
   "source": [
    "savefig(plt, \"Figure 4.png\")"
   ]
  }
 ],
 "metadata": {
  "kernelspec": {
   "display_name": "Julia 1.6.2",
   "language": "julia",
   "name": "julia-1.6"
  },
  "language_info": {
   "file_extension": ".jl",
   "mimetype": "application/julia",
   "name": "julia",
   "version": "1.6.2"
  },
  "toc": {
   "base_numbering": 1,
   "nav_menu": {},
   "number_sections": false,
   "sideBar": true,
   "skip_h1_title": false,
   "title_cell": "Table of Contents",
   "title_sidebar": "Contents",
   "toc_cell": false,
   "toc_position": {
    "height": "calc(100% - 180px)",
    "left": "10px",
    "top": "150px",
    "width": "165px"
   },
   "toc_section_display": true,
   "toc_window_display": true
  },
  "varInspector": {
   "cols": {
    "lenName": 16,
    "lenType": 16,
    "lenVar": 40
   },
   "kernels_config": {
    "python": {
     "delete_cmd_postfix": "",
     "delete_cmd_prefix": "del ",
     "library": "var_list.py",
     "varRefreshCmd": "print(var_dic_list())"
    },
    "r": {
     "delete_cmd_postfix": ") ",
     "delete_cmd_prefix": "rm(",
     "library": "var_list.r",
     "varRefreshCmd": "cat(var_dic_list()) "
    }
   },
   "types_to_exclude": [
    "module",
    "function",
    "builtin_function_or_method",
    "instance",
    "_Feature"
   ],
   "window_display": false
  }
 },
 "nbformat": 4,
 "nbformat_minor": 5
}
