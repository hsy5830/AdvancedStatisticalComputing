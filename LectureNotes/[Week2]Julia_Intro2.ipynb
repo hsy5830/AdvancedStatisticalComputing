{
 "cells": [
  {
   "cell_type": "markdown",
   "metadata": {
    "toc": true
   },
   "source": [
    "<h1>Table of Contents<span class=\"tocSkip\"></span></h1>\n",
    "<div class=\"toc\"><ul class=\"toc-item\"><li><span><a href=\"#Matrices-and-vectors\" data-toc-modified-id=\"Matrices-and-vectors-1\"><span class=\"toc-item-num\">1&nbsp;&nbsp;</span>Matrices and vectors</a></span><ul class=\"toc-item\"><li><span><a href=\"#Dimensions\" data-toc-modified-id=\"Dimensions-1.1\"><span class=\"toc-item-num\">1.1&nbsp;&nbsp;</span>Dimensions</a></span></li><li><span><a href=\"#Indexing\" data-toc-modified-id=\"Indexing-1.2\"><span class=\"toc-item-num\">1.2&nbsp;&nbsp;</span>Indexing</a></span><ul class=\"toc-item\"><li><span><a href=\"#What's-the-difference-between-(x,-y)-and-(a,-b)?\" data-toc-modified-id=\"What's-the-difference-between-(x,-y)-and-(a,-b)?-1.2.1\"><span class=\"toc-item-num\">1.2.1&nbsp;&nbsp;</span>What's the difference between <code>(x, y)</code> and <code>(a, b)</code>?</a></span></li></ul></li><li><span><a href=\"#Concatenate-matrices\" data-toc-modified-id=\"Concatenate-matrices-1.3\"><span class=\"toc-item-num\">1.3&nbsp;&nbsp;</span>Concatenate matrices</a></span></li><li><span><a href=\"#Dot-operation\" data-toc-modified-id=\"Dot-operation-1.4\"><span class=\"toc-item-num\">1.4&nbsp;&nbsp;</span>Dot operation</a></span></li><li><span><a href=\"#Basic-linear-algebra\" data-toc-modified-id=\"Basic-linear-algebra-1.5\"><span class=\"toc-item-num\">1.5&nbsp;&nbsp;</span>Basic linear algebra</a></span></li><li><span><a href=\"#Sparse-matrices\" data-toc-modified-id=\"Sparse-matrices-1.6\"><span class=\"toc-item-num\">1.6&nbsp;&nbsp;</span>Sparse matrices</a></span></li></ul></li><li><span><a href=\"#Control-flow-and-loops\" data-toc-modified-id=\"Control-flow-and-loops-2\"><span class=\"toc-item-num\">2&nbsp;&nbsp;</span>Control flow and loops</a></span></li><li><span><a href=\"#Functions\" data-toc-modified-id=\"Functions-3\"><span class=\"toc-item-num\">3&nbsp;&nbsp;</span>Functions</a></span></li><li><span><a href=\"#Type-system\" data-toc-modified-id=\"Type-system-4\"><span class=\"toc-item-num\">4&nbsp;&nbsp;</span>Type system</a></span></li><li><span><a href=\"#Multiple-dispatch\" data-toc-modified-id=\"Multiple-dispatch-5\"><span class=\"toc-item-num\">5&nbsp;&nbsp;</span>Multiple dispatch</a></span></li><li><span><a href=\"#Just-in-time-compilation-(JIT)\" data-toc-modified-id=\"Just-in-time-compilation-(JIT)-6\"><span class=\"toc-item-num\">6&nbsp;&nbsp;</span>Just-in-time compilation (JIT)</a></span></li><li><span><a href=\"#Acknowledgment\" data-toc-modified-id=\"Acknowledgment-7\"><span class=\"toc-item-num\">7&nbsp;&nbsp;</span>Acknowledgment</a></span></li></ul></div>"
   ]
  },
  {
   "cell_type": "markdown",
   "metadata": {},
   "source": [
    "# Introduction to Julia, part 2\n",
    "\n",
    "<img src=\"./julia_logo.png\" align=\"center\" width=\"400\"/>\n",
    "\n",
    "https://julialang.org"
   ]
  },
  {
   "cell_type": "markdown",
   "metadata": {},
   "source": [
    "## Matrices and vectors"
   ]
  },
  {
   "cell_type": "markdown",
   "metadata": {},
   "source": [
    "### Dimensions"
   ]
  },
  {
   "cell_type": "code",
   "execution_count": 1,
   "metadata": {
    "ExecuteTime": {
     "end_time": "2021-09-08T14:54:25.946000+09:00",
     "start_time": "2021-09-08T05:54:24.360Z"
    }
   },
   "outputs": [
    {
     "data": {
      "text/plain": [
       "5×3 Matrix{Float64}:\n",
       " -0.34417     0.631091   0.117258\n",
       " -0.0502335  -1.8193    -3.14746\n",
       " -0.617653   -0.119128  -2.06664\n",
       " -1.62545     0.557316  -1.70172\n",
       "  0.524122   -1.1621     1.54863"
      ]
     },
     "execution_count": 1,
     "metadata": {},
     "output_type": "execute_result"
    }
   ],
   "source": [
    "x = randn(5, 3)"
   ]
  },
  {
   "cell_type": "code",
   "execution_count": 2,
   "metadata": {
    "ExecuteTime": {
     "end_time": "2021-09-08T14:54:27.267000+09:00",
     "start_time": "2021-09-08T05:54:27.060Z"
    }
   },
   "outputs": [
    {
     "data": {
      "text/plain": [
       "(5, 3)"
      ]
     },
     "execution_count": 2,
     "metadata": {},
     "output_type": "execute_result"
    }
   ],
   "source": [
    "size(x)"
   ]
  },
  {
   "cell_type": "code",
   "execution_count": 3,
   "metadata": {
    "ExecuteTime": {
     "end_time": "2021-09-08T14:54:28.014000+09:00",
     "start_time": "2021-09-08T05:54:27.867Z"
    }
   },
   "outputs": [
    {
     "data": {
      "text/plain": [
       "5"
      ]
     },
     "execution_count": 3,
     "metadata": {},
     "output_type": "execute_result"
    }
   ],
   "source": [
    "size(x, 1) # nrow() in R"
   ]
  },
  {
   "cell_type": "code",
   "execution_count": 4,
   "metadata": {
    "ExecuteTime": {
     "end_time": "2021-09-08T14:54:28.442000+09:00",
     "start_time": "2021-09-08T05:54:28.441Z"
    }
   },
   "outputs": [
    {
     "data": {
      "text/plain": [
       "3"
      ]
     },
     "execution_count": 4,
     "metadata": {},
     "output_type": "execute_result"
    }
   ],
   "source": [
    "size(x, 2) # ncol() in R"
   ]
  },
  {
   "cell_type": "code",
   "execution_count": 5,
   "metadata": {
    "ExecuteTime": {
     "end_time": "2021-09-08T14:54:28.805000+09:00",
     "start_time": "2021-09-08T05:54:28.801Z"
    }
   },
   "outputs": [
    {
     "data": {
      "text/plain": [
       "15"
      ]
     },
     "execution_count": 5,
     "metadata": {},
     "output_type": "execute_result"
    }
   ],
   "source": [
    "# total number of elements\n",
    "length(x)"
   ]
  },
  {
   "cell_type": "markdown",
   "metadata": {},
   "source": [
    "### Indexing"
   ]
  },
  {
   "cell_type": "code",
   "execution_count": 31,
   "metadata": {
    "ExecuteTime": {
     "end_time": "2021-09-08T15:15:21.762000+09:00",
     "start_time": "2021-09-08T06:15:21.760Z"
    }
   },
   "outputs": [
    {
     "data": {
      "text/plain": [
       "5×5 Matrix{Float64}:\n",
       "  1.56701    0.11162     1.50172   -1.04396    0.271254\n",
       " -0.385128  -0.0208861   0.726587   0.155334   1.78307\n",
       "  1.85628   -1.35106    -0.474294  -0.29979   -0.629733\n",
       " -0.878317   0.640118   -0.700664   0.467584  -0.289654\n",
       " -0.946056  -0.40254    -0.594829   0.857244  -0.527352"
      ]
     },
     "execution_count": 31,
     "metadata": {},
     "output_type": "execute_result"
    }
   ],
   "source": [
    "# 5 × 5 matrix of random Normal(0, 1)\n",
    "x = randn(5, 5)"
   ]
  },
  {
   "cell_type": "code",
   "execution_count": 32,
   "metadata": {
    "ExecuteTime": {
     "end_time": "2021-09-08T15:15:22.898000+09:00",
     "start_time": "2021-09-08T06:15:22.896Z"
    }
   },
   "outputs": [
    {
     "data": {
      "text/plain": [
       "5-element Vector{Float64}:\n",
       "  1.5670125776856698\n",
       " -0.3851280534963988\n",
       "  1.85628167806517\n",
       " -0.8783173353847907\n",
       " -0.9460560464220872"
      ]
     },
     "execution_count": 32,
     "metadata": {},
     "output_type": "execute_result"
    }
   ],
   "source": [
    "# first column\n",
    "x[:, 1]"
   ]
  },
  {
   "cell_type": "code",
   "execution_count": 33,
   "metadata": {
    "ExecuteTime": {
     "end_time": "2021-09-08T15:15:23.133000+09:00",
     "start_time": "2021-09-08T06:15:23.131Z"
    }
   },
   "outputs": [
    {
     "data": {
      "text/plain": [
       "5-element Vector{Float64}:\n",
       "  1.5670125776856698\n",
       "  0.11161991577910436\n",
       "  1.501724847785069\n",
       " -1.043955568940911\n",
       "  0.27125389320917237"
      ]
     },
     "execution_count": 33,
     "metadata": {},
     "output_type": "execute_result"
    }
   ],
   "source": [
    "# first row\n",
    "x[1, :]"
   ]
  },
  {
   "cell_type": "code",
   "execution_count": 34,
   "metadata": {
    "ExecuteTime": {
     "end_time": "2021-09-08T15:15:25.048000+09:00",
     "start_time": "2021-09-08T06:15:25.045Z"
    }
   },
   "outputs": [
    {
     "data": {
      "text/plain": [
       "2×2 Matrix{Float64}:\n",
       "  0.11162    1.50172\n",
       " -0.0208861  0.726587"
      ]
     },
     "execution_count": 34,
     "metadata": {},
     "output_type": "execute_result"
    }
   ],
   "source": [
    "# sub-array\n",
    "z = x[1:2, 2:3]"
   ]
  },
  {
   "cell_type": "code",
   "execution_count": 38,
   "metadata": {
    "ExecuteTime": {
     "end_time": "2021-09-08T15:16:37.851000+09:00",
     "start_time": "2021-09-08T06:16:37.848Z"
    }
   },
   "outputs": [
    {
     "data": {
      "text/plain": [
       "2×2 view(::Matrix{Float64}, 1:2, 2:3) with eltype Float64:\n",
       "  0.11162    1.50172\n",
       " -0.0208861  0.0"
      ]
     },
     "execution_count": 38,
     "metadata": {},
     "output_type": "execute_result"
    }
   ],
   "source": [
    "z[2,2] = 0\n",
    "z"
   ]
  },
  {
   "cell_type": "code",
   "execution_count": 39,
   "metadata": {
    "ExecuteTime": {
     "end_time": "2021-09-08T15:16:40.045000+09:00",
     "start_time": "2021-09-08T06:16:40.042Z"
    }
   },
   "outputs": [
    {
     "data": {
      "text/plain": [
       "5×5 Matrix{Float64}:\n",
       "  1.56701    0.11162     1.50172   -1.04396    0.271254\n",
       " -0.385128  -0.0208861   0.0        0.155334   1.78307\n",
       "  1.85628   -1.35106    -0.474294  -0.29979   -0.629733\n",
       " -0.878317   0.640118   -0.700664   0.467584  -0.289654\n",
       " -0.946056  -0.40254    -0.594829   0.857244  -0.527352"
      ]
     },
     "execution_count": 39,
     "metadata": {},
     "output_type": "execute_result"
    }
   ],
   "source": [
    "x"
   ]
  },
  {
   "cell_type": "code",
   "execution_count": 37,
   "metadata": {
    "ExecuteTime": {
     "end_time": "2021-09-08T15:16:36.299000+09:00",
     "start_time": "2021-09-08T06:16:36.296Z"
    }
   },
   "outputs": [
    {
     "data": {
      "text/plain": [
       "2×2 view(::Matrix{Float64}, 1:2, 2:3) with eltype Float64:\n",
       "  0.11162    1.50172\n",
       " -0.0208861  0.726587"
      ]
     },
     "execution_count": 37,
     "metadata": {},
     "output_type": "execute_result"
    }
   ],
   "source": [
    "# getting a subset of a matrix creates a copy, but you can also create \"views\"\n",
    "z = view(x, 1:2, 2:3)"
   ]
  },
  {
   "cell_type": "code",
   "execution_count": 11,
   "metadata": {},
   "outputs": [
    {
     "data": {
      "text/plain": [
       "2×2 view(::Matrix{Float64}, 1:2, 2:3) with eltype Float64:\n",
       " 0.540629  0.003503\n",
       " 0.876571  1.01683"
      ]
     },
     "execution_count": 11,
     "metadata": {},
     "output_type": "execute_result"
    }
   ],
   "source": [
    "# same as\n",
    "@views z = x[1:2, 2:3]"
   ]
  },
  {
   "cell_type": "code",
   "execution_count": 12,
   "metadata": {},
   "outputs": [
    {
     "data": {
      "text/plain": [
       "5×5 Matrix{Float64}:\n",
       " -0.384079   0.540629   0.003503  -0.0534454   0.382545\n",
       "  1.56377    0.876571   0.0        1.84941     0.567994\n",
       " -0.687446   0.313884  -0.306218  -1.77579    -0.088558\n",
       "  0.563199  -1.18005   -0.895966   0.217129    0.816159\n",
       "  0.598676  -1.44407    0.318821  -0.211098   -0.322778"
      ]
     },
     "execution_count": 12,
     "metadata": {},
     "output_type": "execute_result"
    }
   ],
   "source": [
    "# change in z (view) changes x as well\n",
    "z[2, 2] = 0.0\n",
    "x"
   ]
  },
  {
   "cell_type": "code",
   "execution_count": 13,
   "metadata": {},
   "outputs": [
    {
     "data": {
      "text/plain": [
       "5×5 Matrix{Float64}:\n",
       " -0.384079   0.540629   0.003503  -0.0534454   0.382545\n",
       "  1.56377    0.876571   0.0        1.84941     0.567994\n",
       " -0.687446   0.313884  -0.306218  -1.77579    -0.088558\n",
       "  0.563199  -1.18005   -0.895966   0.217129    0.816159\n",
       "  0.598676  -1.44407    0.318821  -0.211098   -0.322778"
      ]
     },
     "execution_count": 13,
     "metadata": {},
     "output_type": "execute_result"
    }
   ],
   "source": [
    "# y points to same data as x\n",
    "y = x"
   ]
  },
  {
   "cell_type": "code",
   "execution_count": 14,
   "metadata": {},
   "outputs": [
    {
     "data": {
      "text/plain": [
       "(Ptr{Float64} @0x000000010df5b890, Ptr{Float64} @0x000000010df5b890)"
      ]
     },
     "execution_count": 14,
     "metadata": {},
     "output_type": "execute_result"
    }
   ],
   "source": [
    "# x and y point to same data\n",
    "pointer(x), pointer(y)"
   ]
  },
  {
   "cell_type": "code",
   "execution_count": 40,
   "metadata": {
    "ExecuteTime": {
     "end_time": "2021-09-08T15:26:45.771000+09:00",
     "start_time": "2021-09-08T06:26:45.111Z"
    }
   },
   "outputs": [
    {
     "ename": "LoadError",
     "evalue": "UndefVarError: y not defined",
     "output_type": "error",
     "traceback": [
      "UndefVarError: y not defined",
      "",
      "Stacktrace:",
      " [1] top-level scope",
      "   @ In[40]:1",
      " [2] eval",
      "   @ ./boot.jl:360 [inlined]",
      " [3] include_string(mapexpr::typeof(REPL.softscope), mod::Module, code::String, filename::String)",
      "   @ Base ./loading.jl:1116"
     ]
    }
   ],
   "source": [
    "y[:, 1] = 0  # Dot broadcasting: \"vectorization\" in Julia. More below\n",
    "x"
   ]
  },
  {
   "cell_type": "code",
   "execution_count": 15,
   "metadata": {},
   "outputs": [
    {
     "data": {
      "text/plain": [
       "5×5 Matrix{Float64}:\n",
       " 0.0   0.540629   0.003503  -0.0534454   0.382545\n",
       " 0.0   0.876571   0.0        1.84941     0.567994\n",
       " 0.0   0.313884  -0.306218  -1.77579    -0.088558\n",
       " 0.0  -1.18005   -0.895966   0.217129    0.816159\n",
       " 0.0  -1.44407    0.318821  -0.211098   -0.322778"
      ]
     },
     "execution_count": 15,
     "metadata": {},
     "output_type": "execute_result"
    }
   ],
   "source": [
    "# changing y also changes x\n",
    "y[:, 1] .= 0  # Dot broadcasting: \"vectorization\" in Julia. More below\n",
    "x"
   ]
  },
  {
   "cell_type": "code",
   "execution_count": 16,
   "metadata": {},
   "outputs": [
    {
     "data": {
      "text/plain": [
       "5×5 Matrix{Float64}:\n",
       " 0.0   0.540629   0.003503  -0.0534454   0.382545\n",
       " 0.0   0.876571   0.0        1.84941     0.567994\n",
       " 0.0   0.313884  -0.306218  -1.77579    -0.088558\n",
       " 0.0  -1.18005   -0.895966   0.217129    0.816159\n",
       " 0.0  -1.44407    0.318821  -0.211098   -0.322778"
      ]
     },
     "execution_count": 16,
     "metadata": {},
     "output_type": "execute_result"
    }
   ],
   "source": [
    "# create a new copy of data\n",
    "z = copy(x)"
   ]
  },
  {
   "cell_type": "code",
   "execution_count": 17,
   "metadata": {},
   "outputs": [
    {
     "data": {
      "text/plain": [
       "(Ptr{Float64} @0x000000010df5b890, Ptr{Float64} @0x000000010dee4ef0)"
      ]
     },
     "execution_count": 17,
     "metadata": {},
     "output_type": "execute_result"
    }
   ],
   "source": [
    "pointer(x), pointer(z)  # they should be different now"
   ]
  },
  {
   "cell_type": "code",
   "execution_count": 18,
   "metadata": {},
   "outputs": [
    {
     "data": {
      "text/plain": [
       "1.0"
      ]
     },
     "execution_count": 18,
     "metadata": {},
     "output_type": "execute_result"
    }
   ],
   "source": [
    "a = 1.0  # Float64\n",
    "b = a\n",
    "b"
   ]
  },
  {
   "cell_type": "code",
   "execution_count": 19,
   "metadata": {},
   "outputs": [
    {
     "data": {
      "text/plain": [
       "1.0"
      ]
     },
     "execution_count": 19,
     "metadata": {},
     "output_type": "execute_result"
    }
   ],
   "source": [
    "a = 2.0\n",
    "b"
   ]
  },
  {
   "cell_type": "markdown",
   "metadata": {},
   "source": [
    "#### What's the difference between `(x, y)` and `(a, b)`?\n",
    "\n",
    "- In Julia, everything is an object (see **Types** below). But there are *mutable* and *immutable* objects.\n",
    "- In *assignment* of the form `x = ...`, the LHS is a variable name. Assignment changes which object the variable `x` refers to (called a *variable binding*). \n",
    "- After the statement `b = a` any change to `a` also affects `b`. However, the value bound to `a` is `1.0`, an immutable value. \n",
    "- You can't mutate an immutable object. The next statement `a = 2.0` does *not* mutate the value bound to `a` (`1.0`), but create a new immutable object `2.0` and re-binds it to variable `a`.\n",
    "- Binding of `b` to the previous object (`1.0`) is not affected. Hence there's no way to tell if it was copied or referenced."
   ]
  },
  {
   "cell_type": "code",
   "execution_count": 20,
   "metadata": {},
   "outputs": [
    {
     "data": {
      "text/plain": [
       "5×5 Matrix{Float64}:\n",
       " 0.0   0.540629   0.003503  -0.0534454   0.382545\n",
       " 0.0   0.876571   0.0        1.84941     0.567994\n",
       " 0.0   0.313884  -0.306218  -1.77579    -0.088558\n",
       " 0.0  -1.18005   -0.895966   0.217129    0.816159\n",
       " 0.0  -1.44407    0.318821  -0.211098   -0.322778"
      ]
     },
     "execution_count": 20,
     "metadata": {},
     "output_type": "execute_result"
    }
   ],
   "source": [
    "# guess what will happen\n",
    "x = randn(5, 5)\n",
    "y"
   ]
  },
  {
   "cell_type": "markdown",
   "metadata": {},
   "source": [
    "- On the other hand, `Array` is a mutable object.\n",
    "- `y[:, 1] .= 0` is *not* an assignment, but a *mutation*.\n",
    "- `x = x .+ 0.1` is an assignment, whereas `x .+= 0.1` is a mutation."
   ]
  },
  {
   "cell_type": "code",
   "execution_count": 21,
   "metadata": {},
   "outputs": [
    {
     "data": {
      "text/plain": [
       "5×5 Matrix{Float64}:\n",
       "  0.998984   0.87657   -0.690889  -1.06172   -0.159721\n",
       "  0.929669  -0.328722   0.360445  -0.458888   1.76988\n",
       " -1.08809    0.184285   0.34641   -0.74648   -0.642978\n",
       "  2.46141   -2.10293   -0.796035   0.457213  -0.24917\n",
       "  1.13966   -0.173782   0.29544    1.37726   -0.745195"
      ]
     },
     "execution_count": 21,
     "metadata": {},
     "output_type": "execute_result"
    }
   ],
   "source": [
    "y = x"
   ]
  },
  {
   "cell_type": "code",
   "execution_count": 22,
   "metadata": {},
   "outputs": [
    {
     "data": {
      "text/plain": [
       "5×5 Matrix{Float64}:\n",
       "  1.09898    0.97657   -0.590889  -0.961718  -0.0597211\n",
       "  1.02967   -0.228722   0.460445  -0.358888   1.86988\n",
       " -0.988094   0.284285   0.44641   -0.64648   -0.542978\n",
       "  2.56141   -2.00293   -0.696035   0.557213  -0.14917\n",
       "  1.23966   -0.073782   0.39544    1.47726   -0.645195"
      ]
     },
     "execution_count": 22,
     "metadata": {},
     "output_type": "execute_result"
    }
   ],
   "source": [
    "x .+= 0.1\n",
    "y"
   ]
  },
  {
   "cell_type": "code",
   "execution_count": 23,
   "metadata": {},
   "outputs": [
    {
     "data": {
      "text/plain": [
       "(Ptr{Float64} @0x000000014052ad50, Ptr{Float64} @0x000000014052ad50)"
      ]
     },
     "execution_count": 23,
     "metadata": {},
     "output_type": "execute_result"
    }
   ],
   "source": [
    "(pointer(x), pointer(y))"
   ]
  },
  {
   "cell_type": "code",
   "execution_count": 24,
   "metadata": {},
   "outputs": [
    {
     "data": {
      "text/plain": [
       "5×5 Matrix{Float64}:\n",
       "  1.09898    0.97657   -0.590889  -0.961718  -0.0597211\n",
       "  1.02967   -0.228722   0.460445  -0.358888   1.86988\n",
       " -0.988094   0.284285   0.44641   -0.64648   -0.542978\n",
       "  2.56141   -2.00293   -0.696035   0.557213  -0.14917\n",
       "  1.23966   -0.073782   0.39544    1.47726   -0.645195"
      ]
     },
     "execution_count": 24,
     "metadata": {},
     "output_type": "execute_result"
    }
   ],
   "source": [
    "x = x .+ 0.1\n",
    "y"
   ]
  },
  {
   "cell_type": "code",
   "execution_count": 25,
   "metadata": {},
   "outputs": [
    {
     "data": {
      "text/plain": [
       "(Ptr{Float64} @0x0000000140ee3bf0, Ptr{Float64} @0x000000014052ad50)"
      ]
     },
     "execution_count": 25,
     "metadata": {},
     "output_type": "execute_result"
    }
   ],
   "source": [
    "(pointer(x), pointer(y))"
   ]
  },
  {
   "cell_type": "markdown",
   "metadata": {},
   "source": [
    "### Concatenate matrices"
   ]
  },
  {
   "cell_type": "code",
   "execution_count": 26,
   "metadata": {},
   "outputs": [
    {
     "data": {
      "text/plain": [
       "1×3 Matrix{Int64}:\n",
       " 1  2  3"
      ]
     },
     "execution_count": 26,
     "metadata": {},
     "output_type": "execute_result"
    }
   ],
   "source": [
    "# 1-by-3 array\n",
    "[1 2 3]"
   ]
  },
  {
   "cell_type": "code",
   "execution_count": 27,
   "metadata": {},
   "outputs": [
    {
     "data": {
      "text/plain": [
       "3-element Vector{Int64}:\n",
       " 1\n",
       " 2\n",
       " 3"
      ]
     },
     "execution_count": 27,
     "metadata": {},
     "output_type": "execute_result"
    }
   ],
   "source": [
    "# 3-by-1 vector\n",
    "[1, 2, 3]"
   ]
  },
  {
   "cell_type": "code",
   "execution_count": 28,
   "metadata": {},
   "outputs": [
    {
     "data": {
      "text/plain": [
       "([0.5893655425511126 0.6478463785075559 0.03675617824627964; 0.32449020240765014 -1.3163416879826713 0.7448429375816905; … ; 1.194345878009456 -0.9709295240318928 0.27695790432451756; -0.22659842128747293 0.1532435439941793 -0.2784639103102133], [1.2488575126330914 -0.8703644138107955; 0.12338420649841966 1.651334800014632; … ; 0.8705337197294406 0.6799072095463546; -1.6574340081943586 -0.3700243675300325], [0.03348929176386288 0.12239273748998791 … -1.6728049527623698 0.5027256700275959; -0.3717281295214447 -0.5438233836426857 … -0.7034641699877021 1.3487199200482247; 0.049027792124969646 0.23817850370798085 … -0.5161662385770864 -0.08535374403107002])"
      ]
     },
     "execution_count": 28,
     "metadata": {},
     "output_type": "execute_result"
    }
   ],
   "source": [
    "# multiple assignment by tuple\n",
    "x, y, z = randn(5, 3), randn(5, 2), randn(3, 5)"
   ]
  },
  {
   "cell_type": "code",
   "execution_count": 29,
   "metadata": {},
   "outputs": [
    {
     "data": {
      "text/plain": [
       "5×5 Matrix{Float64}:\n",
       "  0.589366   0.647846   0.0367562   1.24886   -0.870364\n",
       "  0.32449   -1.31634    0.744843    0.123384   1.65133\n",
       " -1.50004   -0.471809  -0.557907    0.278123   1.56953\n",
       "  1.19435   -0.97093    0.276958    0.870534   0.679907\n",
       " -0.226598   0.153244  -0.278464   -1.65743   -0.370024"
      ]
     },
     "execution_count": 29,
     "metadata": {},
     "output_type": "execute_result"
    }
   ],
   "source": [
    "[x y] # 5-by-5 matrix"
   ]
  },
  {
   "cell_type": "code",
   "execution_count": 30,
   "metadata": {},
   "outputs": [
    {
     "data": {
      "text/plain": [
       "8×5 Matrix{Float64}:\n",
       "  0.589366    0.647846   0.0367562   1.24886   -0.870364\n",
       "  0.32449    -1.31634    0.744843    0.123384   1.65133\n",
       " -1.50004    -0.471809  -0.557907    0.278123   1.56953\n",
       "  1.19435    -0.97093    0.276958    0.870534   0.679907\n",
       " -0.226598    0.153244  -0.278464   -1.65743   -0.370024\n",
       "  0.0334893   0.122393   1.5489     -1.6728     0.502726\n",
       " -0.371728   -0.543823  -0.71427    -0.703464   1.34872\n",
       "  0.0490278   0.238179   0.122957   -0.516166  -0.0853537"
      ]
     },
     "execution_count": 30,
     "metadata": {},
     "output_type": "execute_result"
    }
   ],
   "source": [
    "[x y; z] # 8-by-5 matrix"
   ]
  },
  {
   "cell_type": "markdown",
   "metadata": {},
   "source": [
    "### Dot operation\n",
    "\n",
    "In Julia, any function `f(x)` can be applied elementwise to an array `X` with the “dot call” syntax `f.(X)`. "
   ]
  },
  {
   "cell_type": "code",
   "execution_count": 31,
   "metadata": {},
   "outputs": [
    {
     "data": {
      "text/plain": [
       "5×3 Matrix{Float64}:\n",
       "  0.311722  -0.602978   -1.41185\n",
       " -2.95531    1.06727     2.73063\n",
       " -1.4536    -1.68355    -0.195356\n",
       "  0.728974   0.0607037  -1.21232\n",
       " -1.16299   -0.388626    1.52238"
      ]
     },
     "execution_count": 31,
     "metadata": {},
     "output_type": "execute_result"
    }
   ],
   "source": [
    "x = randn(5, 3)"
   ]
  },
  {
   "cell_type": "code",
   "execution_count": 32,
   "metadata": {},
   "outputs": [
    {
     "data": {
      "text/plain": [
       "5×3 Matrix{Float64}:\n",
       " 1.0  1.0  1.0\n",
       " 1.0  1.0  1.0\n",
       " 1.0  1.0  1.0\n",
       " 1.0  1.0  1.0\n",
       " 1.0  1.0  1.0"
      ]
     },
     "execution_count": 32,
     "metadata": {},
     "output_type": "execute_result"
    }
   ],
   "source": [
    "y = ones(5, 3)"
   ]
  },
  {
   "cell_type": "code",
   "execution_count": 33,
   "metadata": {},
   "outputs": [
    {
     "data": {
      "text/plain": [
       "5×3 Matrix{Float64}:\n",
       "  0.311722  -0.602978   -1.41185\n",
       " -2.95531    1.06727     2.73063\n",
       " -1.4536    -1.68355    -0.195356\n",
       "  0.728974   0.0607037  -1.21232\n",
       " -1.16299   -0.388626    1.52238"
      ]
     },
     "execution_count": 33,
     "metadata": {},
     "output_type": "execute_result"
    }
   ],
   "source": [
    "x .* y # same as x * y in R"
   ]
  },
  {
   "cell_type": "code",
   "execution_count": 34,
   "metadata": {},
   "outputs": [
    {
     "data": {
      "text/plain": [
       "5×3 Matrix{Float64}:\n",
       " 10.2912      2.7504     0.501673\n",
       "  0.114497    0.877916   0.134114\n",
       "  0.473274    0.352816  26.2028\n",
       "  1.88181   271.375      0.680402\n",
       "  0.739343    6.6212     0.431474"
      ]
     },
     "execution_count": 34,
     "metadata": {},
     "output_type": "execute_result"
    }
   ],
   "source": [
    "x .^ (-2) # same as x^(-2) in R"
   ]
  },
  {
   "cell_type": "code",
   "execution_count": 35,
   "metadata": {},
   "outputs": [
    {
     "data": {
      "text/plain": [
       "5×3 Matrix{Float64}:\n",
       "  0.306698  -0.567098   -0.987395\n",
       " -0.185207   0.875885    0.399488\n",
       " -0.99314   -0.99365    -0.194116\n",
       "  0.666105   0.0606664  -0.936433\n",
       " -0.917994  -0.378917    0.998828"
      ]
     },
     "execution_count": 35,
     "metadata": {},
     "output_type": "execute_result"
    }
   ],
   "source": [
    "sin.(x)  # same as sin(x) in R"
   ]
  },
  {
   "cell_type": "markdown",
   "metadata": {},
   "source": [
    "### Basic linear algebra"
   ]
  },
  {
   "cell_type": "code",
   "execution_count": 41,
   "metadata": {
    "ExecuteTime": {
     "end_time": "2021-09-08T16:13:26.188000+09:00",
     "start_time": "2021-09-08T07:13:26.169Z"
    }
   },
   "outputs": [
    {
     "data": {
      "text/plain": [
       "5-element Vector{Float64}:\n",
       " -1.107053555248392\n",
       "  0.3683851820820358\n",
       " -0.32778650750693117\n",
       "  1.4335129242642692\n",
       "  1.571613301405196"
      ]
     },
     "execution_count": 41,
     "metadata": {},
     "output_type": "execute_result"
    }
   ],
   "source": [
    "x = randn(5)"
   ]
  },
  {
   "cell_type": "code",
   "execution_count": 37,
   "metadata": {},
   "outputs": [
    {
     "data": {
      "text/plain": [
       "1.7962365613435223"
      ]
     },
     "execution_count": 37,
     "metadata": {},
     "output_type": "execute_result"
    }
   ],
   "source": [
    "using LinearAlgebra\n",
    "# vector L2 norm\n",
    "norm(x)"
   ]
  },
  {
   "cell_type": "code",
   "execution_count": 48,
   "metadata": {
    "ExecuteTime": {
     "end_time": "2021-09-08T16:14:08.858000+09:00",
     "start_time": "2021-09-08T07:14:08.643Z"
    }
   },
   "outputs": [
    {
     "data": {
      "text/plain": [
       "true"
      ]
     },
     "execution_count": 48,
     "metadata": {},
     "output_type": "execute_result"
    }
   ],
   "source": [
    "sum(x.^2) == sum(abs2, x)"
   ]
  },
  {
   "cell_type": "code",
   "execution_count": 38,
   "metadata": {},
   "outputs": [
    {
     "data": {
      "text/plain": [
       "1.7962365613435223"
      ]
     },
     "execution_count": 38,
     "metadata": {},
     "output_type": "execute_result"
    }
   ],
   "source": [
    "# same as\n",
    "sqrt(sum(abs2, x))"
   ]
  },
  {
   "cell_type": "code",
   "execution_count": 39,
   "metadata": {},
   "outputs": [
    {
     "data": {
      "text/plain": [
       "-0.24788199560261587"
      ]
     },
     "execution_count": 39,
     "metadata": {},
     "output_type": "execute_result"
    }
   ],
   "source": [
    "y = randn(5) # another vector\n",
    "# dot product\n",
    "dot(x, y) # x' * y"
   ]
  },
  {
   "cell_type": "code",
   "execution_count": 40,
   "metadata": {},
   "outputs": [
    {
     "data": {
      "text/plain": [
       "-0.24788199560261587"
      ]
     },
     "execution_count": 40,
     "metadata": {},
     "output_type": "execute_result"
    }
   ],
   "source": [
    "# same as\n",
    "x'y"
   ]
  },
  {
   "cell_type": "code",
   "execution_count": 41,
   "metadata": {},
   "outputs": [
    {
     "data": {
      "text/plain": [
       "5×2 Matrix{Float64}:\n",
       "  1.22666    -3.08629\n",
       "  0.0207958  -1.48039\n",
       "  1.37031     0.290835\n",
       " -2.12267    -0.710753\n",
       " -1.52756    -1.22875"
      ]
     },
     "execution_count": 41,
     "metadata": {},
     "output_type": "execute_result"
    }
   ],
   "source": [
    "x, y = randn(5, 3), randn(3, 2)\n",
    "# matrix multiplication, same as %*% in R\n",
    "x * y"
   ]
  },
  {
   "cell_type": "code",
   "execution_count": 42,
   "metadata": {},
   "outputs": [
    {
     "data": {
      "text/plain": [
       "3×3 Matrix{Float64}:\n",
       " -0.821948  -0.417438   0.164008\n",
       " -0.117837   1.70361    0.804793\n",
       "  0.214691  -0.0478425  0.750179"
      ]
     },
     "execution_count": 42,
     "metadata": {},
     "output_type": "execute_result"
    }
   ],
   "source": [
    "x = randn(3, 3)"
   ]
  },
  {
   "cell_type": "code",
   "execution_count": 43,
   "metadata": {},
   "outputs": [
    {
     "data": {
      "text/plain": [
       "3×3 adjoint(::Matrix{Float64}) with eltype Float64:\n",
       " -0.821948  -0.117837   0.214691\n",
       " -0.417438   1.70361   -0.0478425\n",
       "  0.164008   0.804793   0.750179"
      ]
     },
     "execution_count": 43,
     "metadata": {},
     "output_type": "execute_result"
    }
   ],
   "source": [
    "# conjugate transpose\n",
    "x'"
   ]
  },
  {
   "cell_type": "code",
   "execution_count": 44,
   "metadata": {},
   "outputs": [
    {
     "data": {
      "text/plain": [
       "3-element Vector{Float64}:\n",
       " -0.35187236916572584\n",
       "  0.9070636015135449\n",
       "  1.1667751942065532"
      ]
     },
     "execution_count": 44,
     "metadata": {},
     "output_type": "execute_result"
    }
   ],
   "source": [
    "b = rand(3)\n",
    "x'b # same as x' * b"
   ]
  },
  {
   "cell_type": "code",
   "execution_count": 45,
   "metadata": {},
   "outputs": [
    {
     "data": {
      "text/plain": [
       "1.631839797585085"
      ]
     },
     "execution_count": 45,
     "metadata": {},
     "output_type": "execute_result"
    }
   ],
   "source": [
    "# trace\n",
    "tr(x)"
   ]
  },
  {
   "cell_type": "code",
   "execution_count": 46,
   "metadata": {},
   "outputs": [
    {
     "data": {
      "text/plain": [
       "-1.2501936512996823"
      ]
     },
     "execution_count": 46,
     "metadata": {},
     "output_type": "execute_result"
    }
   ],
   "source": [
    "det(x)"
   ]
  },
  {
   "cell_type": "code",
   "execution_count": 47,
   "metadata": {},
   "outputs": [
    {
     "data": {
      "text/plain": [
       "3"
      ]
     },
     "execution_count": 47,
     "metadata": {},
     "output_type": "execute_result"
    }
   ],
   "source": [
    "rank(x)"
   ]
  },
  {
   "cell_type": "markdown",
   "metadata": {},
   "source": [
    "### Sparse matrices"
   ]
  },
  {
   "cell_type": "code",
   "execution_count": 72,
   "metadata": {
    "ExecuteTime": {
     "end_time": "2021-09-08T16:28:44.591000+09:00",
     "start_time": "2021-09-08T07:28:44.589Z"
    }
   },
   "outputs": [
    {
     "data": {
      "text/plain": [
       "10×10 SparseMatrixCSC{Float64, Int64} with 10 stored entries:\n",
       "  ⋅     ⋅         ⋅           ⋅   …    ⋅         ⋅     ⋅         ⋅ \n",
       "  ⋅     ⋅         ⋅           ⋅        ⋅         ⋅     ⋅         ⋅ \n",
       "  ⋅     ⋅         ⋅           ⋅        ⋅         ⋅     ⋅         ⋅ \n",
       "  ⋅     ⋅         ⋅           ⋅        ⋅         ⋅     ⋅         ⋅ \n",
       "  ⋅     ⋅         ⋅           ⋅        ⋅         ⋅    0.342949   ⋅ \n",
       "  ⋅     ⋅         ⋅           ⋅   …    ⋅         ⋅     ⋅         ⋅ \n",
       "  ⋅   -0.765895  0.00252356   ⋅        ⋅         ⋅     ⋅         ⋅ \n",
       "  ⋅     ⋅        0.507737     ⋅        ⋅         ⋅    0.624922   ⋅ \n",
       "  ⋅     ⋅         ⋅           ⋅      -0.738445   ⋅   -0.328106   ⋅ \n",
       "  ⋅     ⋅         ⋅           ⋅        ⋅         ⋅     ⋅         ⋅ "
      ]
     },
     "execution_count": 72,
     "metadata": {},
     "output_type": "execute_result"
    }
   ],
   "source": [
    "using SparseArrays\n",
    "\n",
    "# 10-by-10 sparse matrix with sparsity 0.1\n",
    "X = sprandn(10, 10, .1)"
   ]
  },
  {
   "cell_type": "markdown",
   "metadata": {},
   "source": [
    "Question: why do we use `SparseArrays`?"
   ]
  },
  {
   "cell_type": "code",
   "execution_count": 73,
   "metadata": {
    "ExecuteTime": {
     "end_time": "2021-09-08T16:28:45.558000+09:00",
     "start_time": "2021-09-08T07:28:45.477Z"
    }
   },
   "outputs": [
    {
     "data": {
      "text/plain": [
       "10×10 Matrix{Float64}:\n",
       " 0.0   0.0       0.0         0.0  …   0.0       0.0   0.0       0.0\n",
       " 0.0   0.0       0.0         0.0      0.0       0.0   0.0       0.0\n",
       " 0.0   0.0       0.0         0.0      0.0       0.0   0.0       0.0\n",
       " 0.0   0.0       0.0         0.0      0.0       0.0   0.0       0.0\n",
       " 0.0   0.0       0.0         0.0      0.0       0.0   0.342949  0.0\n",
       " 0.0   0.0       0.0         0.0  …   0.0       0.0   0.0       0.0\n",
       " 0.0  -0.765895  0.00252356  0.0      0.0       0.0   0.0       0.0\n",
       " 0.0   0.0       0.507737    0.0      0.0       0.0   0.624922  0.0\n",
       " 0.0   0.0       0.0         0.0     -0.738445  0.0  -0.328106  0.0\n",
       " 0.0   0.0       0.0         0.0      0.0       0.0   0.0       0.0"
      ]
     },
     "execution_count": 73,
     "metadata": {},
     "output_type": "execute_result"
    }
   ],
   "source": [
    "# convert to dense matrix; be cautious when dealing with big data\n",
    "Xfull = convert(Matrix{Float64}, X)"
   ]
  },
  {
   "cell_type": "code",
   "execution_count": 74,
   "metadata": {
    "ExecuteTime": {
     "end_time": "2021-09-08T16:28:47.543000+09:00",
     "start_time": "2021-09-08T07:28:47.513Z"
    }
   },
   "outputs": [
    {
     "data": {
      "text/plain": [
       "10×10 SparseMatrixCSC{Float64, Int64} with 10 stored entries:\n",
       "  ⋅     ⋅         ⋅           ⋅   …    ⋅         ⋅     ⋅         ⋅ \n",
       "  ⋅     ⋅         ⋅           ⋅        ⋅         ⋅     ⋅         ⋅ \n",
       "  ⋅     ⋅         ⋅           ⋅        ⋅         ⋅     ⋅         ⋅ \n",
       "  ⋅     ⋅         ⋅           ⋅        ⋅         ⋅     ⋅         ⋅ \n",
       "  ⋅     ⋅         ⋅           ⋅        ⋅         ⋅    0.342949   ⋅ \n",
       "  ⋅     ⋅         ⋅           ⋅   …    ⋅         ⋅     ⋅         ⋅ \n",
       "  ⋅   -0.765895  0.00252356   ⋅        ⋅         ⋅     ⋅         ⋅ \n",
       "  ⋅     ⋅        0.507737     ⋅        ⋅         ⋅    0.624922   ⋅ \n",
       "  ⋅     ⋅         ⋅           ⋅      -0.738445   ⋅   -0.328106   ⋅ \n",
       "  ⋅     ⋅         ⋅           ⋅        ⋅         ⋅     ⋅         ⋅ "
      ]
     },
     "execution_count": 74,
     "metadata": {},
     "output_type": "execute_result"
    }
   ],
   "source": [
    "# convert a dense matrix to sparse matrix\n",
    "sparse(Xfull)"
   ]
  },
  {
   "cell_type": "code",
   "execution_count": 75,
   "metadata": {
    "ExecuteTime": {
     "end_time": "2021-09-08T16:28:49.667000+09:00",
     "start_time": "2021-09-08T07:28:49.617Z"
    }
   },
   "outputs": [
    {
     "data": {
      "text/plain": [
       "10-element Vector{Float64}:\n",
       "  0.0\n",
       "  0.0\n",
       "  0.0\n",
       "  0.0\n",
       "  1.1896531909142978\n",
       "  0.0\n",
       " -0.7473994394899041\n",
       "  0.5801804535452836\n",
       " -1.0665514113523902\n",
       "  0.0"
      ]
     },
     "execution_count": 75,
     "metadata": {},
     "output_type": "execute_result"
    }
   ],
   "source": [
    "# syntax for sparse linear algebra is the same as dense linear algebra\n",
    "β = ones(10)\n",
    "X * β"
   ]
  },
  {
   "cell_type": "code",
   "execution_count": 52,
   "metadata": {},
   "outputs": [
    {
     "data": {
      "text/plain": [
       "-2.6822822809436797"
      ]
     },
     "execution_count": 52,
     "metadata": {},
     "output_type": "execute_result"
    }
   ],
   "source": [
    "# many functions apply to sparse matrices as well\n",
    "sum(X)"
   ]
  },
  {
   "cell_type": "markdown",
   "metadata": {},
   "source": [
    "## Control flow and loops\n",
    "\n",
    "* if-elseif-else-end\n",
    "\n",
    "```julia\n",
    "if condition1\n",
    "    # do something\n",
    "elseif condition2\n",
    "    # do something\n",
    "else\n",
    "    # do something\n",
    "end\n",
    "```\n",
    "\n",
    "* `for` loop\n",
    "\n",
    "```julia\n",
    "for i in 1:10\n",
    "    println(i)\n",
    "end\n",
    "```\n",
    "\n",
    "* Nested `for` loop:\n",
    "\n",
    "```julia\n",
    "for i in 1:10\n",
    "    for j in 1:5\n",
    "        println(i * j)\n",
    "    end\n",
    "end\n",
    "```\n",
    "Same as\n",
    "\n",
    "```julia\n",
    "for i in 1:10, j in 1:5\n",
    "    println(i * j)\n",
    "end\n",
    "```\n",
    "\n",
    "* Exit loop:\n",
    "\n",
    "```julia\n",
    "for i in 1:10\n",
    "    # do something\n",
    "    if condition1\n",
    "        break # skip remaining loop\n",
    "    end\n",
    "end\n",
    "```\n",
    "\n",
    "* Exit iteration:  \n",
    "\n",
    "```julia\n",
    "for i in 1:10\n",
    "    # do something\n",
    "    if condition1\n",
    "        continue # skip to next iteration\n",
    "    end\n",
    "    # do something\n",
    "end\n",
    "```"
   ]
  },
  {
   "cell_type": "markdown",
   "metadata": {},
   "source": [
    "## Functions \n",
    "\n",
    "* Function definition\n",
    "```julia\n",
    "function func(req1, req2; key1=dflt1, key2=dflt2)\n",
    "    # do stuff\n",
    "    return out1, out2, out3\n",
    "end\n",
    "```\n",
    "    - **Required arguments** are separated with a comma and use the positional notation.  \n",
    "    - **Optional arguments** need a default value in the signature.  \n",
    "    - **Semicolon** is not required in function call.  \n",
    "    - **return** statement is optional (value of the last expression is the return value, like R).  \n",
    "    - Multiple outputs can be returned as a **tuple**, e.g., `return out1, out2, out3`.  \n",
    "\n",
    "* In Julia, all arguments to functions are [**passed by reference**](https://en.wikipedia.org/wiki/Evaluation_strategy#Call_by_reference), in contrast to R and Matlab (which use pass by value).\n",
    "    - Implication: function arguments can be **modified** inside the function.\n",
    "\n",
    "* By convention function names ending with `!` indicates that function mutates at least one argument, typically the first.\n",
    "```julia\n",
    "sort!(x) # vs sort(x)\n",
    "```\n",
    "\n",
    "* There is a subtle binding issue (see the Indexing section above) in functions; see the \"I passed an argument `x` to a function, modified it inside that function, but on the outside, the variable `x` is still unchanged. Why?\" section of  https://docs.julialang.org/en/v1/manual/faq/"
   ]
  },
  {
   "cell_type": "markdown",
   "metadata": {},
   "source": [
    "* Anonymous functions, e.g., `x -> x^2`, is commonly used in collection function or list comprehensions.\n",
    "```julia\n",
    "map(x -> x^2, y) # square each element in x\n",
    "```\n",
    "\n",
    "* Functions can be nested:\n",
    "\n",
    "```julia\n",
    "function outerfunction()\n",
    "    # do some outer stuff\n",
    "    function innerfunction()\n",
    "        # do inner stuff\n",
    "        # can access prior outer definitions\n",
    "    end\n",
    "    # do more outer stuff\n",
    "end\n",
    "```\n",
    "\n",
    "* Functions can be vectorized using the \"dot call\" syntax:"
   ]
  },
  {
   "cell_type": "code",
   "execution_count": 91,
   "metadata": {
    "ExecuteTime": {
     "end_time": "2021-09-08T17:14:28.664000+09:00",
     "start_time": "2021-09-08T08:14:28.660Z"
    }
   },
   "outputs": [
    {
     "data": {
      "text/plain": [
       "36"
      ]
     },
     "execution_count": 91,
     "metadata": {},
     "output_type": "execute_result"
    }
   ],
   "source": [
    "function mf(x;)\n",
    "    return x^2\n",
    "end\n",
    "\n",
    "x=6\n",
    "mf(6)"
   ]
  },
  {
   "cell_type": "code",
   "execution_count": 112,
   "metadata": {
    "ExecuteTime": {
     "end_time": "2021-09-08T22:11:00.701000+09:00",
     "start_time": "2021-09-08T13:11:00.697Z"
    }
   },
   "outputs": [
    {
     "data": {
      "text/plain": [
       "25"
      ]
     },
     "execution_count": 112,
     "metadata": {},
     "output_type": "execute_result"
    }
   ],
   "source": [
    "ff(x) = x^2\n",
    "ff(5)"
   ]
  },
  {
   "cell_type": "code",
   "execution_count": 126,
   "metadata": {
    "ExecuteTime": {
     "end_time": "2021-09-08T22:12:13.377000+09:00",
     "start_time": "2021-09-08T13:12:13.375Z"
    }
   },
   "outputs": [
    {
     "data": {
      "text/plain": [
       "typeof(mf)"
      ]
     },
     "execution_count": 126,
     "metadata": {},
     "output_type": "execute_result"
    }
   ],
   "source": [
    "typeof(mf)"
   ]
  },
  {
   "cell_type": "code",
   "execution_count": 111,
   "metadata": {
    "ExecuteTime": {
     "end_time": "2021-09-08T21:38:28.141000+09:00",
     "start_time": "2021-09-08T12:38:27.710Z"
    }
   },
   "outputs": [
    {
     "data": {
      "text/html": [
       "# 1 method for generic function <b>mf</b>:<ul><li> mf(x) in Main at In[91]:1</li> </ul>"
      ],
      "text/plain": [
       "# 1 method for generic function \"mf\":\n",
       "[1] mf(x) in Main at In[91]:1"
      ]
     },
     "execution_count": 111,
     "metadata": {},
     "output_type": "execute_result"
    }
   ],
   "source": [
    "methods(mf)"
   ]
  },
  {
   "cell_type": "code",
   "execution_count": 128,
   "metadata": {
    "ExecuteTime": {
     "end_time": "2021-09-08T22:16:42.639000+09:00",
     "start_time": "2021-09-08T13:16:42.609Z"
    }
   },
   "outputs": [
    {
     "data": {
      "text/plain": [
       "5×3 Matrix{Int64}:\n",
       "   1  81  25\n",
       "  64  64   4\n",
       " 100  81  16\n",
       "   4  81  64\n",
       "  64   9  16"
      ]
     },
     "execution_count": 128,
     "metadata": {},
     "output_type": "execute_result"
    }
   ],
   "source": [
    "function myfunc(x)\n",
    "    return x^2\n",
    "end\n",
    "\n",
    "x = rand(1:10, 5, 3)\n",
    "myfunc.(x)"
   ]
  },
  {
   "cell_type": "code",
   "execution_count": 53,
   "metadata": {},
   "outputs": [
    {
     "data": {
      "text/plain": [
       "5×3 Matrix{Float64}:\n",
       "  0.253517   0.979067     0.0117348\n",
       "  0.118159   0.00956257   0.0499083\n",
       " -0.98609   -0.195548     0.284757\n",
       "  0.789984   0.000642589  0.988788\n",
       "  0.546603   0.0826408    0.357081"
      ]
     },
     "execution_count": 53,
     "metadata": {},
     "output_type": "execute_result"
    }
   ],
   "source": [
    "function myfunc(x)\n",
    "    return sin(x^2)\n",
    "end\n",
    "\n",
    "x = randn(5, 3)\n",
    "myfunc.(x)"
   ]
  },
  {
   "cell_type": "markdown",
   "metadata": {},
   "source": [
    "* **Collection function** (think this as the series of `apply` functions in R).\n",
    "\n",
    "    Apply a function to each element of a collection:\n",
    "\n",
    "```julia\n",
    "map(f, coll) # or\n",
    "map(coll) do elem\n",
    "    # do stuff with elem\n",
    "    # must contain return\n",
    "end\n",
    "```"
   ]
  },
  {
   "cell_type": "code",
   "execution_count": 54,
   "metadata": {},
   "outputs": [
    {
     "data": {
      "text/plain": [
       "5×3 Matrix{Float64}:\n",
       "  0.253517   0.979067     0.0117348\n",
       "  0.118159   0.00956257   0.0499083\n",
       " -0.98609   -0.195548     0.284757\n",
       "  0.789984   0.000642589  0.988788\n",
       "  0.546603   0.0826408    0.357081"
      ]
     },
     "execution_count": 54,
     "metadata": {},
     "output_type": "execute_result"
    }
   ],
   "source": [
    "map(x -> sin(x^2), x)   # same as above"
   ]
  },
  {
   "cell_type": "code",
   "execution_count": 55,
   "metadata": {},
   "outputs": [
    {
     "data": {
      "text/plain": [
       "5×3 Matrix{Float64}:\n",
       "  0.253517   0.979067     0.0117348\n",
       "  0.118159   0.00956257   0.0499083\n",
       " -0.98609   -0.195548     0.284757\n",
       "  0.789984   0.000642589  0.988788\n",
       "  0.546603   0.0826408    0.357081"
      ]
     },
     "execution_count": 55,
     "metadata": {},
     "output_type": "execute_result"
    }
   ],
   "source": [
    "map(x) do elem   # long version of above\n",
    "    elem = elem^2\n",
    "    return sin(elem)\n",
    "end"
   ]
  },
  {
   "cell_type": "code",
   "execution_count": 56,
   "metadata": {},
   "outputs": [
    {
     "data": {
      "text/plain": [
       "3.2908069925088776"
      ]
     },
     "execution_count": 56,
     "metadata": {},
     "output_type": "execute_result"
    }
   ],
   "source": [
    "# Mapreduce\n",
    "mapreduce(x -> sin(x^2), +, x)   # mapreduce(mapper, reducer, data)"
   ]
  },
  {
   "cell_type": "code",
   "execution_count": 57,
   "metadata": {},
   "outputs": [
    {
     "data": {
      "text/plain": [
       "3.2908069925088776"
      ]
     },
     "execution_count": 57,
     "metadata": {},
     "output_type": "execute_result"
    }
   ],
   "source": [
    "# same as\n",
    "sum(x -> sin(x^2), x)"
   ]
  },
  {
   "cell_type": "markdown",
   "metadata": {},
   "source": [
    "* List **comprehension**"
   ]
  },
  {
   "cell_type": "code",
   "execution_count": 58,
   "metadata": {},
   "outputs": [
    {
     "data": {
      "text/plain": [
       "5×3 Matrix{Float64}:\n",
       "  0.14112   -0.756802  -0.958924\n",
       " -0.958924  -0.279415   0.656987\n",
       "  0.656987   0.989358   0.412118\n",
       "  0.412118  -0.544021  -0.99999\n",
       " -0.99999   -0.536573   0.420167"
      ]
     },
     "execution_count": 58,
     "metadata": {},
     "output_type": "execute_result"
    }
   ],
   "source": [
    "[sin(2i + j) for i in 1:5, j in 1:3] # similar to Python"
   ]
  },
  {
   "cell_type": "markdown",
   "metadata": {},
   "source": [
    "## Type system\n",
    "\n",
    "* Every variable in Julia has a type.\n",
    "\n",
    "* When thinking about types, think about sets.\n",
    "\n",
    "* Everything is a subtype of the abstract type `Any`.\n",
    "\n",
    "* An abstract type defines a set of types\n",
    "    - Consider types in Julia that are a `Number`:\n",
    "<img src=\"1280px-Type-hierarchy-for-julia-numbers.png\" width=\"800\" align=\"center\"/>\n",
    "    - source: https://en.wikibooks.org/wiki/Introducing_Julia/Types\n",
    "\n",
    "* We can explore type hierarchy with `typeof()`, `supertype()`, and `subtypes()`."
   ]
  },
  {
   "cell_type": "code",
   "execution_count": 59,
   "metadata": {},
   "outputs": [
    {
     "data": {
      "text/plain": [
       "(Float64, Int64)"
      ]
     },
     "execution_count": 59,
     "metadata": {},
     "output_type": "execute_result"
    }
   ],
   "source": [
    "typeof(1.0), typeof(1)"
   ]
  },
  {
   "cell_type": "code",
   "execution_count": 60,
   "metadata": {},
   "outputs": [
    {
     "data": {
      "text/plain": [
       "AbstractFloat"
      ]
     },
     "execution_count": 60,
     "metadata": {},
     "output_type": "execute_result"
    }
   ],
   "source": [
    "supertype(Float64)"
   ]
  },
  {
   "cell_type": "code",
   "execution_count": 61,
   "metadata": {},
   "outputs": [
    {
     "data": {
      "text/plain": [
       "4-element Vector{Any}:\n",
       " BigFloat\n",
       " Float16\n",
       " Float32\n",
       " Float64"
      ]
     },
     "execution_count": 61,
     "metadata": {},
     "output_type": "execute_result"
    }
   ],
   "source": [
    "subtypes(AbstractFloat)"
   ]
  },
  {
   "cell_type": "code",
   "execution_count": 62,
   "metadata": {},
   "outputs": [
    {
     "data": {
      "text/plain": [
       "true"
      ]
     },
     "execution_count": 62,
     "metadata": {},
     "output_type": "execute_result"
    }
   ],
   "source": [
    "# Is Float64 a subtype of AbstractFloat?\n",
    "Float64 <: AbstractFloat"
   ]
  },
  {
   "cell_type": "code",
   "execution_count": 63,
   "metadata": {},
   "outputs": [
    {
     "data": {
      "text/plain": [
       "true"
      ]
     },
     "execution_count": 63,
     "metadata": {},
     "output_type": "execute_result"
    }
   ],
   "source": [
    "# On 64bit machine, Int == Int64\n",
    "Int == Int64"
   ]
  },
  {
   "cell_type": "code",
   "execution_count": 64,
   "metadata": {},
   "outputs": [
    {
     "data": {
      "text/plain": [
       "1.0"
      ]
     },
     "execution_count": 64,
     "metadata": {},
     "output_type": "execute_result"
    }
   ],
   "source": [
    "# convert to Float64\n",
    "convert(Float64, 1)"
   ]
  },
  {
   "cell_type": "code",
   "execution_count": 65,
   "metadata": {},
   "outputs": [
    {
     "data": {
      "text/plain": [
       "1.0"
      ]
     },
     "execution_count": 65,
     "metadata": {},
     "output_type": "execute_result"
    }
   ],
   "source": [
    "# same as\n",
    "Float64(1)"
   ]
  },
  {
   "cell_type": "code",
   "execution_count": 66,
   "metadata": {},
   "outputs": [
    {
     "data": {
      "text/plain": [
       "5-element Vector{Float32}:\n",
       " -0.6000053\n",
       "  0.57898515\n",
       " -1.9387985\n",
       " -0.04535096\n",
       "  0.9868613"
      ]
     },
     "execution_count": 66,
     "metadata": {},
     "output_type": "execute_result"
    }
   ],
   "source": [
    "# Float32 vector\n",
    "x = randn(Float32, 5)"
   ]
  },
  {
   "cell_type": "code",
   "execution_count": 67,
   "metadata": {},
   "outputs": [
    {
     "data": {
      "text/plain": [
       "5-element Vector{Float64}:\n",
       " -0.6000053286552429\n",
       "  0.5789851546287537\n",
       " -1.9387985467910767\n",
       " -0.04535096138715744\n",
       "  0.9868612885475159"
      ]
     },
     "execution_count": 67,
     "metadata": {},
     "output_type": "execute_result"
    }
   ],
   "source": [
    "# convert to Float64\n",
    "convert(Array{Float64}, x)"
   ]
  },
  {
   "cell_type": "code",
   "execution_count": 68,
   "metadata": {},
   "outputs": [
    {
     "data": {
      "text/plain": [
       "5-element Vector{Float64}:\n",
       " -0.6000053286552429\n",
       "  0.5789851546287537\n",
       " -1.9387985467910767\n",
       " -0.04535096138715744\n",
       "  0.9868612885475159"
      ]
     },
     "execution_count": 68,
     "metadata": {},
     "output_type": "execute_result"
    }
   ],
   "source": [
    "# same as\n",
    "Float64.(x)"
   ]
  },
  {
   "cell_type": "code",
   "execution_count": 69,
   "metadata": {},
   "outputs": [
    {
     "data": {
      "text/plain": [
       "1"
      ]
     },
     "execution_count": 69,
     "metadata": {},
     "output_type": "execute_result"
    }
   ],
   "source": [
    "# convert Float64 to Int64\n",
    "convert(Int, 1.0)"
   ]
  },
  {
   "cell_type": "code",
   "execution_count": 70,
   "metadata": {},
   "outputs": [
    {
     "ename": "LoadError",
     "evalue": "InexactError: Int64(1.5)",
     "output_type": "error",
     "traceback": [
      "InexactError: Int64(1.5)",
      "",
      "Stacktrace:",
      " [1] Int64",
      "   @ ./float.jl:723 [inlined]",
      " [2] convert(#unused#::Type{Int64}, x::Float64)",
      "   @ Base ./number.jl:7",
      " [3] top-level scope",
      "   @ In[70]:1",
      " [4] eval",
      "   @ ./boot.jl:360 [inlined]",
      " [5] include_string(mapexpr::typeof(REPL.softscope), mod::Module, code::String, filename::String)",
      "   @ Base ./loading.jl:1116"
     ]
    }
   ],
   "source": [
    "convert(Int, 1.5) # should use round(1.5)"
   ]
  },
  {
   "cell_type": "code",
   "execution_count": 71,
   "metadata": {},
   "outputs": [
    {
     "data": {
      "text/plain": [
       "2"
      ]
     },
     "execution_count": 71,
     "metadata": {},
     "output_type": "execute_result"
    }
   ],
   "source": [
    "round(Int, 1.5)"
   ]
  },
  {
   "cell_type": "markdown",
   "metadata": {},
   "source": [
    "## Multiple dispatch\n",
    "\n",
    "* [Multiple dispatch](https://en.wikipedia.org/wiki/Multiple_dispatch) is a feature of some programming languages in which a function or method can be dynamically dispatched based on the run time (dynamic) type or, in the more general case, some other attribute of more than one of its arguments.\n",
    "\n",
    "* Multiple dispatch lies in the core of Julia design. It allows built-in and user-defined functions to be overloaded for different combinations of argument types.\n",
    "\n",
    "* In Juila, methods belong to functions, called **generic functions**.\n",
    "\n",
    "* Let's consider a simple \"doubling\" function:"
   ]
  },
  {
   "cell_type": "code",
   "execution_count": 2,
   "metadata": {
    "ExecuteTime": {
     "end_time": "2021-09-13T14:31:12.772000+09:00",
     "start_time": "2021-09-13T05:31:12.124Z"
    }
   },
   "outputs": [
    {
     "data": {
      "text/plain": [
       "g (generic function with 1 method)"
      ]
     },
     "execution_count": 2,
     "metadata": {},
     "output_type": "execute_result"
    }
   ],
   "source": [
    "g(x) = x + x"
   ]
  },
  {
   "cell_type": "code",
   "execution_count": 3,
   "metadata": {
    "ExecuteTime": {
     "end_time": "2021-09-13T14:31:12.965000+09:00",
     "start_time": "2021-09-13T05:31:12.539Z"
    }
   },
   "outputs": [
    {
     "data": {
      "text/plain": [
       "3.0"
      ]
     },
     "execution_count": 3,
     "metadata": {},
     "output_type": "execute_result"
    }
   ],
   "source": [
    "g(1.5)"
   ]
  },
  {
   "cell_type": "markdown",
   "metadata": {},
   "source": [
    "This definition is too broad, since some things, e.g., strings, can't be added "
   ]
  },
  {
   "cell_type": "code",
   "execution_count": 74,
   "metadata": {},
   "outputs": [
    {
     "ename": "LoadError",
     "evalue": "MethodError: no method matching +(::String, ::String)\n\u001b[0mClosest candidates are:\n\u001b[0m  +(::Any, ::Any, \u001b[91m::Any\u001b[39m, \u001b[91m::Any...\u001b[39m) at operators.jl:560",
     "output_type": "error",
     "traceback": [
      "MethodError: no method matching +(::String, ::String)\n\u001b[0mClosest candidates are:\n\u001b[0m  +(::Any, ::Any, \u001b[91m::Any\u001b[39m, \u001b[91m::Any...\u001b[39m) at operators.jl:560",
      "",
      "Stacktrace:",
      " [1] g(x::String)",
      "   @ Main ./In[72]:1",
      " [2] top-level scope",
      "   @ In[74]:1",
      " [3] eval",
      "   @ ./boot.jl:360 [inlined]",
      " [4] include_string(mapexpr::typeof(REPL.softscope), mod::Module, code::String, filename::String)",
      "   @ Base ./loading.jl:1116"
     ]
    }
   ],
   "source": [
    "g(\"hello world\")"
   ]
  },
  {
   "cell_type": "markdown",
   "metadata": {},
   "source": [
    "* This definition is correct but too restrictive, since any `Number` can be added."
   ]
  },
  {
   "cell_type": "code",
   "execution_count": 4,
   "metadata": {
    "ExecuteTime": {
     "end_time": "2021-09-13T14:31:15.411000+09:00",
     "start_time": "2021-09-13T05:31:15.409Z"
    }
   },
   "outputs": [
    {
     "data": {
      "text/plain": [
       "g (generic function with 2 methods)"
      ]
     },
     "execution_count": 4,
     "metadata": {},
     "output_type": "execute_result"
    }
   ],
   "source": [
    "g(x::Float64) = x + x"
   ]
  },
  {
   "cell_type": "code",
   "execution_count": 5,
   "metadata": {
    "ExecuteTime": {
     "end_time": "2021-09-13T14:31:17.623000+09:00",
     "start_time": "2021-09-13T05:31:17.057Z"
    }
   },
   "outputs": [
    {
     "data": {
      "text/html": [
       "sum(f, a; <i>kw...</i>) in Base at <a href=\"https://github.com/JuliaLang/julia/tree/1b93d53fc4bb59350ada898038ed4de2994cce33/base/reduce.jl#L501\" target=\"_blank\">reduce.jl:501</a>"
      ],
      "text/plain": [
       "sum(f, a; kw...) in Base at reduce.jl:501"
      ]
     },
     "execution_count": 5,
     "metadata": {},
     "output_type": "execute_result"
    }
   ],
   "source": [
    "@which sum(1,3.0)"
   ]
  },
  {
   "cell_type": "markdown",
   "metadata": {},
   "source": [
    "* This definition will automatically work on the entire type tree above!"
   ]
  },
  {
   "cell_type": "code",
   "execution_count": 76,
   "metadata": {},
   "outputs": [
    {
     "data": {
      "text/plain": [
       "g (generic function with 3 methods)"
      ]
     },
     "execution_count": 76,
     "metadata": {},
     "output_type": "execute_result"
    }
   ],
   "source": [
    "g(x::Number) = x + x"
   ]
  },
  {
   "cell_type": "markdown",
   "metadata": {},
   "source": [
    "This is a lot nicer than \n",
    "```julia\n",
    "function g(x)\n",
    "    if isa(x, Number)\n",
    "        return x + x\n",
    "    else\n",
    "        throw(ArgumentError(\"x should be a number\"))\n",
    "    end\n",
    "end\n",
    "```"
   ]
  },
  {
   "cell_type": "markdown",
   "metadata": {},
   "source": [
    "* `methods(func)` function display all methods defined for `func`."
   ]
  },
  {
   "cell_type": "code",
   "execution_count": 6,
   "metadata": {
    "ExecuteTime": {
     "end_time": "2021-09-13T14:31:20.730000+09:00",
     "start_time": "2021-09-13T05:31:20.481Z"
    }
   },
   "outputs": [
    {
     "data": {
      "text/html": [
       "# 2 methods for generic function <b>g</b>:<ul><li> g(x::<b>Float64</b>) in Main at In[4]:1</li> <li> g(x) in Main at In[2]:1</li> </ul>"
      ],
      "text/plain": [
       "# 2 methods for generic function \"g\":\n",
       "[1] g(x::Float64) in Main at In[4]:1\n",
       "[2] g(x) in Main at In[2]:1"
      ]
     },
     "execution_count": 6,
     "metadata": {},
     "output_type": "execute_result"
    }
   ],
   "source": [
    "methods(g)"
   ]
  },
  {
   "cell_type": "markdown",
   "metadata": {},
   "source": [
    "* When calling a function with multiple definitions, Julia will search from the narrowest signature to the broadest signature.\n",
    "\n",
    "* `@which func(x)` marco tells which method is being used for argument signature `x`."
   ]
  },
  {
   "cell_type": "code",
   "execution_count": 7,
   "metadata": {
    "ExecuteTime": {
     "end_time": "2021-09-13T14:31:22.057000+09:00",
     "start_time": "2021-09-13T05:31:22.055Z"
    }
   },
   "outputs": [
    {
     "data": {
      "text/html": [
       "g(x) in Main at In[2]:1"
      ],
      "text/plain": [
       "g(x) in Main at In[2]:1"
      ]
     },
     "execution_count": 7,
     "metadata": {},
     "output_type": "execute_result"
    }
   ],
   "source": [
    "# an Int64 input\n",
    "@which g(1)"
   ]
  },
  {
   "cell_type": "code",
   "execution_count": 79,
   "metadata": {},
   "outputs": [
    {
     "data": {
      "text/html": [
       "g(x::<b>Float64</b>) in Main at In[75]:1"
      ],
      "text/plain": [
       "g(x::Float64) in Main at In[75]:1"
      ]
     },
     "execution_count": 79,
     "metadata": {},
     "output_type": "execute_result"
    }
   ],
   "source": [
    "@which g(1.0)"
   ]
  },
  {
   "cell_type": "code",
   "execution_count": 80,
   "metadata": {},
   "outputs": [
    {
     "data": {
      "text/html": [
       "g(x) in Main at In[72]:1"
      ],
      "text/plain": [
       "g(x) in Main at In[72]:1"
      ]
     },
     "execution_count": 80,
     "metadata": {},
     "output_type": "execute_result"
    }
   ],
   "source": [
    "# a Vector{Float64} input\n",
    "@which g(randn(5))"
   ]
  },
  {
   "cell_type": "markdown",
   "metadata": {},
   "source": [
    "* R also makes use of generic functions and multiple dispatch (see http://adv-r.had.co.nz/OO-essentials.html#s3), but it is not fully optimized."
   ]
  },
  {
   "cell_type": "markdown",
   "metadata": {},
   "source": [
    "## Just-in-time compilation (JIT)\n",
    "\n",
    "| <img src=\"images/JIT1.png\" alt=\"Julia toolchain\" style=\"width: 400px;\"/> | <img src=\"images/JIT2.png\" alt=\"Julia toolchain\" style=\"width: 500px;\"/> |\n",
    "|----------------------------------|------------------------------------|\n",
    "|||\n",
    "\n",
    "Source: [Introduction to Writing High Performance Julia](https://youtu.be/szE4txAD8mk) by Arch D. Robinson\n",
    "\n",
    "* `Julia`'s efficiency results from its capability to infer the types of **all** variables within a function and then call LLVM (compiler) to generate optimized machine code at run-time. \n",
    "\n",
    "Consider the `g` (doubling) function defined earlier. This function will work on **any** type which has a method for `+`."
   ]
  },
  {
   "cell_type": "code",
   "execution_count": 1,
   "metadata": {
    "ExecuteTime": {
     "end_time": "2021-09-13T14:31:06.455000+09:00",
     "start_time": "2021-09-13T05:31:05.279Z"
    }
   },
   "outputs": [
    {
     "ename": "LoadError",
     "evalue": "UndefVarError: g not defined",
     "output_type": "error",
     "traceback": [
      "UndefVarError: g not defined",
      "",
      "Stacktrace:",
      " [1] top-level scope",
      "   @ In[1]:1",
      " [2] eval",
      "   @ ./boot.jl:360 [inlined]",
      " [3] include_string(mapexpr::typeof(REPL.softscope), mod::Module, code::String, filename::String)",
      "   @ Base ./loading.jl:1116"
     ]
    }
   ],
   "source": [
    "g(2), g(2.0)"
   ]
  },
  {
   "cell_type": "markdown",
   "metadata": {},
   "source": [
    "**Step 1**: Parse Julia code into [abstract syntax tree (AST)](https://en.wikipedia.org/wiki/Abstract_syntax_tree)."
   ]
  },
  {
   "cell_type": "code",
   "execution_count": 8,
   "metadata": {
    "ExecuteTime": {
     "end_time": "2021-09-13T14:31:25.476000+09:00",
     "start_time": "2021-09-13T05:31:24.622Z"
    }
   },
   "outputs": [
    {
     "data": {
      "text/plain": [
       "CodeInfo(\n",
       "\u001b[90m1 ─\u001b[39m %1 = x + x\n",
       "\u001b[90m└──\u001b[39m      return %1\n",
       ")"
      ]
     },
     "execution_count": 8,
     "metadata": {},
     "output_type": "execute_result"
    }
   ],
   "source": [
    "@code_lowered g(2)"
   ]
  },
  {
   "cell_type": "markdown",
   "metadata": {},
   "source": [
    "**Step 2**: Type inference according to input type."
   ]
  },
  {
   "cell_type": "code",
   "execution_count": 83,
   "metadata": {},
   "outputs": [
    {
     "name": "stdout",
     "output_type": "stream",
     "text": [
      "Variables\n",
      "  #self#\u001b[36m::Core.Const(g)\u001b[39m\n",
      "  x\u001b[36m::Int64\u001b[39m\n",
      "\n",
      "Body\u001b[36m::Int64\u001b[39m\n",
      "\u001b[90m1 ─\u001b[39m %1 = (x + x)\u001b[36m::Int64\u001b[39m\n",
      "\u001b[90m└──\u001b[39m      return %1\n"
     ]
    }
   ],
   "source": [
    "@code_warntype g(2)"
   ]
  },
  {
   "cell_type": "code",
   "execution_count": 84,
   "metadata": {},
   "outputs": [
    {
     "name": "stdout",
     "output_type": "stream",
     "text": [
      "Variables\n",
      "  #self#\u001b[36m::Core.Const(g)\u001b[39m\n",
      "  x\u001b[36m::Float64\u001b[39m\n",
      "\n",
      "Body\u001b[36m::Float64\u001b[39m\n",
      "\u001b[90m1 ─\u001b[39m %1 = (x + x)\u001b[36m::Float64\u001b[39m\n",
      "\u001b[90m└──\u001b[39m      return %1\n"
     ]
    }
   ],
   "source": [
    "@code_warntype g(2.0)"
   ]
  },
  {
   "cell_type": "markdown",
   "metadata": {},
   "source": [
    "**Step 3**: Compile into **LLVM bytecode** (equivalent of R bytecode generated by the compiler package)."
   ]
  },
  {
   "cell_type": "code",
   "execution_count": 85,
   "metadata": {},
   "outputs": [
    {
     "name": "stdout",
     "output_type": "stream",
     "text": [
      "\u001b[90m;  @ In[76]:1 within `g'\u001b[39m\n",
      "\u001b[95mdefine\u001b[39m \u001b[36mi64\u001b[39m \u001b[93m@julia_g_4079\u001b[39m\u001b[33m(\u001b[39m\u001b[36mi64\u001b[39m \u001b[95msignext\u001b[39m \u001b[0m%0\u001b[33m)\u001b[39m \u001b[33m{\u001b[39m\n",
      "\u001b[91mtop:\u001b[39m\n",
      "\u001b[90m; ┌ @ int.jl:87 within `+'\u001b[39m\n",
      "   \u001b[0m%1 \u001b[0m= \u001b[96m\u001b[1mshl\u001b[22m\u001b[39m \u001b[36mi64\u001b[39m \u001b[0m%0\u001b[0m, \u001b[33m1\u001b[39m\n",
      "\u001b[90m; └\u001b[39m\n",
      "  \u001b[96m\u001b[1mret\u001b[22m\u001b[39m \u001b[36mi64\u001b[39m \u001b[0m%1\n",
      "\u001b[33m}\u001b[39m\n"
     ]
    }
   ],
   "source": [
    "@code_llvm g(2)"
   ]
  },
  {
   "cell_type": "code",
   "execution_count": 86,
   "metadata": {},
   "outputs": [
    {
     "name": "stdout",
     "output_type": "stream",
     "text": [
      "\u001b[90m;  @ In[75]:1 within `g'\u001b[39m\n",
      "\u001b[95mdefine\u001b[39m \u001b[36mdouble\u001b[39m \u001b[93m@julia_g_4104\u001b[39m\u001b[33m(\u001b[39m\u001b[36mdouble\u001b[39m \u001b[0m%0\u001b[33m)\u001b[39m \u001b[33m{\u001b[39m\n",
      "\u001b[91mtop:\u001b[39m\n",
      "\u001b[90m; ┌ @ float.jl:326 within `+'\u001b[39m\n",
      "   \u001b[0m%1 \u001b[0m= \u001b[96m\u001b[1mfadd\u001b[22m\u001b[39m \u001b[36mdouble\u001b[39m \u001b[0m%0\u001b[0m, \u001b[0m%0\n",
      "\u001b[90m; └\u001b[39m\n",
      "  \u001b[96m\u001b[1mret\u001b[22m\u001b[39m \u001b[36mdouble\u001b[39m \u001b[0m%1\n",
      "\u001b[33m}\u001b[39m\n"
     ]
    }
   ],
   "source": [
    "@code_llvm g(2.0)"
   ]
  },
  {
   "cell_type": "markdown",
   "metadata": {},
   "source": [
    "We didn't provide a type annotation. But different LLVM code gets generated depending on the argument type!\n",
    "\n",
    "In R or Python, `g(2)` and `g(2.0)` would use the same code for both.\n",
    " \n",
    "In Julia, `g(2)` and `g(2.0)` dispatches to optimized code for `Int64` and `Float64`, respectively.\n",
    "\n",
    "For integer input `x`, LLVM compiler is smart enough to know `x + x` is simple shifting `x` by 1 bit, which is faster than addition.\n",
    " \n",
    "* **Step 4**: Lowest level is the **assembly code**, which is machine dependent."
   ]
  },
  {
   "cell_type": "code",
   "execution_count": 87,
   "metadata": {},
   "outputs": [
    {
     "name": "stdout",
     "output_type": "stream",
     "text": [
      "\t\u001b[0m.section\t\u001b[0m__TEXT\u001b[0m,\u001b[0m__text\u001b[0m,\u001b[0mregular\u001b[0m,\u001b[0mpure_instructions\n",
      "\u001b[90m; ┌ @ In[76]:1 within `g'\u001b[39m\n",
      "\u001b[90m; │┌ @ int.jl:87 within `+'\u001b[39m\n",
      "\t\u001b[96m\u001b[1mleaq\u001b[22m\u001b[39m\t\u001b[33m(\u001b[39m\u001b[0m%rdi\u001b[0m,\u001b[0m%rdi\u001b[33m)\u001b[39m\u001b[0m, \u001b[0m%rax\n",
      "\u001b[90m; │└\u001b[39m\n",
      "\t\u001b[96m\u001b[1mretq\u001b[22m\u001b[39m\n",
      "\t\u001b[96m\u001b[1mnopw\u001b[22m\u001b[39m\t\u001b[0m%cs\u001b[0m:\u001b[33m(\u001b[39m\u001b[0m%rax\u001b[0m,\u001b[0m%rax\u001b[33m)\u001b[39m\n",
      "\u001b[90m; └\u001b[39m\n"
     ]
    }
   ],
   "source": [
    "@code_native g(2)"
   ]
  },
  {
   "cell_type": "markdown",
   "metadata": {},
   "source": [
    "1st instruction adds the content of the general purpose 64-bit register (a small memory inside the CPU) RDI to itself, and load the result into another register RAX. The addition here is the integer arithmetic."
   ]
  },
  {
   "cell_type": "code",
   "execution_count": 88,
   "metadata": {},
   "outputs": [
    {
     "name": "stdout",
     "output_type": "stream",
     "text": [
      "\t\u001b[0m.section\t\u001b[0m__TEXT\u001b[0m,\u001b[0m__text\u001b[0m,\u001b[0mregular\u001b[0m,\u001b[0mpure_instructions\n",
      "\u001b[90m; ┌ @ In[75]:1 within `g'\u001b[39m\n",
      "\u001b[90m; │┌ @ float.jl:326 within `+'\u001b[39m\n",
      "\t\u001b[96m\u001b[1mvaddsd\u001b[22m\u001b[39m\t\u001b[0m%xmm0\u001b[0m, \u001b[0m%xmm0\u001b[0m, \u001b[0m%xmm0\n",
      "\u001b[90m; │└\u001b[39m\n",
      "\t\u001b[96m\u001b[1mretq\u001b[22m\u001b[39m\n",
      "\t\u001b[96m\u001b[1mnopw\u001b[22m\u001b[39m\t\u001b[0m%cs\u001b[0m:\u001b[33m(\u001b[39m\u001b[0m%rax\u001b[0m,\u001b[0m%rax\u001b[33m)\u001b[39m\n",
      "\u001b[90m; └\u001b[39m\n"
     ]
    }
   ],
   "source": [
    "@code_native g(2.0)"
   ]
  },
  {
   "cell_type": "code",
   "execution_count": 89,
   "metadata": {},
   "outputs": [
    {
     "name": "stdout",
     "output_type": "stream",
     "text": [
      "/usr/local/bin/R\n"
     ]
    },
    {
     "data": {
      "text/plain": [
       "Process(`\u001b[4mwhich\u001b[24m \u001b[4m/usr/local/bin/R\u001b[24m`, ProcessExited(0))"
      ]
     },
     "execution_count": 89,
     "metadata": {},
     "output_type": "execute_result"
    }
   ],
   "source": [
    "run(`which /usr/local/bin/R`)"
   ]
  },
  {
   "cell_type": "raw",
   "metadata": {},
   "source": [
    "1st instruction adds the content of the 128-bit register XMM0 to itself, and overwrites the result into XMM0. The addition here is the floating point arithmetic and a \"single instruction, multiple data\" (SIMD) instruction."
   ]
  },
  {
   "cell_type": "markdown",
   "metadata": {},
   "source": [
    "## Acknowledgment\n",
    "\n",
    "This lecture note has evolved from [Dr. Hua Zhou](http://hua-zhou.github.io)'s 2019 Winter Statistical Computing course notes available at <http://hua-zhou.github.io/teaching/biostatm280-2019spring/index.html>."
   ]
  }
 ],
 "metadata": {
  "kernelspec": {
   "display_name": "Julia 1.6.2",
   "language": "julia",
   "name": "julia-1.6"
  },
  "language_info": {
   "file_extension": ".jl",
   "mimetype": "application/julia",
   "name": "julia",
   "version": "1.6.2"
  },
  "toc": {
   "base_numbering": 1,
   "nav_menu": {
    "height": "511.7391357421875px",
    "width": "251.7391357421875px"
   },
   "number_sections": true,
   "sideBar": true,
   "skip_h1_title": true,
   "title_cell": "Table of Contents",
   "title_sidebar": "Contents",
   "toc_cell": true,
   "toc_position": {
    "height": "640.4212036132812px",
    "left": "0px",
    "right": "1210.6114501953125px",
    "top": "109.57880401611328px",
    "width": "211.984375px"
   },
   "toc_section_display": "block",
   "toc_window_display": true
  },
  "varInspector": {
   "cols": {
    "lenName": 16,
    "lenType": 16,
    "lenVar": 40
   },
   "kernels_config": {
    "python": {
     "delete_cmd_postfix": "",
     "delete_cmd_prefix": "del ",
     "library": "var_list.py",
     "varRefreshCmd": "print(var_dic_list())"
    },
    "r": {
     "delete_cmd_postfix": ") ",
     "delete_cmd_prefix": "rm(",
     "library": "var_list.r",
     "varRefreshCmd": "cat(var_dic_list()) "
    }
   },
   "types_to_exclude": [
    "module",
    "function",
    "builtin_function_or_method",
    "instance",
    "_Feature"
   ],
   "window_display": false
  }
 },
 "nbformat": 4,
 "nbformat_minor": 4
}
