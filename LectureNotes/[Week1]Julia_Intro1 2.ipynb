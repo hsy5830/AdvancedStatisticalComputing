{
 "cells": [
  {
   "cell_type": "markdown",
   "metadata": {
    "toc": true
   },
   "source": [
    "<h1>Table of Contents<span class=\"tocSkip\"></span></h1>\n",
    "<div class=\"toc\"><ul class=\"toc-item\"><li><span><a href=\"#Types-of-programming-languages\" data-toc-modified-id=\"Types-of-programming-languages-1\"><span class=\"toc-item-num\">1&nbsp;&nbsp;</span>Types of programming languages</a></span></li><li><span><a href=\"#Take-home-messages\" data-toc-modified-id=\"Take-home-messages-2\"><span class=\"toc-item-num\">2&nbsp;&nbsp;</span>Take-home messages</a></span></li><li><span><a href=\"#What's-Julia?\" data-toc-modified-id=\"What's-Julia?-3\"><span class=\"toc-item-num\">3&nbsp;&nbsp;</span>What's Julia?</a></span></li><li><span><a href=\"#R-is-great,-but...\" data-toc-modified-id=\"R-is-great,-but...-4\"><span class=\"toc-item-num\">4&nbsp;&nbsp;</span>R is great, but...</a></span></li><li><span><a href=\"#Learning-resources\" data-toc-modified-id=\"Learning-resources-5\"><span class=\"toc-item-num\">5&nbsp;&nbsp;</span>Learning resources</a></span></li><li><span><a href=\"#Julia-REPL-(Read-Eval-Print-Loop)\" data-toc-modified-id=\"Julia-REPL-(Read-Eval-Print-Loop)-6\"><span class=\"toc-item-num\">6&nbsp;&nbsp;</span>Julia REPL (Read-Eval-Print Loop)</a></span></li><li><span><a href=\"#Seek-help\" data-toc-modified-id=\"Seek-help-7\"><span class=\"toc-item-num\">7&nbsp;&nbsp;</span>Seek help</a></span></li><li><span><a href=\"#Some-basic-Julia-code\" data-toc-modified-id=\"Some-basic-Julia-code-8\"><span class=\"toc-item-num\">8&nbsp;&nbsp;</span>Some basic Julia code</a></span></li><li><span><a href=\"#Julia-package-system\" data-toc-modified-id=\"Julia-package-system-9\"><span class=\"toc-item-num\">9&nbsp;&nbsp;</span>Julia package system</a></span></li><li><span><a href=\"#Calling-R-from-Julia\" data-toc-modified-id=\"Calling-R-from-Julia-10\"><span class=\"toc-item-num\">10&nbsp;&nbsp;</span>Calling R from Julia</a></span></li><li><span><a href=\"#Timing-and-benchmark\" data-toc-modified-id=\"Timing-and-benchmark-11\"><span class=\"toc-item-num\">11&nbsp;&nbsp;</span>Timing and benchmark</a></span><ul class=\"toc-item\"><li><span><a href=\"#Julia\" data-toc-modified-id=\"Julia-11.1\"><span class=\"toc-item-num\">11.1&nbsp;&nbsp;</span>Julia</a></span></li><li><span><a href=\"#C\" data-toc-modified-id=\"C-11.2\"><span class=\"toc-item-num\">11.2&nbsp;&nbsp;</span>C</a></span></li><li><span><a href=\"#R,-builtin-sum\" data-toc-modified-id=\"R,-builtin-sum-11.3\"><span class=\"toc-item-num\">11.3&nbsp;&nbsp;</span>R, builtin <code>sum</code></a></span></li><li><span><a href=\"#R,-handwritten-loop\" data-toc-modified-id=\"R,-handwritten-loop-11.4\"><span class=\"toc-item-num\">11.4&nbsp;&nbsp;</span>R, handwritten loop</a></span></li><li><span><a href=\"#Python,-builtin-sum\" data-toc-modified-id=\"Python,-builtin-sum-11.5\"><span class=\"toc-item-num\">11.5&nbsp;&nbsp;</span>Python, builtin <code>sum</code></a></span></li><li><span><a href=\"#Python,-handwritten-loop\" data-toc-modified-id=\"Python,-handwritten-loop-11.6\"><span class=\"toc-item-num\">11.6&nbsp;&nbsp;</span>Python, handwritten loop</a></span></li><li><span><a href=\"#Python,-numpy\" data-toc-modified-id=\"Python,-numpy-11.7\"><span class=\"toc-item-num\">11.7&nbsp;&nbsp;</span>Python, numpy</a></span></li><li><span><a href=\"#Summary\" data-toc-modified-id=\"Summary-11.8\"><span class=\"toc-item-num\">11.8&nbsp;&nbsp;</span>Summary</a></span></li></ul></li><li><span><a href=\"#Acknowledgment\" data-toc-modified-id=\"Acknowledgment-12\"><span class=\"toc-item-num\">12&nbsp;&nbsp;</span>Acknowledgment</a></span></li></ul></div>"
   ]
  },
  {
   "cell_type": "markdown",
   "metadata": {},
   "source": [
    "# Introduction to Julia, part 1\n",
    "\n",
    "<img src=\"./julia_logo.png\" align=\"center\" width=\"400\"/>\n",
    "\n",
    "https://julialang.org"
   ]
  },
  {
   "cell_type": "markdown",
   "metadata": {},
   "source": [
    "## Types of programming languages\n",
    "\n",
    "* **Compiler languages**: C/C++, Fortran, ... \n",
    "  - Directly compiled to machine code that is executed by CPU \n",
    "  - Pros: fast, memory efficient\n",
    "  - Cons: longer development time, hard to debug\n",
    "\n",
    "* **Interpreter languages**: R, MATLAB, Python, SAS IML, JavaScript, ... \n",
    "  - Interpreted by an interpreter\n",
    "  - Pros: fast prototyping, scripting (Linux shell scripts, Perl)\n",
    "  - Cons: excruciatingly slow for loops\n",
    "  - Usually equipped with *REPL* (Read-Eval-Print Loop) or *shell*\n",
    "\n",
    "* Mixed (dynamic) languages: Java, Kotlin, Scala\n",
    "  - Compiled into *byte code* by the compiler, byte code is interpreted by the *virtual machine* (JVM). This scheme achieves architecture independence.\n",
    "  - More and more interpreter languages are adopting JIT technology: R (version 3.4+), MATLAB (R2015b+), Python (PyPy), Julia, ...\n",
    "      + functions will be compiled before execution on the first or second use. For subsequent uses (e.g., calling the function within a loop), the speedup is significant.\n",
    "\n",
    "* Distinction between complier and interpreter languages is getting blurred due to improved computation capabilities of the modern hardware and advanced compiler techniques.\n",
    "\n",
    "* Database languages: SQL, Hive (Hadoop).  \n",
    "  - Data analysis *never* happens if we do not know how to retrieve data from databases  "
   ]
  },
  {
   "cell_type": "markdown",
   "metadata": {},
   "source": [
    "## Take-home messages\n",
    "\n",
    "* To be versatile in the big data era, familiarize yourself with at least one language in each category.\n",
    "\n",
    "* To improve efficiency of interpreted languages such as R or Matlab, conventional wisdom is to avoid loops as much as possible, a.k.a., **vectorize** code\n",
    "> The only loop you are allowed to have is that for an iterative algorithm.\n",
    "\n",
    "* When looping is unavoidable, need to code in C, C++, or Fortran.  \n",
    "Success stories: the popular `glmnet` package in R is coded in Fortran; `tidyverse` packages use a lot Rcpp/C++.\n",
    "\n",
    "* Modern languages such as Julia tries to solve the **two language problem**:\n",
    "    - Prototype code goes into a high-level language\n",
    "    - Production code goes into a low-level language"
   ]
  },
  {
   "cell_type": "markdown",
   "metadata": {},
   "source": [
    "## What's Julia?\n",
    "\n",
    "> Julia is a high-level, high-performance dynamic programming language for technical computing, with syntax that is familiar to users of other technical computing environments.\n",
    "\n",
    "* History:\n",
    "  - Project started in 2009. First public release in 2012 \n",
    "  - Creators: Jeff Bezanson, Alan Edelman, Stefan Karpinski, Viral Shah\n",
    "  - First major release v1.0 was released on Aug 8, 2018\n",
    "  - Long-term support release: v1.0.5, Sept. 2019\n",
    "  - Current stable release: v1.6.2\n",
    "\n",
    "* Aim to solve the notorious **two language problem**: Prototype code goes into high-level languages like R/Python, production code goes into low-level language like C/C++. \n",
    "\n",
    "    Julia aims to:\n",
    "> Walks like Python. Runs like C.\n",
    "\n",
    "<img src=\"./julia_vs_otherlang.png\" align=\"center\" width=\"800\"/>\n",
    "\n",
    "See <https://julialang.org/benchmarks/> for the details of benchmark.\n",
    "\n",
    "* Write high-level, abstract code that closely resembles mathematical formulas\n",
    "    - yet produces fast, low-level machine code that has traditionally only been generated by static languages.\n",
    "\n",
    "* Julia is more than just \"Fast R\" or \"Fast Matlab\"\n",
    "    - Performance comes from features that work well together.\n",
    "    - You can't just take the magic dust that makes Julia fast and sprinkle it on your language of choice."
   ]
  },
  {
   "cell_type": "markdown",
   "metadata": {},
   "source": [
    "## R is great, but...\n",
    "\n",
    "* The language encourages operating on the whole object (i.e. vectorized code). However, some tasks (e.g. MCMC) are not easily vectorized.\n",
    "\n",
    "* Unvectorized R code (`for` and `while` loops) is slow. (http://adv-r.had.co.nz/Performance.html Section on performance starts with \"Why is R slow?\") \n",
    "\n",
    "* Techniques for large data sets – parallelization, memory mapping, database access, map/reduce – can be used but not easily. R is single threaded and most likely will stay that way.\n",
    "\n",
    "* R functions should obey functional semantics (not modify arguments). Okay until you have very large objects on which small changes are made during parameter estimation.\n",
    "\n",
    "* Sort-of object oriented using generic functions but implementation is casual. Does garbage collection but not based on reference counting.\n",
    "\n",
    "* The real work is done in underlying C code and it is not easy to trace your way through it.\n",
    "\n",
    "(by [Doug Bates](http://pages.stat.wisc.edu/~bates/), member of the R Core Team, author of `Matrix` and `lme4` packages, in [Julia for R programmers](http://pages.stat.wisc.edu/~bates/JuliaForRProgrammers.pdf))\n",
    "\n",
    "* Deficiencies in the core language \n",
    "  - Many fixed with packages (`devtools`, `roxygen2`, `Matrix`)\n",
    "  - Others harder to fix (R uses an old version of BLAS)\n",
    "  - Some impossible to fix (clunky syntax, poor design choices)\n",
    " \n",
    "<!--\n",
    "* Doug Bates' [Julia package for mixed-effects models](https://github.com/dmbates/MixedModels.jl)\n",
    "    - Getting Doug on board was a big win for statistics with Julia, as he brought a lot of knowledge about the history of R development and design choices\n",
    "    \n",
    "    > As some of you may know, I have had a (rather late) mid-life crisis and run off with another language called Julia.   \n",
    "    >\n",
    "    > -- <cite>Doug Bates (on the [`knitr` Google Group](https://groups.google.com/forum/#!msg/knitr/F78PBMIamwk/X-d-zUhrdrkJ), 2013)</cite>\n",
    "-->"
   ]
  },
  {
   "cell_type": "markdown",
   "metadata": {},
   "source": [
    "## Learning resources\n",
    "\n",
    "0. [Julia: A Fresh Approach to Numerical Computing](../../readings/BezansonEdelmanKarpinskiShah17Julia.pdf) by Jeff Bezanson, Alan Edelman, Stefan Karpinski, and Viral B. Shah, *SIAM REVIEW* Vol. 59, No. 1, pp. 65–98.\n",
    "\n",
    "1. [Julia for R Programmers](http://www.stat.wisc.edu/~bates/JuliaForRProgrammers.pdf) by Doug Bates.\n",
    "\n",
    "2. YouTube: [Intro to Julia](https://www.youtube.com/watch?v=8h8rQyEpiZA&t) (2h28m), by Jane Herriman. \n",
    "\n",
    "3. Cheat sheet: [The Fast Track to Julia](https://juliadocs.github.io/Julia-Cheat-Sheet/).  \n",
    "\n",
    "4. Browse the Julia [documentation](https://docs.julialang.org/en).  \n",
    "\n",
    "5. For R users, read [Noteworthy Differences From R](https://docs.julialang.org/en/v1/manual/noteworthy-differences/#Noteworthy-differences-from-R-1).  \n",
    "\n",
    "    For Python users, read [Noteworthy Differences From Python](https://docs.julialang.org/en/v1/manual/noteworthy-differences/?highlight=matlab#Noteworthy-differences-from-Python-1).  \n",
    "\n",
    "    For Matlab users, read [Noteworthy Differences From Matlab](https://docs.julialang.org/en/v1/manual/noteworthy-differences/#Noteworthy-differences-from-MATLAB-1).  \n",
    "\n",
    "\n",
    "6. The [Learning page](http://julialang.org/learning/) on Julia's website has pointers to many other learning resources.  "
   ]
  },
  {
   "cell_type": "markdown",
   "metadata": {},
   "source": [
    "## Julia REPL (Read-Eval-Print Loop)\n",
    "\n",
    "The `Julia` REPL, or `Julia` shell, has at least five modes.\n",
    "\n",
    "1. **Default mode** is the Julia prompt `julia>`. *Type backspace in other modes* to return to the default mode.    \n",
    "\n",
    "2. **Help mode** `help?>`. Type `?` to enter help mode. `?search_term` does a fuzzy search for `search_term`.  \n",
    "\n",
    "3. **Shell mode** `shell>`. Type `;` to enter shell mode.  \n",
    "\n",
    "4. **Package mode** `(@v1.6) pkg>`. Type `]` to enter package mode for managing Julia packages (install, uninstall, update, ...).\n",
    "\n",
    "5. **Search mode** `(reverse-i-search)`. Press `ctrl+R` to enter search model. \n",
    "\n",
    "6. With `RCall.jl` package installed, we can enter the **R mode** by typing `$` (shift+4) at Julia REPL.\n",
    "\n",
    "Some survival commands in Julia REPL:  \n",
    "1. `quit()` or `Ctrl+D`: exit Julia.\n",
    "\n",
    "2. `Ctrl+C`: interrupt execution.\n",
    "\n",
    "3. `Ctrl+L`: clear screen.\n",
    "\n",
    "0. Append `;` (semi-colon) to suppress displaying output from a command. Same as Matlab.\n",
    "\n",
    "0. `include(\"filename.jl\")` to source a Julia code file."
   ]
  },
  {
   "cell_type": "markdown",
   "metadata": {},
   "source": [
    "## Seek help\n",
    "\n",
    "* Online help from REPL: `?function_name`.\n",
    "\n",
    "* Google (~~Naver~~).\n",
    "\n",
    "* Julia documentation: <https://docs.julialang.org/en/>.\n",
    "\n",
    "* Look up source code: `@edit fun(x)`.\n",
    "\n",
    "* <https://discourse.julialang.org>.\n",
    "\n",
    "* Friends."
   ]
  },
  {
   "cell_type": "markdown",
   "metadata": {},
   "source": [
    "## Some basic Julia code"
   ]
  },
  {
   "cell_type": "code",
   "execution_count": 1,
   "metadata": {
    "ExecuteTime": {
     "end_time": "2021-09-01T14:41:03.077000+09:00",
     "start_time": "2021-09-01T05:41:02.015Z"
    }
   },
   "outputs": [
    {
     "data": {
      "text/plain": [
       "Int64"
      ]
     },
     "execution_count": 1,
     "metadata": {},
     "output_type": "execute_result"
    }
   ],
   "source": [
    "# an integer, same as int in R\n",
    "y = 1\n",
    "typeof(y) "
   ]
  },
  {
   "cell_type": "code",
   "execution_count": 2,
   "metadata": {
    "ExecuteTime": {
     "end_time": "2021-09-01T14:41:05.197000+09:00",
     "start_time": "2021-09-01T05:41:05.195Z"
    }
   },
   "outputs": [
    {
     "data": {
      "text/plain": [
       "Float64"
      ]
     },
     "execution_count": 2,
     "metadata": {},
     "output_type": "execute_result"
    }
   ],
   "source": [
    "# a Float64 number, same as double in R\n",
    "y = 1.0\n",
    "typeof(y) "
   ]
  },
  {
   "cell_type": "code",
   "execution_count": 3,
   "metadata": {
    "ExecuteTime": {
     "end_time": "2021-09-01T14:41:09.708000+09:00",
     "start_time": "2021-09-01T05:41:09.479Z"
    }
   },
   "outputs": [
    {
     "data": {
      "text/plain": [
       "π = 3.1415926535897..."
      ]
     },
     "execution_count": 3,
     "metadata": {},
     "output_type": "execute_result"
    }
   ],
   "source": [
    "# Greek letters:  `\\pi<tab>`\n",
    "π"
   ]
  },
  {
   "cell_type": "code",
   "execution_count": 4,
   "metadata": {},
   "outputs": [
    {
     "data": {
      "text/plain": [
       "Irrational{:π}"
      ]
     },
     "execution_count": 4,
     "metadata": {},
     "output_type": "execute_result"
    }
   ],
   "source": [
    "typeof(π)"
   ]
  },
  {
   "cell_type": "code",
   "execution_count": 5,
   "metadata": {},
   "outputs": [
    {
     "data": {
      "text/plain": [
       "4.141592653589793"
      ]
     },
     "execution_count": 5,
     "metadata": {},
     "output_type": "execute_result"
    }
   ],
   "source": [
    "# Greek letters:  `\\theta<tab>`\n",
    "θ = y + π"
   ]
  },
  {
   "cell_type": "code",
   "execution_count": 6,
   "metadata": {},
   "outputs": [
    {
     "data": {
      "text/plain": [
       "5.0"
      ]
     },
     "execution_count": 6,
     "metadata": {},
     "output_type": "execute_result"
    }
   ],
   "source": [
    "# emoji! `\\:kissing_cat:<tab>`\n",
    "😽 = 5.0"
   ]
  },
  {
   "cell_type": "code",
   "execution_count": 7,
   "metadata": {},
   "outputs": [
    {
     "data": {
      "text/plain": [
       "π = 3.1415926535897..."
      ]
     },
     "execution_count": 7,
     "metadata": {},
     "output_type": "execute_result"
    }
   ],
   "source": [
    "# `\\alpha<tab>\\hat<tab>`\n",
    "α̂ = π"
   ]
  },
  {
   "cell_type": "code",
   "execution_count": 8,
   "metadata": {},
   "outputs": [
    {
     "data": {
      "text/plain": [
       "5-element Vector{Float64}:\n",
       " 0.0\n",
       " 0.0\n",
       " 0.0\n",
       " 0.0\n",
       " 0.0"
      ]
     },
     "execution_count": 8,
     "metadata": {},
     "output_type": "execute_result"
    }
   ],
   "source": [
    "# vector of Float64 0s\n",
    "x = zeros(5)"
   ]
  },
  {
   "cell_type": "code",
   "execution_count": 9,
   "metadata": {},
   "outputs": [
    {
     "data": {
      "text/plain": [
       "5-element Vector{Int64}:\n",
       " 0\n",
       " 0\n",
       " 0\n",
       " 0\n",
       " 0"
      ]
     },
     "execution_count": 9,
     "metadata": {},
     "output_type": "execute_result"
    }
   ],
   "source": [
    "# vector Int64 0s\n",
    "x = zeros(Int, 5)"
   ]
  },
  {
   "cell_type": "code",
   "execution_count": 10,
   "metadata": {},
   "outputs": [
    {
     "data": {
      "text/plain": [
       "5×3 Matrix{Float64}:\n",
       " 0.0  0.0  0.0\n",
       " 0.0  0.0  0.0\n",
       " 0.0  0.0  0.0\n",
       " 0.0  0.0  0.0\n",
       " 0.0  0.0  0.0"
      ]
     },
     "execution_count": 10,
     "metadata": {},
     "output_type": "execute_result"
    }
   ],
   "source": [
    "# matrix of Float64 0s\n",
    "x = zeros(5, 3)"
   ]
  },
  {
   "cell_type": "code",
   "execution_count": 11,
   "metadata": {},
   "outputs": [
    {
     "data": {
      "text/plain": [
       "5×3 Matrix{Float64}:\n",
       " 1.0  1.0  1.0\n",
       " 1.0  1.0  1.0\n",
       " 1.0  1.0  1.0\n",
       " 1.0  1.0  1.0\n",
       " 1.0  1.0  1.0"
      ]
     },
     "execution_count": 11,
     "metadata": {},
     "output_type": "execute_result"
    }
   ],
   "source": [
    "# matrix of Float64 1s\n",
    "x = ones(5, 3)"
   ]
  },
  {
   "cell_type": "code",
   "execution_count": 12,
   "metadata": {},
   "outputs": [
    {
     "data": {
      "text/plain": [
       "5×3 Matrix{Float64}:\n",
       " 2.23823e-314  2.23823e-314  2.23823e-314\n",
       " 2.23823e-314  2.23823e-314  2.23823e-314\n",
       " 2.23823e-314  2.23823e-314  2.23823e-314\n",
       " 2.23823e-314  2.23823e-314  2.23823e-314\n",
       " 2.23823e-314  2.23823e-314  2.23823e-314"
      ]
     },
     "execution_count": 12,
     "metadata": {},
     "output_type": "execute_result"
    }
   ],
   "source": [
    "# define array without initialization\n",
    "x = Matrix{Float64}(undef, 5, 3)"
   ]
  },
  {
   "cell_type": "code",
   "execution_count": 44,
   "metadata": {
    "ExecuteTime": {
     "end_time": "2021-09-01T14:50:29.498000+09:00",
     "start_time": "2021-09-01T05:50:29.495Z"
    }
   },
   "outputs": [
    {
     "data": {
      "text/plain": [
       "5×3 Matrix{Float64}:\n",
       " 2.24636e-314  2.24636e-314  2.18336e-314\n",
       " 2.24636e-314  2.24636e-314  2.24636e-314\n",
       " 2.24636e-314  2.24636e-314  2.18336e-314\n",
       " 2.24636e-314  2.24636e-314  2.18336e-314\n",
       " 2.24636e-314  2.24636e-314  2.18337e-314"
      ]
     },
     "execution_count": 44,
     "metadata": {},
     "output_type": "execute_result"
    }
   ],
   "source": [
    "x = Matrix{Float64}(undef, 5, 3)"
   ]
  },
  {
   "cell_type": "code",
   "execution_count": 45,
   "metadata": {
    "ExecuteTime": {
     "end_time": "2021-09-01T14:50:31.523000+09:00",
     "start_time": "2021-09-01T05:50:31.520Z"
    }
   },
   "outputs": [
    {
     "data": {
      "text/plain": [
       "5×3 Matrix{Float64}:\n",
       " 0.0  0.0  0.0\n",
       " 0.0  0.0  0.0\n",
       " 0.0  0.0  0.0\n",
       " 0.0  0.0  0.0\n",
       " 0.0  0.0  0.0"
      ]
     },
     "execution_count": 45,
     "metadata": {},
     "output_type": "execute_result"
    }
   ],
   "source": [
    "# fill a matrix by 0s\n",
    "fill!(x, 0)"
   ]
  },
  {
   "cell_type": "code",
   "execution_count": 46,
   "metadata": {
    "ExecuteTime": {
     "end_time": "2021-09-01T14:50:32.434000+09:00",
     "start_time": "2021-09-01T05:50:32.432Z"
    }
   },
   "outputs": [
    {
     "data": {
      "text/plain": [
       "5×3 Matrix{Float64}:\n",
       " 0.0  0.0  0.0\n",
       " 0.0  0.0  0.0\n",
       " 0.0  0.0  0.0\n",
       " 0.0  0.0  0.0\n",
       " 0.0  0.0  0.0"
      ]
     },
     "execution_count": 46,
     "metadata": {},
     "output_type": "execute_result"
    }
   ],
   "source": [
    "x"
   ]
  },
  {
   "cell_type": "code",
   "execution_count": 47,
   "metadata": {
    "ExecuteTime": {
     "end_time": "2021-09-01T14:50:35.894000+09:00",
     "start_time": "2021-09-01T05:50:35.885Z"
    }
   },
   "outputs": [
    {
     "data": {
      "text/plain": [
       "5×3 Matrix{Float64}:\n",
       " 2.5  2.5  2.5\n",
       " 2.5  2.5  2.5\n",
       " 2.5  2.5  2.5\n",
       " 2.5  2.5  2.5\n",
       " 2.5  2.5  2.5"
      ]
     },
     "execution_count": 47,
     "metadata": {},
     "output_type": "execute_result"
    }
   ],
   "source": [
    "# initialize an array to be constant 2.5\n",
    "fill(2.5, (5, 3))"
   ]
  },
  {
   "cell_type": "code",
   "execution_count": 50,
   "metadata": {
    "ExecuteTime": {
     "end_time": "2021-09-01T14:51:52.626000+09:00",
     "start_time": "2021-09-01T05:51:52.604Z"
    },
    "scrolled": true
   },
   "outputs": [
    {
     "ename": "LoadError",
     "evalue": "MethodError: no method matching (Matrix{T} where T)(::Float64, ::Tuple{Int64, Int64})\n\u001b[0mClosest candidates are:\n\u001b[0m  (Matrix{T} where T)(\u001b[91m::LinearAlgebra.UniformScaling\u001b[39m, ::Tuple{Int64, Int64}) at /Users/julia/buildbot/worker/package_macos64/build/usr/share/julia/stdlib/v1.6/LinearAlgebra/src/uniformscaling.jl:473",
     "output_type": "error",
     "traceback": [
      "MethodError: no method matching (Matrix{T} where T)(::Float64, ::Tuple{Int64, Int64})\n\u001b[0mClosest candidates are:\n\u001b[0m  (Matrix{T} where T)(\u001b[91m::LinearAlgebra.UniformScaling\u001b[39m, ::Tuple{Int64, Int64}) at /Users/julia/buildbot/worker/package_macos64/build/usr/share/julia/stdlib/v1.6/LinearAlgebra/src/uniformscaling.jl:473",
      "",
      "Stacktrace:",
      " [1] top-level scope",
      "   @ In[50]:1",
      " [2] eval",
      "   @ ./boot.jl:360 [inlined]",
      " [3] include_string(mapexpr::typeof(REPL.softscope), mod::Module, code::String, filename::String)",
      "   @ Base ./loading.jl:1116"
     ]
    }
   ],
   "source": [
    "Matrix(2.5, (5, 3)) # 에러"
   ]
  },
  {
   "cell_type": "code",
   "execution_count": 16,
   "metadata": {},
   "outputs": [
    {
     "data": {
      "text/plain": [
       "3//5"
      ]
     },
     "execution_count": 16,
     "metadata": {},
     "output_type": "execute_result"
    }
   ],
   "source": [
    "# rational number\n",
    "a = 3//5"
   ]
  },
  {
   "cell_type": "code",
   "execution_count": 17,
   "metadata": {},
   "outputs": [
    {
     "data": {
      "text/plain": [
       "Rational{Int64}"
      ]
     },
     "execution_count": 17,
     "metadata": {},
     "output_type": "execute_result"
    }
   ],
   "source": [
    "typeof(a)"
   ]
  },
  {
   "cell_type": "code",
   "execution_count": 18,
   "metadata": {},
   "outputs": [
    {
     "data": {
      "text/plain": [
       "3//7"
      ]
     },
     "execution_count": 18,
     "metadata": {},
     "output_type": "execute_result"
    }
   ],
   "source": [
    "b = 3//7"
   ]
  },
  {
   "cell_type": "code",
   "execution_count": 19,
   "metadata": {},
   "outputs": [
    {
     "data": {
      "text/plain": [
       "36//35"
      ]
     },
     "execution_count": 19,
     "metadata": {},
     "output_type": "execute_result"
    }
   ],
   "source": [
    "a + b"
   ]
  },
  {
   "cell_type": "code",
   "execution_count": 20,
   "metadata": {},
   "outputs": [
    {
     "data": {
      "text/plain": [
       "5×3 Matrix{Float64}:\n",
       " 0.917222  0.492968   0.506997\n",
       " 0.564369  0.705425   0.594361\n",
       " 0.989855  0.254588   0.626454\n",
       " 0.929263  0.384029   0.420757\n",
       " 0.749851  0.0123611  0.110815"
      ]
     },
     "execution_count": 20,
     "metadata": {},
     "output_type": "execute_result"
    }
   ],
   "source": [
    "# uniform [0, 1) random numbers\n",
    "x = rand(5, 3)"
   ]
  },
  {
   "cell_type": "code",
   "execution_count": 21,
   "metadata": {},
   "outputs": [
    {
     "data": {
      "text/plain": [
       "5×3 Matrix{Float16}:\n",
       " 0.575   0.6143  0.672\n",
       " 0.508   0.6143  0.956\n",
       " 0.1787  0.6953  0.5127\n",
       " 0.951   0.4902  0.9736\n",
       " 0.1094  0.294   0.4346"
      ]
     },
     "execution_count": 21,
     "metadata": {},
     "output_type": "execute_result"
    }
   ],
   "source": [
    "# uniform random numbers (in Float16)\n",
    "x = rand(Float16, 5, 3)"
   ]
  },
  {
   "cell_type": "code",
   "execution_count": 22,
   "metadata": {},
   "outputs": [
    {
     "data": {
      "text/plain": [
       "5×3 Matrix{Int64}:\n",
       " 5  4  2\n",
       " 4  1  1\n",
       " 3  4  4\n",
       " 3  2  2\n",
       " 2  5  1"
      ]
     },
     "execution_count": 22,
     "metadata": {},
     "output_type": "execute_result"
    }
   ],
   "source": [
    "# random numbers from {1,...,5}\n",
    "x = rand(1:5, 5, 3)"
   ]
  },
  {
   "cell_type": "code",
   "execution_count": 23,
   "metadata": {},
   "outputs": [
    {
     "data": {
      "text/plain": [
       "5×3 Matrix{Float64}:\n",
       " -1.35588   -2.07941   -0.0943297\n",
       "  1.48426   -2.36824   -0.121338\n",
       " -0.417874  -0.885322   0.794723\n",
       " -0.51738   -0.741182  -0.652738\n",
       "  0.80346    1.51982    0.00194865"
      ]
     },
     "execution_count": 23,
     "metadata": {},
     "output_type": "execute_result"
    }
   ],
   "source": [
    "# standard normal random numbers\n",
    "x = randn(5, 3)"
   ]
  },
  {
   "cell_type": "code",
   "execution_count": 24,
   "metadata": {},
   "outputs": [
    {
     "data": {
      "text/plain": [
       "1:10"
      ]
     },
     "execution_count": 24,
     "metadata": {},
     "output_type": "execute_result"
    }
   ],
   "source": [
    "# range\n",
    "1:10"
   ]
  },
  {
   "cell_type": "code",
   "execution_count": 25,
   "metadata": {},
   "outputs": [
    {
     "data": {
      "text/plain": [
       "UnitRange{Int64}"
      ]
     },
     "execution_count": 25,
     "metadata": {},
     "output_type": "execute_result"
    }
   ],
   "source": [
    "typeof(1:10)"
   ]
  },
  {
   "cell_type": "code",
   "execution_count": 26,
   "metadata": {},
   "outputs": [
    {
     "data": {
      "text/plain": [
       "1:2:9"
      ]
     },
     "execution_count": 26,
     "metadata": {},
     "output_type": "execute_result"
    }
   ],
   "source": [
    "1:2:10"
   ]
  },
  {
   "cell_type": "code",
   "execution_count": 27,
   "metadata": {},
   "outputs": [
    {
     "data": {
      "text/plain": [
       "StepRange{Int64, Int64}"
      ]
     },
     "execution_count": 27,
     "metadata": {},
     "output_type": "execute_result"
    }
   ],
   "source": [
    "typeof(1:2:10)"
   ]
  },
  {
   "cell_type": "code",
   "execution_count": 28,
   "metadata": {},
   "outputs": [
    {
     "data": {
      "text/plain": [
       "10-element Vector{Int64}:\n",
       "  1\n",
       "  2\n",
       "  3\n",
       "  4\n",
       "  5\n",
       "  6\n",
       "  7\n",
       "  8\n",
       "  9\n",
       " 10"
      ]
     },
     "execution_count": 28,
     "metadata": {},
     "output_type": "execute_result"
    }
   ],
   "source": [
    "# integers 1-10\n",
    "x = collect(1:10)"
   ]
  },
  {
   "cell_type": "code",
   "execution_count": 29,
   "metadata": {
    "scrolled": true
   },
   "outputs": [
    {
     "data": {
      "text/plain": [
       "10-element Vector{Int64}:\n",
       "  1\n",
       "  2\n",
       "  3\n",
       "  4\n",
       "  5\n",
       "  6\n",
       "  7\n",
       "  8\n",
       "  9\n",
       " 10"
      ]
     },
     "execution_count": 29,
     "metadata": {},
     "output_type": "execute_result"
    }
   ],
   "source": [
    "# or equivalently\n",
    "[1:10...]"
   ]
  },
  {
   "cell_type": "code",
   "execution_count": 65,
   "metadata": {
    "ExecuteTime": {
     "end_time": "2021-09-01T15:14:12.626000+09:00",
     "start_time": "2021-09-01T06:14:12.624Z"
    }
   },
   "outputs": [
    {
     "ename": "LoadError",
     "evalue": "syntax: \"...\" expression outside call around In[65]:1",
     "output_type": "error",
     "traceback": [
      "syntax: \"...\" expression outside call around In[65]:1",
      "",
      "Stacktrace:",
      " [1] top-level scope",
      "   @ In[65]:1",
      " [2] eval",
      "   @ ./boot.jl:360 [inlined]",
      " [3] include_string(mapexpr::typeof(REPL.softscope), mod::Module, code::String, filename::String)",
      "   @ Base ./loading.jl:1116"
     ]
    }
   ],
   "source": [
    "1:10..."
   ]
  },
  {
   "cell_type": "code",
   "execution_count": 30,
   "metadata": {},
   "outputs": [
    {
     "data": {
      "text/plain": [
       "10-element Vector{Float64}:\n",
       "  1.0\n",
       "  2.0\n",
       "  3.0\n",
       "  4.0\n",
       "  5.0\n",
       "  6.0\n",
       "  7.0\n",
       "  8.0\n",
       "  9.0\n",
       " 10.0"
      ]
     },
     "execution_count": 30,
     "metadata": {},
     "output_type": "execute_result"
    }
   ],
   "source": [
    "# Float64 numbers 1-10\n",
    "x = collect(1.0:10)"
   ]
  },
  {
   "cell_type": "code",
   "execution_count": 31,
   "metadata": {},
   "outputs": [
    {
     "data": {
      "text/plain": [
       "10-element Vector{Float64}:\n",
       "  1.0\n",
       "  2.0\n",
       "  3.0\n",
       "  4.0\n",
       "  5.0\n",
       "  6.0\n",
       "  7.0\n",
       "  8.0\n",
       "  9.0\n",
       " 10.0"
      ]
     },
     "execution_count": 31,
     "metadata": {},
     "output_type": "execute_result"
    }
   ],
   "source": [
    "# convert to a specific type\n",
    "convert(Vector{Float64}, 1:10)"
   ]
  },
  {
   "cell_type": "markdown",
   "metadata": {},
   "source": [
    "## Julia package system\n",
    "\n",
    "* Like R, the functionality of Julia can be extended by using packages.\n",
    "\n",
    "* Each Julia package is a Git repository. Each Julia package name ends with `.jl`. E.g., `Distributions.jl` package lives at <https://github.com/JuliaStats/Distributions.jl>.   \n",
    "Google search with `PackageName.jl` usually leads to the package on github.com. \n",
    "\n",
    "* The package ecosystem is rapidly maturing; a complete list of **registered** packages (which are required to have a certain level of testing and documentation) is at [http://pkg.julialang.org/](http://pkg.julialang.org/).\n",
    "\n",
    "* For example, the package called `Distributions.jl` is added with\n",
    "```julia\n",
    "# in Pkg mode\n",
    "(@v1.6) pkg> add Distributions\n",
    "```\n",
    "and \"removed\" (although not completely deleted) with\n",
    "```julia\n",
    "# in Pkg mode\n",
    "(@v1.6) pkg> rm Distributions\n",
    "```\n",
    "* The package manager provides a dependency solver that determines which packages are actually required to be installed.\n",
    "\n",
    "* **Non-registered** packages are added by cloning the relevant Git repository. E.g.,\n",
    "```julia\n",
    "# in Pkg mode\n",
    "(@v1.6) pkg> add https://github.com/kose-y/ParProx.jl\n",
    "```\n",
    "\n",
    "* A package needs only be added once, at which point it is downloaded into your local `.julia/packages` directory in your home directory. "
   ]
  },
  {
   "cell_type": "markdown",
   "metadata": {},
   "source": [
    "Package dependencies are very important in reproducing results. In Julia they can be managed at each project, with `Project.toml' and 'Manifest.toml' files (see [here](https://bkamins.github.io/julialang/2020/05/10/julia-project-environments.html)). For example, this lecture note is a project whose environment has the following dependencies."
   ]
  },
  {
   "cell_type": "code",
   "execution_count": 72,
   "metadata": {
    "ExecuteTime": {
     "end_time": "2021-09-01T15:30:31.504000+09:00",
     "start_time": "2021-09-01T06:30:31.487Z"
    }
   },
   "outputs": [
    {
     "name": "stderr",
     "output_type": "stream",
     "text": [
      "\u001b[32m\u001b[1m  Activating\u001b[22m\u001b[39m environment at `~/opt/Project.toml`\n"
     ]
    },
    {
     "data": {
      "text/plain": [
       "Dict{Base.UUID, Pkg.Types.PackageInfo} with 64 entries:\n",
       "  UUID(\"c8ffd9c3-330d-5841… => PackageInfo(\"MbedTLS_jll\", nothing, nothing, fal…\n",
       "  UUID(\"8ba89e20-285c-5b6f… => PackageInfo(\"Distributed\", nothing, nothing, fal…\n",
       "  UUID(\"de0858da-6303-5e67… => PackageInfo(\"Printf\", nothing, nothing, false, f…\n",
       "  UUID(\"82ae8749-77ed-4fe6… => PackageInfo(\"StatsAPI\", v\"1.0.0\", \"1958272568dc1…\n",
       "  UUID(\"d360d2e6-b24c-11e9… => PackageInfo(\"ChainRulesCore\", v\"1.3.0\", \"bdc0937…\n",
       "  UUID(\"bac558e1-5e72-5ebc… => PackageInfo(\"OrderedCollections\", v\"1.4.1\", \"85f…\n",
       "  UUID(\"90014a1f-27ba-587c… => PackageInfo(\"PDMats\", v\"0.11.1\", \"4dd403333bcf09…\n",
       "  UUID(\"f43a241f-c20a-4ad4… => PackageInfo(\"Downloads\", nothing, nothing, false…\n",
       "  UUID(\"a2af1166-a08f-5f64… => PackageInfo(\"SortingAlgorithms\", v\"1.0.1\", \"b336…\n",
       "  UUID(\"b27032c2-a3e7-50c8… => PackageInfo(\"LibCURL\", nothing, nothing, false, …\n",
       "  UUID(\"b77e0a4c-d291-57a0… => PackageInfo(\"InteractiveUtils\", nothing, nothing…\n",
       "  UUID(\"1fd47b50-473d-5c70… => PackageInfo(\"QuadGK\", v\"2.4.1\", \"12fbe86da16df66…\n",
       "  UUID(\"56f22d72-fd6d-98f1… => PackageInfo(\"Artifacts\", nothing, nothing, false…\n",
       "  UUID(\"44cfe95a-1eb2-52ea… => PackageInfo(\"Pkg\", nothing, nothing, false, fals…\n",
       "  UUID(\"8f399da3-3557-5675… => PackageInfo(\"Libdl\", nothing, nothing, false, fa…\n",
       "  UUID(\"efe28fd5-8261-553b… => PackageInfo(\"OpenSpecFun_jll\", v\"0.5.5+0\", \"1365…\n",
       "  UUID(\"ea8e919c-243c-51af… => PackageInfo(\"SHA\", nothing, nothing, false, fals…\n",
       "  UUID(\"8e850ede-7688-5339… => PackageInfo(\"nghttp2_jll\", nothing, nothing, fal…\n",
       "  UUID(\"92d709cd-6900-40b7… => PackageInfo(\"IrrationalConstants\", v\"0.1.0\", \"f7…\n",
       "  UUID(\"1a1011a3-84de-559e… => PackageInfo(\"SharedArrays\", nothing, nothing, fa…\n",
       "  UUID(\"a4e569a6-e804-4fa4… => PackageInfo(\"Tar\", nothing, nothing, false, fals…\n",
       "  UUID(\"4607b0f0-06f3-5cda… => PackageInfo(\"SuiteSparse\", nothing, nothing, fal…\n",
       "  UUID(\"56ddb016-857b-54e1… => PackageInfo(\"Logging\", nothing, nothing, false, …\n",
       "  UUID(\"9e88b42a-f829-5b0c… => PackageInfo(\"Serialization\", nothing, nothing, f…\n",
       "  UUID(\"37e2e46d-f89d-539d… => PackageInfo(\"LinearAlgebra\", nothing, nothing, f…\n",
       "  ⋮                         => ⋮"
      ]
     },
     "execution_count": 72,
     "metadata": {},
     "output_type": "execute_result"
    }
   ],
   "source": [
    "using Pkg\n",
    "Pkg.activate(\"../..\")   # root directory of this project\n",
    "Pkg.dependencies()"
   ]
  },
  {
   "cell_type": "markdown",
   "metadata": {},
   "source": [
    "* Directory of a specific package can be queried by `pathof()`:"
   ]
  },
  {
   "cell_type": "code",
   "execution_count": 73,
   "metadata": {
    "ExecuteTime": {
     "end_time": "2021-09-01T16:03:51.811000+09:00",
     "start_time": "2021-09-01T07:03:51.183Z"
    }
   },
   "outputs": [
    {
     "name": "stderr",
     "output_type": "stream",
     "text": [
      "\u001b[32m\u001b[1m   Resolving\u001b[22m\u001b[39m package versions...\n",
      "\u001b[32m\u001b[1m  No Changes\u001b[22m\u001b[39m to `~/opt/Project.toml`\n",
      "\u001b[32m\u001b[1m  No Changes\u001b[22m\u001b[39m to `~/opt/Manifest.toml`\n"
     ]
    },
    {
     "data": {
      "text/plain": [
       "\"/Users/user5/.julia/packages/Distributions/XCZG8/src/Distributions.jl\""
      ]
     },
     "execution_count": 73,
     "metadata": {},
     "output_type": "execute_result"
    }
   ],
   "source": [
    "Pkg.add(\"Distributions\") #install.packages in R\n",
    "using Distributions\n",
    "\n",
    "pathof(Distributions)  # should look different in your machine"
   ]
  },
  {
   "cell_type": "markdown",
   "metadata": {},
   "source": [
    "* If you start having problems with packages that seem to be unsolvable, you may try just deleting your .julia directory and reinstalling all your packages. \n",
    "\n",
    "* Periodically, one should run `update` in Pkg mode, which checks for, downloads and installs updated versions of all the packages you currently have installed.\n",
    "\n",
    "* `status` lists the status of all installed packages.\n",
    "\n",
    "* Using functions in package.\n",
    "```julia\n",
    "using Distributions\n",
    "```\n",
    "This pulls all of the *exported* functions in the module into your local namespace, as you can check using the `whos()` command. An alternative is\n",
    "```julia\n",
    "import Distributions\n",
    "```\n",
    "Now, the functions from the Distributions package are available only using \n",
    "```julia\n",
    "Distributions.<FUNNAME>\n",
    "```\n",
    "All functions, not only exported functions, are always available like this."
   ]
  },
  {
   "cell_type": "markdown",
   "metadata": {},
   "source": [
    "## Calling R from Julia\n",
    "\n",
    "* The [`RCall.jl`](https://github.com/JuliaInterop/RCall.jl) package allows us to embed R code inside of Julia.\n",
    "\n",
    "* There are also `PyCall.jl`, `MATLAB.jl`, `JavaCall.jl`, `CxxWrap.jl` packages for interfacing with other languages."
   ]
  },
  {
   "cell_type": "code",
   "execution_count": 75,
   "metadata": {
    "ExecuteTime": {
     "end_time": "2021-09-01T16:04:53.543000+09:00",
     "start_time": "2021-09-01T07:04:23.310Z"
    }
   },
   "outputs": [
    {
     "name": "stderr",
     "output_type": "stream",
     "text": [
      "\u001b[32m\u001b[1m   Resolving\u001b[22m\u001b[39m package versions...\n",
      "\u001b[32m\u001b[1m   Installed\u001b[22m\u001b[39m InvertedIndices ───────────── v1.0.0\n",
      "\u001b[32m\u001b[1m   Installed\u001b[22m\u001b[39m WinReg ────────────────────── v0.3.1\n",
      "\u001b[32m\u001b[1m   Installed\u001b[22m\u001b[39m IteratorInterfaceExtensions ─ v1.0.0\n",
      "\u001b[32m\u001b[1m   Installed\u001b[22m\u001b[39m DataValueInterfaces ───────── v1.0.0\n",
      "\u001b[32m\u001b[1m   Installed\u001b[22m\u001b[39m Formatting ────────────────── v0.4.2\n",
      "\u001b[32m\u001b[1m   Installed\u001b[22m\u001b[39m StructTypes ───────────────── v1.7.3\n",
      "\u001b[32m\u001b[1m   Installed\u001b[22m\u001b[39m Requires ──────────────────── v1.1.3\n",
      "\u001b[32m\u001b[1m   Installed\u001b[22m\u001b[39m RCall ─────────────────────── v0.13.12\n",
      "\u001b[32m\u001b[1m   Installed\u001b[22m\u001b[39m PooledArrays ──────────────── v1.2.1\n",
      "\u001b[32m\u001b[1m   Installed\u001b[22m\u001b[39m ShiftedArrays ─────────────── v1.0.0\n",
      "\u001b[32m\u001b[1m   Installed\u001b[22m\u001b[39m Crayons ───────────────────── v4.0.4\n",
      "\u001b[32m\u001b[1m   Installed\u001b[22m\u001b[39m Tables ────────────────────── v1.5.0\n",
      "\u001b[32m\u001b[1m   Installed\u001b[22m\u001b[39m RecipesBase ───────────────── v1.1.2\n",
      "\u001b[32m\u001b[1m   Installed\u001b[22m\u001b[39m StatsModels ───────────────── v0.6.25\n",
      "\u001b[32m\u001b[1m   Installed\u001b[22m\u001b[39m DataFrames ────────────────── v1.2.2\n",
      "\u001b[32m\u001b[1m   Installed\u001b[22m\u001b[39m TableTraits ───────────────── v1.0.1\n",
      "\u001b[32m\u001b[1m   Installed\u001b[22m\u001b[39m CategoricalArrays ─────────── v0.10.0\n",
      "\u001b[32m\u001b[1m   Installed\u001b[22m\u001b[39m PrettyTables ──────────────── v1.1.0\n",
      "\u001b[32m\u001b[1m    Updating\u001b[22m\u001b[39m `~/opt/Project.toml`\n",
      " \u001b[90m [6f49c342] \u001b[39m\u001b[92m+ RCall v0.13.12\u001b[39m\n",
      "\u001b[32m\u001b[1m    Updating\u001b[22m\u001b[39m `~/opt/Manifest.toml`\n",
      " \u001b[90m [324d7699] \u001b[39m\u001b[92m+ CategoricalArrays v0.10.0\u001b[39m\n",
      " \u001b[90m [8f4d0f93] \u001b[39m\u001b[92m+ Conda v1.5.2\u001b[39m\n",
      " \u001b[90m [a8cc5b0e] \u001b[39m\u001b[92m+ Crayons v4.0.4\u001b[39m\n",
      " \u001b[90m [a93c6f00] \u001b[39m\u001b[92m+ DataFrames v1.2.2\u001b[39m\n",
      " \u001b[90m [e2d170a0] \u001b[39m\u001b[92m+ DataValueInterfaces v1.0.0\u001b[39m\n",
      " \u001b[90m [59287772] \u001b[39m\u001b[92m+ Formatting v0.4.2\u001b[39m\n",
      " \u001b[90m [41ab1584] \u001b[39m\u001b[92m+ InvertedIndices v1.0.0\u001b[39m\n",
      " \u001b[90m [82899510] \u001b[39m\u001b[92m+ IteratorInterfaceExtensions v1.0.0\u001b[39m\n",
      " \u001b[90m [682c06a0] \u001b[39m\u001b[92m+ JSON v0.21.2\u001b[39m\n",
      " \u001b[90m [69de0a69] \u001b[39m\u001b[92m+ Parsers v2.0.3\u001b[39m\n",
      " \u001b[90m [2dfb63ee] \u001b[39m\u001b[92m+ PooledArrays v1.2.1\u001b[39m\n",
      " \u001b[90m [08abe8d2] \u001b[39m\u001b[92m+ PrettyTables v1.1.0\u001b[39m\n",
      " \u001b[90m [6f49c342] \u001b[39m\u001b[92m+ RCall v0.13.12\u001b[39m\n",
      " \u001b[90m [3cdcf5f2] \u001b[39m\u001b[92m+ RecipesBase v1.1.2\u001b[39m\n",
      " \u001b[90m [ae029012] \u001b[39m\u001b[92m+ Requires v1.1.3\u001b[39m\n",
      " \u001b[90m [1277b4bf] \u001b[39m\u001b[92m+ ShiftedArrays v1.0.0\u001b[39m\n",
      " \u001b[90m [3eaba693] \u001b[39m\u001b[92m+ StatsModels v0.6.25\u001b[39m\n",
      " \u001b[90m [856f2bd8] \u001b[39m\u001b[92m+ StructTypes v1.7.3\u001b[39m\n",
      " \u001b[90m [3783bdb8] \u001b[39m\u001b[92m+ TableTraits v1.0.1\u001b[39m\n",
      " \u001b[90m [bd369af6] \u001b[39m\u001b[92m+ Tables v1.5.0\u001b[39m\n",
      " \u001b[90m [81def892] \u001b[39m\u001b[92m+ VersionParsing v1.2.0\u001b[39m\n",
      " \u001b[90m [1b915085] \u001b[39m\u001b[92m+ WinReg v0.3.1\u001b[39m\n",
      " \u001b[90m [9fa8497b] \u001b[39m\u001b[92m+ Future\u001b[39m\n",
      "\u001b[32m\u001b[1m    Building\u001b[22m\u001b[39m RCall → `~/.julia/scratchspaces/44cfe95a-1eb2-52ea-b672-e2afdf69b78f/80a056277142a340e646beea0e213f9aecb99caa/build.log`\n",
      "\u001b[32m\u001b[1mPrecompiling\u001b[22m\u001b[39m project...\n",
      "\u001b[32m  ✓ \u001b[39m\u001b[90mRequires\u001b[39m\n",
      "\u001b[32m  ✓ \u001b[39m\u001b[90mShiftedArrays\u001b[39m\n",
      "\u001b[32m  ✓ \u001b[39m\u001b[90mDataValueInterfaces\u001b[39m\n",
      "\u001b[32m  ✓ \u001b[39m\u001b[90mIteratorInterfaceExtensions\u001b[39m\n",
      "\u001b[32m  ✓ \u001b[39m\u001b[90mPooledArrays\u001b[39m\n",
      "\u001b[32m  ✓ \u001b[39m\u001b[90mFormatting\u001b[39m\n",
      "\u001b[32m  ✓ \u001b[39m\u001b[90mWinReg\u001b[39m\n",
      "\u001b[32m  ✓ \u001b[39m\u001b[90mInvertedIndices\u001b[39m\n",
      "\u001b[32m  ✓ \u001b[39m\u001b[90mTableTraits\u001b[39m\n",
      "\u001b[32m  ✓ \u001b[39m\u001b[90mRecipesBase\u001b[39m\n",
      "\u001b[32m  ✓ \u001b[39m\u001b[90mStructTypes\u001b[39m\n",
      "\u001b[32m  ✓ \u001b[39m\u001b[90mCrayons\u001b[39m\n",
      "\u001b[32m  ✓ \u001b[39m\u001b[90mTables\u001b[39m\n",
      "\u001b[32m  ✓ \u001b[39m\u001b[90mCategoricalArrays\u001b[39m\n",
      "\u001b[32m  ✓ \u001b[39m\u001b[90mStatsModels\u001b[39m\n",
      "\u001b[32m  ✓ \u001b[39m\u001b[90mPrettyTables\u001b[39m\n",
      "\u001b[32m  ✓ \u001b[39m\u001b[90mDataFrames\u001b[39m\n"
     ]
    },
    {
     "data": {
      "image/png": "[encoded data removed]"
     },
     "metadata": {},
     "output_type": "display_data"
    },
    {
     "name": "stderr",
     "output_type": "stream",
     "text": [
      "\u001b[32m  ✓ \u001b[39mRCall\n",
      "  18 dependencies successfully precompiled in 22 seconds (32 already precompiled)\n"
     ]
    },
    {
     "data": {
      "text/plain": [
       "RObject{VecSxp}\n",
       "$breaks\n",
       " [1] -3.5 -3.0 -2.5 -2.0 -1.5 -1.0 -0.5  0.0  0.5  1.0  1.5  2.0  2.5  3.0  3.5\n",
       "[16]  4.0\n",
       "\n",
       "$counts\n",
       " [1]   1   6  19  45  99 157 176 179 145  94  59  12   4   3   1\n",
       "\n",
       "$density\n",
       " [1] 0.002 0.012 0.038 0.090 0.198 0.314 0.352 0.358 0.290 0.188 0.118 0.024\n",
       "[13] 0.008 0.006 0.002\n",
       "\n",
       "$mids\n",
       " [1] -3.25 -2.75 -2.25 -1.75 -1.25 -0.75 -0.25  0.25  0.75  1.25  1.75  2.25\n",
       "[13]  2.75  3.25  3.75\n",
       "\n",
       "$xname\n",
       "[1] \"`#JL`$x\"\n",
       "\n",
       "$equidist\n",
       "[1] TRUE\n",
       "\n",
       "attr(,\"class\")\n",
       "[1] \"histogram\"\n"
      ]
     },
     "execution_count": 75,
     "metadata": {},
     "output_type": "execute_result"
    }
   ],
   "source": [
    "#Pkg.add(\"RCall\")\n",
    "using RCall\n",
    "\n",
    "x = randn(1000)\n",
    "R\"\"\"\n",
    "hist($x, main=\"I'm plotting a Julia vector\")\n",
    "\"\"\""
   ]
  },
  {
   "cell_type": "code",
   "execution_count": 76,
   "metadata": {
    "ExecuteTime": {
     "end_time": "2021-09-01T16:06:59.487000+09:00",
     "start_time": "2021-09-01T07:06:58.180Z"
    }
   },
   "outputs": [
    {
     "data": {
      "image/png": "[encoded data removed]"
     },
     "metadata": {},
     "output_type": "display_data"
    },
    {
     "data": {
      "text/plain": [
       "RObject{VecSxp}\n"
      ]
     },
     "execution_count": 76,
     "metadata": {},
     "output_type": "execute_result"
    },
    {
     "name": "stderr",
     "output_type": "stream",
     "text": [
      "┌ Warning: RCall.jl: `stat_bin()` using `bins = 30`. Pick better value with `binwidth`.\n",
      "└ @ RCall /Users/user5/.julia/packages/RCall/iMDW2/src/io.jl:160\n"
     ]
    }
   ],
   "source": [
    "R\"\"\"\n",
    "library(ggplot2)\n",
    "qplot($x)\n",
    "\"\"\""
   ]
  },
  {
   "cell_type": "code",
   "execution_count": 89,
   "metadata": {
    "ExecuteTime": {
     "end_time": "2021-09-01T16:11:24.376000+09:00",
     "start_time": "2021-09-01T07:11:24.374Z"
    }
   },
   "outputs": [
    {
     "data": {
      "text/plain": [
       "10-element Vector{Int64}:\n",
       "  4\n",
       "  5\n",
       "  6\n",
       "  7\n",
       "  8\n",
       "  9\n",
       " 10\n",
       " 11\n",
       " 12\n",
       " 13"
      ]
     },
     "execution_count": 89,
     "metadata": {},
     "output_type": "execute_result"
    }
   ],
   "source": [
    "x = collect(1:10) .+ 3"
   ]
  },
  {
   "cell_type": "code",
   "execution_count": 90,
   "metadata": {
    "ExecuteTime": {
     "end_time": "2021-09-01T16:11:25.851000+09:00",
     "start_time": "2021-09-01T07:11:25.849Z"
    }
   },
   "outputs": [
    {
     "data": {
      "text/plain": [
       "RObject{RealSxp}\n",
       " [1] -0.007577815  0.591417369  0.221127526  0.438524975 -1.726966602\n",
       " [6]  0.817884586  0.126474911  0.767055280  0.208532389 -0.413783541\n"
      ]
     },
     "execution_count": 90,
     "metadata": {},
     "output_type": "execute_result"
    }
   ],
   "source": [
    "x = R\"\"\"\n",
    "rnorm(10)\n",
    "\"\"\""
   ]
  },
  {
   "cell_type": "code",
   "execution_count": 91,
   "metadata": {
    "ExecuteTime": {
     "end_time": "2021-09-01T16:11:34.543000+09:00",
     "start_time": "2021-09-01T07:11:34.114Z"
    }
   },
   "outputs": [
    {
     "data": {
      "text/plain": [
       "10-element Vector{Float64}:\n",
       " -0.007577815204111532\n",
       "  0.5914173690882292\n",
       "  0.22112752626228038\n",
       "  0.43852497487916253\n",
       " -1.7269666023865866\n",
       "  0.8178845860185008\n",
       "  0.12647491088805685\n",
       "  0.7670552798999695\n",
       "  0.20853238896980542\n",
       " -0.41378354075882234"
      ]
     },
     "execution_count": 91,
     "metadata": {},
     "output_type": "execute_result"
    }
   ],
   "source": [
    "# collect R variable into Julia workspace\n",
    "y = collect(x)"
   ]
  },
  {
   "cell_type": "markdown",
   "metadata": {},
   "source": [
    "* Access Julia variables in R REPL mode:\n",
    "```julia\n",
    "julia> x = rand(5) # Julia variable\n",
    "R> y <- $x\n",
    "```\n",
    "\n",
    "* Pass Julia expression in R REPL mode:\n",
    "```julia\n",
    "R> y <- $(rand(5))\n",
    "```\n",
    "\n",
    "* Put Julia variable into R environment:\n",
    "```julia\n",
    "julia> @rput x\n",
    "R> x\n",
    "```\n",
    "\n",
    "* Get R variable into Julia environment:\n",
    "```julia\n",
    "R> r <- 2\n",
    "Julia> @rget r\n",
    "```\n",
    "\n",
    "* If you want to call Julia within R, check out the [`XRJulia`](https://cran.r-project.org/web/packages/XRJulia/) package by John Chambers."
   ]
  },
  {
   "cell_type": "markdown",
   "metadata": {},
   "source": [
    "## Timing and benchmark"
   ]
  },
  {
   "cell_type": "markdown",
   "metadata": {},
   "source": [
    "### Julia\n",
    "\n",
    "`@time`, `@elapsed`, `@allocated` macros:"
   ]
  },
  {
   "cell_type": "code",
   "execution_count": 2,
   "metadata": {
    "ExecuteTime": {
     "end_time": "2021-09-24T16:50:47.718000+09:00",
     "start_time": "2021-09-24T07:50:46.258Z"
    }
   },
   "outputs": [
    {
     "name": "stdout",
     "output_type": "stream",
     "text": [
      "  0.021561 seconds (78.93 k allocations: 4.693 MiB, 97.75% compilation time)\n"
     ]
    },
    {
     "data": {
      "text/plain": [
       "500060.34072352527"
      ]
     },
     "execution_count": 2,
     "metadata": {},
     "output_type": "execute_result"
    }
   ],
   "source": [
    "using Random # standard library\n",
    "Random.seed!(123) # seed\n",
    "x = rand(1_000_000) # 1 million random numbers in [0, 1)\n",
    "\n",
    "@time sum(x) # first run includes compilation time"
   ]
  },
  {
   "cell_type": "code",
   "execution_count": 117,
   "metadata": {
    "ExecuteTime": {
     "end_time": "2021-09-01T16:16:40.971000+09:00",
     "start_time": "2021-09-01T07:16:40.962Z"
    }
   },
   "outputs": [
    {
     "name": "stdout",
     "output_type": "stream",
     "text": [
      "  0.000400 seconds (1 allocation: 16 bytes)\n"
     ]
    },
    {
     "data": {
      "text/plain": [
       "500060.34072352527"
      ]
     },
     "execution_count": 117,
     "metadata": {},
     "output_type": "execute_result"
    }
   ],
   "source": [
    "@time sum(x) # no compilation time after first run"
   ]
  },
  {
   "cell_type": "code",
   "execution_count": 118,
   "metadata": {
    "ExecuteTime": {
     "end_time": "2021-09-01T16:16:43.523000+09:00",
     "start_time": "2021-09-01T07:16:43.516Z"
    }
   },
   "outputs": [
    {
     "data": {
      "text/plain": [
       "0.000401394"
      ]
     },
     "execution_count": 118,
     "metadata": {},
     "output_type": "execute_result"
    }
   ],
   "source": [
    "# just the runtime\n",
    "@elapsed sum(x)"
   ]
  },
  {
   "cell_type": "code",
   "execution_count": 119,
   "metadata": {
    "ExecuteTime": {
     "end_time": "2021-09-01T16:16:46.965000+09:00",
     "start_time": "2021-09-01T07:16:46.936Z"
    }
   },
   "outputs": [
    {
     "data": {
      "text/plain": [
       "16"
      ]
     },
     "execution_count": 119,
     "metadata": {},
     "output_type": "execute_result"
    }
   ],
   "source": [
    "# just the allocation\n",
    "@allocated sum(x)"
   ]
  },
  {
   "cell_type": "markdown",
   "metadata": {},
   "source": [
    "Use package `BenchmarkTools.jl` for more robust benchmarking. Analog of `microbenchmark` package in R."
   ]
  },
  {
   "cell_type": "code",
   "execution_count": 123,
   "metadata": {
    "ExecuteTime": {
     "end_time": "2021-09-01T16:19:28.149000+09:00",
     "start_time": "2021-09-01T07:19:21.146Z"
    }
   },
   "outputs": [
    {
     "data": {
      "text/plain": [
       "BenchmarkTools.Trial: 10000 samples with 1 evaluation.\n",
       " Range \u001b[90m(\u001b[39m\u001b[36m\u001b[1mmin\u001b[22m\u001b[39m … \u001b[35mmax\u001b[39m\u001b[90m):  \u001b[39m\u001b[36m\u001b[1m127.609 μs\u001b[22m\u001b[39m … \u001b[35m410.106 μs\u001b[39m  \u001b[90m┊\u001b[39m GC \u001b[90m(\u001b[39mmin … max\u001b[90m): \u001b[39m0.00% … 0.00%\n",
       " Time  \u001b[90m(\u001b[39m\u001b[34m\u001b[1mmedian\u001b[22m\u001b[39m\u001b[90m):     \u001b[39m\u001b[34m\u001b[1m129.073 μs               \u001b[22m\u001b[39m\u001b[90m┊\u001b[39m GC \u001b[90m(\u001b[39mmedian\u001b[90m):    \u001b[39m0.00%\n",
       " Time  \u001b[90m(\u001b[39m\u001b[32m\u001b[1mmean\u001b[22m\u001b[39m ± \u001b[32mσ\u001b[39m\u001b[90m):   \u001b[39m\u001b[32m\u001b[1m131.173 μs\u001b[22m\u001b[39m ± \u001b[32m 12.283 μs\u001b[39m  \u001b[90m┊\u001b[39m GC \u001b[90m(\u001b[39mmean ± σ\u001b[90m):  \u001b[39m0.00% ± 0.00%\n",
       "\n",
       "  \u001b[39m▅\u001b[34m█\u001b[39m\u001b[39m▃\u001b[32m▁\u001b[39m\u001b[39m \u001b[39m \u001b[39m \u001b[39m \u001b[39m \u001b[39m \u001b[39m \u001b[39m \u001b[39m \u001b[39m \u001b[39m \u001b[39m \u001b[39m \u001b[39m \u001b[39m \u001b[39m \u001b[39m \u001b[39m \u001b[39m \u001b[39m \u001b[39m \u001b[39m \u001b[39m \u001b[39m \u001b[39m \u001b[39m \u001b[39m \u001b[39m \u001b[39m \u001b[39m \u001b[39m \u001b[39m \u001b[39m \u001b[39m \u001b[39m \u001b[39m \u001b[39m \u001b[39m \u001b[39m \u001b[39m \u001b[39m \u001b[39m \u001b[39m \u001b[39m \u001b[39m \u001b[39m \u001b[39m \u001b[39m \u001b[39m \u001b[39m \u001b[39m \u001b[39m \u001b[39m \u001b[39m \u001b[39m \u001b[39m \u001b[39m \u001b[39m \u001b[39m▁\n",
       "  \u001b[39m█\u001b[34m█\u001b[39m\u001b[39m█\u001b[32m█\u001b[39m\u001b[39m▆\u001b[39m▅\u001b[39m▅\u001b[39m▅\u001b[39m▃\u001b[39m▃\u001b[39m▄\u001b[39m▁\u001b[39m▄\u001b[39m▁\u001b[39m▆\u001b[39m█\u001b[39m▇\u001b[39m█\u001b[39m▅\u001b[39m▁\u001b[39m▃\u001b[39m▁\u001b[39m▃\u001b[39m▁\u001b[39m▃\u001b[39m▃\u001b[39m▃\u001b[39m▁\u001b[39m▆\u001b[39m▇\u001b[39m█\u001b[39m█\u001b[39m▅\u001b[39m▅\u001b[39m▃\u001b[39m▁\u001b[39m▄\u001b[39m▁\u001b[39m▄\u001b[39m▁\u001b[39m▃\u001b[39m▁\u001b[39m▁\u001b[39m▁\u001b[39m▅\u001b[39m▅\u001b[39m▆\u001b[39m▆\u001b[39m▅\u001b[39m▅\u001b[39m▄\u001b[39m▄\u001b[39m▁\u001b[39m▃\u001b[39m▁\u001b[39m▃\u001b[39m▃\u001b[39m▁\u001b[39m▃\u001b[39m▅\u001b[39m▆\u001b[39m \u001b[39m█\n",
       "  128 μs\u001b[90m        \u001b[39m\u001b[90mHistogram: \u001b[39m\u001b[90m\u001b[1mlog(\u001b[22m\u001b[39m\u001b[90mfrequency\u001b[39m\u001b[90m\u001b[1m)\u001b[22m\u001b[39m\u001b[90m by time\u001b[39m        192 μs \u001b[0m\u001b[1m<\u001b[22m\n",
       "\n",
       " Memory estimate\u001b[90m: \u001b[39m\u001b[33m0 bytes\u001b[39m, allocs estimate\u001b[90m: \u001b[39m\u001b[33m0\u001b[39m."
      ]
     },
     "execution_count": 123,
     "metadata": {},
     "output_type": "execute_result"
    }
   ],
   "source": [
    "#Pkg.add(\"BenchmarkTools\")\n",
    "using BenchmarkTools\n",
    "\n",
    "bm = @benchmark sum($x)  # '$' to avoid problems with globals"
   ]
  },
  {
   "cell_type": "code",
   "execution_count": 124,
   "metadata": {
    "ExecuteTime": {
     "end_time": "2021-09-01T16:19:33.917000+09:00",
     "start_time": "2021-09-01T07:19:33.915Z"
    }
   },
   "outputs": [
    {
     "data": {
      "text/plain": [
       "0.1290735"
      ]
     },
     "execution_count": 124,
     "metadata": {},
     "output_type": "execute_result"
    }
   ],
   "source": [
    "#Pkg.add(\"Statistics\")\n",
    "using Statistics # standard library\n",
    "benchmark_result = Dict() # a dictionary to store median runtime (in milliseconds)\n",
    "benchmark_result[\"Julia builtin\"] = median(bm.times) / 1e6"
   ]
  },
  {
   "cell_type": "markdown",
   "metadata": {},
   "source": [
    "### C\n",
    "\n",
    "We would use the low-level C code as the baseline for copmarison. In Julia, we can easily run compiled C code using the `ccall` function. This is similar to `.C` in R."
   ]
  },
  {
   "cell_type": "code",
   "execution_count": 44,
   "metadata": {},
   "outputs": [
    {
     "data": {
      "text/plain": [
       "c_sum (generic function with 1 method)"
      ]
     },
     "execution_count": 44,
     "metadata": {},
     "output_type": "execute_result"
    }
   ],
   "source": [
    "using Libdl\n",
    "\n",
    "C_code = \"\"\"\n",
    "#include <stddef.h>\n",
    "double c_sum(size_t n, double *X) {\n",
    "    double s = 0.0;\n",
    "    for (size_t i = 0; i < n; ++i) {\n",
    "        s += X[i];\n",
    "    }\n",
    "    return s;\n",
    "}\n",
    "\"\"\"\n",
    "\n",
    "const Clib = tempname()   # make a temporary file\n",
    "\n",
    "# compile to a shared library by piping C_code to gcc\n",
    "# (works only if you have gcc installed):\n",
    "\n",
    "open(`gcc -std=c99 -fPIC -O3 -msse3 -xc -shared -o $(Clib * \".\" * Libdl.dlext) -`, \"w\") do f\n",
    "    print(f, C_code) \n",
    "end\n",
    "\n",
    "# define a Julia function that calls the C function:\n",
    "c_sum(X::Array{Float64}) = ccall((\"c_sum\", Clib), Float64, (Csize_t, Ptr{Float64}), length(X), X)"
   ]
  },
  {
   "cell_type": "code",
   "execution_count": 45,
   "metadata": {},
   "outputs": [
    {
     "data": {
      "text/plain": [
       "500060.340723512"
      ]
     },
     "execution_count": 45,
     "metadata": {},
     "output_type": "execute_result"
    }
   ],
   "source": [
    "# make sure it gives same answer\n",
    "c_sum(x)"
   ]
  },
  {
   "cell_type": "code",
   "execution_count": 46,
   "metadata": {},
   "outputs": [
    {
     "data": {
      "text/plain": [
       "BenchmarkTools.Trial: 3560 samples with 1 evaluation.\n",
       " Range \u001b[90m(\u001b[39m\u001b[36m\u001b[1mmin\u001b[22m\u001b[39m … \u001b[35mmax\u001b[39m\u001b[90m):  \u001b[39m\u001b[36m\u001b[1m1.009 ms\u001b[22m\u001b[39m … \u001b[35m  1.989 ms\u001b[39m  \u001b[90m┊\u001b[39m GC \u001b[90m(\u001b[39mmin … max\u001b[90m): \u001b[39m0.00% … 0.00%\n",
       " Time  \u001b[90m(\u001b[39m\u001b[34m\u001b[1mmedian\u001b[22m\u001b[39m\u001b[90m):     \u001b[39m\u001b[34m\u001b[1m1.390 ms               \u001b[22m\u001b[39m\u001b[90m┊\u001b[39m GC \u001b[90m(\u001b[39mmedian\u001b[90m):    \u001b[39m0.00%\n",
       " Time  \u001b[90m(\u001b[39m\u001b[32m\u001b[1mmean\u001b[22m\u001b[39m ± \u001b[32mσ\u001b[39m\u001b[90m):   \u001b[39m\u001b[32m\u001b[1m1.393 ms\u001b[22m\u001b[39m ± \u001b[32m169.572 μs\u001b[39m  \u001b[90m┊\u001b[39m GC \u001b[90m(\u001b[39mmean ± σ\u001b[90m):  \u001b[39m0.00% ± 0.00%\n",
       "\n",
       "  \u001b[39m \u001b[39m \u001b[39m \u001b[39m \u001b[39m \u001b[39m \u001b[39m \u001b[39m \u001b[39m \u001b[39m \u001b[39m \u001b[39m \u001b[39m \u001b[39m \u001b[39m \u001b[39m \u001b[39m \u001b[39m \u001b[39m \u001b[39m \u001b[39m \u001b[39m \u001b[39m \u001b[39m \u001b[39m \u001b[39m \u001b[39m \u001b[39m▁\u001b[39m█\u001b[39m▆\u001b[34m▅\u001b[39m\u001b[32m \u001b[39m\u001b[39m \u001b[39m \u001b[39m \u001b[39m \u001b[39m \u001b[39m \u001b[39m \u001b[39m \u001b[39m▃\u001b[39m▃\u001b[39m▄\u001b[39m▆\u001b[39m▂\u001b[39m \u001b[39m \u001b[39m \u001b[39m \u001b[39m \u001b[39m \u001b[39m \u001b[39m \u001b[39m \u001b[39m \u001b[39m \u001b[39m \u001b[39m \u001b[39m \u001b[39m \u001b[39m \n",
       "  \u001b[39m▁\u001b[39m▁\u001b[39m▂\u001b[39m▄\u001b[39m▄\u001b[39m▅\u001b[39m▅\u001b[39m▅\u001b[39m▅\u001b[39m▄\u001b[39m▅\u001b[39m▄\u001b[39m▄\u001b[39m▆\u001b[39m▄\u001b[39m▅\u001b[39m▃\u001b[39m▄\u001b[39m▅\u001b[39m▅\u001b[39m▄\u001b[39m▄\u001b[39m▄\u001b[39m▅\u001b[39m▅\u001b[39m▆\u001b[39m█\u001b[39m█\u001b[39m█\u001b[39m█\u001b[34m█\u001b[39m\u001b[32m█\u001b[39m\u001b[39m▅\u001b[39m▆\u001b[39m▅\u001b[39m▅\u001b[39m▅\u001b[39m▄\u001b[39m▆\u001b[39m█\u001b[39m█\u001b[39m█\u001b[39m█\u001b[39m█\u001b[39m█\u001b[39m▇\u001b[39m▅\u001b[39m▅\u001b[39m▅\u001b[39m▄\u001b[39m▃\u001b[39m▄\u001b[39m▂\u001b[39m▂\u001b[39m▂\u001b[39m▁\u001b[39m▁\u001b[39m▂\u001b[39m▁\u001b[39m \u001b[39m▄\n",
       "  1.01 ms\u001b[90m         Histogram: frequency by time\u001b[39m        1.75 ms \u001b[0m\u001b[1m<\u001b[22m\n",
       "\n",
       " Memory estimate\u001b[90m: \u001b[39m\u001b[33m0 bytes\u001b[39m, allocs estimate\u001b[90m: \u001b[39m\u001b[33m0\u001b[39m."
      ]
     },
     "execution_count": 46,
     "metadata": {},
     "output_type": "execute_result"
    }
   ],
   "source": [
    "bm = @benchmark c_sum($x)"
   ]
  },
  {
   "cell_type": "code",
   "execution_count": 47,
   "metadata": {},
   "outputs": [
    {
     "data": {
      "text/plain": [
       "1.3899105"
      ]
     },
     "execution_count": 47,
     "metadata": {},
     "output_type": "execute_result"
    }
   ],
   "source": [
    "# store median runtime (in milliseconds)\n",
    "benchmark_result[\"C\"] = median(bm.times) / 1e6"
   ]
  },
  {
   "cell_type": "markdown",
   "metadata": {},
   "source": [
    "### R, builtin `sum`\n",
    "\n",
    "Next we compare to the build in `sum` function in R, which is implemented using C."
   ]
  },
  {
   "cell_type": "code",
   "execution_count": 3,
   "metadata": {
    "ExecuteTime": {
     "end_time": "2021-09-24T16:50:52.615000+09:00",
     "start_time": "2021-09-24T07:50:51.669Z"
    }
   },
   "outputs": [
    {
     "name": "stdout",
     "output_type": "stream",
     "text": [
      "Unit: milliseconds\n",
      "   expr      min       lq     mean   median       uq     max neval\n",
      " sum(y) 1.712597 1.717852 1.746474 1.723689 1.737579 2.44798   100\n"
     ]
    },
    {
     "data": {
      "text/plain": [
       "RObject{VecSxp}\n",
       "    expr      min       lq     mean   median       uq     max neval\n",
       "1 sum(y) 1.712597 1.717852 1.746474 1.723689 1.737579 2.44798   100\n"
      ]
     },
     "execution_count": 3,
     "metadata": {},
     "output_type": "execute_result"
    }
   ],
   "source": [
    "using RCall\n",
    "\n",
    "R\"\"\"\n",
    "library(microbenchmark)\n",
    "y <- $x\n",
    "rbm <- microbenchmark(sum(y))\n",
    "print(rbm)\n",
    "\"\"\""
   ]
  },
  {
   "cell_type": "code",
   "execution_count": 139,
   "metadata": {
    "ExecuteTime": {
     "end_time": "2021-09-01T16:27:05.354000+09:00",
     "start_time": "2021-09-01T07:27:03.929Z"
    }
   },
   "outputs": [
    {
     "name": "stdout",
     "output_type": "stream",
     "text": [
      "\u001b[1m100×2 DataFrame\u001b[0m\n",
      "\u001b[1m Row \u001b[0m│\u001b[1m expr   \u001b[0m\u001b[1m time      \u001b[0m\n",
      "\u001b[1m     \u001b[0m│\u001b[90m Cat…   \u001b[0m\u001b[90m Float64   \u001b[0m\n",
      "─────┼───────────────────\n",
      "   1 │ sum(y)  1.98737e6\n",
      "   2 │ sum(y)  2.25295e6\n",
      "   3 │ sum(y)  2.05613e6\n",
      "   4 │ sum(y)  1.93074e6\n",
      "   5 │ sum(y)  1.89501e6\n",
      "   6 │ sum(y)  1.82467e6\n",
      "   7 │ sum(y)  1.79268e6\n",
      "   8 │ sum(y)  1.78644e6\n",
      "   9 │ sum(y)  1.92599e6\n",
      "  10 │ sum(y)  1.85578e6\n",
      "  11 │ sum(y)  1.85908e6\n",
      "  12 │ sum(y)  1.86782e6\n",
      "  13 │ sum(y)  1.8202e6\n",
      "  14 │ sum(y)  1.77683e6\n",
      "  15 │ sum(y)  2.06048e6\n",
      "  16 │ sum(y)  1.78744e6\n",
      "  17 │ sum(y)  1.82405e6\n",
      "  18 │ sum(y)  1.79899e6\n",
      "  19 │ sum(y)  1.74095e6\n",
      "  20 │ sum(y)  1.7185e6\n",
      "  21 │ sum(y)  1.7842e6\n",
      "  22 │ sum(y)  1.81855e6\n",
      "  23 │ sum(y)  1.77705e6\n",
      "  24 │ sum(y)  1.73232e6\n",
      "  25 │ sum(y)  1.7175e6\n",
      "  26 │ sum(y)  1.71512e6\n",
      "  27 │ sum(y)  1.71522e6\n",
      "  28 │ sum(y)  1.73703e6\n",
      "  29 │ sum(y)  1.71446e6\n",
      "  30 │ sum(y)  1.72952e6\n",
      "  31 │ sum(y)  1.7151e6\n",
      "  32 │ sum(y)  1.71427e6\n",
      "  33 │ sum(y)  1.71481e6\n",
      "  34 │ sum(y)  1.74814e6\n",
      "  35 │ sum(y)  1.71694e6\n",
      "  36 │ sum(y)  1.71733e6\n",
      "  37 │ sum(y)  1.71558e6\n",
      "  38 │ sum(y)  1.71344e6\n",
      "  39 │ sum(y)  1.71157e6\n",
      "  40 │ sum(y)  1.71338e6\n",
      "  41 │ sum(y)  1.7113e6\n",
      "  42 │ sum(y)  1.71082e6\n",
      "  43 │ sum(y)  1.71088e6\n",
      "  44 │ sum(y)  1.71081e6\n",
      "  45 │ sum(y)  1.71141e6\n",
      "  46 │ sum(y)  1.71283e6\n",
      "  47 │ sum(y)  1.71136e6\n",
      "  48 │ sum(y)  1.71165e6\n",
      "  49 │ sum(y)  1.7119e6\n",
      "  50 │ sum(y)  1.71147e6\n",
      "  51 │ sum(y)  1.71192e6\n",
      "  52 │ sum(y)  1.71262e6\n",
      "  53 │ sum(y)  1.71175e6\n",
      "  54 │ sum(y)  1.71168e6\n",
      "  55 │ sum(y)  1.71128e6\n",
      "  56 │ sum(y)  1.71161e6\n",
      "  57 │ sum(y)  1.71368e6\n",
      "  58 │ sum(y)  1.71208e6\n",
      "  59 │ sum(y)  1.71187e6\n",
      "  60 │ sum(y)  1.71186e6\n",
      "  61 │ sum(y)  1.71175e6\n",
      "  62 │ sum(y)  1.71097e6\n",
      "  63 │ sum(y)  1.71236e6\n",
      "  64 │ sum(y)  1.71123e6\n",
      "  65 │ sum(y)  1.71088e6\n",
      "  66 │ sum(y)  1.71189e6\n",
      "  67 │ sum(y)  1.71156e6\n",
      "  68 │ sum(y)  1.71175e6\n",
      "  69 │ sum(y)  1.71237e6\n",
      "  70 │ sum(y)  1.71168e6\n",
      "  71 │ sum(y)  1.7119e6\n",
      "  72 │ sum(y)  1.71131e6\n",
      "  73 │ sum(y)  1.71107e6\n",
      "  74 │ sum(y)  1.71291e6\n",
      "  75 │ sum(y)  1.71265e6\n",
      "  76 │ sum(y)  1.71135e6\n",
      "  77 │ sum(y)  1.71186e6\n",
      "  78 │ sum(y)  1.7118e6\n",
      "  79 │ sum(y)  1.7119e6\n",
      "  80 │ sum(y)  1.71185e6\n",
      "  81 │ sum(y)  1.71268e6\n",
      "  82 │ sum(y)  1.71212e6\n",
      "  83 │ sum(y)  1.71313e6\n",
      "  84 │ sum(y)  1.71296e6\n",
      "  85 │ sum(y)  1.71224e6\n",
      "  86 │ sum(y)  1.7116e6\n",
      "  87 │ sum(y)  1.71278e6\n",
      "  88 │ sum(y)  1.71141e6\n",
      "  89 │ sum(y)  1.71229e6\n",
      "  90 │ sum(y)  1.71394e6\n",
      "  91 │ sum(y)  1.7118e6\n",
      "  92 │ sum(y)  1.71206e6\n",
      "  93 │ sum(y)  1.71043e6\n",
      "  94 │ sum(y)  1.71084e6\n",
      "  95 │ sum(y)  1.71605e6\n",
      "  96 │ sum(y)  1.71362e6\n",
      "  97 │ sum(y)  1.71228e6\n",
      "  98 │ sum(y)  1.80625e6\n",
      "  99 │ sum(y)  1.79938e6\n",
      " 100 │ sum(y)  1.78798e6\n"
     ]
    },
    {
     "data": {
      "text/plain": [
       "1.712804"
      ]
     },
     "execution_count": 139,
     "metadata": {},
     "output_type": "execute_result"
    }
   ],
   "source": [
    "# store median runtime (in milliseconds)\n",
    "@rget rbm # dataframe\n",
    "println(rbm)\n",
    "benchmark_result[\"R builtin\"] = median(rbm[!, :time]) / 1e6"
   ]
  },
  {
   "cell_type": "markdown",
   "metadata": {},
   "source": [
    "### R, handwritten loop\n",
    "\n",
    "Handwritten loop in R is much slower."
   ]
  },
  {
   "cell_type": "code",
   "execution_count": 50,
   "metadata": {},
   "outputs": [
    {
     "data": {
      "text/plain": [
       "RObject{VecSxp}\n",
       "Unit: milliseconds\n",
       "     expr      min       lq     mean   median       uq      max neval\n",
       " sum_r(y) 13.16677 13.81682 14.39918 14.09342 14.70751 17.45945   100\n"
      ]
     },
     "execution_count": 50,
     "metadata": {},
     "output_type": "execute_result"
    }
   ],
   "source": [
    "using RCall\n",
    "\n",
    "R\"\"\"\n",
    "sum_r <- function(x) {\n",
    "  s <- 0\n",
    "  for (xi in x) {\n",
    "    s <- s + xi\n",
    "  }\n",
    "  s\n",
    "}\n",
    "library(microbenchmark)\n",
    "y <- $x\n",
    "rbm <- microbenchmark(sum_r(y))\n",
    "\"\"\""
   ]
  },
  {
   "cell_type": "code",
   "execution_count": 51,
   "metadata": {},
   "outputs": [
    {
     "data": {
      "text/plain": [
       "14.093423"
      ]
     },
     "execution_count": 51,
     "metadata": {},
     "output_type": "execute_result"
    }
   ],
   "source": [
    "# store median runtime (in milliseconds)\n",
    "@rget rbm # dataframe\n",
    "benchmark_result[\"R loop\"] = median(rbm[!, :time]) / 1e6"
   ]
  },
  {
   "cell_type": "markdown",
   "metadata": {},
   "source": [
    "### Python, builtin `sum`\n",
    "\n",
    "Built in function `sum` in Python."
   ]
  },
  {
   "cell_type": "code",
   "execution_count": 52,
   "metadata": {},
   "outputs": [
    {
     "data": {
      "text/plain": [
       "v\"3.7.3\""
      ]
     },
     "execution_count": 52,
     "metadata": {},
     "output_type": "execute_result"
    }
   ],
   "source": [
    "using PyCall\n",
    "PyCall.pyversion"
   ]
  },
  {
   "cell_type": "code",
   "execution_count": 53,
   "metadata": {},
   "outputs": [
    {
     "data": {
      "text/plain": [
       "BenchmarkTools.Trial: 63 samples with 1 evaluation.\n",
       " Range \u001b[90m(\u001b[39m\u001b[36m\u001b[1mmin\u001b[22m\u001b[39m … \u001b[35mmax\u001b[39m\u001b[90m):  \u001b[39m\u001b[36m\u001b[1m77.592 ms\u001b[22m\u001b[39m … \u001b[35m86.986 ms\u001b[39m  \u001b[90m┊\u001b[39m GC \u001b[90m(\u001b[39mmin … max\u001b[90m): \u001b[39m0.00% … 0.00%\n",
       " Time  \u001b[90m(\u001b[39m\u001b[34m\u001b[1mmedian\u001b[22m\u001b[39m\u001b[90m):     \u001b[39m\u001b[34m\u001b[1m80.163 ms              \u001b[22m\u001b[39m\u001b[90m┊\u001b[39m GC \u001b[90m(\u001b[39mmedian\u001b[90m):    \u001b[39m0.00%\n",
       " Time  \u001b[90m(\u001b[39m\u001b[32m\u001b[1mmean\u001b[22m\u001b[39m ± \u001b[32mσ\u001b[39m\u001b[90m):   \u001b[39m\u001b[32m\u001b[1m80.385 ms\u001b[22m\u001b[39m ± \u001b[32m 2.024 ms\u001b[39m  \u001b[90m┊\u001b[39m GC \u001b[90m(\u001b[39mmean ± σ\u001b[90m):  \u001b[39m0.00% ± 0.00%\n",
       "\n",
       "  \u001b[39m▂\u001b[39m \u001b[39m \u001b[39m \u001b[39m▅\u001b[39m \u001b[39m \u001b[39m▅\u001b[39m \u001b[39m \u001b[39m▂\u001b[39m \u001b[39m \u001b[39m█\u001b[39m \u001b[39m \u001b[34m▅\u001b[39m\u001b[39m█\u001b[32m▂\u001b[39m\u001b[39m \u001b[39m \u001b[39m \u001b[39m \u001b[39m \u001b[39m \u001b[39m \u001b[39m \u001b[39m \u001b[39m \u001b[39m \u001b[39m \u001b[39m \u001b[39m \u001b[39m \u001b[39m \u001b[39m \u001b[39m \u001b[39m \u001b[39m▂\u001b[39m \u001b[39m \u001b[39m \u001b[39m \u001b[39m \u001b[39m \u001b[39m \u001b[39m \u001b[39m \u001b[39m \u001b[39m \u001b[39m \u001b[39m \u001b[39m \u001b[39m \u001b[39m \u001b[39m \u001b[39m \u001b[39m \u001b[39m \u001b[39m \u001b[39m \n",
       "  \u001b[39m█\u001b[39m▅\u001b[39m▁\u001b[39m█\u001b[39m█\u001b[39m▅\u001b[39m▅\u001b[39m█\u001b[39m▅\u001b[39m▅\u001b[39m█\u001b[39m▅\u001b[39m█\u001b[39m█\u001b[39m▅\u001b[39m▁\u001b[34m█\u001b[39m\u001b[39m█\u001b[32m█\u001b[39m\u001b[39m▅\u001b[39m▅\u001b[39m▁\u001b[39m█\u001b[39m▅\u001b[39m█\u001b[39m▅\u001b[39m█\u001b[39m▁\u001b[39m▅\u001b[39m▅\u001b[39m▁\u001b[39m▅\u001b[39m▁\u001b[39m▁\u001b[39m▁\u001b[39m▁\u001b[39m▅\u001b[39m▅\u001b[39m█\u001b[39m▅\u001b[39m▁\u001b[39m▁\u001b[39m▁\u001b[39m▁\u001b[39m▁\u001b[39m▁\u001b[39m▁\u001b[39m▁\u001b[39m▁\u001b[39m▁\u001b[39m▁\u001b[39m▁\u001b[39m▁\u001b[39m▁\u001b[39m▁\u001b[39m▁\u001b[39m▁\u001b[39m▁\u001b[39m▅\u001b[39m \u001b[39m▁\n",
       "  77.6 ms\u001b[90m         Histogram: frequency by time\u001b[39m        86.8 ms \u001b[0m\u001b[1m<\u001b[22m\n",
       "\n",
       " Memory estimate\u001b[90m: \u001b[39m\u001b[33m336 bytes\u001b[39m, allocs estimate\u001b[90m: \u001b[39m\u001b[33m6\u001b[39m."
      ]
     },
     "execution_count": 53,
     "metadata": {},
     "output_type": "execute_result"
    }
   ],
   "source": [
    "# get the Python built-in \"sum\" function:\n",
    "pysum = pybuiltin(\"sum\")\n",
    "bm = @benchmark $pysum($x)"
   ]
  },
  {
   "cell_type": "code",
   "execution_count": 54,
   "metadata": {},
   "outputs": [
    {
     "data": {
      "text/plain": [
       "80.163379"
      ]
     },
     "execution_count": 54,
     "metadata": {},
     "output_type": "execute_result"
    }
   ],
   "source": [
    "# store median runtime (in miliseconds)\n",
    "benchmark_result[\"Python builtin\"] = median(bm.times) / 1e6"
   ]
  },
  {
   "cell_type": "markdown",
   "metadata": {},
   "source": [
    "### Python, handwritten loop"
   ]
  },
  {
   "cell_type": "code",
   "execution_count": 55,
   "metadata": {},
   "outputs": [
    {
     "data": {
      "text/plain": [
       "BenchmarkTools.Trial: 52 samples with 1 evaluation.\n",
       " Range \u001b[90m(\u001b[39m\u001b[36m\u001b[1mmin\u001b[22m\u001b[39m … \u001b[35mmax\u001b[39m\u001b[90m):  \u001b[39m\u001b[36m\u001b[1m89.401 ms\u001b[22m\u001b[39m … \u001b[35m113.021 ms\u001b[39m  \u001b[90m┊\u001b[39m GC \u001b[90m(\u001b[39mmin … max\u001b[90m): \u001b[39m0.00% … 0.00%\n",
       " Time  \u001b[90m(\u001b[39m\u001b[34m\u001b[1mmedian\u001b[22m\u001b[39m\u001b[90m):     \u001b[39m\u001b[34m\u001b[1m97.006 ms               \u001b[22m\u001b[39m\u001b[90m┊\u001b[39m GC \u001b[90m(\u001b[39mmedian\u001b[90m):    \u001b[39m0.00%\n",
       " Time  \u001b[90m(\u001b[39m\u001b[32m\u001b[1mmean\u001b[22m\u001b[39m ± \u001b[32mσ\u001b[39m\u001b[90m):   \u001b[39m\u001b[32m\u001b[1m96.785 ms\u001b[22m\u001b[39m ± \u001b[32m  4.022 ms\u001b[39m  \u001b[90m┊\u001b[39m GC \u001b[90m(\u001b[39mmean ± σ\u001b[90m):  \u001b[39m0.00% ± 0.00%\n",
       "\n",
       "  \u001b[39m \u001b[39m \u001b[39m \u001b[39m \u001b[39m▁\u001b[39m \u001b[39m \u001b[39m \u001b[39m \u001b[39m▁\u001b[39m \u001b[39m \u001b[39m \u001b[39m \u001b[39m \u001b[39m \u001b[39m \u001b[39m \u001b[39m \u001b[39m \u001b[39m \u001b[39m▄\u001b[39m▄\u001b[39m \u001b[39m \u001b[39m \u001b[39m \u001b[39m \u001b[39m \u001b[39m▁\u001b[39m▁\u001b[32m▁\u001b[39m\u001b[34m \u001b[39m\u001b[39m█\u001b[39m \u001b[39m▁\u001b[39m▁\u001b[39m \u001b[39m▁\u001b[39m▁\u001b[39m \u001b[39m▁\u001b[39m \u001b[39m \u001b[39m \u001b[39m \u001b[39m \u001b[39m▁\u001b[39m \u001b[39m \u001b[39m \u001b[39m \u001b[39m \u001b[39m \u001b[39m \u001b[39m \u001b[39m \u001b[39m \u001b[39m \u001b[39m \u001b[39m \u001b[39m \n",
       "  \u001b[39m▆\u001b[39m▁\u001b[39m▆\u001b[39m▁\u001b[39m█\u001b[39m▁\u001b[39m▆\u001b[39m▁\u001b[39m▁\u001b[39m█\u001b[39m▁\u001b[39m▁\u001b[39m▁\u001b[39m▆\u001b[39m▁\u001b[39m▆\u001b[39m▁\u001b[39m▆\u001b[39m▁\u001b[39m▁\u001b[39m▆\u001b[39m█\u001b[39m█\u001b[39m▁\u001b[39m▁\u001b[39m▆\u001b[39m▆\u001b[39m▁\u001b[39m▆\u001b[39m█\u001b[39m█\u001b[32m█\u001b[39m\u001b[34m▆\u001b[39m\u001b[39m█\u001b[39m▁\u001b[39m█\u001b[39m█\u001b[39m▆\u001b[39m█\u001b[39m█\u001b[39m▁\u001b[39m█\u001b[39m▆\u001b[39m▆\u001b[39m▁\u001b[39m▆\u001b[39m▁\u001b[39m█\u001b[39m▆\u001b[39m▁\u001b[39m▁\u001b[39m▁\u001b[39m▆\u001b[39m▁\u001b[39m▁\u001b[39m▆\u001b[39m▁\u001b[39m▁\u001b[39m▁\u001b[39m▆\u001b[39m \u001b[39m▁\n",
       "  89.4 ms\u001b[90m         Histogram: frequency by time\u001b[39m          104 ms \u001b[0m\u001b[1m<\u001b[22m\n",
       "\n",
       " Memory estimate\u001b[90m: \u001b[39m\u001b[33m336 bytes\u001b[39m, allocs estimate\u001b[90m: \u001b[39m\u001b[33m6\u001b[39m."
      ]
     },
     "execution_count": 55,
     "metadata": {},
     "output_type": "execute_result"
    }
   ],
   "source": [
    "using PyCall\n",
    "\n",
    "py\"\"\"\n",
    "def py_sum(A):\n",
    "    s = 0.0\n",
    "    for a in A:\n",
    "        s += a\n",
    "    return s\n",
    "\"\"\"\n",
    "\n",
    "sum_py = py\"py_sum\"\n",
    "\n",
    "bm = @benchmark $sum_py($x)"
   ]
  },
  {
   "cell_type": "code",
   "execution_count": 56,
   "metadata": {},
   "outputs": [
    {
     "data": {
      "text/plain": [
       "97.0064115"
      ]
     },
     "execution_count": 56,
     "metadata": {},
     "output_type": "execute_result"
    }
   ],
   "source": [
    "# store median runtime (in miliseconds)\n",
    "benchmark_result[\"Python loop\"] = median(bm.times) / 1e6"
   ]
  },
  {
   "cell_type": "markdown",
   "metadata": {},
   "source": [
    "### Python, numpy\n",
    "\n",
    "Numpy is the high-performance scientific computing library for Python (mostly written in C)."
   ]
  },
  {
   "cell_type": "code",
   "execution_count": 57,
   "metadata": {},
   "outputs": [
    {
     "data": {
      "text/plain": [
       "PyObject <function sum at 0x7fdad3a6a7b8>"
      ]
     },
     "execution_count": 57,
     "metadata": {},
     "output_type": "execute_result"
    }
   ],
   "source": [
    "# bring in sum function from Numpy \n",
    "numpy_sum = pyimport(\"numpy\").\"sum\""
   ]
  },
  {
   "cell_type": "code",
   "execution_count": 58,
   "metadata": {},
   "outputs": [
    {
     "data": {
      "text/plain": [
       "BenchmarkTools.Trial: 10000 samples with 1 evaluation.\n",
       " Range \u001b[90m(\u001b[39m\u001b[36m\u001b[1mmin\u001b[22m\u001b[39m … \u001b[35mmax\u001b[39m\u001b[90m):  \u001b[39m\u001b[36m\u001b[1m309.452 μs\u001b[22m\u001b[39m … \u001b[35m 1.150 ms\u001b[39m  \u001b[90m┊\u001b[39m GC \u001b[90m(\u001b[39mmin … max\u001b[90m): \u001b[39m0.00% … 0.00%\n",
       " Time  \u001b[90m(\u001b[39m\u001b[34m\u001b[1mmedian\u001b[22m\u001b[39m\u001b[90m):     \u001b[39m\u001b[34m\u001b[1m339.085 μs              \u001b[22m\u001b[39m\u001b[90m┊\u001b[39m GC \u001b[90m(\u001b[39mmedian\u001b[90m):    \u001b[39m0.00%\n",
       " Time  \u001b[90m(\u001b[39m\u001b[32m\u001b[1mmean\u001b[22m\u001b[39m ± \u001b[32mσ\u001b[39m\u001b[90m):   \u001b[39m\u001b[32m\u001b[1m365.942 μs\u001b[22m\u001b[39m ± \u001b[32m76.031 μs\u001b[39m  \u001b[90m┊\u001b[39m GC \u001b[90m(\u001b[39mmean ± σ\u001b[90m):  \u001b[39m0.00% ± 0.00%\n",
       "\n",
       "  \u001b[39m█\u001b[39m█\u001b[39m▆\u001b[39m▅\u001b[39m▅\u001b[34m▅\u001b[39m\u001b[39m▅\u001b[39m▅\u001b[39m▅\u001b[32m▅\u001b[39m\u001b[39m▄\u001b[39m▄\u001b[39m▄\u001b[39m▃\u001b[39m▃\u001b[39m▃\u001b[39m▃\u001b[39m▂\u001b[39m▂\u001b[39m▂\u001b[39m▂\u001b[39m▁\u001b[39m▁\u001b[39m▂\u001b[39m▁\u001b[39m▁\u001b[39m▁\u001b[39m▁\u001b[39m \u001b[39m▁\u001b[39m▁\u001b[39m \u001b[39m \u001b[39m▁\u001b[39m \u001b[39m \u001b[39m \u001b[39m \u001b[39m \u001b[39m \u001b[39m \u001b[39m \u001b[39m \u001b[39m \u001b[39m \u001b[39m \u001b[39m \u001b[39m \u001b[39m \u001b[39m \u001b[39m \u001b[39m \u001b[39m \u001b[39m \u001b[39m \u001b[39m \u001b[39m \u001b[39m \u001b[39m \u001b[39m \u001b[39m \u001b[39m▂\n",
       "  \u001b[39m█\u001b[39m█\u001b[39m█\u001b[39m█\u001b[39m█\u001b[34m█\u001b[39m\u001b[39m█\u001b[39m█\u001b[39m█\u001b[32m█\u001b[39m\u001b[39m█\u001b[39m█\u001b[39m█\u001b[39m█\u001b[39m█\u001b[39m█\u001b[39m█\u001b[39m█\u001b[39m█\u001b[39m█\u001b[39m█\u001b[39m█\u001b[39m█\u001b[39m█\u001b[39m█\u001b[39m█\u001b[39m█\u001b[39m█\u001b[39m█\u001b[39m█\u001b[39m█\u001b[39m▇\u001b[39m█\u001b[39m█\u001b[39m█\u001b[39m█\u001b[39m█\u001b[39m▇\u001b[39m█\u001b[39m█\u001b[39m▇\u001b[39m▆\u001b[39m▇\u001b[39m█\u001b[39m▇\u001b[39m█\u001b[39m▇\u001b[39m▇\u001b[39m▇\u001b[39m▆\u001b[39m▆\u001b[39m▅\u001b[39m▆\u001b[39m▆\u001b[39m▆\u001b[39m▆\u001b[39m▆\u001b[39m▆\u001b[39m▅\u001b[39m▃\u001b[39m \u001b[39m█\n",
       "  309 μs\u001b[90m        \u001b[39m\u001b[90mHistogram: \u001b[39m\u001b[90m\u001b[1mlog(\u001b[22m\u001b[39m\u001b[90mfrequency\u001b[39m\u001b[90m\u001b[1m)\u001b[22m\u001b[39m\u001b[90m by time\u001b[39m       675 μs \u001b[0m\u001b[1m<\u001b[22m\n",
       "\n",
       " Memory estimate\u001b[90m: \u001b[39m\u001b[33m336 bytes\u001b[39m, allocs estimate\u001b[90m: \u001b[39m\u001b[33m6\u001b[39m."
      ]
     },
     "execution_count": 58,
     "metadata": {},
     "output_type": "execute_result"
    }
   ],
   "source": [
    "bm = @benchmark $numpy_sum($x)"
   ]
  },
  {
   "cell_type": "code",
   "execution_count": 59,
   "metadata": {},
   "outputs": [
    {
     "data": {
      "text/plain": [
       "0.339085"
      ]
     },
     "execution_count": 59,
     "metadata": {},
     "output_type": "execute_result"
    }
   ],
   "source": [
    "# store median runtime (in miliseconds)\n",
    "benchmark_result[\"Python numpy\"] = median(bm.times) / 1e6"
   ]
  },
  {
   "cell_type": "markdown",
   "metadata": {},
   "source": [
    "Numpy performance is on a par with Julia built-in `sum` function. Both are about 3 times faster than C, probably because of insufficient optimization in compliation and overhead of passing Julia objects and receiving C pointers."
   ]
  },
  {
   "cell_type": "markdown",
   "metadata": {},
   "source": [
    "### Summary"
   ]
  },
  {
   "cell_type": "code",
   "execution_count": 60,
   "metadata": {},
   "outputs": [
    {
     "data": {
      "text/plain": [
       "Dict{Any, Any} with 7 entries:\n",
       "  \"R builtin\"      => 1.26574\n",
       "  \"Julia builtin\"  => 0.323518\n",
       "  \"Python builtin\" => 80.1634\n",
       "  \"C\"              => 1.38991\n",
       "  \"Python loop\"    => 97.0064\n",
       "  \"Python numpy\"   => 0.339085\n",
       "  \"R loop\"         => 14.0934"
      ]
     },
     "execution_count": 60,
     "metadata": {},
     "output_type": "execute_result"
    }
   ],
   "source": [
    "benchmark_result"
   ]
  },
  {
   "cell_type": "markdown",
   "metadata": {},
   "source": [
    "* `C` and `R builtin` are the baseline C performance (gold standard).\n",
    "\n",
    "* `Python builtin` and `Python loop` are 80-100 fold slower than C because the loop is interpreted.\n",
    "\n",
    "* `R loop` is about 30 folder slower than C and indicates the performance of bytecode generated by its compiler package (turned on by default since R v3.4.0 (Apr 2017)). \n",
    "\n",
    "* `Julia builtin` and `Python numpy` are 3-4 fold faster than C."
   ]
  },
  {
   "cell_type": "markdown",
   "metadata": {},
   "source": [
    "## Acknowledgment\n",
    "\n",
    "This lecture note has evolved from [Dr. Hua Zhou](http://hua-zhou.github.io)'s 2019 Winter Statistical Computing course notes available at <http://hua-zhou.github.io/teaching/biostatm280-2019spring/index.html>."
   ]
  }
 ],
 "metadata": {
  "kernelspec": {
   "display_name": "Julia 1.6.2",
   "language": "julia",
   "name": "julia-1.6"
  },
  "language_info": {
   "file_extension": ".jl",
   "mimetype": "application/julia",
   "name": "julia",
   "version": "1.6.2"
  },
  "toc": {
   "base_numbering": 1,
   "nav_menu": {
    "height": "511.7391357421875px",
    "width": "251.7391357421875px"
   },
   "number_sections": true,
   "sideBar": true,
   "skip_h1_title": true,
   "title_cell": "Table of Contents",
   "title_sidebar": "Contents",
   "toc_cell": true,
   "toc_position": {
    "height": "640.4212036132812px",
    "left": "0px",
    "right": "1210.6114501953125px",
    "top": "109.57880401611328px",
    "width": "211.99728393554688px"
   },
   "toc_section_display": "block",
   "toc_window_display": true
  },
  "varInspector": {
   "cols": {
    "lenName": 16,
    "lenType": 16,
    "lenVar": 40
   },
   "kernels_config": {
    "python": {
     "delete_cmd_postfix": "",
     "delete_cmd_prefix": "del ",
     "library": "var_list.py",
     "varRefreshCmd": "print(var_dic_list())"
    },
    "r": {
     "delete_cmd_postfix": ") ",
     "delete_cmd_prefix": "rm(",
     "library": "var_list.r",
     "varRefreshCmd": "cat(var_dic_list()) "
    }
   },
   "types_to_exclude": [
    "module",
    "function",
    "builtin_function_or_method",
    "instance",
    "_Feature"
   ],
   "window_display": false
  }
 },
 "nbformat": 4,
 "nbformat_minor": 4
}
