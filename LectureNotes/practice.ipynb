{
 "cells": [
  {
   "cell_type": "code",
   "execution_count": 1,
   "id": "4dded6f3",
   "metadata": {
    "ExecuteTime": {
     "end_time": "2021-12-08T23:18:03.130000+09:00",
     "start_time": "2021-12-08T14:17:38.381Z"
    }
   },
   "outputs": [
    {
     "name": "stderr",
     "output_type": "stream",
     "text": [
      "\u001b[32m\u001b[1m    Updating\u001b[22m\u001b[39m registry at `~/.julia/registries/General`\n",
      "┌ Error: curl_easy_setopt: 48\n",
      "└ @ Downloads.Curl /Users/julia/buildbot/worker/package_macos64/build/usr/share/julia/stdlib/v1.6/Downloads/src/Curl/utils.jl:36\n",
      "┌ Error: curl_easy_setopt: 48\n",
      "└ @ Downloads.Curl /Users/julia/buildbot/worker/package_macos64/build/usr/share/julia/stdlib/v1.6/Downloads/src/Curl/utils.jl:36\n",
      "┌ Error: curl_easy_setopt: 48\n",
      "└ @ Downloads.Curl /Users/julia/buildbot/worker/package_macos64/build/usr/share/julia/stdlib/v1.6/Downloads/src/Curl/utils.jl:36\n",
      "┌ Error: curl_easy_setopt: 48\n",
      "└ @ Downloads.Curl /Users/julia/buildbot/worker/package_macos64/build/usr/share/julia/stdlib/v1.6/Downloads/src/Curl/utils.jl:36\n",
      "┌ Error: curl_easy_setopt: 48\n",
      "└ @ Downloads.Curl /Users/julia/buildbot/worker/package_macos64/build/usr/share/julia/stdlib/v1.6/Downloads/src/Curl/utils.jl:36\n",
      "┌ Error: curl_easy_setopt: 48\n",
      "└ @ Downloads.Curl /Users/julia/buildbot/worker/package_macos64/build/usr/share/julia/stdlib/v1.6/Downloads/src/Curl/utils.jl:36\n",
      "\u001b[32m\u001b[1m   Resolving\u001b[22m\u001b[39m package versions...\n",
      "┌ Error: curl_easy_setopt: 48\n",
      "└ @ Downloads.Curl /Users/julia/buildbot/worker/package_macos64/build/usr/share/julia/stdlib/v1.6/Downloads/src/Curl/utils.jl:36\n",
      "┌ Error: curl_easy_setopt: 48\n",
      "└ @ Downloads.Curl /Users/julia/buildbot/worker/package_macos64/build/usr/share/julia/stdlib/v1.6/Downloads/src/Curl/utils.jl:36\n",
      "┌ Error: curl_easy_setopt: 48\n",
      "└ @ Downloads.Curl /Users/julia/buildbot/worker/package_macos64/build/usr/share/julia/stdlib/v1.6/Downloads/src/Curl/utils.jl:36\n",
      "\u001b[32m\u001b[1m   Installed\u001b[22m\u001b[39m Gurobi ─ v0.10.1\n",
      "┌ Error: curl_easy_setopt: 48\n",
      "└ @ Downloads.Curl /Users/julia/buildbot/worker/package_macos64/build/usr/share/julia/stdlib/v1.6/Downloads/src/Curl/utils.jl:36\n",
      "┌ Error: curl_easy_setopt: 48\n",
      "└ @ Downloads.Curl /Users/julia/buildbot/worker/package_macos64/build/usr/share/julia/stdlib/v1.6/Downloads/src/Curl/utils.jl:36\n",
      "┌ Error: curl_easy_setopt: 48\n",
      "└ @ Downloads.Curl /Users/julia/buildbot/worker/package_macos64/build/usr/share/julia/stdlib/v1.6/Downloads/src/Curl/utils.jl:36\n",
      "\u001b[32m\u001b[1m    Updating\u001b[22m\u001b[39m `~/opt/Jupyter/Project.toml`\n",
      " \u001b[90m [2e9cd046] \u001b[39m\u001b[92m+ Gurobi v0.10.1\u001b[39m\n",
      "\u001b[32m\u001b[1m    Updating\u001b[22m\u001b[39m `~/opt/Jupyter/Manifest.toml`\n",
      " \u001b[90m [2e9cd046] \u001b[39m\u001b[92m+ Gurobi v0.10.1\u001b[39m\n",
      "\u001b[32m\u001b[1m    Building\u001b[22m\u001b[39m Gurobi → `~/.julia/scratchspaces/44cfe95a-1eb2-52ea-b672-e2afdf69b78f/c34bc1d66fc8251f94338c016e4ad0ac50dfbe73/build.log`\n"
     ]
    },
    {
     "ename": "LoadError",
     "evalue": "Error building `Gurobi`: \nERROR: LoadError: Unable to locate Gurobi installation. If the advice above did not help,\nopen an issue at https://github.com/jump-dev/Gurobi.jl and post the full\nprint-out of this diagnostic attempt.\n\nStacktrace:\n [1] error(s::String)\n   @ Base ./error.jl:33\n [2] top-level scope\n   @ ~/.julia/packages/Gurobi/A9YqC/deps/build.jl:167\n [3] include(fname::String)\n   @ Base.MainInclude ./client.jl:444\n [4] top-level scope\n   @ none:5\nin expression starting at /Users/user5/.julia/packages/Gurobi/A9YqC/deps/build.jl:160\n\n**Unable to locate Gurobi installation. Running some common diagnostics.**\n\nGurobi.jl only supports the following versions:\n\n - gurobi95\n - gurobi91\n - gurobi90\n\nDid you download and install one of these versions from gurobi.com?\nInstalling Gurobi.jl via the Julia package manager is _not_ sufficient!\n\nWe couldn't find the `GUROBI_HOME` environment variable, but we\nfound this version of Gurobi on your `PATH`.\n\nGurobi Optimizer version 9.0.3 build v9.0.3rc0 (mac64)\nCopyright (c) 2020, Gurobi Optimization, LLC\n\nIs this version one of the supported versions listed above? If so,\nwe found the executable, but not the libraries we need. Follow the\nadvice below to set the `GUROBI_HOME` environment variable. If not,\nyou should edit your `PATH` to point to the correct version, or set\nthe `GUROBI_HOME` environment variable.\n\nYou should set the `GUROBI_HOME` environment variable to point to the\ninstall location then try again. For example (updating the path to the\ncorrect location if needed):\n```\n# On Windows, this might be\nENV[\"GUROBI_HOME\"] = \"C:\\\\Program Files\\\\gurobi950\\\\win64\\\\\"\nimport Pkg\nPkg.add(\"Gurobi\")\nPkg.build(\"Gurobi\")\n\n# On OSX, this might be\nENV[\"GUROBI_HOME\"] = \"/Library/gurobi950/mac64/\"\nimport Pkg\nPkg.add(\"Gurobi\")\nPkg.build(\"Gurobi\")\n\n# On Unix, this might be\nENV[\"GUROBI_HOME\"] = \"/opt/gurobi950/linux64/\"\nimport Pkg\nPkg.add(\"Gurobi\")\nPkg.build(\"Gurobi\")\n```\n**Note: your path may differ. Check which folder you installed the Gurobi\nbinary in, and update the path accordingly.**\n",
     "output_type": "error",
     "traceback": [
      "Error building `Gurobi`: \nERROR: LoadError: Unable to locate Gurobi installation. If the advice above did not help,\nopen an issue at https://github.com/jump-dev/Gurobi.jl and post the full\nprint-out of this diagnostic attempt.\n\nStacktrace:\n [1] error(s::String)\n   @ Base ./error.jl:33\n [2] top-level scope\n   @ ~/.julia/packages/Gurobi/A9YqC/deps/build.jl:167\n [3] include(fname::String)\n   @ Base.MainInclude ./client.jl:444\n [4] top-level scope\n   @ none:5\nin expression starting at /Users/user5/.julia/packages/Gurobi/A9YqC/deps/build.jl:160\n\n**Unable to locate Gurobi installation. Running some common diagnostics.**\n\nGurobi.jl only supports the following versions:\n\n - gurobi95\n - gurobi91\n - gurobi90\n\nDid you download and install one of these versions from gurobi.com?\nInstalling Gurobi.jl via the Julia package manager is _not_ sufficient!\n\nWe couldn't find the `GUROBI_HOME` environment variable, but we\nfound this version of Gurobi on your `PATH`.\n\nGurobi Optimizer version 9.0.3 build v9.0.3rc0 (mac64)\nCopyright (c) 2020, Gurobi Optimization, LLC\n\nIs this version one of the supported versions listed above? If so,\nwe found the executable, but not the libraries we need. Follow the\nadvice below to set the `GUROBI_HOME` environment variable. If not,\nyou should edit your `PATH` to point to the correct version, or set\nthe `GUROBI_HOME` environment variable.\n\nYou should set the `GUROBI_HOME` environment variable to point to the\ninstall location then try again. For example (updating the path to the\ncorrect location if needed):\n```\n# On Windows, this might be\nENV[\"GUROBI_HOME\"] = \"C:\\\\Program Files\\\\gurobi950\\\\win64\\\\\"\nimport Pkg\nPkg.add(\"Gurobi\")\nPkg.build(\"Gurobi\")\n\n# On OSX, this might be\nENV[\"GUROBI_HOME\"] = \"/Library/gurobi950/mac64/\"\nimport Pkg\nPkg.add(\"Gurobi\")\nPkg.build(\"Gurobi\")\n\n# On Unix, this might be\nENV[\"GUROBI_HOME\"] = \"/opt/gurobi950/linux64/\"\nimport Pkg\nPkg.add(\"Gurobi\")\nPkg.build(\"Gurobi\")\n```\n**Note: your path may differ. Check which folder you installed the Gurobi\nbinary in, and update the path accordingly.**\n",
      "",
      "Stacktrace:",
      "  [1] pkgerror(msg::String)",
      "    @ Pkg.Types /Users/julia/buildbot/worker/package_macos64/build/usr/share/julia/stdlib/v1.6/Pkg/src/Types.jl:55",
      "  [2] (::Pkg.Operations.var\"#82#87\"{Bool, Pkg.Types.Context, String, Pkg.Types.PackageSpec})()",
      "    @ Pkg.Operations /Users/julia/buildbot/worker/package_macos64/build/usr/share/julia/stdlib/v1.6/Pkg/src/Operations.jl:1048",
      "  [3] withenv(::Pkg.Operations.var\"#82#87\"{Bool, Pkg.Types.Context, String, Pkg.Types.PackageSpec}, ::Pair{String, String}, ::Vararg{Pair{String, B} where B, N} where N)",
      "    @ Base ./env.jl:161",
      "  [4] (::Pkg.Operations.var\"#109#113\"{String, Pkg.Operations.var\"#82#87\"{Bool, Pkg.Types.Context, String, Pkg.Types.PackageSpec}, Pkg.Types.PackageSpec})()",
      "    @ Pkg.Operations /Users/julia/buildbot/worker/package_macos64/build/usr/share/julia/stdlib/v1.6/Pkg/src/Operations.jl:1546",
      "  [5] with_temp_env(fn::Pkg.Operations.var\"#109#113\"{String, Pkg.Operations.var\"#82#87\"{Bool, Pkg.Types.Context, String, Pkg.Types.PackageSpec}, Pkg.Types.PackageSpec}, temp_env::String)",
      "    @ Pkg.Operations /Users/julia/buildbot/worker/package_macos64/build/usr/share/julia/stdlib/v1.6/Pkg/src/Operations.jl:1448",
      "  [6] (::Pkg.Operations.var\"#108#112\"{Pkg.Operations.var\"#82#87\"{Bool, Pkg.Types.Context, String, Pkg.Types.PackageSpec}, Pkg.Types.Context, Pkg.Types.PackageSpec, String, Pkg.Types.Project, String})(tmp::String)",
      "    @ Pkg.Operations /Users/julia/buildbot/worker/package_macos64/build/usr/share/julia/stdlib/v1.6/Pkg/src/Operations.jl:1521",
      "  [7] mktempdir(fn::Pkg.Operations.var\"#108#112\"{Pkg.Operations.var\"#82#87\"{Bool, Pkg.Types.Context, String, Pkg.Types.PackageSpec}, Pkg.Types.Context, Pkg.Types.PackageSpec, String, Pkg.Types.Project, String}, parent::String; prefix::String)",
      "    @ Base.Filesystem ./file.jl:729",
      "  [8] mktempdir(fn::Function, parent::String) (repeats 2 times)",
      "    @ Base.Filesystem ./file.jl:727",
      "  [9] sandbox(fn::Function, ctx::Pkg.Types.Context, target::Pkg.Types.PackageSpec, target_path::String, sandbox_path::String, sandbox_project_override::Pkg.Types.Project)",
      "    @ Pkg.Operations /Users/julia/buildbot/worker/package_macos64/build/usr/share/julia/stdlib/v1.6/Pkg/src/Operations.jl:1487",
      " [10] build_versions(ctx::Pkg.Types.Context, uuids::Vector{Base.UUID}; verbose::Bool)",
      "    @ Pkg.Operations /Users/julia/buildbot/worker/package_macos64/build/usr/share/julia/stdlib/v1.6/Pkg/src/Operations.jl:1029",
      " [11] build_versions",
      "    @ /Users/julia/buildbot/worker/package_macos64/build/usr/share/julia/stdlib/v1.6/Pkg/src/Operations.jl:956 [inlined]",
      " [12] add(ctx::Pkg.Types.Context, pkgs::Vector{Pkg.Types.PackageSpec}, new_git::Vector{Base.UUID}; preserve::Pkg.Types.PreserveLevel, platform::Base.BinaryPlatforms.Platform)",
      "    @ Pkg.Operations /Users/julia/buildbot/worker/package_macos64/build/usr/share/julia/stdlib/v1.6/Pkg/src/Operations.jl:1245",
      " [13] add(ctx::Pkg.Types.Context, pkgs::Vector{Pkg.Types.PackageSpec}; preserve::Pkg.Types.PreserveLevel, platform::Base.BinaryPlatforms.Platform, kwargs::Base.Iterators.Pairs{Symbol, IJulia.IJuliaStdio{Base.PipeEndpoint}, Tuple{Symbol}, NamedTuple{(:io,), Tuple{IJulia.IJuliaStdio{Base.PipeEndpoint}}}})",
      "    @ Pkg.API /Users/julia/buildbot/worker/package_macos64/build/usr/share/julia/stdlib/v1.6/Pkg/src/API.jl:204",
      " [14] add(pkgs::Vector{Pkg.Types.PackageSpec}; io::IJulia.IJuliaStdio{Base.PipeEndpoint}, kwargs::Base.Iterators.Pairs{Union{}, Union{}, Tuple{}, NamedTuple{(), Tuple{}}})",
      "    @ Pkg.API /Users/julia/buildbot/worker/package_macos64/build/usr/share/julia/stdlib/v1.6/Pkg/src/API.jl:80",
      " [15] add(pkgs::Vector{Pkg.Types.PackageSpec})",
      "    @ Pkg.API /Users/julia/buildbot/worker/package_macos64/build/usr/share/julia/stdlib/v1.6/Pkg/src/API.jl:78",
      " [16] #add#23",
      "    @ /Users/julia/buildbot/worker/package_macos64/build/usr/share/julia/stdlib/v1.6/Pkg/src/API.jl:76 [inlined]",
      " [17] add",
      "    @ /Users/julia/buildbot/worker/package_macos64/build/usr/share/julia/stdlib/v1.6/Pkg/src/API.jl:76 [inlined]",
      " [18] #add#22",
      "    @ /Users/julia/buildbot/worker/package_macos64/build/usr/share/julia/stdlib/v1.6/Pkg/src/API.jl:75 [inlined]",
      " [19] add(pkg::String)",
      "    @ Pkg.API /Users/julia/buildbot/worker/package_macos64/build/usr/share/julia/stdlib/v1.6/Pkg/src/API.jl:75",
      " [20] top-level scope",
      "    @ In[1]:2",
      " [21] eval",
      "    @ ./boot.jl:360 [inlined]",
      " [22] include_string(mapexpr::typeof(REPL.softscope), mod::Module, code::String, filename::String)",
      "    @ Base ./loading.jl:1116"
     ]
    }
   ],
   "source": [
    "using Pkg\n",
    "Pkg.add(\"Gurobi\")\n",
    "Pkg.bulid(\"Gurobi\")"
   ]
  },
  {
   "cell_type": "code",
   "execution_count": 1,
   "id": "7eb486b5",
   "metadata": {
    "ExecuteTime": {
     "end_time": "2021-11-16T16:58:54.038000+09:00",
     "start_time": "2021-11-16T07:58:30.231Z"
    },
    "scrolled": true
   },
   "outputs": [
    {
     "name": "stdout",
     "output_type": "stream",
     "text": [
      "include group.jl for user defined matrix generators\n",
      "verify download of index files...\n",
      "reading database\n",
      "adding metadata...\n",
      "adding svd data...\n",
      "writing database\n",
      "used remote sites are sparse.tamu.edu with MAT index and math.nist.gov with HTML index\n"
     ]
    },
    {
     "data": {
      "text/plain": [
       "916428-element Vector{Float64}:\n",
       " 3.134134298396244e-5\n",
       " 1.8932277880202163e-6\n",
       " 3.5653144716835955e-6\n",
       " 8.158872905969429e-7\n",
       " 9.106901298254041e-7\n",
       " 1.819798703278862e-6\n",
       " 3.024353832181621e-7\n",
       " 6.715935571759826e-7\n",
       " 5.705074243274775e-7\n",
       " 3.326789215579808e-7\n",
       " 2.922246346304535e-6\n",
       " 7.264821579064055e-7\n",
       " 3.024353832181621e-7\n",
       " ⋮\n",
       " 1.2210062473522803e-6\n",
       " 5.2242957085228576e-6\n",
       " 2.9316575667581142e-6\n",
       " 9.436794244633382e-7\n",
       " 7.219820797408957e-7\n",
       " 8.164282557823939e-7\n",
       " 3.024353832181621e-7\n",
       " 1.6376558963728642e-6\n",
       " 4.4964682851926755e-7\n",
       " 3.024353832181621e-7\n",
       " 8.083326101029732e-6\n",
       " 7.330951429043519e-7"
      ]
     },
     "execution_count": 1,
     "metadata": {},
     "output_type": "execute_result"
    }
   ],
   "source": [
    "\n",
    "\n",
    "using MatrixDepot, IterativeSolvers\n",
    "md = mdopen(\"SNAP/web-Google\")\n",
    "mdinfo(md)\n",
    "\n",
    "A = md.A\n",
    "outdegree = sum(A, dims=2)\n",
    "indegree = sum(A, dims=1)\n",
    "\n",
    "using LinearAlgebra, SparseArrays\n",
    "n = size(A,1)\n",
    "outdegree = convert.(Float64, outdegree)\n",
    "# outdegree[outdegree .== 0] .= (1/n)\n",
    "# outdegree[outdegree .== 0] .= n\n",
    "\n",
    "# mat = LinearMap(I - spdiagm(vec(outdegree))*LinearMap(A)*0.8)\n",
    "# b = LinearMap(0.2/n*ones(n))\n",
    "\n",
    "# gmres!(ones(n)/n, mat, 0.2/n*ones(n)) # 10시까지 돌려보자!\n",
    "\n",
    "ii = findall(x->x==0, outdegree)\n",
    "i1 = getindex.(ii, 1)\n",
    "\n",
    "\n",
    "\n",
    "using LinearMaps\n",
    "a = zeros(n)\n",
    "a[i1,:] .= 1\n",
    "J = LinearMap(ones(n,1))*LinearMap(ones(1,n))\n",
    "# A_partial_trans = J*LinearMap(Diagonal(a./n))\n",
    "\n",
    "# J = kron(LinearMap(Matrix{Float64}(I, 76369, 76369)), LinearMap(Matrix{Float64}(I, 12, 12)))\n",
    "A_partial = LinearMap(Diagonal(a./n))*J # dangling -> 1/n prob.\n",
    "\n",
    "\n",
    "\n",
    "# outdegree[outdegree .== 0] .= 1\n",
    "R_inv = LinearMap(Diagonal((ones(n)./ outdegree)[:,1]))\n",
    "\n",
    "p=0.8\n",
    "A = LinearMap(convert.(Float64,md.A))\n",
    "P = (1-p)/n * J + p * (R_inv*A + A_partial)\n",
    "\n",
    "\n",
    "using IterativeSolvers\n",
    "\n",
    "π1 = ones(n)./n\n",
    "gmres!(π1,I-transpose(P), zeros(n))"
   ]
  },
  {
   "cell_type": "code",
   "execution_count": 85,
   "id": "cf5be02a",
   "metadata": {
    "ExecuteTime": {
     "end_time": "2021-11-16T15:42:18.674000+09:00",
     "start_time": "2021-11-16T06:42:18.502Z"
    },
    "scrolled": true
   },
   "outputs": [
    {
     "data": {
      "text/plain": [
       "916428×916428 LinearMaps.LinearCombination{Float64} with 2 maps:\n",
       "  916428×916428 LinearMaps.ScaledMap{Float64} with scale: 2.1823863958761623e-7 of\n",
       "    916428×916428 LinearMaps.CompositeMap{Float64} with 2 maps:\n",
       "      1×916428 LinearMaps.WrappedMap{Float64} of\n",
       "        1×916428 Matrix{Float64}\n",
       "      916428×1 LinearMaps.WrappedMap{Float64} of\n",
       "        916428×1 Matrix{Float64}\n",
       "  916428×916428 LinearMaps.ScaledMap{Float64} with scale: 0.8 of\n",
       "    916428×916428 LinearMaps.LinearCombination{Float64} with 2 maps:\n",
       "      916428×916428 LinearMaps.CompositeMap{Float64} with 2 maps:\n",
       "        916428×916428 LinearMaps.WrappedMap{Float64} of\n",
       "          916428×916428 SparseMatrixCSC{Float64, Int64}\n",
       "        916428×916428 LinearMaps.WrappedMap{Float64} of\n",
       "          916428×916428 Diagonal{Float64, Vector{Float64}}\n",
       "      916428×916428 LinearMaps.CompositeMap{Float64} with 3 maps:\n",
       "        1×916428 LinearMaps.WrappedMap{Float64} of\n",
       "          1×916428 Matrix{Float64}\n",
       "        916428×1 LinearMaps.WrappedMap{Float64} of\n",
       "          916428×1 Matrix{Float64}\n",
       "        916428×916428 LinearMaps.WrappedMap{Float64} of\n",
       "          916428×916428 Diagonal{Float64, Vector{Float64}}"
      ]
     },
     "execution_count": 85,
     "metadata": {},
     "output_type": "execute_result"
    }
   ],
   "source": [
    "using LinearMaps\n",
    "a = zeros(n)\n",
    "a[i1,:] .= 1\n",
    "J = LinearMap(ones(n,1))*LinearMap(ones(1,n))\n",
    "# A_partial_trans = J*LinearMap(Diagonal(a./n))\n",
    "\n",
    "# J = kron(LinearMap(Matrix{Float64}(I, 76369, 76369)), LinearMap(Matrix{Float64}(I, 12, 12)))\n",
    "A_partial = LinearMap(Diagonal(a./n))*J # dangling -> 1/n prob.\n",
    "\n",
    "\n",
    "\n",
    "# outdegree[outdegree .== 0] .= 1\n",
    "R_inv = LinearMap(Diagonal((ones(n)./ outdegree)[:,1]))\n",
    "\n",
    "p=0.8\n",
    "A = LinearMap(convert.(Float64,md.A))\n",
    "P = (1-p)/n * J + p * (R_inv*A + A_partial)"
   ]
  },
  {
   "cell_type": "code",
   "execution_count": 87,
   "id": "d01a2fd6",
   "metadata": {
    "ExecuteTime": {
     "end_time": "2021-11-16T15:44:46.007000+09:00",
     "start_time": "2021-11-16T06:44:39.839Z"
    }
   },
   "outputs": [
    {
     "data": {
      "text/plain": [
       "916428-element Vector{Float64}:\n",
       " 3.134134298396244e-5\n",
       " 1.8932277880202163e-6\n",
       " 3.5653144716835955e-6\n",
       " 8.158872905969429e-7\n",
       " 9.106901298254041e-7\n",
       " 1.819798703278862e-6\n",
       " 3.024353832181621e-7\n",
       " 6.715935571759826e-7\n",
       " 5.705074243274775e-7\n",
       " 3.326789215579808e-7\n",
       " 2.922246346304535e-6\n",
       " 7.264821579064055e-7\n",
       " 3.024353832181621e-7\n",
       " ⋮\n",
       " 1.2210062473522803e-6\n",
       " 5.2242957085228576e-6\n",
       " 2.9316575667581142e-6\n",
       " 9.436794244633382e-7\n",
       " 7.219820797408957e-7\n",
       " 8.164282557823939e-7\n",
       " 3.024353832181621e-7\n",
       " 1.6376558963728642e-6\n",
       " 4.4964682851926755e-7\n",
       " 3.024353832181621e-7\n",
       " 8.083326101029732e-6\n",
       " 7.330951429043519e-7"
      ]
     },
     "execution_count": 87,
     "metadata": {},
     "output_type": "execute_result"
    }
   ],
   "source": [
    "using IterativeSolvers\n",
    "\n",
    "π1 = ones(n)./n\n",
    "gmres!(π1,I-transpose(P), zeros(n))"
   ]
  },
  {
   "cell_type": "code",
   "execution_count": 25,
   "id": "604e1209",
   "metadata": {
    "ExecuteTime": {
     "end_time": "2021-11-16T10:56:21.159000+09:00",
     "start_time": "2021-11-16T01:56:21.130Z"
    }
   },
   "outputs": [
    {
     "data": {
      "text/plain": [
       "916428×916428 LinearMaps.CompositeMap{Float64} with 2 maps:\n",
       "  1×916428 LinearMaps.WrappedMap{Float64} of\n",
       "    1×916428 transpose(::Vector{Float64}) with eltype Float64\n",
       "  916428×1 LinearMaps.WrappedMap{Float64} of\n",
       "    916428-element Vector{Float64}"
      ]
     },
     "execution_count": 25,
     "metadata": {},
     "output_type": "execute_result"
    }
   ],
   "source": [
    "LinearMap(ones(n))*LinearMap(transpose(ones(n)))"
   ]
  },
  {
   "cell_type": "code",
   "execution_count": 30,
   "id": "191e1d29",
   "metadata": {
    "ExecuteTime": {
     "end_time": "2021-11-16T10:57:28.730000+09:00",
     "start_time": "2021-11-16T01:57:28.534Z"
    }
   },
   "outputs": [
    {
     "data": {
      "text/plain": [
       "916428×916428 LinearMaps.KroneckerMap{Float64} with 2 maps:\n",
       "  76369×76369 LinearMaps.WrappedMap{Float64} of\n",
       "    76369×76369 Matrix{Float64}\n",
       "  12×12 LinearMaps.WrappedMap{Float64} of\n",
       "    12×12 Matrix{Float64}"
      ]
     },
     "execution_count": 30,
     "metadata": {},
     "output_type": "execute_result"
    }
   ],
   "source": [
    "J"
   ]
  },
  {
   "cell_type": "code",
   "execution_count": 3,
   "id": "2b43d155",
   "metadata": {
    "ExecuteTime": {
     "end_time": "2021-11-16T11:00:33.450000+09:00",
     "start_time": "2021-11-16T02:00:18.494Z"
    }
   },
   "outputs": [
    {
     "data": {
      "text/plain": [
       "916428×916428 LinearMaps.CompositeMap{Float64} with 2 maps:\n",
       "  916428×916428 LinearMaps.KroneckerMap{Float64} with 2 maps:\n",
       "    76369×76369 LinearMaps.WrappedMap{Float64} of\n",
       "      76369×76369 Matrix{Float64}\n",
       "    12×12 LinearMaps.WrappedMap{Float64} of\n",
       "      12×12 Matrix{Float64}\n",
       "  916428×916428 LinearMaps.WrappedMap{Float64} of\n",
       "    916428×916428 Diagonal{Float64, Vector{Float64}}"
      ]
     },
     "execution_count": 3,
     "metadata": {},
     "output_type": "execute_result"
    }
   ],
   "source": [
    "using LinearMaps\n",
    "a = zeros(n)\n",
    "a[i1,:] .= 1\n",
    "# J = LinearMap(ones(n))*LinearMap(ones(n))'\n",
    "J = kron(LinearMap(Matrix{Float64}(I, 76369, 76369)), LinearMap(Matrix{Float64}(I, 12, 12)))\n",
    "A_partial = LinearMap(Diagonal(a./n))*J # dangling -> 1/n prob."
   ]
  },
  {
   "cell_type": "code",
   "execution_count": 5,
   "id": "e4b41554",
   "metadata": {
    "ExecuteTime": {
     "end_time": "2021-11-16T11:02:13.157000+09:00",
     "start_time": "2021-11-16T02:02:12.590Z"
    }
   },
   "outputs": [
    {
     "data": {
      "text/plain": [
       "916428×916428 LinearMaps.WrappedMap{Float64} of\n",
       "  916428×916428 Diagonal{Float64, Vector{Float64}}"
      ]
     },
     "execution_count": 5,
     "metadata": {},
     "output_type": "execute_result"
    }
   ],
   "source": [
    "outdegree[outdegree .== 0] .= n\n",
    "R_inv = LinearMap(Diagonal((ones(n)./ outdegree)[:,1]))\n",
    "# R_inv : 1/r_1 1/r_2 ... 1/r_n diagonal\n",
    "# R_inv * A 하면 dangling row 처리가 안됨 (1/n 들어가야 할 자리에 0 이 들어가있음)"
   ]
  },
  {
   "cell_type": "code",
   "execution_count": 11,
   "id": "323edcbd",
   "metadata": {
    "ExecuteTime": {
     "end_time": "2021-11-16T11:04:05.446000+09:00",
     "start_time": "2021-11-16T02:04:05.411Z"
    }
   },
   "outputs": [],
   "source": [
    "# outdegree_inv = outdegree_inv + A_partial"
   ]
  },
  {
   "cell_type": "code",
   "execution_count": 13,
   "id": "6be50ed5",
   "metadata": {
    "ExecuteTime": {
     "end_time": "2021-11-16T11:04:32.068000+09:00",
     "start_time": "2021-11-16T02:04:31.194Z"
    }
   },
   "outputs": [
    {
     "data": {
      "text/plain": [
       "916428×916428 LinearMaps.LinearCombination{Float64} with 2 maps:\n",
       "  916428×916428 LinearMaps.ScaledMap{Float64} with scale: 2.1823863958761623e-7 of\n",
       "    916428×916428 LinearMaps.KroneckerMap{Float64} with 2 maps:\n",
       "      76369×76369 LinearMaps.WrappedMap{Float64} of\n",
       "        76369×76369 Matrix{Float64}\n",
       "      12×12 LinearMaps.WrappedMap{Float64} of\n",
       "        12×12 Matrix{Float64}\n",
       "  916428×916428 LinearMaps.ScaledMap{Float64} with scale: 0.8 of\n",
       "    916428×916428 LinearMaps.LinearCombination{Float64} with 2 maps:\n",
       "      916428×916428 LinearMaps.CompositeMap{Float64} with 2 maps:\n",
       "        916428×916428 LinearMaps.WrappedMap{Float64} of\n",
       "          916428×916428 SparseMatrixCSC{Float64, Int64}\n",
       "        916428×916428 LinearMaps.WrappedMap{Float64} of\n",
       "          916428×916428 Diagonal{Float64, Vector{Float64}}\n",
       "      916428×916428 LinearMaps.CompositeMap{Float64} with 2 maps:\n",
       "        916428×916428 LinearMaps.KroneckerMap{Float64} with 2 maps:\n",
       "          76369×76369 LinearMaps.WrappedMap{Float64} of\n",
       "            76369×76369 Matrix{Float64}\n",
       "          12×12 LinearMaps.WrappedMap{Float64} of\n",
       "            12×12 Matrix{Float64}\n",
       "        916428×916428 LinearMaps.WrappedMap{Float64} of\n",
       "          916428×916428 Diagonal{Float64, Vector{Float64}}"
      ]
     },
     "execution_count": 13,
     "metadata": {},
     "output_type": "execute_result"
    }
   ],
   "source": [
    "p=0.8\n",
    "A = LinearMap(convert.(Float64,md.A))\n",
    "P = (1-p)/n * J + p * (R_inv * A + A_partial)"
   ]
  },
  {
   "cell_type": "code",
   "execution_count": 10,
   "id": "496d6ba0",
   "metadata": {
    "ExecuteTime": {
     "end_time": "2021-11-16T10:41:34.638000+09:00",
     "start_time": "2021-11-16T01:41:34.484Z"
    }
   },
   "outputs": [
    {
     "data": {
      "text/plain": [
       "916428-element Vector{Float64}:\n",
       " 0.0\n",
       " 0.0\n",
       " 0.0\n",
       " 0.0\n",
       " 0.0\n",
       " 0.0\n",
       " 0.0\n",
       " 0.0\n",
       " 0.0\n",
       " 0.0\n",
       " 0.0\n",
       " 0.0\n",
       " 0.0\n",
       " ⋮\n",
       " 0.0\n",
       " 0.0\n",
       " 0.0\n",
       " 0.0\n",
       " 0.0\n",
       " 0.0\n",
       " 0.0\n",
       " 0.0\n",
       " 0.0\n",
       " 0.0\n",
       " 0.0\n",
       " 0.0"
      ]
     },
     "execution_count": 10,
     "metadata": {},
     "output_type": "execute_result"
    }
   ],
   "source": [
    "using IterativeSolvers\n",
    "π1 = ones(n)./n\n",
    "π1 = gmres(I-transpose(P), zeros(n))\n",
    "# gmres!(π1,I-transpose(P), zeros(n))"
   ]
  },
  {
   "cell_type": "code",
   "execution_count": 125,
   "id": "03de103b",
   "metadata": {
    "ExecuteTime": {
     "end_time": "2021-11-16T05:28:10.257000+09:00",
     "start_time": "2021-11-15T20:28:10.251Z"
    }
   },
   "outputs": [
    {
     "data": {
      "text/plain": [
       "916428"
      ]
     },
     "execution_count": 125,
     "metadata": {},
     "output_type": "execute_result"
    }
   ],
   "source": [
    "count(iszero, π1)"
   ]
  },
  {
   "cell_type": "markdown",
   "id": "efd778c4",
   "metadata": {},
   "source": [
    "----------------------------------------------"
   ]
  },
  {
   "cell_type": "code",
   "execution_count": 1,
   "id": "5f73e3a3",
   "metadata": {
    "ExecuteTime": {
     "end_time": "2021-11-14T01:12:01.160000+09:00",
     "start_time": "2021-11-13T16:11:24.836Z"
    }
   },
   "outputs": [
    {
     "name": "stderr",
     "output_type": "stream",
     "text": [
      "┌ Error: curl_easy_setopt: 48\n",
      "└ @ Downloads.Curl /Users/julia/buildbot/worker/package_macos64/build/usr/share/julia/stdlib/v1.6/Downloads/src/Curl/utils.jl:36\n",
      "┌ Error: curl_easy_setopt: 48\n",
      "└ @ Downloads.Curl /Users/julia/buildbot/worker/package_macos64/build/usr/share/julia/stdlib/v1.6/Downloads/src/Curl/utils.jl:36\n",
      "┌ Error: curl_easy_setopt: 48\n",
      "└ @ Downloads.Curl /Users/julia/buildbot/worker/package_macos64/build/usr/share/julia/stdlib/v1.6/Downloads/src/Curl/utils.jl:36\n"
     ]
    },
    {
     "name": "stdout",
     "output_type": "stream",
     "text": [
      "check\n",
      "check\n",
      "check\n",
      " 14.327488 seconds (48.12 M allocations: 2.775 GiB, 3.79% gc time)\n",
      "check\n",
      "----------------------------------------------------------------------------\n",
      "\tSCS v2.1.4 - Splitting Conic Solver\n",
      "\t(c) Brendan O'Donoghue, Stanford University, 2012\n",
      "----------------------------------------------------------------------------\n",
      "Lin-sys: sparse-indirect, nnz in A = 222, CG tol ~ 1/iter^(2.00)\n",
      "eps = 1.00e-05, alpha = 1.50, max_iters = 5000, normalize = 1, scale = 1.00\n",
      "acceleration_lookback = 10, rho_x = 1.00e-03\n",
      "Variables n = 19, constraints m = 36\n",
      "Cones:\tprimal zero / dual free vars: 1\n",
      "\tlinear vars: 35\n",
      "Setup time: 4.73e-05s\n",
      "----------------------------------------------------------------------------\n",
      " Iter | pri res | dua res | rel gap | pri obj | dua obj | kap/tau | time (s)\n",
      "----------------------------------------------------------------------------\n",
      "     0| 1.96e+19  8.37e+18  1.00e+00 -1.56e+21  1.55e+18  1.04e+21  2.61e-05 \n",
      "   100| 1.70e-02  1.99e-02  1.91e-01  3.05e-01  4.73e-02  5.88e-17  1.02e-03 \n",
      "   200| 1.07e-01  6.92e-01  1.17e-01  2.47e+00  3.26e+00  5.67e-16  1.97e-03 \n",
      "   300| 1.14e-03  6.84e-03  3.53e-04  5.71e+00  5.71e+00  5.69e-16  2.93e-03 \n",
      "   400| 2.54e-02  2.93e-01  1.79e-02  6.37e+00  6.62e+00  6.36e-16  3.88e-03 \n",
      "   500| 3.10e-02  2.10e-01  2.88e-03  7.41e+00  7.46e+00  8.26e-17  4.84e-03 \n",
      "   600| 5.29e-04  9.03e-03  7.61e-05  8.90e+00  8.90e+00  1.27e-16  5.80e-03 \n",
      "   700| 4.88e-04  4.99e-03  1.75e-04  8.89e+00  8.90e+00  3.73e-16  6.72e-03 \n",
      "   800| 4.89e-04  5.01e-03  1.74e-04  8.89e+00  8.90e+00  1.18e-15  7.63e-03 \n",
      "   900| 4.91e-04  4.95e-03  1.67e-04  8.89e+00  8.90e+00  1.14e-15  8.41e-03 \n",
      "  1000| 8.33e-03  8.38e-02  2.82e-03  8.89e+00  8.95e+00  2.05e-15  9.21e-03 \n",
      "  1100| 1.27e-03  8.80e-03  3.83e-05  8.90e+00  8.90e+00  2.57e-16  1.01e-02 \n",
      "  1200| 5.04e-04  3.55e-03  1.99e-04  8.91e+00  8.91e+00  1.70e-16  1.10e-02 \n",
      "  1300| 3.17e-04  3.13e-03  8.79e-05  8.92e+00  8.92e+00  1.18e-15  1.20e-02 \n",
      "  1400| 1.63e-04  1.72e-03  7.35e-05  8.92e+00  8.92e+00  2.31e-15  1.29e-02 \n",
      "  1500| 5.56e-04  4.21e-03  1.14e-05  8.91e+00  8.91e+00  2.67e-16  1.39e-02 \n",
      "  1600| 5.78e-04  5.12e-04  1.09e-05  8.91e+00  8.91e+00  1.41e-15  1.49e-02 \n",
      "  1700| 5.30e-04  4.85e-03  6.88e-05  8.89e+00  8.90e+00  1.46e-15  1.59e-02 \n",
      "  1800| 5.23e-04  5.23e-03  1.76e-04  8.89e+00  8.90e+00  1.22e-15  1.68e-02 \n",
      "  1900| 8.46e-04  8.52e-03  2.88e-04  8.89e+00  8.90e+00  2.08e-15  1.78e-02 \n",
      "  2000| 2.80e-04  5.67e-03  1.38e-04  8.89e+00  8.89e+00  8.06e-16  1.86e-02 \n",
      "  2100| 9.58e-03  9.64e-02  3.24e-03  8.89e+00  8.95e+00  7.28e-16  1.95e-02 \n",
      "  2200| 3.64e-03  3.66e-02  1.24e-03  8.89e+00  8.92e+00  2.97e-15  2.04e-02 \n",
      "  2300| 8.08e-05  9.13e-04  1.59e-06  8.89e+00  8.89e+00  4.02e-16  2.12e-02 \n",
      "  2400| 1.47e-02  1.49e-01  4.99e-03  8.89e+00  8.99e+00  1.74e-15  2.22e-02 \n",
      "  2500| 7.16e-04  2.21e-03  1.50e-04  8.90e+00  8.90e+00  8.48e-16  2.31e-02 \n",
      "  2600| 5.99e-04  5.55e-03  1.81e-04  8.89e+00  8.90e+00  6.93e-16  2.41e-02 \n",
      "  2700| 4.91e-04  4.95e-03  1.67e-04  8.89e+00  8.90e+00  7.85e-16  2.50e-02 \n",
      "  2800| 5.99e-04  8.53e-03  4.19e-04  8.89e+00  8.90e+00  8.19e-16  2.59e-02 \n",
      "  2900| 4.92e-04  4.95e-03  1.68e-04  8.89e+00  8.90e+00  1.67e-15  2.68e-02 \n",
      "  3000| 2.39e-04  5.20e-03  1.00e-04  8.89e+00  8.90e+00  2.96e-15  2.77e-02 \n",
      "  3100| 4.90e-04  5.79e-03  2.40e-04  8.90e+00  8.90e+00  4.59e-16  2.87e-02 \n",
      "  3200| 4.91e-04  4.94e-03  1.67e-04  8.89e+00  8.90e+00  1.59e-15  2.96e-02 \n",
      "  3300| 5.19e-04  4.01e-03  1.67e-04  8.90e+00  8.90e+00  1.09e-15  3.05e-02 \n",
      "  3400| 5.88e-04  1.27e-03  2.08e-05  8.90e+00  8.90e+00  1.18e-15  3.15e-02 \n",
      "  3500| 4.14e+00  4.17e+01  5.88e-01  8.77e+00  3.52e+01  6.12e-16  3.24e-02 \n",
      "  3600| 6.26e-04  7.84e-03  5.51e-05  8.93e+00  8.93e+00  1.33e-15  3.34e-02 \n",
      "  3700| 4.92e-04  4.94e-03  1.67e-04  8.89e+00  8.90e+00  9.47e-16  3.44e-02 \n",
      "  3800| 4.91e-04  4.95e-03  1.67e-04  8.89e+00  8.90e+00  2.68e-15  3.52e-02 \n",
      "  3900| 4.92e-04  4.95e-03  1.66e-04  8.89e+00  8.90e+00  1.65e-15  3.62e-02 \n",
      "  4000| 4.91e-04  4.95e-03  1.67e-04  8.89e+00  8.90e+00  2.07e-15  3.71e-02 \n",
      "  4100| 4.60e-04  4.62e-03  1.48e-04  8.90e+00  8.90e+00  1.23e-15  3.80e-02 \n",
      "  4200| 4.91e-04  4.95e-03  1.67e-04  8.89e+00  8.90e+00  4.26e-16  3.89e-02 \n",
      "  4300| 5.05e-04  5.62e-03  2.07e-04  8.90e+00  8.90e+00  2.82e-17  3.99e-02 \n",
      "  4400| 3.83e-04  3.73e-03  1.30e-04  8.90e+00  8.91e+00  8.28e-16  4.08e-02 \n",
      "  4500| 6.25e-01  5.54e+00  6.35e-04  8.98e+00  8.99e+00  5.04e-16  4.18e-02 \n",
      "  4600| 2.48e-05  1.85e-04  1.82e-05  8.93e+00  8.93e+00  7.36e-16  4.27e-02 \n",
      "  4700| 2.02e-04  3.08e-03  1.65e-04  8.90e+00  8.90e+00  8.06e-17  4.37e-02 \n",
      "  4800| 1.70e-02  1.49e-01  5.76e-05  8.94e+00  8.94e+00  2.47e-17  4.47e-02 \n",
      "  4900| 1.56e-04  1.88e-03  9.79e-06  8.93e+00  8.94e+00  1.54e-15  4.56e-02 \n",
      "  5000| 4.74e-01  4.25e+00  7.60e-03  8.95e+00  9.09e+00  8.82e-18  4.66e-02 \n",
      "----------------------------------------------------------------------------\n",
      "Status: Solved/Inaccurate\n",
      "Hit max_iters, solution may be inaccurate, returning best found solution.\n",
      "Timing: Solve time: 4.66e-02s\n",
      "\tLin-sys: avg # CG iterations: 12.90, avg solve time: 3.79e-06s\n",
      "\tCones: avg projection time: 2.15e-08s\n",
      "\tAcceleration: avg step time: 4.93e-06s\n",
      "----------------------------------------------------------------------------\n",
      "Error metrics:\n",
      "dist(s, K) = 1.1074e-13, dist(y, K*) = 0.0000e+00, s'y/|s||y| = -1.5301e-15\n",
      "primal res: |Ax + s - b|_2 / (1 + |b|_2) = 1.8480e-05\n",
      "dual res:   |A'y + c|_2 / (1 + |c|_2) = 1.6019e-04\n",
      "rel gap:    |c'x + b'y| / (1 + |c'x| + |b'y|) = 5.4515e-06\n",
      "----------------------------------------------------------------------------\n",
      "c'x = 8.9353, -b'y = 8.9352\n",
      "============================================================================\n"
     ]
    },
    {
     "name": "stderr",
     "output_type": "stream",
     "text": [
      "┌ Warning: Problem status ALMOST_OPTIMAL; solution may be inaccurate.\n",
      "└ @ Convex /Users/youp/.julia/packages/Convex/d5zVE/src/solution.jl:250\n"
     ]
    }
   ],
   "source": [
    "using CSV\n",
    "using DataFrames\n",
    "data = CSV.read(download(\"https://web.stanford.edu/~hastie/ElemStatLearn/datasets/prostate.data\"), DataFrame)\n",
    "\n",
    "data[!,\"age\"] = convert.(Float64,data[:,\"age\"])\n",
    "data[!,\"pgg45\"] = convert.(Float64,data[:,\"pgg45\"])\n",
    "data[!,\"svi\"] = convert.(Float64,data[:,\"svi\"])\n",
    "data[!,\"gleason\"] = convert.(Float64,data[:,\"gleason\"])\n",
    "\n",
    "\n",
    "X = data[:, Not([\"Column1\",\"lpsa\",\"train\"])]\n",
    "y = data[:, \"lpsa\"]\n",
    "\n",
    "\n",
    "using Statistics\n",
    "μ = mean.(eachcol(X))\n",
    "σ = std.(eachcol(X))\n",
    "n=size(X,1)\n",
    "\n",
    "for i in 1:8\n",
    "    X[:,i] = (X[:,i] .- μ[i])./σ[i]\n",
    "end\n",
    "X = [ones(n) X]\n",
    "\n",
    "\n",
    "# split data\n",
    "n = size(X, 1)\n",
    "using StatsBase, DataFrames\n",
    "n_train = convert(Int64, round(0.8*n))\n",
    "idx = sample(1:n,n_train, replace=false)\n",
    "Xtrain, ytrain = Matrix(X[idx, :]), y[idx, :]\n",
    "Xtest, ytest = Matrix(X[Not(idx), :]), y[Not(idx), :]\n",
    "\n",
    "\n",
    "\n",
    "using Random, LinearAlgebra, SparseArrays\n",
    "using Convex\n",
    "println(\"check\")\n",
    "t=1\n",
    "s=Variable(1)\n",
    "β̂dantzig = Variable(size(Xtrain,2))\n",
    "println(\"check\")\n",
    "problem = minimize(s) # objective\n",
    "problem.constraints += transpose(Xtrain)*(ytrain - Xtrain * β̂dantzig) <= s*ones(size(Xtrain,2))\n",
    "problem.constraints += transpose(Xtrain)*(ytrain - Xtrain * β̂dantzig) >= -s*ones(size(Xtrain,2))\n",
    "problem.constraints += sum(abs.(β̂dantzig)[2:end]) <= t\n",
    "println(\"check\")\n",
    "# problem = minimize( norm( transpose(Xtrain) * (ytrain - Xtrain*β̂dantzig), Inf) )\n",
    "# problem.constraints += norm(β̂dantzig[2:end],1)<= t\n",
    "\n",
    "using SCS\n",
    "opt = () -> SCS.Optimizer()\n",
    "@time solve!(problem, opt)\n",
    "println(\"check\")"
   ]
  },
  {
   "cell_type": "markdown",
   "id": "142c4c39",
   "metadata": {},
   "source": [
    "# 통계계산 과제3"
   ]
  },
  {
   "cell_type": "code",
   "execution_count": 1,
   "id": "115914f8",
   "metadata": {
    "ExecuteTime": {
     "end_time": "2021-11-12T00:39:13.145000+09:00",
     "start_time": "2021-11-11T15:38:46.438Z"
    },
    "scrolled": true
   },
   "outputs": [
    {
     "name": "stderr",
     "output_type": "stream",
     "text": [
      "┌ Error: curl_easy_setopt: 48\n",
      "└ @ Downloads.Curl /Users/julia/buildbot/worker/package_macos64/build/usr/share/julia/stdlib/v1.6/Downloads/src/Curl/utils.jl:36\n",
      "┌ Error: curl_easy_setopt: 48\n",
      "└ @ Downloads.Curl /Users/julia/buildbot/worker/package_macos64/build/usr/share/julia/stdlib/v1.6/Downloads/src/Curl/utils.jl:36\n",
      "┌ Error: curl_easy_setopt: 48\n",
      "└ @ Downloads.Curl /Users/julia/buildbot/worker/package_macos64/build/usr/share/julia/stdlib/v1.6/Downloads/src/Curl/utils.jl:36\n"
     ]
    },
    {
     "name": "stdout",
     "output_type": "stream",
     "text": [
      "\u001b[1m97×11 DataFrame\u001b[0m\n",
      "\u001b[1m Row \u001b[0m│\u001b[1m Column1 \u001b[0m\u001b[1m lcavol    \u001b[0m\u001b[1m lweight \u001b[0m\u001b[1m age   \u001b[0m\u001b[1m lbph      \u001b[0m\u001b[1m svi   \u001b[0m\u001b[1m lcp       \u001b[0m\u001b[1m gleason \u001b[0m\u001b[1m pgg45 \u001b[0m\u001b[1m lpsa      \u001b[0m\u001b[1m train \u001b[0m\n",
      "\u001b[1m     \u001b[0m│\u001b[90m Int64   \u001b[0m\u001b[90m Float64   \u001b[0m\u001b[90m Float64 \u001b[0m\u001b[90m Int64 \u001b[0m\u001b[90m Float64   \u001b[0m\u001b[90m Int64 \u001b[0m\u001b[90m Float64   \u001b[0m\u001b[90m Int64   \u001b[0m\u001b[90m Int64 \u001b[0m\u001b[90m Float64   \u001b[0m\u001b[90m Bool  \u001b[0m\n",
      "─────┼───────────────────────────────────────────────────────────────────────────────────────────────────\n",
      "   1 │       1  -0.579818  2.76946     50  -1.38629       0  -1.38629         6      0  -0.430783   true\n",
      "   2 │       2  -0.994252  3.31963     58  -1.38629       0  -1.38629         6      0  -0.162519   true\n",
      "   3 │       3  -0.510826  2.69124     74  -1.38629       0  -1.38629         7     20  -0.162519   true\n",
      "   4 │       4  -1.20397   3.28279     58  -1.38629       0  -1.38629         6      0  -0.162519   true\n",
      "   5 │       5   0.751416  3.43237     62  -1.38629       0  -1.38629         6      0   0.371564   true\n",
      "   6 │       6  -1.04982   3.22883     50  -1.38629       0  -1.38629         6      0   0.765468   true\n",
      "   7 │       7   0.737164  3.47352     64   0.615186      0  -1.38629         6      0   0.765468  false\n",
      "   8 │       8   0.693147  3.53951     58   1.53687       0  -1.38629         6      0   0.854415   true\n",
      "   9 │       9  -0.776529  3.53951     47  -1.38629       0  -1.38629         6      0   1.04732   false\n",
      "  10 │      10   0.223144  3.24454     63  -1.38629       0  -1.38629         6      0   1.04732   false\n",
      "  11 │      11   0.254642  3.60414     65  -1.38629       0  -1.38629         6      0   1.26695    true\n",
      "  ⋮  │    ⋮         ⋮         ⋮       ⋮        ⋮        ⋮        ⋮         ⋮       ⋮        ⋮        ⋮\n",
      "  88 │      88   1.73166   3.36902     62  -1.38629       1   0.300105        7     30   3.71235    true\n",
      "  89 │      89   2.80759   4.71805     65  -1.38629       1   2.46385         7     60   3.98434    true\n",
      "  90 │      90   1.56235   3.69511     76   0.936093      1   0.81093         7     75   3.9936     true\n",
      "  91 │      91   3.24649   4.10182     68  -1.38629       0  -1.38629         6      0   4.02981    true\n",
      "  92 │      92   2.5329    3.67757     61   1.34807       1  -1.38629         7     15   4.12955    true\n",
      "  93 │      93   2.83027   3.8764      68  -1.38629       1   1.32176         7     60   4.38515    true\n",
      "  94 │      94   3.821     3.89691     44  -1.38629       1   2.16905         7     40   4.68444    true\n",
      "  95 │      95   2.90745   3.39619     52  -1.38629       1   2.46385         7     10   5.14312   false\n",
      "  96 │      96   2.88256   3.77391     68   1.55814       1   1.55814         7     80   5.47751    true\n",
      "  97 │      97   3.47197   3.975       68   0.438255      1   2.90417         7     20   5.58293   false\n",
      "\u001b[36m                                                                                          76 rows omitted\u001b[0m"
     ]
    }
   ],
   "source": [
    "using CSV\n",
    "using DataFrames\n",
    "data = CSV.read(download(\"https://web.stanford.edu/~hastie/ElemStatLearn/datasets/prostate.data\"), DataFrame)\n",
    "show(data, allcols=true)"
   ]
  },
  {
   "cell_type": "code",
   "execution_count": 2,
   "id": "e4a37a32",
   "metadata": {
    "ExecuteTime": {
     "end_time": "2021-11-12T00:39:14.424000+09:00",
     "start_time": "2021-11-11T15:38:46.786Z"
    },
    "scrolled": true
   },
   "outputs": [
    {
     "data": {
      "text/plain": [
       "97-element Vector{Float64}:\n",
       " -0.4307829\n",
       " -0.1625189\n",
       " -0.1625189\n",
       " -0.1625189\n",
       "  0.3715636\n",
       "  0.7654678\n",
       "  0.7654678\n",
       "  0.8544153\n",
       "  1.047319\n",
       "  1.047319\n",
       "  1.2669476\n",
       "  1.2669476\n",
       "  1.2669476\n",
       "  ⋮\n",
       "  3.6309855\n",
       "  3.6800909\n",
       "  3.7123518\n",
       "  3.9843437\n",
       "  3.993603\n",
       "  4.029806\n",
       "  4.1295508\n",
       "  4.3851468\n",
       "  4.6844434\n",
       "  5.1431245\n",
       "  5.477509\n",
       "  5.5829322"
      ]
     },
     "execution_count": 2,
     "metadata": {},
     "output_type": "execute_result"
    }
   ],
   "source": [
    "data[!,\"age\"] = convert.(Float64,data[:,\"age\"])\n",
    "data[!,\"pgg45\"] = convert.(Float64,data[:,\"pgg45\"])\n",
    "data[!,\"svi\"] = convert.(Float64,data[:,\"svi\"])\n",
    "data[!,\"gleason\"] = convert.(Float64,data[:,\"gleason\"])\n",
    "\n",
    "\n",
    "X = data[:, Not([\"Column1\",\"lpsa\",\"train\"])]\n",
    "y = data[:, \"lpsa\"]"
   ]
  },
  {
   "cell_type": "code",
   "execution_count": 3,
   "id": "09fcc019",
   "metadata": {
    "ExecuteTime": {
     "end_time": "2021-11-12T00:39:14.968000+09:00",
     "start_time": "2021-11-11T15:38:46.933Z"
    },
    "scrolled": true
   },
   "outputs": [
    {
     "data": {
      "text/html": [
       "<div class=\"data-frame\"><p>97 rows × 9 columns (omitted printing of 1 columns)</p><table class=\"data-frame\"><thead><tr><th></th><th>x1</th><th>lcavol</th><th>lweight</th><th>age</th><th>lbph</th><th>svi</th><th>lcp</th><th>gleason</th></tr><tr><th></th><th title=\"Float64\">Float64</th><th title=\"Float64\">Float64</th><th title=\"Float64\">Float64</th><th title=\"Float64\">Float64</th><th title=\"Float64\">Float64</th><th title=\"Float64\">Float64</th><th title=\"Float64\">Float64</th><th title=\"Float64\">Float64</th></tr></thead><tbody><tr><th>1</th><td>1.0</td><td>-1.63736</td><td>-2.00621</td><td>-1.86243</td><td>-1.02471</td><td>-0.522941</td><td>-0.863171</td><td>-1.04216</td></tr><tr><th>2</th><td>1.0</td><td>-1.98898</td><td>-0.722009</td><td>-0.787896</td><td>-1.02471</td><td>-0.522941</td><td>-0.863171</td><td>-1.04216</td></tr><tr><th>3</th><td>1.0</td><td>-1.57882</td><td>-2.18878</td><td>1.36116</td><td>-1.02471</td><td>-0.522941</td><td>-0.863171</td><td>0.342627</td></tr><tr><th>4</th><td>1.0</td><td>-2.16692</td><td>-0.807994</td><td>-0.787896</td><td>-1.02471</td><td>-0.522941</td><td>-0.863171</td><td>-1.04216</td></tr><tr><th>5</th><td>1.0</td><td>-0.507874</td><td>-0.458834</td><td>-0.250631</td><td>-1.02471</td><td>-0.522941</td><td>-0.863171</td><td>-1.04216</td></tr><tr><th>6</th><td>1.0</td><td>-2.03613</td><td>-0.933955</td><td>-1.86243</td><td>-1.02471</td><td>-0.522941</td><td>-0.863171</td><td>-1.04216</td></tr><tr><th>7</th><td>1.0</td><td>-0.519967</td><td>-0.362793</td><td>0.0180011</td><td>0.354858</td><td>-0.522941</td><td>-0.863171</td><td>-1.04216</td></tr><tr><th>8</th><td>1.0</td><td>-0.557313</td><td>-0.208757</td><td>-0.787896</td><td>0.990147</td><td>-0.522941</td><td>-0.863171</td><td>-1.04216</td></tr><tr><th>9</th><td>1.0</td><td>-1.80425</td><td>-0.208757</td><td>-2.26537</td><td>-1.02471</td><td>-0.522941</td><td>-0.863171</td><td>-1.04216</td></tr><tr><th>10</th><td>1.0</td><td>-0.956085</td><td>-0.897266</td><td>-0.116315</td><td>-1.02471</td><td>-0.522941</td><td>-0.863171</td><td>-1.04216</td></tr><tr><th>11</th><td>1.0</td><td>-0.92936</td><td>-0.0578992</td><td>0.152317</td><td>-1.02471</td><td>-0.522941</td><td>-0.863171</td><td>-1.04216</td></tr><tr><th>12</th><td>1.0</td><td>-2.28833</td><td>-0.0706369</td><td>-0.116315</td><td>0.804099</td><td>-0.522941</td><td>-0.863171</td><td>-1.04216</td></tr><tr><th>13</th><td>1.0</td><td>0.223498</td><td>-1.41472</td><td>-0.116315</td><td>-1.02471</td><td>-0.522941</td><td>-0.299282</td><td>0.342627</td></tr><tr><th>14</th><td>1.0</td><td>0.107786</td><td>-1.47222</td><td>0.42095</td><td>-1.02471</td><td>-0.522941</td><td>-0.863171</td><td>0.342627</td></tr><tr><th>15</th><td>1.0</td><td>-0.122209</td><td>-0.436318</td><td>-0.922212</td><td>-1.02471</td><td>-0.522941</td><td>-0.179809</td><td>0.342627</td></tr><tr><th>16</th><td>1.0</td><td>0.16218</td><td>-1.32557</td><td>0.286634</td><td>-1.02471</td><td>-0.522941</td><td>-0.863171</td><td>-1.04216</td></tr><tr><th>17</th><td>1.0</td><td>-1.49795</td><td>-0.263601</td><td>0.823898</td><td>0.788388</td><td>-0.522941</td><td>-0.299282</td><td>0.342627</td></tr><tr><th>18</th><td>1.0</td><td>0.796247</td><td>0.0476559</td><td>0.286634</td><td>-1.02471</td><td>-0.522941</td><td>0.394013</td><td>-1.04216</td></tr><tr><th>19</th><td>1.0</td><td>-1.62234</td><td>-0.843294</td><td>-3.07127</td><td>-1.02471</td><td>-0.522941</td><td>-0.863171</td><td>-1.04216</td></tr><tr><th>20</th><td>1.0</td><td>-0.990721</td><td>0.458514</td><td>0.823898</td><td>1.0738</td><td>-0.522941</td><td>-0.863171</td><td>-1.04216</td></tr><tr><th>21</th><td>1.0</td><td>-0.171901</td><td>-0.489197</td><td>-0.65358</td><td>-1.02471</td><td>-0.522941</td><td>-0.863171</td><td>-1.04216</td></tr><tr><th>22</th><td>1.0</td><td>0.601743</td><td>-0.298544</td><td>-0.519264</td><td>0.94734</td><td>-0.522941</td><td>1.09239</td><td>0.342627</td></tr><tr><th>23</th><td>1.0</td><td>-1.60758</td><td>-0.5907</td><td>-0.65358</td><td>-0.619561</td><td>-0.522941</td><td>-0.863171</td><td>-1.04216</td></tr><tr><th>24</th><td>1.0</td><td>0.366274</td><td>-0.414015</td><td>-0.116315</td><td>0.232904</td><td>-0.522941</td><td>0.971229</td><td>0.342627</td></tr><tr><th>25</th><td>1.0</td><td>-0.818536</td><td>0.0897673</td><td>0.689582</td><td>1.03324</td><td>-0.522941</td><td>-0.863171</td><td>-1.04216</td></tr><tr><th>26</th><td>1.0</td><td>0.0822224</td><td>-1.17732</td><td>0.555266</td><td>0.137681</td><td>-0.522941</td><td>-0.863171</td><td>-1.04216</td></tr><tr><th>27</th><td>1.0</td><td>-0.710307</td><td>0.211732</td><td>0.152317</td><td>-1.02471</td><td>-0.522941</td><td>-0.442798</td><td>0.342627</td></tr><tr><th>28</th><td>1.0</td><td>-1.48519</td><td>0.553292</td><td>0.42095</td><td>1.18286</td><td>-0.522941</td><td>-0.863171</td><td>0.342627</td></tr><tr><th>29</th><td>1.0</td><td>-0.262792</td><td>-1.16708</td><td>0.42095</td><td>0.0846343</td><td>-0.522941</td><td>0.163172</td><td>0.342627</td></tr><tr><th>30</th><td>1.0</td><td>0.899043</td><td>-0.5907</td><td>0.152317</td><td>-1.02471</td><td>-0.522941</td><td>1.28643</td><td>-1.04216</td></tr><tr><th>&vellip;</th><td>&vellip;</td><td>&vellip;</td><td>&vellip;</td><td>&vellip;</td><td>&vellip;</td><td>&vellip;</td><td>&vellip;</td><td>&vellip;</td></tr></tbody></table></div>"
      ],
      "text/latex": [
       "\\begin{tabular}{r|ccccccccc}\n",
       "\t& x1 & lcavol & lweight & age & lbph & svi & lcp & gleason & \\\\\n",
       "\t\\hline\n",
       "\t& Float64 & Float64 & Float64 & Float64 & Float64 & Float64 & Float64 & Float64 & \\\\\n",
       "\t\\hline\n",
       "\t1 & 1.0 & -1.63736 & -2.00621 & -1.86243 & -1.02471 & -0.522941 & -0.863171 & -1.04216 & $\\dots$ \\\\\n",
       "\t2 & 1.0 & -1.98898 & -0.722009 & -0.787896 & -1.02471 & -0.522941 & -0.863171 & -1.04216 & $\\dots$ \\\\\n",
       "\t3 & 1.0 & -1.57882 & -2.18878 & 1.36116 & -1.02471 & -0.522941 & -0.863171 & 0.342627 & $\\dots$ \\\\\n",
       "\t4 & 1.0 & -2.16692 & -0.807994 & -0.787896 & -1.02471 & -0.522941 & -0.863171 & -1.04216 & $\\dots$ \\\\\n",
       "\t5 & 1.0 & -0.507874 & -0.458834 & -0.250631 & -1.02471 & -0.522941 & -0.863171 & -1.04216 & $\\dots$ \\\\\n",
       "\t6 & 1.0 & -2.03613 & -0.933955 & -1.86243 & -1.02471 & -0.522941 & -0.863171 & -1.04216 & $\\dots$ \\\\\n",
       "\t7 & 1.0 & -0.519967 & -0.362793 & 0.0180011 & 0.354858 & -0.522941 & -0.863171 & -1.04216 & $\\dots$ \\\\\n",
       "\t8 & 1.0 & -0.557313 & -0.208757 & -0.787896 & 0.990147 & -0.522941 & -0.863171 & -1.04216 & $\\dots$ \\\\\n",
       "\t9 & 1.0 & -1.80425 & -0.208757 & -2.26537 & -1.02471 & -0.522941 & -0.863171 & -1.04216 & $\\dots$ \\\\\n",
       "\t10 & 1.0 & -0.956085 & -0.897266 & -0.116315 & -1.02471 & -0.522941 & -0.863171 & -1.04216 & $\\dots$ \\\\\n",
       "\t11 & 1.0 & -0.92936 & -0.0578992 & 0.152317 & -1.02471 & -0.522941 & -0.863171 & -1.04216 & $\\dots$ \\\\\n",
       "\t12 & 1.0 & -2.28833 & -0.0706369 & -0.116315 & 0.804099 & -0.522941 & -0.863171 & -1.04216 & $\\dots$ \\\\\n",
       "\t13 & 1.0 & 0.223498 & -1.41472 & -0.116315 & -1.02471 & -0.522941 & -0.299282 & 0.342627 & $\\dots$ \\\\\n",
       "\t14 & 1.0 & 0.107786 & -1.47222 & 0.42095 & -1.02471 & -0.522941 & -0.863171 & 0.342627 & $\\dots$ \\\\\n",
       "\t15 & 1.0 & -0.122209 & -0.436318 & -0.922212 & -1.02471 & -0.522941 & -0.179809 & 0.342627 & $\\dots$ \\\\\n",
       "\t16 & 1.0 & 0.16218 & -1.32557 & 0.286634 & -1.02471 & -0.522941 & -0.863171 & -1.04216 & $\\dots$ \\\\\n",
       "\t17 & 1.0 & -1.49795 & -0.263601 & 0.823898 & 0.788388 & -0.522941 & -0.299282 & 0.342627 & $\\dots$ \\\\\n",
       "\t18 & 1.0 & 0.796247 & 0.0476559 & 0.286634 & -1.02471 & -0.522941 & 0.394013 & -1.04216 & $\\dots$ \\\\\n",
       "\t19 & 1.0 & -1.62234 & -0.843294 & -3.07127 & -1.02471 & -0.522941 & -0.863171 & -1.04216 & $\\dots$ \\\\\n",
       "\t20 & 1.0 & -0.990721 & 0.458514 & 0.823898 & 1.0738 & -0.522941 & -0.863171 & -1.04216 & $\\dots$ \\\\\n",
       "\t21 & 1.0 & -0.171901 & -0.489197 & -0.65358 & -1.02471 & -0.522941 & -0.863171 & -1.04216 & $\\dots$ \\\\\n",
       "\t22 & 1.0 & 0.601743 & -0.298544 & -0.519264 & 0.94734 & -0.522941 & 1.09239 & 0.342627 & $\\dots$ \\\\\n",
       "\t23 & 1.0 & -1.60758 & -0.5907 & -0.65358 & -0.619561 & -0.522941 & -0.863171 & -1.04216 & $\\dots$ \\\\\n",
       "\t24 & 1.0 & 0.366274 & -0.414015 & -0.116315 & 0.232904 & -0.522941 & 0.971229 & 0.342627 & $\\dots$ \\\\\n",
       "\t25 & 1.0 & -0.818536 & 0.0897673 & 0.689582 & 1.03324 & -0.522941 & -0.863171 & -1.04216 & $\\dots$ \\\\\n",
       "\t26 & 1.0 & 0.0822224 & -1.17732 & 0.555266 & 0.137681 & -0.522941 & -0.863171 & -1.04216 & $\\dots$ \\\\\n",
       "\t27 & 1.0 & -0.710307 & 0.211732 & 0.152317 & -1.02471 & -0.522941 & -0.442798 & 0.342627 & $\\dots$ \\\\\n",
       "\t28 & 1.0 & -1.48519 & 0.553292 & 0.42095 & 1.18286 & -0.522941 & -0.863171 & 0.342627 & $\\dots$ \\\\\n",
       "\t29 & 1.0 & -0.262792 & -1.16708 & 0.42095 & 0.0846343 & -0.522941 & 0.163172 & 0.342627 & $\\dots$ \\\\\n",
       "\t30 & 1.0 & 0.899043 & -0.5907 & 0.152317 & -1.02471 & -0.522941 & 1.28643 & -1.04216 & $\\dots$ \\\\\n",
       "\t$\\dots$ & $\\dots$ & $\\dots$ & $\\dots$ & $\\dots$ & $\\dots$ & $\\dots$ & $\\dots$ & $\\dots$ &  \\\\\n",
       "\\end{tabular}\n"
      ],
      "text/plain": [
       "\u001b[1m97×9 DataFrame\u001b[0m\n",
       "\u001b[1m Row \u001b[0m│\u001b[1m x1      \u001b[0m\u001b[1m lcavol    \u001b[0m\u001b[1m lweight    \u001b[0m\u001b[1m age        \u001b[0m\u001b[1m lbph      \u001b[0m\u001b[1m svi       \u001b[0m\u001b[1m lcp  \u001b[0m ⋯\n",
       "\u001b[1m     \u001b[0m│\u001b[90m Float64 \u001b[0m\u001b[90m Float64   \u001b[0m\u001b[90m Float64    \u001b[0m\u001b[90m Float64    \u001b[0m\u001b[90m Float64   \u001b[0m\u001b[90m Float64   \u001b[0m\u001b[90m Float\u001b[0m ⋯\n",
       "─────┼──────────────────────────────────────────────────────────────────────────\n",
       "   1 │     1.0  -1.63736   -2.00621    -1.86243    -1.02471   -0.522941  -0.86 ⋯\n",
       "   2 │     1.0  -1.98898   -0.722009   -0.787896   -1.02471   -0.522941  -0.86\n",
       "   3 │     1.0  -1.57882   -2.18878     1.36116    -1.02471   -0.522941  -0.86\n",
       "   4 │     1.0  -2.16692   -0.807994   -0.787896   -1.02471   -0.522941  -0.86\n",
       "   5 │     1.0  -0.507874  -0.458834   -0.250631   -1.02471   -0.522941  -0.86 ⋯\n",
       "   6 │     1.0  -2.03613   -0.933955   -1.86243    -1.02471   -0.522941  -0.86\n",
       "   7 │     1.0  -0.519967  -0.362793    0.0180011   0.354858  -0.522941  -0.86\n",
       "   8 │     1.0  -0.557313  -0.208757   -0.787896    0.990147  -0.522941  -0.86\n",
       "   9 │     1.0  -1.80425   -0.208757   -2.26537    -1.02471   -0.522941  -0.86 ⋯\n",
       "  10 │     1.0  -0.956085  -0.897266   -0.116315   -1.02471   -0.522941  -0.86\n",
       "  11 │     1.0  -0.92936   -0.0578992   0.152317   -1.02471   -0.522941  -0.86\n",
       "  ⋮  │    ⋮         ⋮          ⋮           ⋮           ⋮          ⋮          ⋮ ⋱\n",
       "  88 │     1.0   0.323806  -0.606718   -0.250631   -1.02471    1.89255    0.34\n",
       "  89 │     1.0   1.23668    2.54221     0.152317   -1.02471    1.89255    1.89 ⋯\n",
       "  90 │     1.0   0.180156   0.154448    1.6298      0.57605    1.89255    0.70\n",
       "  91 │     1.0   1.60906    1.10379     0.555266   -1.02471   -0.522941  -0.86\n",
       "  92 │     1.0   1.00362    0.113497   -0.384948    0.860016   1.89255   -0.86\n",
       "  93 │     1.0   1.25592    0.577607    0.555266   -1.02471    1.89255    1.07 ⋯\n",
       "  94 │     1.0   2.09651    0.625489   -2.66832    -1.02471    1.89255    1.67\n",
       "  95 │     1.0   1.3214    -0.543304   -1.59379    -1.02471    1.89255    1.89\n",
       "  96 │     1.0   1.30029    0.338384    0.555266    1.00481    1.89255    1.24\n",
       "  97 │     1.0   1.80037    0.807764    0.555266    0.232904   1.89255    2.20 ⋯\n",
       "\u001b[36m                                                   3 columns and 76 rows omitted\u001b[0m"
      ]
     },
     "execution_count": 3,
     "metadata": {},
     "output_type": "execute_result"
    }
   ],
   "source": [
    "using Statistics\n",
    "μ = mean.(eachcol(X))\n",
    "σ = std.(eachcol(X))\n",
    "n=size(X,1)\n",
    "\n",
    "for i in 1:8\n",
    "    X[:,i] = (X[:,i] .- μ[i])./σ[i]\n",
    "end\n",
    "X = [ones(n) X]"
   ]
  },
  {
   "cell_type": "code",
   "execution_count": 4,
   "id": "a3b6def9",
   "metadata": {
    "ExecuteTime": {
     "end_time": "2021-11-12T00:39:15.883000+09:00",
     "start_time": "2021-11-11T15:38:47.101Z"
    },
    "scrolled": true
   },
   "outputs": [
    {
     "data": {
      "text/plain": [
       "([1.0 -1.6373556264810392 … -1.0421572891929798 -0.8644665073373063; 1.0 -1.98898046126935 … -1.0421572891929798 -0.8644665073373063; … ; 1.0 0.5720085322365001 … -1.0421572891929798 -0.8644665073373063; 1.0 1.2366820671589758 … 0.3426270539812537 1.2628887031079887], [-0.4307829; -0.1625189; … ; 3.6800909; 3.9843437])"
      ]
     },
     "execution_count": 4,
     "metadata": {},
     "output_type": "execute_result"
    }
   ],
   "source": [
    "# split data\n",
    "n = size(X, 1)\n",
    "using StatsBase, DataFrames\n",
    "n_train = convert(Int64, round(0.8*n))\n",
    "idx = sample(1:n,n_train, replace=false)\n",
    "Xtrain, ytrain = Matrix(X[idx, :]), y[idx, :]\n",
    "Xtest, ytest = Matrix(X[Not(idx), :]), y[Not(idx), :]\n"
   ]
  },
  {
   "cell_type": "code",
   "execution_count": 6,
   "id": "b07b317b",
   "metadata": {
    "ExecuteTime": {
     "end_time": "2021-11-12T00:45:07.117000+09:00",
     "start_time": "2021-11-11T15:45:07.106Z"
    },
    "scrolled": true
   },
   "outputs": [
    {
     "name": "stdout",
     "output_type": "stream",
     "text": [
      "check\n",
      "check\n",
      "check\n",
      " 14.160663 seconds (48.04 M allocations: 2.775 GiB, 3.98% gc time)\n",
      "check\n",
      "----------------------------------------------------------------------------\n",
      "\tSCS v2.1.4 - Splitting Conic Solver\n",
      "\t(c) Brendan O'Donoghue, Stanford University, 2012\n",
      "----------------------------------------------------------------------------\n",
      "Lin-sys: sparse-indirect, nnz in A = 222, CG tol ~ 1/iter^(2.00)\n",
      "eps = 1.00e-05, alpha = 1.50, max_iters = 5000, normalize = 1, scale = 1.00\n",
      "acceleration_lookback = 10, rho_x = 1.00e-03\n",
      "Variables n = 19, constraints m = 36\n",
      "Cones:\tprimal zero / dual free vars: 1\n",
      "\tlinear vars: 35\n",
      "Setup time: 4.43e-05s\n",
      "----------------------------------------------------------------------------\n",
      " Iter | pri res | dua res | rel gap | pri obj | dua obj | kap/tau | time (s)\n",
      "----------------------------------------------------------------------------\n",
      "     0| 2.01e+19  8.63e+18  1.00e+00 -1.57e+21  1.53e+18  1.03e+21  2.27e-05 \n",
      "   100| 4.64e-02  4.25e-01  8.59e-02  1.13e+00  1.44e+00  6.57e-17  1.02e-03 \n",
      "   200| 3.58e-03  1.96e-02  2.17e-04  3.46e+00  3.46e+00  1.49e-15  1.98e-03 \n",
      "   300| 2.10e-02  9.17e-02  4.83e-03  4.83e+00  4.78e+00  3.24e-17  2.94e-03 \n",
      "   400| 1.32e-02  1.24e-01  3.65e-03  5.13e+00  5.09e+00  2.08e-15  3.90e-03 \n",
      "   500| 3.05e-03  2.27e-02  2.62e-03  5.67e+00  5.63e+00  9.26e-17  4.86e-03 \n",
      "   600| 5.68e-03  4.94e-02  1.30e-04  6.17e+00  6.17e+00  1.30e-15  5.82e-03 \n",
      "   680| 3.14e-07  1.26e-06  1.67e-08  6.16e+00  6.16e+00  1.25e-15  6.51e-03 \n",
      "----------------------------------------------------------------------------\n",
      "Status: Solved\n",
      "Timing: Solve time: 6.51e-03s\n",
      "\tLin-sys: avg # CG iterations: 13.36, avg solve time: 3.91e-06s\n",
      "\tCones: avg projection time: 2.92e-08s\n",
      "\tAcceleration: avg step time: 5.01e-06s\n",
      "----------------------------------------------------------------------------\n",
      "Error metrics:\n",
      "dist(s, K) = 8.9037e-14, dist(y, K*) = 0.0000e+00, s'y/|s||y| = -7.5822e-16\n",
      "primal res: |Ax + s - b|_2 / (1 + |b|_2) = 3.1382e-07\n",
      "dual res:   |A'y + c|_2 / (1 + |c|_2) = 1.2574e-06\n",
      "rel gap:    |c'x + b'y| / (1 + |c'x| + |b'y|) = 1.6750e-08\n",
      "----------------------------------------------------------------------------\n",
      "c'x = 6.1639, -b'y = 6.1639\n",
      "============================================================================\n"
     ]
    }
   ],
   "source": [
    "using Random, LinearAlgebra, SparseArrays\n",
    "using Convex\n",
    "println(\"check\")\n",
    "t=1\n",
    "s=Variable(1)\n",
    "β̂dantzig = Variable(size(Xtrain,2))\n",
    "println(\"check\")\n",
    "problem = minimize(s) # objective\n",
    "problem.constraints += transpose(Xtrain)*(ytrain - Xtrain * β̂dantzig) <= s*ones(size(Xtrain,2))\n",
    "problem.constraints += transpose(Xtrain)*(ytrain - Xtrain * β̂dantzig) >= -s*ones(size(Xtrain,2))\n",
    "problem.constraints += sum(abs.(β̂dantzig)[2:end]) <= t\n",
    "println(\"check\")\n",
    "# problem = minimize( norm( transpose(Xtrain) * (ytrain - Xtrain*β̂dantzig), Inf) )\n",
    "# problem.constraints += norm(β̂dantzig[2:end],1)<= t\n",
    "\n",
    "using SCS\n",
    "opt = () -> SCS.Optimizer()\n",
    "@time solve!(problem, opt)\n",
    "println(\"check\")"
   ]
  },
  {
   "cell_type": "code",
   "execution_count": null,
   "id": "45dbe35d",
   "metadata": {},
   "outputs": [],
   "source": []
  },
  {
   "cell_type": "code",
   "execution_count": null,
   "id": "5d9cdab0",
   "metadata": {},
   "outputs": [],
   "source": []
  },
  {
   "cell_type": "code",
   "execution_count": null,
   "id": "e2fc3241",
   "metadata": {},
   "outputs": [],
   "source": []
  },
  {
   "cell_type": "code",
   "execution_count": null,
   "id": "cc0b2ce0",
   "metadata": {},
   "outputs": [],
   "source": []
  },
  {
   "cell_type": "code",
   "execution_count": null,
   "id": "c32d5a65",
   "metadata": {},
   "outputs": [],
   "source": []
  },
  {
   "cell_type": "code",
   "execution_count": null,
   "id": "107eb255",
   "metadata": {},
   "outputs": [],
   "source": []
  },
  {
   "cell_type": "code",
   "execution_count": null,
   "id": "6a07b4a6",
   "metadata": {},
   "outputs": [],
   "source": []
  },
  {
   "cell_type": "code",
   "execution_count": null,
   "id": "6d271743",
   "metadata": {},
   "outputs": [],
   "source": []
  },
  {
   "cell_type": "code",
   "execution_count": null,
   "id": "a00c4595",
   "metadata": {},
   "outputs": [],
   "source": []
  },
  {
   "cell_type": "code",
   "execution_count": null,
   "id": "ed0caaba",
   "metadata": {},
   "outputs": [],
   "source": []
  },
  {
   "cell_type": "code",
   "execution_count": null,
   "id": "30affef4",
   "metadata": {},
   "outputs": [],
   "source": []
  },
  {
   "cell_type": "code",
   "execution_count": null,
   "id": "34654324",
   "metadata": {},
   "outputs": [],
   "source": []
  },
  {
   "cell_type": "code",
   "execution_count": null,
   "id": "d379ee42",
   "metadata": {},
   "outputs": [],
   "source": []
  },
  {
   "cell_type": "markdown",
   "id": "892ed875",
   "metadata": {},
   "source": [
    "# 통계계산 과제2"
   ]
  },
  {
   "cell_type": "code",
   "execution_count": 1,
   "id": "fe7f7d59",
   "metadata": {
    "ExecuteTime": {
     "end_time": "2021-10-21T19:26:48.758000+09:00",
     "start_time": "2021-10-21T10:26:47.644Z"
    }
   },
   "outputs": [
    {
     "data": {
      "text/plain": [
       "mgs! (generic function with 1 method)"
      ]
     },
     "execution_count": 1,
     "metadata": {},
     "output_type": "execute_result"
    }
   ],
   "source": [
    "using LinearAlgebra\n",
    "function cgs(X::Matrix{T}) where T<:AbstractFloat\n",
    "    n, p = size(X)\n",
    "    Q = Matrix{T}(undef, n, p)\n",
    "    R = zeros(T, p, p)\n",
    "    for j=1:p\n",
    "        Q[:, j] .= X[:, j]   # v_k 만들 때 x_k 에서 계속 빼줘야하기 때문.\n",
    "        for i=1:j-1\n",
    "            R[i, j] = dot(Q[:, i], X[:, j])\n",
    "            Q[:, j] .-= R[i, j] * Q[:, i]    # proj한 벡터들 계속 빼주는 것 생각\n",
    "        end\n",
    "        R[j, j] = norm(Q[:, j])\n",
    "        Q[:, j] /= R[j, j]\n",
    "    end\n",
    "    Q, R\n",
    "end\n",
    "function mgs!(X::Matrix{T}) where T<:AbstractFloat\n",
    "    n, p = size(X)\n",
    "    R = zeros(T, p, p)\n",
    "    for j=1:p\n",
    "        for i=1:j-1\n",
    "            R[i, j] = dot(X[:, i], X[:, j])\n",
    "            X[:, j] -= R[i, j] * X[:, i]\n",
    "        end\n",
    "        R[j, j] = norm(X[:, j])\n",
    "        X[:, j] /= R[j, j]\n",
    "    end\n",
    "    X, R\n",
    "end"
   ]
  },
  {
   "cell_type": "code",
   "execution_count": 11,
   "id": "a13204a4",
   "metadata": {
    "ExecuteTime": {
     "end_time": "2021-10-21T19:31:49.995000+09:00",
     "start_time": "2021-10-21T10:31:49.992Z"
    }
   },
   "outputs": [
    {
     "data": {
      "text/plain": [
       "4×3 Matrix{Float32}:\n",
       " 1.0         1.0         1.0\n",
       " 1.19209f-7  0.0         0.0\n",
       " 0.0         1.19209f-7  0.0\n",
       " 0.0         0.0         1.19209f-7"
      ]
     },
     "execution_count": 11,
     "metadata": {},
     "output_type": "execute_result"
    }
   ],
   "source": [
    "e = eps(Float32)\n",
    "A = [1f0 1f0 1f0; e 0 0; 0 e 0; 0 0 e]\n",
    "# machine epsilong 발생"
   ]
  },
  {
   "cell_type": "markdown",
   "id": "9ca861ce",
   "metadata": {},
   "source": [
    "# cgs"
   ]
  },
  {
   "cell_type": "code",
   "execution_count": 36,
   "id": "1211d2e9",
   "metadata": {
    "ExecuteTime": {
     "end_time": "2021-10-21T19:54:19.878000+09:00",
     "start_time": "2021-10-21T10:54:19.874Z"
    }
   },
   "outputs": [
    {
     "data": {
      "text/plain": [
       "cgs_test! (generic function with 1 method)"
      ]
     },
     "execution_count": 36,
     "metadata": {},
     "output_type": "execute_result"
    }
   ],
   "source": [
    "function cgs_test!(X::Matrix{T}) where T<:AbstractFloat\n",
    "    n, p = size(X)\n",
    "    Q = Matrix{T}(undef, n, p)\n",
    "    R = zeros(T, p, p)\n",
    "    for j=1:p\n",
    "        println(\"########## j = \",j, \" ##########\")\n",
    "        Q[:, j] .= X[:, j]   # v_k 만들 때 x_k 에서 계속 빼줘야하기 때문.\n",
    "        for i=1:j-1\n",
    "            R[i, j] = dot(Q[:, i], X[:, j])\n",
    "            Q[:, j] .-= R[i, j] * Q[:, i]    # proj한 벡터들 계속 빼주는 것 생각\n",
    "            println(\"(i = \",i,\", j = \", j,\")\")\n",
    "            println(R[i,j],\"     \", Q[:,j])\n",
    "            if i==j-1 println(\"                                 □  r\",i,j,\" = \",R[i,j], \"     q\",j,\" = \",Q[:,j]) end\n",
    "        end\n",
    "        R[j, j] = norm(Q[:, j])\n",
    "        Q[:, j] /= R[j, j]\n",
    "        println(\"**** j= \", j, \" ****\")\n",
    "        println(\"r\",j ,j,\" = \",R[j,j],\", q\",j,\" = \", Q[:,j])\n",
    "        println()\n",
    "    end\n",
    "    Q, R\n",
    "end"
   ]
  },
  {
   "cell_type": "code",
   "execution_count": 37,
   "id": "753f09eb",
   "metadata": {
    "ExecuteTime": {
     "end_time": "2021-10-21T19:54:20.559000+09:00",
     "start_time": "2021-10-21T10:54:20.458Z"
    }
   },
   "outputs": [
    {
     "name": "stdout",
     "output_type": "stream",
     "text": [
      "########## j = 1 ##########\n",
      "**** j= 1 ****\n",
      "r11 = 1.0, q1 = Float32[1.0, 1.1920929f-7, 0.0, 0.0]\n",
      "\n",
      "########## j = 2 ##########\n",
      "(i = 1, j = 2)\n",
      "1.0     Float32[0.0, -1.1920929f-7, 1.1920929f-7, 0.0]\n",
      "                                 □  r12 = 1.0     q2 = Float32[0.0, -1.1920929f-7, 1.1920929f-7, 0.0]\n",
      "**** j= 2 ****\n",
      "r22 = 1.6858739e-7, q2 = Float32[0.0, -0.70710677, 0.70710677, 0.0]\n",
      "\n",
      "########## j = 3 ##########\n",
      "(i = 1, j = 3)\n",
      "1.0     Float32[0.0, -1.1920929f-7, 0.0, 1.1920929f-7]\n",
      "(i = 2, j = 3)\n",
      "0.0     Float32[0.0, -1.1920929f-7, 0.0, 1.1920929f-7]\n",
      "                                 □  r23 = 0.0     q3 = Float32[0.0, -1.1920929f-7, 0.0, 1.1920929f-7]\n",
      "**** j= 3 ****\n",
      "r33 = 1.6858739e-7, q3 = Float32[0.0, -0.70710677, 0.0, 0.70710677]\n",
      "\n"
     ]
    },
    {
     "data": {
      "text/plain": [
       "(Float32[1.0 0.0 0.0; 1.1920929f-7 -0.70710677 -0.70710677; 0.0 0.70710677 0.0; 0.0 0.0 0.70710677], Float32[1.0 1.0 1.0; 0.0 1.6858739f-7 0.0; 0.0 0.0 1.6858739f-7])"
      ]
     },
     "execution_count": 37,
     "metadata": {},
     "output_type": "execute_result"
    }
   ],
   "source": [
    "e = eps(Float32)\n",
    "A = [1f0 1f0 1f0; e 0 0; 0 e 0; 0 0 e]\n",
    "# machine epsilong 발생\n",
    "cgs_test!(A)"
   ]
  },
  {
   "cell_type": "code",
   "execution_count": 41,
   "id": "70676d1a",
   "metadata": {
    "ExecuteTime": {
     "end_time": "2021-10-21T19:54:44.334000+09:00",
     "start_time": "2021-10-21T10:54:44.330Z"
    }
   },
   "outputs": [
    {
     "data": {
      "text/plain": [
       "mgs_test! (generic function with 1 method)"
      ]
     },
     "execution_count": 41,
     "metadata": {},
     "output_type": "execute_result"
    }
   ],
   "source": [
    "function mgs_test!(X::Matrix{T}) where T<:AbstractFloat\n",
    "    n, p = size(X)\n",
    "    R = zeros(T, p, p)\n",
    "    for j=1:p\n",
    "        println(\"########## j = \",j, \" ##########\")\n",
    "        for i=1:j-1\n",
    "            R[i, j] = dot(X[:, i], X[:, j])\n",
    "            X[:, j] -= R[i, j] * X[:, i]\n",
    "            println(\"(i = \",i,\", j = \", j,\")\")\n",
    "            println(R[i,j],\"     \", X[:,j])\n",
    "            if i==j-1 println(\"                                 □  r\",i,j,\" = \",R[i,j], \"     q\",j,\" = \",X[:,j]) end\n",
    "        end\n",
    "        R[j, j] = norm(X[:, j])\n",
    "        X[:, j] /= R[j, j]\n",
    "        println(\"**** j= \", j, \" ****\")\n",
    "        println(\"r\",j ,j,\" = \",R[j,j],\", q\",j,\" = \", X[:,j])\n",
    "        println()\n",
    "    end\n",
    "    X, R\n",
    "end"
   ]
  },
  {
   "cell_type": "code",
   "execution_count": 42,
   "id": "963ef748",
   "metadata": {
    "ExecuteTime": {
     "end_time": "2021-10-21T19:54:44.807000+09:00",
     "start_time": "2021-10-21T10:54:44.768Z"
    },
    "scrolled": false
   },
   "outputs": [
    {
     "name": "stdout",
     "output_type": "stream",
     "text": [
      "########## j = 1 ##########\n",
      "**** j= 1 ****\n",
      "r11 = 1.0, q1 = Float32[1.0, 1.1920929f-7, 0.0, 0.0]\n",
      "\n",
      "########## j = 2 ##########\n",
      "(i = 1, j = 2)\n",
      "1.0     Float32[0.0, -1.1920929f-7, 1.1920929f-7, 0.0]\n",
      "                                 □  r12 = 1.0     q2 = Float32[0.0, -1.1920929f-7, 1.1920929f-7, 0.0]\n",
      "**** j= 2 ****\n",
      "r22 = 1.6858739e-7, q2 = Float32[0.0, -0.70710677, 0.70710677, 0.0]\n",
      "\n",
      "########## j = 3 ##########\n",
      "(i = 1, j = 3)\n",
      "1.0     Float32[0.0, -1.1920929f-7, 0.0, 1.1920929f-7]\n",
      "(i = 2, j = 3)\n",
      "8.4293696e-8     Float32[0.0, -5.9604645f-8, -5.960464f-8, 1.1920929f-7]\n",
      "                                 □  r23 = 8.4293696e-8     q3 = Float32[0.0, -5.9604645f-8, -5.960464f-8, 1.1920929f-7]\n",
      "**** j= 3 ****\n",
      "r33 = 1.4600097e-7, q3 = Float32[0.0, -0.40824828, -0.40824825, 0.81649655]\n",
      "\n"
     ]
    },
    {
     "data": {
      "text/plain": [
       "(Float32[1.0 0.0 0.0; 1.1920929f-7 -0.70710677 -0.40824828; 0.0 0.70710677 -0.40824825; 0.0 0.0 0.81649655], Float32[1.0 1.0 1.0; 0.0 1.6858739f-7 8.4293696f-8; 0.0 0.0 1.4600097f-7])"
      ]
     },
     "execution_count": 42,
     "metadata": {},
     "output_type": "execute_result"
    }
   ],
   "source": [
    "e = eps(Float32)\n",
    "A = [1f0 1f0 1f0; e 0 0; 0 e 0; 0 0 e]\n",
    "# machine epsilong 발생\n",
    "mgs_test!(A)"
   ]
  },
  {
   "cell_type": "code",
   "execution_count": null,
   "id": "edfa9e1e",
   "metadata": {},
   "outputs": [],
   "source": [
    "########################################## r23, q3 에서 문제발생 #############################################"
   ]
  },
  {
   "cell_type": "code",
   "execution_count": 75,
   "id": "4afdca9f",
   "metadata": {
    "ExecuteTime": {
     "end_time": "2021-10-21T20:18:33.739000+09:00",
     "start_time": "2021-10-21T11:18:33.735Z"
    }
   },
   "outputs": [
    {
     "data": {
      "text/plain": [
       "4-element Vector{Float32}:\n",
       "  0.0\n",
       " -1.1920929f-7\n",
       "  0.0\n",
       "  1.1920929f-7"
      ]
     },
     "execution_count": 75,
     "metadata": {},
     "output_type": "execute_result"
    }
   ],
   "source": [
    "\n",
    "\n",
    "q2 = [0.0, -1.1920929f-7, 0.0, 1.1920929f-7]\n",
    "x3_c = [1, 0, 0, 1.1920929f-7]\n",
    "x3_m = [0.0, -1.1920929f-7, 0.0, 1.1920929f-7]\n",
    "q2 = convert(Vector{Float32}, q2)\n",
    "x3_c = convert(Vector{Float32}, x3_c)\n",
    "x3_m = convert(Vector{Float32}, x3_m)"
   ]
  },
  {
   "cell_type": "code",
   "execution_count": 74,
   "id": "fd040f4a",
   "metadata": {
    "ExecuteTime": {
     "end_time": "2021-10-21T20:08:29.594000+09:00",
     "start_time": "2021-10-21T11:08:29.592Z"
    }
   },
   "outputs": [
    {
     "name": "stdout",
     "output_type": "stream",
     "text": [
      "1.4210855e-14\n",
      "2.842171e-14\n"
     ]
    }
   ],
   "source": [
    "println(dot(q2, x3_c))\n",
    "println(dot(q2, x3_m))"
   ]
  },
  {
   "cell_type": "code",
   "execution_count": 83,
   "id": "c8f6d779",
   "metadata": {
    "ExecuteTime": {
     "end_time": "2021-10-21T20:23:14.875000+09:00",
     "start_time": "2021-10-21T11:23:14.495Z"
    }
   },
   "outputs": [
    {
     "data": {
      "text/plain": [
       "4×2 transpose(::Matrix{Float32}) with eltype Float32:\n",
       " 1.0          0.0\n",
       " 1.19209f-7  -0.707107\n",
       " 0.0          0.707107\n",
       " 0.0          0.0"
      ]
     },
     "execution_count": 83,
     "metadata": {},
     "output_type": "execute_result"
    }
   ],
   "source": [
    "qq = [1.0 1.1920929f-7 0.0 0.0 ; 0.0 -0.70710677 0.70710677 0.0]\n",
    "qq = convert(Array{Float32}, qq)\n",
    "qq=transpose(qq)"
   ]
  },
  {
   "cell_type": "code",
   "execution_count": 84,
   "id": "feafe562",
   "metadata": {
    "ExecuteTime": {
     "end_time": "2021-10-21T20:23:28.598000+09:00",
     "start_time": "2021-10-21T11:23:28.522Z"
    }
   },
   "outputs": [
    {
     "data": {
      "text/plain": [
       "2×2 Matrix{Float32}:\n",
       "  1.0         -8.42937f-8\n",
       " -8.42937f-8   1.0"
      ]
     },
     "execution_count": 84,
     "metadata": {},
     "output_type": "execute_result"
    }
   ],
   "source": [
    "transpose(qq)*qq"
   ]
  }
 ],
 "metadata": {
  "kernelspec": {
   "display_name": "Julia 1.6.2",
   "language": "julia",
   "name": "julia-1.6"
  },
  "language_info": {
   "file_extension": ".jl",
   "mimetype": "application/julia",
   "name": "julia",
   "version": "1.6.2"
  },
  "toc": {
   "base_numbering": 1,
   "nav_menu": {},
   "number_sections": true,
   "sideBar": true,
   "skip_h1_title": false,
   "title_cell": "Table of Contents",
   "title_sidebar": "Contents",
   "toc_cell": false,
   "toc_position": {},
   "toc_section_display": true,
   "toc_window_display": false
  },
  "varInspector": {
   "cols": {
    "lenName": 16,
    "lenType": 16,
    "lenVar": 40
   },
   "kernels_config": {
    "python": {
     "delete_cmd_postfix": "",
     "delete_cmd_prefix": "del ",
     "library": "var_list.py",
     "varRefreshCmd": "print(var_dic_list())"
    },
    "r": {
     "delete_cmd_postfix": ") ",
     "delete_cmd_prefix": "rm(",
     "library": "var_list.r",
     "varRefreshCmd": "cat(var_dic_list()) "
    }
   },
   "types_to_exclude": [
    "module",
    "function",
    "builtin_function_or_method",
    "instance",
    "_Feature"
   ],
   "window_display": false
  }
 },
 "nbformat": 4,
 "nbformat_minor": 5
}
