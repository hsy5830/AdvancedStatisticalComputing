{
 "cells": [
  {
   "cell_type": "markdown",
   "metadata": {
    "toc": true
   },
   "source": [
    "<h1>Table of Contents<span class=\"tocSkip\"></span></h1>\n",
    "<div class=\"toc\"><ul class=\"toc-item\"><li><span><a href=\"#Units-of-computer-storage\" data-toc-modified-id=\"Units-of-computer-storage-1\"><span class=\"toc-item-num\">1&nbsp;&nbsp;</span>Units of computer storage</a></span></li><li><span><a href=\"#Storage-of-Characters\" data-toc-modified-id=\"Storage-of-Characters-2\"><span class=\"toc-item-num\">2&nbsp;&nbsp;</span>Storage of Characters</a></span></li><li><span><a href=\"#Integers:-fixed-point-number-system\" data-toc-modified-id=\"Integers:-fixed-point-number-system-3\"><span class=\"toc-item-num\">3&nbsp;&nbsp;</span>Integers: fixed-point number system</a></span><ul class=\"toc-item\"><li><span><a href=\"#Unsigned-integers\" data-toc-modified-id=\"Unsigned-integers-3.1\"><span class=\"toc-item-num\">3.1&nbsp;&nbsp;</span>Unsigned integers</a></span></li><li><span><a href=\"#Signed-integers\" data-toc-modified-id=\"Signed-integers-3.2\"><span class=\"toc-item-num\">3.2&nbsp;&nbsp;</span>Signed integers</a></span></li><li><span><a href=\"#BigInt\" data-toc-modified-id=\"BigInt-3.3\"><span class=\"toc-item-num\">3.3&nbsp;&nbsp;</span><code>BigInt</code></a></span></li><li><span><a href=\"#Overflow-in-integer-arithmetic\" data-toc-modified-id=\"Overflow-in-integer-arithmetic-3.4\"><span class=\"toc-item-num\">3.4&nbsp;&nbsp;</span>Overflow in integer arithmetic</a></span></li></ul></li><li><span><a href=\"#Real-numbers:-floating-point-number-system\" data-toc-modified-id=\"Real-numbers:-floating-point-number-system-4\"><span class=\"toc-item-num\">4&nbsp;&nbsp;</span>Real numbers: floating-point number system</a></span><ul class=\"toc-item\"><li><span><a href=\"#Half-precision-(Float16)\" data-toc-modified-id=\"Half-precision-(Float16)-4.1\"><span class=\"toc-item-num\">4.1&nbsp;&nbsp;</span>Half precision (Float16)</a></span></li><li><span><a href=\"#Single-precision-(Float32)\" data-toc-modified-id=\"Single-precision-(Float32)-4.2\"><span class=\"toc-item-num\">4.2&nbsp;&nbsp;</span>Single precision (Float32)</a></span></li><li><span><a href=\"#Double-precision-(Float64)\" data-toc-modified-id=\"Double-precision-(Float64)-4.3\"><span class=\"toc-item-num\">4.3&nbsp;&nbsp;</span>Double precision (Float64)</a></span></li><li><span><a href=\"#Special-floating-point-numbers\" data-toc-modified-id=\"Special-floating-point-numbers-4.4\"><span class=\"toc-item-num\">4.4&nbsp;&nbsp;</span>Special floating-point numbers</a></span></li><li><span><a href=\"#Rounding\" data-toc-modified-id=\"Rounding-4.5\"><span class=\"toc-item-num\">4.5&nbsp;&nbsp;</span>Rounding</a></span></li><li><span><a href=\"#Errors\" data-toc-modified-id=\"Errors-4.6\"><span class=\"toc-item-num\">4.6&nbsp;&nbsp;</span>Errors</a></span></li><li><span><a href=\"#Machine-epsilons\" data-toc-modified-id=\"Machine-epsilons-4.7\"><span class=\"toc-item-num\">4.7&nbsp;&nbsp;</span>Machine epsilons</a></span></li><li><span><a href=\"#Machine-precision\" data-toc-modified-id=\"Machine-precision-4.8\"><span class=\"toc-item-num\">4.8&nbsp;&nbsp;</span>Machine precision</a></span></li><li><span><a href=\"#Overflow-and-underflow-of-floating-point-number\" data-toc-modified-id=\"Overflow-and-underflow-of-floating-point-number-4.9\"><span class=\"toc-item-num\">4.9&nbsp;&nbsp;</span>Overflow and underflow of floating-point number</a></span></li></ul></li><li><span><a href=\"#Catastrophic-cancellation\" data-toc-modified-id=\"Catastrophic-cancellation-5\"><span class=\"toc-item-num\">5&nbsp;&nbsp;</span>Catastrophic cancellation</a></span><ul class=\"toc-item\"><li><span><a href=\"#Algebraic-laws\" data-toc-modified-id=\"Algebraic-laws-5.1\"><span class=\"toc-item-num\">5.1&nbsp;&nbsp;</span>Algebraic laws</a></span></li></ul></li><li><span><a href=\"#Coditioning\" data-toc-modified-id=\"Coditioning-6\"><span class=\"toc-item-num\">6&nbsp;&nbsp;</span>Coditioning</a></span></li><li><span><a href=\"#Further-readings\" data-toc-modified-id=\"Further-readings-7\"><span class=\"toc-item-num\">7&nbsp;&nbsp;</span>Further readings</a></span></li><li><span><a href=\"#Acknowledgment\" data-toc-modified-id=\"Acknowledgment-8\"><span class=\"toc-item-num\">8&nbsp;&nbsp;</span>Acknowledgment</a></span></li></ul></div>"
   ]
  },
  {
   "cell_type": "code",
   "execution_count": 1,
   "metadata": {},
   "outputs": [
    {
     "name": "stdout",
     "output_type": "stream",
     "text": [
      "Julia Version 1.6.2\n",
      "Commit 1b93d53fc4 (2021-07-14 15:36 UTC)\n",
      "Platform Info:\n",
      "  OS: Windows (x86_64-w64-mingw32)\n",
      "  CPU: Intel(R) Core(TM) i5-5200U CPU @ 2.20GHz\n",
      "  WORD_SIZE: 64\n",
      "  LIBM: libopenlibm\n",
      "  LLVM: libLLVM-11.0.1 (ORCJIT, broadwell)\n"
     ]
    }
   ],
   "source": [
    "versioninfo()"
   ]
  },
  {
   "cell_type": "code",
   "execution_count": 2,
   "metadata": {
    "tags": []
   },
   "outputs": [
    {
     "name": "stderr",
     "output_type": "stream",
     "text": [
      "\u001b[32m\u001b[1m  Activating\u001b[22m\u001b[39m"
     ]
    },
    {
     "name": "stdout",
     "output_type": "stream",
     "text": [
      "\u001b[32m\u001b[1m      Status\u001b[22m\u001b[39m `C:\\Users\\User\\Project.toml` (empty project)\n"
     ]
    },
    {
     "name": "stderr",
     "output_type": "stream",
     "text": [
      " new environment at `C:\\Users\\User\\Project.toml`\n"
     ]
    }
   ],
   "source": [
    "using Pkg\n",
    "Pkg.activate(\"../..\")\n",
    "Pkg.status()"
   ]
  },
  {
   "cell_type": "markdown",
   "metadata": {},
   "source": [
    "# Computer arithmetics"
   ]
  },
  {
   "cell_type": "markdown",
   "metadata": {},
   "source": [
    "## Units of computer storage\n",
    "\n",
    "Humans use decimal digits (why?) 손가락이 10개기 때문\\\n",
    "Computers use binary digits (why?) 전기가 들어왔다 on,off로 생각(switch) \\\n",
    "    \n",
    "\n",
    "* *Bit* = binary digit (coined by statistician [John Tukey](https://en.wikipedia.org/wiki/Bit#History)).  \n",
    "* *byte* = 8 bits.\n",
    "* KB = kilobyte = $10^3$ bytes; KiB = kibibyte = $2^{10}$ bytes.  \n",
    "* MB = megabyte = $10^6$ bytes; MiB = mebibyte = $2^{20}$ bytes.\n",
    "* GB = gigabyte = $10^9$ bytes. Typical RAM size.  \n",
    "* TB = terabyte = $10^{12}$ bytes. Typical hard drive size. Size of NYSE each trading session.    \n",
    "* PB = petabyte = $10^{15}$ bytes.  \n",
    "* EB = exabyte = $10^{18}$ bytes. Size of all healthcare data in 2011 is ~150 EB.    \n",
    "* ZB = zetabyte = $10^{21}$ bytes. \n",
    "\n",
    "Julia function `Base.summarysize` shows the amount of memory (in bytes) used by an object."
   ]
  },
  {
   "cell_type": "code",
   "execution_count": 1,
   "metadata": {
    "ExecuteTime": {
     "end_time": "2021-09-13T15:06:49.686000+09:00",
     "start_time": "2021-09-13T06:06:48.728Z"
    }
   },
   "outputs": [
    {
     "data": {
      "text/plain": [
       "80040"
      ]
     },
     "execution_count": 1,
     "metadata": {},
     "output_type": "execute_result"
    }
   ],
   "source": [
    "x = rand(100, 100)\n",
    "Base.summarysize(x) # 쓰는 메모리 양"
   ]
  },
  {
   "cell_type": "markdown",
   "metadata": {},
   "source": [
    "`varinfo()` function prints all variables in workspace and their sizes."
   ]
  },
  {
   "cell_type": "code",
   "execution_count": 2,
   "metadata": {
    "ExecuteTime": {
     "end_time": "2021-09-13T15:06:57.752000+09:00",
     "start_time": "2021-09-13T06:06:56.448Z"
    }
   },
   "outputs": [
    {
     "data": {
      "text/latex": [
       "\\begin{tabular}\n",
       "{l | r | l}\n",
       "name & size & summary \\\\\n",
       "\\hline\n",
       "Base &  & Module \\\\\n",
       "Core &  & Module \\\\\n",
       "Main &  & Module \\\\\n",
       "x & 78.164 KiB & 100×100 Matrix\\{Float64\\} \\\\\n",
       "\\end{tabular}\n"
      ],
      "text/markdown": [
       "| name |       size | summary                 |\n",
       "|:---- | ----------:|:----------------------- |\n",
       "| Base |            | Module                  |\n",
       "| Core |            | Module                  |\n",
       "| Main |            | Module                  |\n",
       "| x    | 78.164 KiB | 100×100 Matrix{Float64} |\n"
      ],
      "text/plain": [
       "  name       size summary                \n",
       "  –––– –––––––––– –––––––––––––––––––––––\n",
       "  Base            Module                 \n",
       "  Core            Module                 \n",
       "  Main            Module                 \n",
       "  x    78.164 KiB 100×100 Matrix{Float64}"
      ]
     },
     "execution_count": 2,
     "metadata": {},
     "output_type": "execute_result"
    }
   ],
   "source": [
    "varinfo() # similar to Matlab whos()"
   ]
  },
  {
   "cell_type": "markdown",
   "metadata": {},
   "source": [
    "## Storage of Characters\n",
    "\n",
    "* Plain text files are stored in the form of characters: `.jl`, `.r`, `.c`, `.cpp`, `.ipynb`, `.html`, `.tex`, ...  \n",
    "* ASCII (American Code for Information Interchange): 7 bits, only $2^7=128$ characters.  "
   ]
  },
  {
   "cell_type": "code",
   "execution_count": 7,
   "metadata": {
    "scrolled": true
   },
   "outputs": [
    {
     "data": {
      "text/plain": [
       "128×2 Matrix{Any}:\n",
       "   0  '\\0'\n",
       "   1  '\\x01'\n",
       "   2  '\\x02'\n",
       "   3  '\\x03'\n",
       "   4  '\\x04'\n",
       "   5  '\\x05'\n",
       "   6  '\\x06'\n",
       "   7  '\\a'\n",
       "   8  '\\b'\n",
       "   9  '\\t'\n",
       "  10  '\\n'\n",
       "  11  '\\v'\n",
       "  12  '\\f'\n",
       "   ⋮  \n",
       " 116  't'\n",
       " 117  'u'\n",
       " 118  'v'\n",
       " 119  'w'\n",
       " 120  'x'\n",
       " 121  'y'\n",
       " 122  'z'\n",
       " 123  '{'\n",
       " 124  '|'\n",
       " 125  '}'\n",
       " 126  '~'\n",
       " 127  '\\x7f'"
      ]
     },
     "execution_count": 7,
     "metadata": {},
     "output_type": "execute_result"
    }
   ],
   "source": [
    "# integers 0, 1, ..., 127 and corresponding ascii character\n",
    "[0:127 Char.(0:127)]"
   ]
  },
  {
   "cell_type": "markdown",
   "metadata": {},
   "source": [
    "* Extended ASCII: 8 bits, $2^8=256$ characters.  "
   ]
  },
  {
   "cell_type": "code",
   "execution_count": 6,
   "metadata": {
    "scrolled": true
   },
   "outputs": [
    {
     "data": {
      "text/plain": [
       "128×2 Matrix{Any}:\n",
       " 128  '\\u80'\n",
       " 129  '\\u81'\n",
       " 130  '\\u82'\n",
       " 131  '\\u83'\n",
       " 132  '\\u84'\n",
       " 133  '\\u85'\n",
       " 134  '\\u86'\n",
       " 135  '\\u87'\n",
       " 136  '\\u88'\n",
       " 137  '\\u89'\n",
       " 138  '\\u8a'\n",
       " 139  '\\u8b'\n",
       " 140  '\\u8c'\n",
       "   ⋮  \n",
       " 244  'ô'\n",
       " 245  'õ'\n",
       " 246  'ö'\n",
       " 247  '÷'\n",
       " 248  'ø'\n",
       " 249  'ù'\n",
       " 250  'ú'\n",
       " 251  'û'\n",
       " 252  'ü'\n",
       " 253  'ý'\n",
       " 254  'þ'\n",
       " 255  'ÿ'"
      ]
     },
     "execution_count": 6,
     "metadata": {},
     "output_type": "execute_result"
    }
   ],
   "source": [
    "# integers 128, 129, ..., 255 and corresponding extended ascii character\n",
    "# show(STDOUT, \"text/plain\", [128:255 Char.(128:255)])\n",
    "[128:255 Char.(128:255)]"
   ]
  },
  {
   "cell_type": "markdown",
   "metadata": {},
   "source": [
    "* Unicode: UTF-8, UTF-16 and UTF-32 support many more characters including foreign characters; last 7 digits conform to ASCII. \n",
    "\n",
    "* [UTF-8](https://en.wikipedia.org/wiki/UTF-8) is the current dominant character encoding on internet.  \n",
    "\n",
    "<img src=\"./unicode.png\" width=\"800\" align=\"center\"/>\n",
    "\n",
    "Source: [Google Blog](https://googleblog.blogspot.com/2012/02/unicode-over-60-percent-of-web.html)\n",
    "\n",
    "* Julia supports the full range of UTF-8 characters. You can type many Unicode math symbols by typing the backslashed LaTeX symbol name followed by tab. "
   ]
  },
  {
   "cell_type": "code",
   "execution_count": 7,
   "metadata": {},
   "outputs": [
    {
     "data": {
      "text/plain": [
       "0.0"
      ]
     },
     "execution_count": 7,
     "metadata": {},
     "output_type": "execute_result"
    }
   ],
   "source": [
    "# \\beta-<tab>\n",
    "β = 0.0\n",
    "# \\beta-<tab>-\\hat-<tab>\n",
    "β̂ = 0.0"
   ]
  },
  {
   "cell_type": "markdown",
   "metadata": {},
   "source": [
    "* For a table of unicode symbols that can be entered via tab completion of LaTeX-like abbreviations: <https://docs.julialang.org/en/v1.1/manual/unicode-input/#Unicode-Input-1>"
   ]
  },
  {
   "cell_type": "markdown",
   "metadata": {},
   "source": [
    "## Integers: fixed-point number system\n",
    "\n",
    "* Fixed-point number system is a computer model for integers $\\mathbb{Z}$. \n",
    "    - **Remember** that computer memory is finite whereas the cardinality of $\\mathbb{Z}$ is (countably) infinite.\n",
    "    - *Any* representation of numbers in computer *has to be* an approximation.\n",
    "\n",
    "* The number $M$ of bits and method of representing negative numbers vary from system to system. \n",
    "    - The `integer` type in R has $M=32$ (packages such as ‘bit64’support 64 bit integers). \n",
    "        + <https://www.r-bloggers.com/r-in-a-64-bit-world/>\n",
    "    - C has (`unsigned`) `char`, `int`, `short`, `long` (and `long long`), whose sizes depend on the machine.\n",
    "    - Matlab has `(u)int8`, `(u)int16`, `(u)int32`, `(u)int64`.  \n",
    "\n",
    "* Julia has even more integer types: "
   ]
  },
  {
   "cell_type": "code",
   "execution_count": 9,
   "metadata": {},
   "outputs": [
    {
     "name": "stderr",
     "output_type": "stream",
     "text": [
      "\u001b[32m\u001b[1m    Updating\u001b[22m\u001b[39m registry at `C:\\Users\\User\\.julia\\registries\\General`\n",
      "\u001b[32m\u001b[1m    Updating\u001b[22m\u001b[39m git-repo `https://github.com/JuliaRegistries/General.git`\n",
      "\u001b[32m\u001b[1m   Resolving\u001b[22m\u001b[39m package versions...\n",
      "\u001b[32m\u001b[1m   Installed\u001b[22m\u001b[39m DataAPI ───────────────────── v1.8.0\n",
      "\u001b[32m\u001b[1m   Installed\u001b[22m\u001b[39m EarCut_jll ────────────────── v2.2.3+0\n",
      "\u001b[32m\u001b[1m   Installed\u001b[22m\u001b[39m RecipesBase ───────────────── v1.1.2\n",
      "\u001b[32m\u001b[1m   Installed\u001b[22m\u001b[39m GeometryBasics ────────────── v0.3.13\n",
      "\u001b[32m\u001b[1m   Installed\u001b[22m\u001b[39m OffsetArrays ──────────────── v1.10.6\n",
      "\u001b[32m\u001b[1m   Installed\u001b[22m\u001b[39m ArnoldiMethod ─────────────── v0.1.0\n",
      "\u001b[32m\u001b[1m   Installed\u001b[22m\u001b[39m GraphRecipes ──────────────── v0.5.7\n",
      "\u001b[32m\u001b[1m   Installed\u001b[22m\u001b[39m Colors ────────────────────── v0.12.8\n",
      "\u001b[32m\u001b[1m   Installed\u001b[22m\u001b[39m SimpleTraits ──────────────── v0.9.4\n",
      "\u001b[32m\u001b[1m   Installed\u001b[22m\u001b[39m Tables ────────────────────── v1.5.1\n",
      "\u001b[32m\u001b[1m   Installed\u001b[22m\u001b[39m TableTraits ───────────────── v1.0.1\n",
      "\u001b[32m\u001b[1m   Installed\u001b[22m\u001b[39m Inflate ───────────────────── v0.1.2\n",
      "\u001b[32m\u001b[1m   Installed\u001b[22m\u001b[39m Ratios ────────────────────── v0.4.1\n",
      "\u001b[32m\u001b[1m   Installed\u001b[22m\u001b[39m OrderedCollections ────────── v1.4.1\n",
      "\u001b[32m\u001b[1m   Installed\u001b[22m\u001b[39m IteratorInterfaceExtensions ─ v1.0.0\n",
      "\u001b[32m\u001b[1m   Installed\u001b[22m\u001b[39m ChainRulesCore ────────────── v1.4.0\n",
      "\u001b[32m\u001b[1m   Installed\u001b[22m\u001b[39m StaticArrays ──────────────── v1.2.12\n",
      "\u001b[32m\u001b[1m   Installed\u001b[22m\u001b[39m AbstractTrees ─────────────── v0.3.4\n",
      "\u001b[32m\u001b[1m   Installed\u001b[22m\u001b[39m WoodburyMatrices ──────────── v0.5.3\n",
      "\u001b[32m\u001b[1m   Installed\u001b[22m\u001b[39m NetworkLayout ─────────────── v0.4.0\n",
      "\u001b[32m\u001b[1m   Installed\u001b[22m\u001b[39m AxisAlgorithms ────────────── v1.0.0\n",
      "\u001b[32m\u001b[1m   Installed\u001b[22m\u001b[39m NaNMath ───────────────────── v0.3.5\n",
      "\u001b[32m\u001b[1m   Installed\u001b[22m\u001b[39m MacroTools ────────────────── v0.5.8\n",
      "\u001b[32m\u001b[1m   Installed\u001b[22m\u001b[39m Reexport ──────────────────── v1.2.2\n",
      "\u001b[32m\u001b[1m   Installed\u001b[22m\u001b[39m Requires ──────────────────── v1.1.3\n",
      "\u001b[32m\u001b[1m   Installed\u001b[22m\u001b[39m DataValueInterfaces ───────── v1.0.0\n",
      "\u001b[32m\u001b[1m   Installed\u001b[22m\u001b[39m DataStructures ────────────── v0.18.10\n",
      "\u001b[32m\u001b[1m   Installed\u001b[22m\u001b[39m IterTools ─────────────────── v1.3.0\n",
      "\u001b[32m\u001b[1m   Installed\u001b[22m\u001b[39m GeometryTypes ─────────────── v0.8.4\n",
      "\u001b[32m\u001b[1m   Installed\u001b[22m\u001b[39m PlotUtils ─────────────────── v1.0.13\n",
      "\u001b[32m\u001b[1m   Installed\u001b[22m\u001b[39m Compat ────────────────────── v3.37.0\n",
      "\u001b[32m\u001b[1m   Installed\u001b[22m\u001b[39m FixedPointNumbers ─────────── v0.8.4\n",
      "\u001b[32m\u001b[1m   Installed\u001b[22m\u001b[39m Adapt ─────────────────────── v3.3.1\n",
      "\u001b[32m\u001b[1m   Installed\u001b[22m\u001b[39m StructArrays ──────────────── v0.6.2\n",
      "\u001b[32m\u001b[1m   Installed\u001b[22m\u001b[39m ColorTypes ────────────────── v0.10.12\n",
      "\u001b[32m\u001b[1m   Installed\u001b[22m\u001b[39m LightGraphs ───────────────── v1.3.5\n",
      "\u001b[32m\u001b[1m   Installed\u001b[22m\u001b[39m Interpolations ────────────── v0.13.4\n",
      "\u001b[32m\u001b[1m   Installed\u001b[22m\u001b[39m ColorSchemes ──────────────── v3.14.0\n",
      "\u001b[32m\u001b[1m    Updating\u001b[22m\u001b[39m `C:\\Users\\User\\Project.toml`\n",
      " \u001b[90m [bd48cda9] \u001b[39m\u001b[92m+ GraphRecipes v0.5.7\u001b[39m\n",
      "\u001b[32m\u001b[1m    Updating\u001b[22m\u001b[39m `C:\\Users\\User\\Manifest.toml`\n",
      " \u001b[90m [1520ce14] \u001b[39m\u001b[92m+ AbstractTrees v0.3.4\u001b[39m\n",
      " \u001b[90m [79e6a3ab] \u001b[39m\u001b[92m+ Adapt v3.3.1\u001b[39m\n",
      " \u001b[90m [ec485272] \u001b[39m\u001b[92m+ ArnoldiMethod v0.1.0\u001b[39m\n",
      " \u001b[90m [13072b0f] \u001b[39m\u001b[92m+ AxisAlgorithms v1.0.0\u001b[39m\n",
      " \u001b[90m [d360d2e6] \u001b[39m\u001b[92m+ ChainRulesCore v1.4.0\u001b[39m\n",
      " \u001b[90m [35d6a980] \u001b[39m\u001b[92m+ ColorSchemes v3.14.0\u001b[39m\n",
      " \u001b[90m [3da002f7] \u001b[39m\u001b[92m+ ColorTypes v0.10.12\u001b[39m\n",
      " \u001b[90m [5ae59095] \u001b[39m\u001b[92m+ Colors v0.12.8\u001b[39m\n",
      " \u001b[90m [34da2185] \u001b[39m\u001b[92m+ Compat v3.37.0\u001b[39m\n",
      " \u001b[90m [9a962f9c] \u001b[39m\u001b[92m+ DataAPI v1.8.0\u001b[39m\n",
      " \u001b[90m [864edb3b] \u001b[39m\u001b[92m+ DataStructures v0.18.10\u001b[39m\n",
      " \u001b[90m [e2d170a0] \u001b[39m\u001b[92m+ DataValueInterfaces v1.0.0\u001b[39m\n",
      " \u001b[90m [53c48c17] \u001b[39m\u001b[92m+ FixedPointNumbers v0.8.4\u001b[39m\n",
      " \u001b[90m [5c1252a2] \u001b[39m\u001b[92m+ GeometryBasics v0.3.13\u001b[39m\n",
      " \u001b[90m [4d00f742] \u001b[39m\u001b[92m+ GeometryTypes v0.8.4\u001b[39m\n",
      " \u001b[90m [bd48cda9] \u001b[39m\u001b[92m+ GraphRecipes v0.5.7\u001b[39m\n",
      " \u001b[90m [d25df0c9] \u001b[39m\u001b[92m+ Inflate v0.1.2\u001b[39m\n",
      " \u001b[90m [a98d9a8b] \u001b[39m\u001b[92m+ Interpolations v0.13.4\u001b[39m\n",
      " \u001b[90m [c8e1da08] \u001b[39m\u001b[92m+ IterTools v1.3.0\u001b[39m\n",
      " \u001b[90m [82899510] \u001b[39m\u001b[92m+ IteratorInterfaceExtensions v1.0.0\u001b[39m\n",
      " \u001b[90m [692b3bcd] \u001b[39m\u001b[92m+ JLLWrappers v1.3.0\u001b[39m\n",
      " \u001b[90m [093fc24a] \u001b[39m\u001b[92m+ LightGraphs v1.3.5\u001b[39m\n",
      " \u001b[90m [1914dd2f] \u001b[39m\u001b[92m+ MacroTools v0.5.8\u001b[39m\n",
      " \u001b[90m [77ba4419] \u001b[39m\u001b[92m+ NaNMath v0.3.5\u001b[39m\n",
      " \u001b[90m [46757867] \u001b[39m\u001b[92m+ NetworkLayout v0.4.0\u001b[39m\n",
      " \u001b[90m [6fe1bfb0] \u001b[39m\u001b[92m+ OffsetArrays v1.10.6\u001b[39m\n",
      " \u001b[90m [bac558e1] \u001b[39m\u001b[92m+ OrderedCollections v1.4.1\u001b[39m\n",
      " \u001b[90m [995b91a9] \u001b[39m\u001b[92m+ PlotUtils v1.0.13\u001b[39m\n",
      " \u001b[90m [21216c6a] \u001b[39m\u001b[92m+ Preferences v1.2.2\u001b[39m\n",
      " \u001b[90m [c84ed2f1] \u001b[39m\u001b[92m+ Ratios v0.4.1\u001b[39m\n",
      " \u001b[90m [3cdcf5f2] \u001b[39m\u001b[92m+ RecipesBase v1.1.2\u001b[39m\n",
      " \u001b[90m [189a3867] \u001b[39m\u001b[92m+ Reexport v1.2.2\u001b[39m\n",
      " \u001b[90m [ae029012] \u001b[39m\u001b[92m+ Requires v1.1.3\u001b[39m\n",
      " \u001b[90m [699a6c99] \u001b[39m\u001b[92m+ SimpleTraits v0.9.4\u001b[39m\n",
      " \u001b[90m [90137ffa] \u001b[39m\u001b[92m+ StaticArrays v1.2.12\u001b[39m\n",
      " \u001b[90m [09ab397b] \u001b[39m\u001b[92m+ StructArrays v0.6.2\u001b[39m\n",
      " \u001b[90m [3783bdb8] \u001b[39m\u001b[92m+ TableTraits v1.0.1\u001b[39m\n",
      " \u001b[90m [bd369af6] \u001b[39m\u001b[92m+ Tables v1.5.1\u001b[39m\n",
      " \u001b[90m [efce3f68] \u001b[39m\u001b[92m+ WoodburyMatrices v0.5.3\u001b[39m\n",
      " \u001b[90m [5ae413db] \u001b[39m\u001b[92m+ EarCut_jll v2.2.3+0\u001b[39m\n",
      " \u001b[90m [0dad84c5] \u001b[39m\u001b[92m+ ArgTools\u001b[39m\n",
      " \u001b[90m [56f22d72] \u001b[39m\u001b[92m+ Artifacts\u001b[39m\n",
      " \u001b[90m [2a0f44e3] \u001b[39m\u001b[92m+ Base64\u001b[39m\n",
      " \u001b[90m [ade2ca70] \u001b[39m\u001b[92m+ Dates\u001b[39m\n",
      " \u001b[90m [8bb1440f] \u001b[39m\u001b[92m+ DelimitedFiles\u001b[39m\n",
      " \u001b[90m [8ba89e20] \u001b[39m\u001b[92m+ Distributed\u001b[39m\n",
      " \u001b[90m [f43a241f] \u001b[39m\u001b[92m+ Downloads\u001b[39m\n",
      " \u001b[90m [b77e0a4c] \u001b[39m\u001b[92m+ InteractiveUtils\u001b[39m\n",
      " \u001b[90m [b27032c2] \u001b[39m\u001b[92m+ LibCURL\u001b[39m\n",
      " \u001b[90m [76f85450] \u001b[39m\u001b[92m+ LibGit2\u001b[39m\n",
      " \u001b[90m [8f399da3] \u001b[39m\u001b[92m+ Libdl\u001b[39m\n",
      " \u001b[90m [37e2e46d] \u001b[39m\u001b[92m+ LinearAlgebra\u001b[39m\n",
      " \u001b[90m [56ddb016] \u001b[39m\u001b[92m+ Logging\u001b[39m\n",
      " \u001b[90m [d6f4376e] \u001b[39m\u001b[92m+ Markdown\u001b[39m\n",
      " \u001b[90m [a63ad114] \u001b[39m\u001b[92m+ Mmap\u001b[39m\n",
      " \u001b[90m [ca575930] \u001b[39m\u001b[92m+ NetworkOptions\u001b[39m\n",
      " \u001b[90m [44cfe95a] \u001b[39m\u001b[92m+ Pkg\u001b[39m\n",
      " \u001b[90m [de0858da] \u001b[39m\u001b[92m+ Printf\u001b[39m\n",
      " \u001b[90m [3fa0cd96] \u001b[39m\u001b[92m+ REPL\u001b[39m\n",
      " \u001b[90m [9a3f8284] \u001b[39m\u001b[92m+ Random\u001b[39m\n",
      " \u001b[90m [ea8e919c] \u001b[39m\u001b[92m+ SHA\u001b[39m\n",
      " \u001b[90m [9e88b42a] \u001b[39m\u001b[92m+ Serialization\u001b[39m\n",
      " \u001b[90m [1a1011a3] \u001b[39m\u001b[92m+ SharedArrays\u001b[39m\n",
      " \u001b[90m [6462fe0b] \u001b[39m\u001b[92m+ Sockets\u001b[39m\n",
      " \u001b[90m [2f01184e] \u001b[39m\u001b[92m+ SparseArrays\u001b[39m\n",
      " \u001b[90m [10745b16] \u001b[39m\u001b[92m+ Statistics\u001b[39m\n",
      " \u001b[90m [fa267f1f] \u001b[39m\u001b[92m+ TOML\u001b[39m\n",
      " \u001b[90m [a4e569a6] \u001b[39m\u001b[92m+ Tar\u001b[39m\n",
      " \u001b[90m [8dfed614] \u001b[39m\u001b[92m+ Test\u001b[39m\n",
      " \u001b[90m [cf7118a7] \u001b[39m\u001b[92m+ UUIDs\u001b[39m\n",
      " \u001b[90m [4ec0a83e] \u001b[39m\u001b[92m+ Unicode\u001b[39m\n",
      " \u001b[90m [deac9b47] \u001b[39m\u001b[92m+ LibCURL_jll\u001b[39m\n",
      " \u001b[90m [29816b5a] \u001b[39m\u001b[92m+ LibSSH2_jll\u001b[39m\n",
      " \u001b[90m [c8ffd9c3] \u001b[39m\u001b[92m+ MbedTLS_jll\u001b[39m\n",
      " \u001b[90m [14a3606d] \u001b[39m\u001b[92m+ MozillaCACerts_jll\u001b[39m\n",
      " \u001b[90m [83775a58] \u001b[39m\u001b[92m+ Zlib_jll\u001b[39m\n",
      " \u001b[90m [8e850ede] \u001b[39m\u001b[92m+ nghttp2_jll\u001b[39m\n",
      " \u001b[90m [3f19e933] \u001b[39m\u001b[92m+ p7zip_jll\u001b[39m\n",
      "\u001b[32m\u001b[1mPrecompiling\u001b[22m\u001b[39m project...\n",
      "\u001b[32m  ✓ \u001b[39m\u001b[90mDataValueInterfaces\u001b[39m\n",
      "\u001b[32m  ✓ \u001b[39m\u001b[90mRequires\u001b[39m\n",
      "\u001b[32m  ✓ \u001b[39m\u001b[90mInflate\u001b[39m\n",
      "\u001b[32m  ✓ \u001b[39m\u001b[90mAdapt\u001b[39m\n",
      "\u001b[32m  ✓ \u001b[39m\u001b[90mDataAPI\u001b[39m\n",
      "\u001b[32m  ✓ \u001b[39m\u001b[90mAbstractTrees\u001b[39m\n",
      "\u001b[32m  ✓ \u001b[39m\u001b[90mIterTools\u001b[39m\n",
      "\u001b[32m  ✓ \u001b[39m\u001b[90mEarCut_jll\u001b[39m\n",
      "\u001b[32m  ✓ \u001b[39m\u001b[90mReexport\u001b[39m\n",
      "\u001b[32m  ✓ \u001b[39m\u001b[90mMacroTools\u001b[39m\n",
      "\u001b[32m  ✓ \u001b[39m\u001b[90mFixedPointNumbers\u001b[39m\n",
      "\u001b[32m  ✓ \u001b[39m\u001b[90mRecipesBase\u001b[39m\n",
      "\u001b[32m  ✓ \u001b[39m\u001b[90mOrderedCollections\u001b[39m\n",
      "\u001b[32m  ✓ \u001b[39m\u001b[90mCompat\u001b[39m\n",
      "\u001b[32m  ✓ \u001b[39m\u001b[90mWoodburyMatrices\u001b[39m\n",
      "\u001b[32m  ✓ \u001b[39m\u001b[90mIteratorInterfaceExtensions\u001b[39m\n",
      "\u001b[32m  ✓ \u001b[39m\u001b[90mNaNMath\u001b[39m\n",
      "\u001b[32m  ✓ \u001b[39m\u001b[90mRatios\u001b[39m\n",
      "\u001b[32m  ✓ \u001b[39m\u001b[90mOffsetArrays\u001b[39m\n",
      "\u001b[32m  ✓ \u001b[39m\u001b[90mSimpleTraits\u001b[39m\n",
      "\u001b[32m  ✓ \u001b[39m\u001b[90mChainRulesCore\u001b[39m\n",
      "\u001b[32m  ✓ \u001b[39m\u001b[90mStaticArrays\u001b[39m\n",
      "\u001b[32m  ✓ \u001b[39m\u001b[90mDataStructures\u001b[39m\n",
      "\u001b[32m  ✓ \u001b[39m\u001b[90mAxisAlgorithms\u001b[39m\n",
      "\u001b[32m  ✓ \u001b[39m\u001b[90mTableTraits\u001b[39m\n",
      "\u001b[32m  ✓ \u001b[39m\u001b[90mArnoldiMethod\u001b[39m\n",
      "\u001b[32m  ✓ \u001b[39m\u001b[90mTables\u001b[39m\n",
      "\u001b[32m  ✓ \u001b[39m\u001b[90mInterpolations\u001b[39m\n",
      "\u001b[32m  ✓ \u001b[39m\u001b[90mColorTypes\u001b[39m\n",
      "\u001b[32m  ✓ \u001b[39m\u001b[90mStructArrays\u001b[39m\n",
      "\u001b[32m  ✓ \u001b[39m\u001b[90mGeometryTypes\u001b[39m\n",
      "\u001b[32m  ✓ \u001b[39m\u001b[90mLightGraphs\u001b[39m\n",
      "\u001b[32m  ✓ \u001b[39m\u001b[90mColors\u001b[39m\n",
      "\u001b[32m  ✓ \u001b[39m\u001b[90mColorSchemes\u001b[39m\n"
     ]
    },
    {
     "name": "stderr",
     "output_type": "stream",
     "text": [
      "\u001b[32m  ✓ \u001b[39m\u001b[90mGeometryBasics\u001b[39m\n",
      "\u001b[32m  ✓ \u001b[39m\u001b[90mNetworkLayout\u001b[39m\n",
      "\u001b[32m  ✓ \u001b[39m\u001b[90mPlotUtils\u001b[39m\n",
      "\u001b[32m  ✓ \u001b[39mGraphRecipes\n",
      "  38 dependencies successfully precompiled in 103 seconds (5 already precompiled)\n"
     ]
    }
   ],
   "source": [
    "# 정수는 무수히 많음... 그럼 무한개를 컴퓨터에 저장해놔야함?\n",
    "# 그건 불가능... 근사를 이용\n",
    "# M=64 : 최대로 처리할 수 있는 비트 수가 2^64개\n",
    "\n",
    "# Pkg.add(\"GraphRecipes\")"
   ]
  },
  {
   "cell_type": "code",
   "execution_count": 11,
   "metadata": {
    "ExecuteTime": {
     "end_time": "2021-09-13T16:38:28.443000+09:00",
     "start_time": "2021-09-13T07:38:06.525Z"
    }
   },
   "outputs": [
    {
     "data": {
      "image/svg+xml": [
       "<?xml version=\"1.0\" encoding=\"utf-8\"?>\n",
       "<svg xmlns=\"http://www.w3.org/2000/svg\" xmlns:xlink=\"http://www.w3.org/1999/xlink\" width=\"600\" height=\"400\" viewBox=\"0 0 2400 1600\">\n",
       "<defs>\n",
       "  <clipPath id=\"clip470\">\n",
       "    <rect x=\"0\" y=\"0\" width=\"2400\" height=\"1600\"/>\n",
       "  </clipPath>\n",
       "</defs>\n",
       "<path clip-path=\"url(#clip470)\" d=\"\n",
       "M0 1600 L2400 1600 L2400 0 L0 0  Z\n",
       "  \" fill=\"#ffffff\" fill-rule=\"evenodd\" fill-opacity=\"1\"/>\n",
       "<defs>\n",
       "  <clipPath id=\"clip471\">\n",
       "    <rect x=\"480\" y=\"0\" width=\"1681\" height=\"1600\"/>\n",
       "  </clipPath>\n",
       "</defs>\n",
       "<path clip-path=\"url(#clip470)\" d=\"\n",
       "M447.244 1552.76 L1952.76 1552.76 L1952.76 47.2441 L447.244 47.2441  Z\n",
       "  \" fill=\"#ffffff\" fill-rule=\"evenodd\" fill-opacity=\"1\"/>\n",
       "<defs>\n",
       "  <clipPath id=\"clip472\">\n",
       "    <rect x=\"447\" y=\"47\" width=\"1507\" height=\"1507\"/>\n",
       "  </clipPath>\n",
       "</defs>\n",
       "<polyline clip-path=\"url(#clip472)\" style=\"stroke:#000000; stroke-linecap:butt; stroke-linejoin:round; stroke-width:4; stroke-opacity:1; fill:none\" points=\"\n",
       "  1189.46,262.317 1189.36,269.3 1189.05,276.417 1188.56,283.658 1187.89,291.013 1187.07,298.473 1186.11,306.027 1185.02,313.666 1183.81,321.379 1182.52,329.157 \n",
       "  1181.14,336.99 1179.69,344.867 1178.19,352.779 1176.65,360.716 1175.09,368.668 1173.52,376.625 1171.96,384.576 1170.43,392.513 1168.93,400.425 1167.48,408.303 \n",
       "  1166.1,416.135 1164.8,423.913 1163.6,431.626 1162.51,439.265 1161.54,446.819 1160.72,454.279 1160.06,461.635 1159.56,468.876 1159.26,475.993 1159.15,482.975 \n",
       "  \n",
       "  \"/>\n",
       "<polyline clip-path=\"url(#clip472)\" style=\"stroke:#000000; stroke-linecap:butt; stroke-linejoin:round; stroke-width:4; stroke-opacity:1; fill:none\" points=\"\n",
       "  1159.15,482.975 1159.37,488.594 1160.01,494.256 1161.05,499.958 1162.44,505.698 1164.16,511.47 1166.17,517.273 1168.45,523.104 1170.97,528.958 1173.69,534.833 \n",
       "  1176.57,540.726 1179.6,546.633 1182.74,552.552 1185.96,558.478 1189.22,564.409 1192.5,570.342 1195.76,576.274 1198.98,582.2 1202.12,588.118 1205.15,594.026 \n",
       "  1208.04,599.918 1210.76,605.794 1213.27,611.648 1215.55,617.478 1217.57,623.282 1219.29,629.054 1220.68,634.793 1221.71,640.495 1222.35,646.158 1222.57,651.776 \n",
       "  \n",
       "  \"/>\n",
       "<polyline clip-path=\"url(#clip472)\" style=\"stroke:#000000; stroke-linecap:butt; stroke-linejoin:round; stroke-width:4; stroke-opacity:1; fill:none\" points=\"\n",
       "  1222.57,651.776 1222.5,657.938 1222.3,664.223 1221.98,670.622 1221.54,677.127 1221,683.728 1220.37,690.416 1219.65,697.183 1218.86,704.018 1218.01,710.912 \n",
       "  1217.1,717.857 1216.15,724.843 1215.16,731.862 1214.15,738.903 1213.13,745.958 1212.1,753.017 1211.07,760.072 1210.06,767.113 1209.08,774.132 1208.13,781.118 \n",
       "  1207.22,788.063 1206.36,794.957 1205.57,801.792 1204.86,808.559 1204.23,815.247 1203.69,821.848 1203.25,828.353 1202.92,834.753 1202.72,841.037 1202.65,847.199 \n",
       "  \n",
       "  \"/>\n",
       "<polyline clip-path=\"url(#clip472)\" style=\"stroke:#000000; stroke-linecap:butt; stroke-linejoin:round; stroke-width:4; stroke-opacity:1; fill:none\" points=\"\n",
       "  1202.65,847.199 1203.06,853.988 1204.24,860.7 1206.14,867.342 1208.71,873.918 1211.87,880.435 1215.58,886.898 1219.78,893.312 1224.41,899.684 1229.42,906.019 \n",
       "  1234.74,912.323 1240.31,918.601 1246.09,924.86 1252.02,931.104 1258.03,937.34 1264.06,943.572 1270.07,949.808 1276,956.052 1281.78,962.311 1287.36,968.589 \n",
       "  1292.68,974.893 1297.68,981.228 1302.31,987.6 1306.51,994.014 1310.22,1000.48 1313.39,1006.99 1315.95,1013.57 1317.85,1020.21 1319.03,1026.92 1319.44,1033.71 \n",
       "  \n",
       "  \"/>\n",
       "<polyline clip-path=\"url(#clip472)\" style=\"stroke:#000000; stroke-linecap:butt; stroke-linejoin:round; stroke-width:4; stroke-opacity:1; fill:none\" points=\"\n",
       "  1202.65,847.199 1202.39,855.387 1201.64,863.677 1200.43,872.062 1198.79,880.534 1196.78,889.086 1194.41,897.71 1191.73,906.398 1188.78,915.144 1185.59,923.938 \n",
       "  1182.2,932.774 1178.64,941.645 1174.96,950.542 1171.18,959.458 1167.35,968.385 1163.5,977.316 1159.67,986.243 1155.89,995.159 1152.21,1004.06 1148.65,1012.93 \n",
       "  1145.26,1021.76 1142.07,1030.56 1139.12,1039.3 1136.44,1047.99 1134.07,1056.61 1132.06,1065.17 1130.42,1073.64 1129.21,1082.02 1128.46,1090.31 1128.2,1098.5 \n",
       "  \n",
       "  \"/>\n",
       "<polyline clip-path=\"url(#clip472)\" style=\"stroke:#000000; stroke-linecap:butt; stroke-linejoin:round; stroke-width:4; stroke-opacity:1; fill:none\" points=\"\n",
       "  1202.65,847.199 1202.77,855.882 1203.11,864.737 1203.66,873.748 1204.4,882.905 1205.32,892.194 1206.39,901.603 1207.6,911.119 1208.94,920.73 1210.39,930.423 \n",
       "  1211.92,940.185 1213.53,950.004 1215.2,959.867 1216.92,969.761 1218.65,979.675 1220.4,989.594 1222.13,999.508 1223.84,1009.4 1225.51,1019.27 1227.12,1029.08 \n",
       "  1228.66,1038.85 1230.11,1048.54 1231.45,1058.15 1232.66,1067.67 1233.73,1077.07 1234.65,1086.36 1235.39,1095.52 1235.93,1104.53 1236.28,1113.39 1236.39,1122.07 \n",
       "  \n",
       "  \"/>\n",
       "<polyline clip-path=\"url(#clip472)\" style=\"stroke:#000000; stroke-linecap:butt; stroke-linejoin:round; stroke-width:4; stroke-opacity:1; fill:none\" points=\"\n",
       "  1202.65,847.199 1201.65,855.788 1198.73,863.807 1194.04,871.297 1187.72,878.301 1179.91,884.861 1170.75,891.02 1160.39,896.819 1148.96,902.301 1136.62,907.508 \n",
       "  1123.49,912.483 1109.73,917.268 1095.47,921.904 1080.85,926.435 1066.02,930.902 1051.12,935.349 1036.3,939.816 1021.68,944.347 1007.42,948.983 993.654,953.768 \n",
       "  980.527,958.743 968.181,963.95 956.755,969.432 946.393,975.231 937.236,981.39 929.427,987.95 923.106,994.954 918.415,1002.44 915.497,1010.46 914.492,1019.05 \n",
       "  \n",
       "  \"/>\n",
       "<polyline clip-path=\"url(#clip472)\" style=\"stroke:#000000; stroke-linecap:butt; stroke-linejoin:round; stroke-width:4; stroke-opacity:1; fill:none\" points=\"\n",
       "  914.492,1019.05 914.687,1028.61 915.251,1038.34 916.158,1048.22 917.381,1058.24 918.892,1068.4 920.663,1078.68 922.668,1089.06 924.878,1099.53 927.266,1110.09 \n",
       "  929.805,1120.72 932.468,1131.4 935.227,1142.12 938.054,1152.88 940.922,1163.65 943.805,1174.43 946.673,1185.21 949.5,1195.96 952.259,1206.69 954.922,1217.37 \n",
       "  957.461,1228 959.849,1238.55 962.059,1249.03 964.064,1259.41 965.835,1269.69 967.346,1279.84 968.569,1289.87 969.476,1299.75 970.041,1309.48 970.235,1319.03 \n",
       "  \n",
       "  \"/>\n",
       "<polyline clip-path=\"url(#clip472)\" style=\"stroke:#000000; stroke-linecap:butt; stroke-linejoin:round; stroke-width:4; stroke-opacity:1; fill:none\" points=\"\n",
       "  914.492,1019.05 914.866,1027.15 915.952,1035.27 917.697,1043.41 920.049,1051.57 922.955,1059.74 926.362,1067.93 930.218,1076.13 934.469,1084.34 939.064,1092.56 \n",
       "  943.948,1100.78 949.07,1109.02 954.376,1117.26 959.815,1125.5 965.332,1133.74 970.876,1141.99 976.393,1150.24 981.832,1158.48 987.138,1166.72 992.26,1174.95 \n",
       "  997.144,1183.18 1001.74,1191.4 1005.99,1199.61 1009.85,1207.81 1013.25,1215.99 1016.16,1224.16 1018.51,1232.32 1020.26,1240.46 1021.34,1248.58 1021.72,1256.68 \n",
       "  \n",
       "  \"/>\n",
       "<polyline clip-path=\"url(#clip472)\" style=\"stroke:#000000; stroke-linecap:butt; stroke-linejoin:round; stroke-width:4; stroke-opacity:1; fill:none\" points=\"\n",
       "  914.492,1019.05 913.918,1027.27 912.25,1035.29 909.57,1043.12 905.957,1050.79 901.493,1058.3 896.26,1065.67 890.338,1072.92 883.808,1080.06 876.752,1087.11 \n",
       "  869.25,1094.07 861.383,1100.97 853.232,1107.82 844.879,1114.63 836.405,1121.41 827.89,1128.2 819.415,1134.98 811.062,1141.79 802.912,1148.64 795.045,1155.54 \n",
       "  787.543,1162.5 780.486,1169.55 773.956,1176.69 768.034,1183.94 762.801,1191.31 758.338,1198.82 754.725,1206.49 752.044,1214.32 750.376,1222.34 749.802,1230.56 \n",
       "  \n",
       "  \"/>\n",
       "<polyline clip-path=\"url(#clip472)\" style=\"stroke:#000000; stroke-linecap:butt; stroke-linejoin:round; stroke-width:4; stroke-opacity:1; fill:none\" points=\"\n",
       "  914.492,1019.05 913.967,1029.39 912.441,1039.7 909.989,1050 906.684,1060.29 902.601,1070.56 897.814,1080.82 892.397,1091.06 886.423,1101.3 879.968,1111.53 \n",
       "  873.106,1121.75 865.909,1131.97 858.453,1142.18 850.812,1152.39 843.06,1162.59 835.271,1172.8 827.518,1183 819.877,1193.21 812.422,1203.42 805.225,1213.64 \n",
       "  798.362,1223.86 791.907,1234.09 785.934,1244.32 780.517,1254.57 775.73,1264.83 771.646,1275.1 768.342,1285.39 765.889,1295.68 764.364,1306 763.839,1316.33 \n",
       "  \n",
       "  \"/>\n",
       "<polyline clip-path=\"url(#clip472)\" style=\"stroke:#000000; stroke-linecap:butt; stroke-linejoin:round; stroke-width:4; stroke-opacity:1; fill:none\" points=\"\n",
       "  914.492,1019.05 914.334,1028.16 913.875,1037.43 913.137,1046.87 912.142,1056.44 910.914,1066.15 909.473,1075.98 907.842,1085.91 906.045,1095.94 904.102,1106.05 \n",
       "  902.036,1116.23 899.871,1126.47 897.627,1136.74 895.327,1147.05 892.994,1157.38 890.65,1167.72 888.317,1178.05 886.017,1188.36 883.773,1198.64 881.607,1208.87 \n",
       "  879.542,1219.05 877.599,1229.16 875.801,1239.19 874.171,1249.12 872.73,1258.95 871.501,1268.66 870.507,1278.24 869.769,1287.67 869.309,1296.94 869.151,1306.05 \n",
       "  \n",
       "  \"/>\n",
       "<polyline clip-path=\"url(#clip472)\" style=\"stroke:#000000; stroke-linecap:butt; stroke-linejoin:round; stroke-width:4; stroke-opacity:1; fill:none\" points=\"\n",
       "  914.492,1019.05 913.613,1028.76 911.059,1037.88 906.955,1046.45 901.423,1054.52 894.588,1062.12 886.575,1069.32 877.507,1076.13 867.509,1082.63 856.704,1088.83 \n",
       "  845.216,1094.8 833.17,1100.57 820.69,1106.18 807.9,1111.69 794.924,1117.13 781.886,1122.55 768.909,1127.99 756.119,1133.49 743.639,1139.11 731.593,1144.88 \n",
       "  720.106,1150.84 709.301,1157.05 699.302,1163.54 690.234,1170.36 682.221,1177.55 675.387,1185.16 669.855,1193.22 665.75,1201.79 663.196,1210.91 662.317,1220.62 \n",
       "  \n",
       "  \"/>\n",
       "<polyline clip-path=\"url(#clip472)\" style=\"stroke:#000000; stroke-linecap:butt; stroke-linejoin:round; stroke-width:4; stroke-opacity:1; fill:none\" points=\"\n",
       "  1202.65,847.199 1203.65,858.166 1206.55,868.457 1211.2,878.12 1217.48,887.207 1225.23,895.767 1234.32,903.85 1244.61,911.508 1255.96,918.789 1268.21,925.744 \n",
       "  1281.25,932.423 1294.91,938.876 1309.07,945.154 1323.58,951.306 1338.3,957.384 1353.09,963.436 1367.82,969.513 1382.33,975.666 1396.48,981.943 1410.15,988.397 \n",
       "  1423.18,995.076 1435.44,1002.03 1446.78,1009.31 1457.07,1016.97 1466.16,1025.05 1473.92,1033.61 1480.19,1042.7 1484.85,1052.36 1487.75,1062.65 1488.74,1073.62 \n",
       "  \n",
       "  \"/>\n",
       "<polyline clip-path=\"url(#clip472)\" style=\"stroke:#000000; stroke-linecap:butt; stroke-linejoin:round; stroke-width:4; stroke-opacity:1; fill:none\" points=\"\n",
       "  1488.74,1073.62 1488.42,1082.15 1487.5,1090.76 1486.01,1099.44 1484,1108.18 1481.52,1116.99 1478.61,1125.85 1475.32,1134.75 1471.69,1143.7 1467.77,1152.69 \n",
       "  1463.6,1161.71 1459.23,1170.75 1454.7,1179.81 1450.06,1188.89 1445.35,1197.98 1440.61,1207.07 1435.91,1216.16 1431.26,1225.23 1426.73,1234.3 1422.36,1243.34 \n",
       "  1418.19,1252.36 1414.27,1261.35 1410.64,1270.3 1407.35,1279.2 1404.44,1288.06 1401.96,1296.87 1399.96,1305.61 1398.47,1314.29 1397.54,1322.9 1397.22,1331.43 \n",
       "  \n",
       "  \"/>\n",
       "<polyline clip-path=\"url(#clip472)\" style=\"stroke:#000000; stroke-linecap:butt; stroke-linejoin:round; stroke-width:4; stroke-opacity:1; fill:none\" points=\"\n",
       "  1488.74,1073.62 1489.09,1082.42 1490.1,1091.28 1491.73,1100.2 1493.91,1109.18 1496.62,1118.21 1499.79,1127.29 1503.38,1136.41 1507.34,1145.57 1511.61,1154.76 \n",
       "  1516.16,1163.98 1520.93,1173.21 1525.87,1182.47 1530.93,1191.74 1536.06,1201.01 1541.22,1210.29 1546.36,1219.57 1551.42,1228.83 1556.36,1238.09 1561.13,1247.33 \n",
       "  1565.67,1256.54 1569.95,1265.73 1573.91,1274.89 1577.49,1284.01 1580.67,1293.09 1583.37,1302.12 1585.56,1311.1 1587.18,1320.03 1588.19,1328.89 1588.54,1337.68 \n",
       "  \n",
       "  \"/>\n",
       "<polyline clip-path=\"url(#clip472)\" style=\"stroke:#000000; stroke-linecap:butt; stroke-linejoin:round; stroke-width:4; stroke-opacity:1; fill:none\" points=\"\n",
       "  1488.74,1073.62 1489.61,1083.12 1492.13,1092.03 1496.18,1100.39 1501.64,1108.23 1508.39,1115.62 1516.3,1122.59 1525.25,1129.18 1535.12,1135.44 1545.79,1141.42 \n",
       "  1557.13,1147.15 1569.02,1152.68 1581.34,1158.06 1593.97,1163.33 1606.78,1168.54 1619.65,1173.72 1632.46,1178.92 1645.08,1184.19 1657.4,1189.57 1669.3,1195.11 \n",
       "  1680.64,1200.84 1691.3,1206.82 1701.17,1213.08 1710.12,1219.67 1718.03,1226.64 1724.78,1234.02 1730.24,1241.87 1734.29,1250.23 1736.82,1259.14 1737.68,1268.64 \n",
       "  \n",
       "  \"/>\n",
       "<polyline clip-path=\"url(#clip472)\" style=\"stroke:#000000; stroke-linecap:butt; stroke-linejoin:round; stroke-width:4; stroke-opacity:1; fill:none\" points=\"\n",
       "  1488.74,1073.62 1489.37,1081.11 1491.19,1088.24 1494.11,1095.05 1498.06,1101.57 1502.93,1107.81 1508.64,1113.8 1515.1,1119.57 1522.23,1125.15 1529.93,1130.56 \n",
       "  1538.11,1135.83 1546.7,1140.98 1555.59,1146.03 1564.71,1151.03 1573.96,1155.98 1583.25,1160.92 1592.5,1165.88 1601.61,1170.87 1610.51,1175.93 1619.09,1181.08 \n",
       "  1627.28,1186.35 1634.98,1191.76 1642.11,1197.33 1648.57,1203.11 1654.28,1209.1 1659.15,1215.34 1663.09,1221.85 1666.02,1228.66 1667.84,1235.8 1668.47,1243.29 \n",
       "  \n",
       "  \"/>\n",
       "<polyline clip-path=\"url(#clip472)\" style=\"stroke:#000000; stroke-linecap:butt; stroke-linejoin:round; stroke-width:4; stroke-opacity:1; fill:none\" points=\"\n",
       "  1488.74,1073.62 1488.81,1080.06 1489.02,1086.63 1489.34,1093.32 1489.79,1100.12 1490.33,1107.03 1490.97,1114.02 1491.69,1121.09 1492.49,1128.24 1493.35,1135.45 \n",
       "  1494.27,1142.71 1495.23,1150.02 1496.23,1157.36 1497.25,1164.72 1498.29,1172.1 1499.33,1179.48 1500.36,1186.86 1501.38,1194.23 1502.38,1201.57 1503.34,1208.87 \n",
       "  1504.26,1216.13 1505.12,1223.34 1505.92,1230.49 1506.64,1237.57 1507.28,1244.56 1507.83,1251.46 1508.27,1258.26 1508.59,1264.95 1508.8,1271.52 1508.87,1277.96 \n",
       "  \n",
       "  \"/>\n",
       "<path clip-path=\"url(#clip472)\" d=\"\n",
       "M1208.11 262.317 L1198.78 246.169 L1180.14 246.169 L1170.82 262.317 L1180.14 278.465 L1198.78 278.465 L1208.11 262.317 L1208.11 262.317  Z\n",
       "  \" fill=\"#009af9\" fill-rule=\"evenodd\" fill-opacity=\"1\"/>\n",
       "<polyline clip-path=\"url(#clip472)\" style=\"stroke:#000000; stroke-linecap:butt; stroke-linejoin:round; stroke-width:4; stroke-opacity:1; fill:none\" points=\"\n",
       "  1208.11,262.317 1198.78,246.169 1180.14,246.169 1170.82,262.317 1180.14,278.465 1198.78,278.465 1208.11,262.317 \n",
       "  \"/>\n",
       "<path clip-path=\"url(#clip472)\" d=\"\n",
       "M1191.62 482.975 L1175.38 454.86 L1142.92 454.86 L1126.69 482.975 L1142.92 511.09 L1175.38 511.09 L1191.62 482.975 L1191.62 482.975  Z\n",
       "  \" fill=\"#009af9\" fill-rule=\"evenodd\" fill-opacity=\"1\"/>\n",
       "<polyline clip-path=\"url(#clip472)\" style=\"stroke:#000000; stroke-linecap:butt; stroke-linejoin:round; stroke-width:4; stroke-opacity:1; fill:none\" points=\"\n",
       "  1191.62,482.975 1175.38,454.86 1142.92,454.86 1126.69,482.975 1142.92,511.09 1175.38,511.09 1191.62,482.975 \n",
       "  \"/>\n",
       "<path clip-path=\"url(#clip472)\" d=\"\n",
       "M1246.04 651.776 L1234.31 631.45 L1210.84 631.45 L1199.1 651.776 L1210.84 672.103 L1234.31 672.103 L1246.04 651.776 L1246.04 651.776  Z\n",
       "  \" fill=\"#009af9\" fill-rule=\"evenodd\" fill-opacity=\"1\"/>\n",
       "<polyline clip-path=\"url(#clip472)\" style=\"stroke:#000000; stroke-linecap:butt; stroke-linejoin:round; stroke-width:4; stroke-opacity:1; fill:none\" points=\"\n",
       "  1246.04,651.776 1234.31,631.45 1210.84,631.45 1199.1,651.776 1210.84,672.103 1234.31,672.103 1246.04,651.776 \n",
       "  \"/>\n",
       "<path clip-path=\"url(#clip472)\" d=\"\n",
       "M1239.38 847.199 L1221.02 815.393 L1184.29 815.393 L1165.93 847.199 L1184.29 879.004 L1221.02 879.004 L1239.38 847.199 L1239.38 847.199  Z\n",
       "  \" fill=\"#009af9\" fill-rule=\"evenodd\" fill-opacity=\"1\"/>\n",
       "<polyline clip-path=\"url(#clip472)\" style=\"stroke:#000000; stroke-linecap:butt; stroke-linejoin:round; stroke-width:4; stroke-opacity:1; fill:none\" points=\"\n",
       "  1239.38,847.199 1221.02,815.393 1184.29,815.393 1165.93,847.199 1184.29,879.004 1221.02,879.004 1239.38,847.199 \n",
       "  \"/>\n",
       "<path clip-path=\"url(#clip472)\" d=\"\n",
       "M1342.91 1033.71 L1331.17 1013.39 L1307.7 1013.39 L1295.97 1033.71 L1307.7 1054.04 L1331.17 1054.04 L1342.91 1033.71 L1342.91 1033.71  Z\n",
       "  \" fill=\"#009af9\" fill-rule=\"evenodd\" fill-opacity=\"1\"/>\n",
       "<polyline clip-path=\"url(#clip472)\" style=\"stroke:#000000; stroke-linecap:butt; stroke-linejoin:round; stroke-width:4; stroke-opacity:1; fill:none\" points=\"\n",
       "  1342.91,1033.71 1331.17,1013.39 1307.7,1013.39 1295.97,1033.71 1307.7,1054.04 1331.17,1054.04 1342.91,1033.71 \n",
       "  \"/>\n",
       "<path clip-path=\"url(#clip472)\" d=\"\n",
       "M1188.46 1098.5 L1158.33 1046.31 L1098.07 1046.31 L1067.93 1098.5 L1098.07 1150.69 L1158.33 1150.69 L1188.46 1098.5 L1188.46 1098.5  Z\n",
       "  \" fill=\"#009af9\" fill-rule=\"evenodd\" fill-opacity=\"1\"/>\n",
       "<polyline clip-path=\"url(#clip472)\" style=\"stroke:#000000; stroke-linecap:butt; stroke-linejoin:round; stroke-width:4; stroke-opacity:1; fill:none\" points=\"\n",
       "  1188.46,1098.5 1158.33,1046.31 1098.07,1046.31 1067.93,1098.5 1098.07,1150.69 1158.33,1150.69 1188.46,1098.5 \n",
       "  \"/>\n",
       "<path clip-path=\"url(#clip472)\" d=\"\n",
       "M1296.66 1122.07 L1266.52 1069.88 L1206.26 1069.88 L1176.13 1122.07 L1206.26 1174.26 L1266.52 1174.26 L1296.66 1122.07 L1296.66 1122.07  Z\n",
       "  \" fill=\"#009af9\" fill-rule=\"evenodd\" fill-opacity=\"1\"/>\n",
       "<polyline clip-path=\"url(#clip472)\" style=\"stroke:#000000; stroke-linecap:butt; stroke-linejoin:round; stroke-width:4; stroke-opacity:1; fill:none\" points=\"\n",
       "  1296.66,1122.07 1266.52,1069.88 1206.26,1069.88 1176.13,1122.07 1206.26,1174.26 1266.52,1174.26 1296.66,1122.07 \n",
       "  \"/>\n",
       "<path clip-path=\"url(#clip472)\" d=\"\n",
       "M946.957 1019.05 L930.725 990.937 L898.26 990.937 L882.028 1019.05 L898.26 1047.17 L930.725 1047.17 L946.957 1019.05 L946.957 1019.05  Z\n",
       "  \" fill=\"#009af9\" fill-rule=\"evenodd\" fill-opacity=\"1\"/>\n",
       "<polyline clip-path=\"url(#clip472)\" style=\"stroke:#000000; stroke-linecap:butt; stroke-linejoin:round; stroke-width:4; stroke-opacity:1; fill:none\" points=\"\n",
       "  946.957,1019.05 930.725,990.937 898.26,990.937 882.028,1019.05 898.26,1047.17 930.725,1047.17 946.957,1019.05 \n",
       "  \"/>\n",
       "<path clip-path=\"url(#clip472)\" d=\"\n",
       "M1002.7 1319.03 L986.467 1290.92 L954.002 1290.92 L937.77 1319.03 L954.002 1347.15 L986.467 1347.15 L1002.7 1319.03 L1002.7 1319.03  Z\n",
       "  \" fill=\"#009af9\" fill-rule=\"evenodd\" fill-opacity=\"1\"/>\n",
       "<polyline clip-path=\"url(#clip472)\" style=\"stroke:#000000; stroke-linecap:butt; stroke-linejoin:round; stroke-width:4; stroke-opacity:1; fill:none\" points=\"\n",
       "  1002.7,1319.03 986.467,1290.92 954.002,1290.92 937.77,1319.03 954.002,1347.15 986.467,1347.15 1002.7,1319.03 \n",
       "  \"/>\n",
       "<path clip-path=\"url(#clip472)\" d=\"\n",
       "M1054.18 1256.68 L1037.95 1228.57 L1005.48 1228.57 L989.251 1256.68 L1005.48 1284.8 L1037.95 1284.8 L1054.18 1256.68 L1054.18 1256.68  Z\n",
       "  \" fill=\"#009af9\" fill-rule=\"evenodd\" fill-opacity=\"1\"/>\n",
       "<polyline clip-path=\"url(#clip472)\" style=\"stroke:#000000; stroke-linecap:butt; stroke-linejoin:round; stroke-width:4; stroke-opacity:1; fill:none\" points=\"\n",
       "  1054.18,1256.68 1037.95,1228.57 1005.48,1228.57 989.251,1256.68 1005.48,1284.8 1037.95,1284.8 1054.18,1256.68 \n",
       "  \"/>\n",
       "<path clip-path=\"url(#clip472)\" d=\"\n",
       "M777.861 1230.56 L763.832 1206.26 L735.773 1206.26 L721.744 1230.56 L735.773 1254.86 L763.832 1254.86 L777.861 1230.56 L777.861 1230.56  Z\n",
       "  \" fill=\"#009af9\" fill-rule=\"evenodd\" fill-opacity=\"1\"/>\n",
       "<polyline clip-path=\"url(#clip472)\" style=\"stroke:#000000; stroke-linecap:butt; stroke-linejoin:round; stroke-width:4; stroke-opacity:1; fill:none\" points=\"\n",
       "  777.861,1230.56 763.832,1206.26 735.773,1206.26 721.744,1230.56 735.773,1254.86 763.832,1254.86 777.861,1230.56 \n",
       "  \"/>\n",
       "<path clip-path=\"url(#clip472)\" d=\"\n",
       "M791.897 1316.33 L777.868 1292.04 L749.809 1292.04 L735.78 1316.33 L749.809 1340.63 L777.868 1340.63 L791.897 1316.33 L791.897 1316.33  Z\n",
       "  \" fill=\"#009af9\" fill-rule=\"evenodd\" fill-opacity=\"1\"/>\n",
       "<polyline clip-path=\"url(#clip472)\" style=\"stroke:#000000; stroke-linecap:butt; stroke-linejoin:round; stroke-width:4; stroke-opacity:1; fill:none\" points=\"\n",
       "  791.897,1316.33 777.868,1292.04 749.809,1292.04 735.78,1316.33 749.809,1340.63 777.868,1340.63 791.897,1316.33 \n",
       "  \"/>\n",
       "<path clip-path=\"url(#clip472)\" d=\"\n",
       "M897.21 1306.05 L883.181 1281.75 L855.122 1281.75 L841.093 1306.05 L855.122 1330.35 L883.181 1330.35 L897.21 1306.05 L897.21 1306.05  Z\n",
       "  \" fill=\"#009af9\" fill-rule=\"evenodd\" fill-opacity=\"1\"/>\n",
       "<polyline clip-path=\"url(#clip472)\" style=\"stroke:#000000; stroke-linecap:butt; stroke-linejoin:round; stroke-width:4; stroke-opacity:1; fill:none\" points=\"\n",
       "  897.21,1306.05 883.181,1281.75 855.122,1281.75 841.093,1306.05 855.122,1330.35 883.181,1330.35 897.21,1306.05 \n",
       "  \"/>\n",
       "<path clip-path=\"url(#clip472)\" d=\"\n",
       "M685.788 1220.62 L674.053 1200.29 L650.582 1200.29 L638.846 1220.62 L650.582 1240.95 L674.053 1240.95 L685.788 1220.62 L685.788 1220.62  Z\n",
       "  \" fill=\"#009af9\" fill-rule=\"evenodd\" fill-opacity=\"1\"/>\n",
       "<polyline clip-path=\"url(#clip472)\" style=\"stroke:#000000; stroke-linecap:butt; stroke-linejoin:round; stroke-width:4; stroke-opacity:1; fill:none\" points=\"\n",
       "  685.788,1220.62 674.053,1200.29 650.582,1200.29 638.846,1220.62 650.582,1240.95 674.053,1240.95 685.788,1220.62 \n",
       "  \"/>\n",
       "<path clip-path=\"url(#clip472)\" d=\"\n",
       "M1529.61 1073.62 L1509.18 1038.23 L1468.31 1038.23 L1447.88 1073.62 L1468.31 1109.01 L1509.18 1109.01 L1529.61 1073.62 L1529.61 1073.62  Z\n",
       "  \" fill=\"#009af9\" fill-rule=\"evenodd\" fill-opacity=\"1\"/>\n",
       "<polyline clip-path=\"url(#clip472)\" style=\"stroke:#000000; stroke-linecap:butt; stroke-linejoin:round; stroke-width:4; stroke-opacity:1; fill:none\" points=\"\n",
       "  1529.61,1073.62 1509.18,1038.23 1468.31,1038.23 1447.88,1073.62 1468.31,1109.01 1509.18,1109.01 1529.61,1073.62 \n",
       "  \"/>\n",
       "<path clip-path=\"url(#clip472)\" d=\"\n",
       "M1433.94 1331.43 L1415.58 1299.62 L1378.86 1299.62 L1360.49 1331.43 L1378.86 1363.23 L1415.58 1363.23 L1433.94 1331.43 L1433.94 1331.43  Z\n",
       "  \" fill=\"#009af9\" fill-rule=\"evenodd\" fill-opacity=\"1\"/>\n",
       "<polyline clip-path=\"url(#clip472)\" style=\"stroke:#000000; stroke-linecap:butt; stroke-linejoin:round; stroke-width:4; stroke-opacity:1; fill:none\" points=\"\n",
       "  1433.94,1331.43 1415.58,1299.62 1378.86,1299.62 1360.49,1331.43 1378.86,1363.23 1415.58,1363.23 1433.94,1331.43 \n",
       "  \"/>\n",
       "<path clip-path=\"url(#clip472)\" d=\"\n",
       "M1621.01 1337.68 L1604.77 1309.57 L1572.31 1309.57 L1556.08 1337.68 L1572.31 1365.8 L1604.77 1365.8 L1621.01 1337.68 L1621.01 1337.68  Z\n",
       "  \" fill=\"#009af9\" fill-rule=\"evenodd\" fill-opacity=\"1\"/>\n",
       "<polyline clip-path=\"url(#clip472)\" style=\"stroke:#000000; stroke-linecap:butt; stroke-linejoin:round; stroke-width:4; stroke-opacity:1; fill:none\" points=\"\n",
       "  1621.01,1337.68 1604.77,1309.57 1572.31,1309.57 1556.08,1337.68 1572.31,1365.8 1604.77,1365.8 1621.01,1337.68 \n",
       "  \"/>\n",
       "<path clip-path=\"url(#clip472)\" d=\"\n",
       "M1770.15 1268.64 L1753.92 1240.52 L1721.45 1240.52 L1705.22 1268.64 L1721.45 1296.75 L1753.92 1296.75 L1770.15 1268.64 L1770.15 1268.64  Z\n",
       "  \" fill=\"#009af9\" fill-rule=\"evenodd\" fill-opacity=\"1\"/>\n",
       "<polyline clip-path=\"url(#clip472)\" style=\"stroke:#000000; stroke-linecap:butt; stroke-linejoin:round; stroke-width:4; stroke-opacity:1; fill:none\" points=\"\n",
       "  1770.15,1268.64 1753.92,1240.52 1721.45,1240.52 1705.22,1268.64 1721.45,1296.75 1753.92,1296.75 1770.15,1268.64 \n",
       "  \"/>\n",
       "<path clip-path=\"url(#clip472)\" d=\"\n",
       "M1700.93 1243.29 L1684.7 1215.17 L1652.23 1215.17 L1636 1243.29 L1652.23 1271.4 L1684.7 1271.4 L1700.93 1243.29 L1700.93 1243.29  Z\n",
       "  \" fill=\"#009af9\" fill-rule=\"evenodd\" fill-opacity=\"1\"/>\n",
       "<polyline clip-path=\"url(#clip472)\" style=\"stroke:#000000; stroke-linecap:butt; stroke-linejoin:round; stroke-width:4; stroke-opacity:1; fill:none\" points=\"\n",
       "  1700.93,1243.29 1684.7,1215.17 1652.23,1215.17 1636,1243.29 1652.23,1271.4 1684.7,1271.4 1700.93,1243.29 \n",
       "  \"/>\n",
       "<path clip-path=\"url(#clip472)\" d=\"\n",
       "M1536.93 1277.96 L1522.9 1253.66 L1494.84 1253.66 L1480.81 1277.96 L1494.84 1302.26 L1522.9 1302.26 L1536.93 1277.96 L1536.93 1277.96  Z\n",
       "  \" fill=\"#009af9\" fill-rule=\"evenodd\" fill-opacity=\"1\"/>\n",
       "<polyline clip-path=\"url(#clip472)\" style=\"stroke:#000000; stroke-linecap:butt; stroke-linejoin:round; stroke-width:4; stroke-opacity:1; fill:none\" points=\"\n",
       "  1536.93,1277.96 1522.9,1253.66 1494.84,1253.66 1480.81,1277.96 1494.84,1302.26 1522.9,1302.26 1536.93,1277.96 \n",
       "  \"/>\n",
       "<circle clip-path=\"url(#clip472)\" style=\"fill:#009af9; stroke:none; fill-opacity:1\" cx=\"1189.46\" cy=\"262.317\" r=\"2\"/>\n",
       "<circle clip-path=\"url(#clip472)\" style=\"fill:#009af9; stroke:none; fill-opacity:1\" cx=\"1159.15\" cy=\"482.975\" r=\"2\"/>\n",
       "<circle clip-path=\"url(#clip472)\" style=\"fill:#009af9; stroke:none; fill-opacity:1\" cx=\"1222.57\" cy=\"651.776\" r=\"2\"/>\n",
       "<circle clip-path=\"url(#clip472)\" style=\"fill:#009af9; stroke:none; fill-opacity:1\" cx=\"1202.65\" cy=\"847.199\" r=\"2\"/>\n",
       "<circle clip-path=\"url(#clip472)\" style=\"fill:#009af9; stroke:none; fill-opacity:1\" cx=\"1319.44\" cy=\"1033.71\" r=\"2\"/>\n",
       "<circle clip-path=\"url(#clip472)\" style=\"fill:#009af9; stroke:none; fill-opacity:1\" cx=\"1128.2\" cy=\"1098.5\" r=\"2\"/>\n",
       "<circle clip-path=\"url(#clip472)\" style=\"fill:#009af9; stroke:none; fill-opacity:1\" cx=\"1236.39\" cy=\"1122.07\" r=\"2\"/>\n",
       "<circle clip-path=\"url(#clip472)\" style=\"fill:#009af9; stroke:none; fill-opacity:1\" cx=\"914.492\" cy=\"1019.05\" r=\"2\"/>\n",
       "<circle clip-path=\"url(#clip472)\" style=\"fill:#009af9; stroke:none; fill-opacity:1\" cx=\"970.235\" cy=\"1319.03\" r=\"2\"/>\n",
       "<circle clip-path=\"url(#clip472)\" style=\"fill:#009af9; stroke:none; fill-opacity:1\" cx=\"1021.72\" cy=\"1256.68\" r=\"2\"/>\n",
       "<circle clip-path=\"url(#clip472)\" style=\"fill:#009af9; stroke:none; fill-opacity:1\" cx=\"749.802\" cy=\"1230.56\" r=\"2\"/>\n",
       "<circle clip-path=\"url(#clip472)\" style=\"fill:#009af9; stroke:none; fill-opacity:1\" cx=\"763.839\" cy=\"1316.33\" r=\"2\"/>\n",
       "<circle clip-path=\"url(#clip472)\" style=\"fill:#009af9; stroke:none; fill-opacity:1\" cx=\"869.151\" cy=\"1306.05\" r=\"2\"/>\n",
       "<circle clip-path=\"url(#clip472)\" style=\"fill:#009af9; stroke:none; fill-opacity:1\" cx=\"662.317\" cy=\"1220.62\" r=\"2\"/>\n",
       "<circle clip-path=\"url(#clip472)\" style=\"fill:#009af9; stroke:none; fill-opacity:1\" cx=\"1488.74\" cy=\"1073.62\" r=\"2\"/>\n",
       "<circle clip-path=\"url(#clip472)\" style=\"fill:#009af9; stroke:none; fill-opacity:1\" cx=\"1397.22\" cy=\"1331.43\" r=\"2\"/>\n",
       "<circle clip-path=\"url(#clip472)\" style=\"fill:#009af9; stroke:none; fill-opacity:1\" cx=\"1588.54\" cy=\"1337.68\" r=\"2\"/>\n",
       "<circle clip-path=\"url(#clip472)\" style=\"fill:#009af9; stroke:none; fill-opacity:1\" cx=\"1737.68\" cy=\"1268.64\" r=\"2\"/>\n",
       "<circle clip-path=\"url(#clip472)\" style=\"fill:#009af9; stroke:none; fill-opacity:1\" cx=\"1668.47\" cy=\"1243.29\" r=\"2\"/>\n",
       "<circle clip-path=\"url(#clip472)\" style=\"fill:#009af9; stroke:none; fill-opacity:1\" cx=\"1508.87\" cy=\"1277.96\" r=\"2\"/>\n",
       "<path clip-path=\"url(#clip470)\" d=\"M1175.19 255.98 L1172.02 264.58 L1178.37 264.58 L1175.19 255.98 M1173.87 253.677 L1176.52 253.677 L1183.11 270.957 L1180.68 270.957 L1179.1 266.524 L1171.31 266.524 L1169.74 270.957 L1167.27 270.957 L1173.87 253.677 Z\" fill=\"#000000\" fill-rule=\"evenodd\" fill-opacity=\"1\" /><path clip-path=\"url(#clip470)\" d=\"M1196.31 263.133 L1196.31 270.957 L1194.18 270.957 L1194.18 263.203 Q1194.18 261.362 1193.47 260.448 Q1192.75 259.534 1191.31 259.534 Q1189.59 259.534 1188.59 260.633 Q1187.6 261.733 1187.6 263.631 L1187.6 270.957 L1185.46 270.957 L1185.46 257.994 L1187.6 257.994 L1187.6 260.008 Q1188.36 258.839 1189.39 258.261 Q1190.43 257.682 1191.79 257.682 Q1194.02 257.682 1195.17 259.071 Q1196.31 260.448 1196.31 263.133 Z\" fill=\"#000000\" fill-rule=\"evenodd\" fill-opacity=\"1\" /><path clip-path=\"url(#clip470)\" d=\"M1205.95 272.161 Q1205.05 274.476 1204.2 275.182 Q1203.34 275.888 1201.9 275.888 L1200.2 275.888 L1200.2 274.105 L1201.45 274.105 Q1202.33 274.105 1202.82 273.689 Q1203.3 273.272 1203.89 271.721 L1204.28 270.749 L1199.03 257.994 L1201.29 257.994 L1205.34 268.133 L1209.39 257.994 L1211.65 257.994 L1205.95 272.161 Z\" fill=\"#000000\" fill-rule=\"evenodd\" fill-opacity=\"1\" /><path clip-path=\"url(#clip470)\" d=\"M1112.71 474.335 L1115.85 474.335 L1123.52 488.791 L1123.52 474.335 L1125.78 474.335 L1125.78 491.615 L1122.64 491.615 L1114.97 477.159 L1114.97 491.615 L1112.71 491.615 L1112.71 474.335 Z\" fill=\"#000000\" fill-rule=\"evenodd\" fill-opacity=\"1\" /><path clip-path=\"url(#clip470)\" d=\"M1130.12 486.5 L1130.12 478.652 L1132.25 478.652 L1132.25 486.419 Q1132.25 488.259 1132.97 489.185 Q1133.69 490.099 1135.12 490.099 Q1136.85 490.099 1137.84 489 Q1138.85 487.9 1138.85 486.002 L1138.85 478.652 L1140.98 478.652 L1140.98 491.615 L1138.85 491.615 L1138.85 489.625 Q1138.08 490.805 1137.05 491.384 Q1136.03 491.951 1134.67 491.951 Q1132.44 491.951 1131.28 490.562 Q1130.12 489.173 1130.12 486.5 M1135.48 478.34 L1135.48 478.34 Z\" fill=\"#000000\" fill-rule=\"evenodd\" fill-opacity=\"1\" /><path clip-path=\"url(#clip470)\" d=\"M1155.46 481.141 Q1156.26 479.706 1157.37 479.023 Q1158.48 478.34 1159.98 478.34 Q1162.01 478.34 1163.11 479.763 Q1164.21 481.176 1164.21 483.791 L1164.21 491.615 L1162.07 491.615 L1162.07 483.861 Q1162.07 481.997 1161.41 481.094 Q1160.75 480.192 1159.39 480.192 Q1157.74 480.192 1156.78 481.291 Q1155.82 482.391 1155.82 484.289 L1155.82 491.615 L1153.68 491.615 L1153.68 483.861 Q1153.68 481.986 1153.02 481.094 Q1152.36 480.192 1150.98 480.192 Q1149.35 480.192 1148.39 481.303 Q1147.43 482.402 1147.43 484.289 L1147.43 491.615 L1145.29 491.615 L1145.29 478.652 L1147.43 478.652 L1147.43 480.666 Q1148.16 479.474 1149.17 478.907 Q1150.19 478.34 1151.59 478.34 Q1153.01 478.34 1153.99 479.057 Q1154.98 479.775 1155.46 481.141 Z\" fill=\"#000000\" fill-rule=\"evenodd\" fill-opacity=\"1\" /><path clip-path=\"url(#clip470)\" d=\"M1177.76 485.145 Q1177.76 482.796 1176.79 481.465 Q1175.83 480.122 1174.14 480.122 Q1172.45 480.122 1171.48 481.465 Q1170.52 482.796 1170.52 485.145 Q1170.52 487.495 1171.48 488.838 Q1172.45 490.169 1174.14 490.169 Q1175.83 490.169 1176.79 488.838 Q1177.76 487.495 1177.76 485.145 M1170.52 480.62 Q1171.19 479.463 1172.21 478.907 Q1173.24 478.34 1174.66 478.34 Q1177.02 478.34 1178.49 480.215 Q1179.97 482.09 1179.97 485.145 Q1179.97 488.201 1178.49 490.076 Q1177.02 491.951 1174.66 491.951 Q1173.24 491.951 1172.21 491.395 Q1171.19 490.828 1170.52 489.671 L1170.52 491.615 L1168.38 491.615 L1168.38 473.606 L1170.52 473.606 L1170.52 480.62 Z\" fill=\"#000000\" fill-rule=\"evenodd\" fill-opacity=\"1\" /><path clip-path=\"url(#clip470)\" d=\"M1194.59 484.601 L1194.59 485.643 L1184.8 485.643 Q1184.94 487.842 1186.12 489 Q1187.31 490.145 1189.43 490.145 Q1190.66 490.145 1191.8 489.844 Q1192.96 489.544 1194.09 488.942 L1194.09 490.956 Q1192.95 491.442 1191.74 491.696 Q1190.54 491.951 1189.3 491.951 Q1186.2 491.951 1184.38 490.145 Q1182.58 488.34 1182.58 485.261 Q1182.58 482.078 1184.29 480.215 Q1186.01 478.34 1188.93 478.34 Q1191.55 478.34 1193.06 480.03 Q1194.59 481.708 1194.59 484.601 M1192.46 483.976 Q1192.44 482.229 1191.48 481.187 Q1190.53 480.145 1188.95 480.145 Q1187.17 480.145 1186.1 481.152 Q1185.03 482.159 1184.87 483.988 L1192.46 483.976 Z\" fill=\"#000000\" fill-rule=\"evenodd\" fill-opacity=\"1\" /><path clip-path=\"url(#clip470)\" d=\"M1205.6 480.643 Q1205.24 480.435 1204.81 480.342 Q1204.39 480.238 1203.89 480.238 Q1202.08 480.238 1201.11 481.419 Q1200.15 482.588 1200.15 484.787 L1200.15 491.615 L1198.01 491.615 L1198.01 478.652 L1200.15 478.652 L1200.15 480.666 Q1200.82 479.486 1201.89 478.919 Q1202.97 478.34 1204.51 478.34 Q1204.73 478.34 1205 478.375 Q1205.26 478.398 1205.59 478.456 L1205.6 480.643 Z\" fill=\"#000000\" fill-rule=\"evenodd\" fill-opacity=\"1\" /><path clip-path=\"url(#clip470)\" d=\"M1207.49 652.315 Q1208.24 652.569 1208.95 653.403 Q1209.67 654.236 1210.38 655.694 L1212.76 660.416 L1210.25 660.416 L1208.04 655.984 Q1207.18 654.247 1206.37 653.68 Q1205.57 653.113 1204.18 653.113 L1201.63 653.113 L1201.63 660.416 L1199.3 660.416 L1199.3 643.136 L1204.57 643.136 Q1207.54 643.136 1209 644.375 Q1210.45 645.613 1210.45 648.113 Q1210.45 649.745 1209.69 650.822 Q1208.94 651.898 1207.49 652.315 M1201.63 645.058 L1201.63 651.192 L1204.57 651.192 Q1206.26 651.192 1207.12 650.416 Q1207.99 649.629 1207.99 648.113 Q1207.99 646.597 1207.12 645.833 Q1206.26 645.058 1204.57 645.058 L1201.63 645.058 Z\" fill=\"#000000\" fill-rule=\"evenodd\" fill-opacity=\"1\" /><path clip-path=\"url(#clip470)\" d=\"M1225.7 653.403 L1225.7 654.444 L1215.91 654.444 Q1216.04 656.643 1217.22 657.801 Q1218.42 658.947 1220.53 658.947 Q1221.76 658.947 1222.91 658.646 Q1224.07 658.345 1225.2 657.743 L1225.2 659.757 Q1224.05 660.243 1222.85 660.497 Q1221.65 660.752 1220.41 660.752 Q1217.31 660.752 1215.49 658.947 Q1213.68 657.141 1213.68 654.062 Q1213.68 650.879 1215.4 649.016 Q1217.12 647.141 1220.04 647.141 Q1222.65 647.141 1224.17 648.831 Q1225.7 650.509 1225.7 653.403 M1223.57 652.778 Q1223.54 651.03 1222.58 649.988 Q1221.63 648.947 1220.06 648.947 Q1218.28 648.947 1217.2 649.954 Q1216.14 650.96 1215.97 652.789 L1223.57 652.778 Z\" fill=\"#000000\" fill-rule=\"evenodd\" fill-opacity=\"1\" /><path clip-path=\"url(#clip470)\" d=\"M1235.08 653.9 Q1232.5 653.9 1231.51 654.491 Q1230.51 655.081 1230.51 656.504 Q1230.51 657.639 1231.25 658.31 Q1232 658.97 1233.29 658.97 Q1235.06 658.97 1236.13 657.72 Q1237.2 656.458 1237.2 654.375 L1237.2 653.9 L1235.08 653.9 M1239.33 653.021 L1239.33 660.416 L1237.2 660.416 L1237.2 658.449 Q1236.47 659.629 1235.38 660.197 Q1234.3 660.752 1232.72 660.752 Q1230.73 660.752 1229.55 659.641 Q1228.38 658.518 1228.38 656.643 Q1228.38 654.456 1229.84 653.345 Q1231.31 652.234 1234.22 652.234 L1237.2 652.234 L1237.2 652.025 Q1237.2 650.555 1236.23 649.757 Q1235.27 648.947 1233.52 648.947 Q1232.41 648.947 1231.36 649.213 Q1230.3 649.479 1229.33 650.011 L1229.33 648.044 Q1230.5 647.592 1231.6 647.373 Q1232.7 647.141 1233.74 647.141 Q1236.55 647.141 1237.94 648.599 Q1239.33 650.058 1239.33 653.021 Z\" fill=\"#000000\" fill-rule=\"evenodd\" fill-opacity=\"1\" /><path clip-path=\"url(#clip470)\" d=\"M1243.72 642.407 L1245.85 642.407 L1245.85 660.416 L1243.72 660.416 L1243.72 642.407 Z\" fill=\"#000000\" fill-rule=\"evenodd\" fill-opacity=\"1\" /><path clip-path=\"url(#clip470)\" d=\"M1161.18 838.559 L1163.52 838.559 L1163.52 855.839 L1161.18 855.839 L1161.18 838.559 Z\" fill=\"#000000\" fill-rule=\"evenodd\" fill-opacity=\"1\" /><path clip-path=\"url(#clip470)\" d=\"M1178.86 848.015 L1178.86 855.839 L1176.73 855.839 L1176.73 848.084 Q1176.73 846.244 1176.01 845.329 Q1175.29 844.415 1173.86 844.415 Q1172.13 844.415 1171.14 845.515 Q1170.14 846.614 1170.14 848.512 L1170.14 855.839 L1168 855.839 L1168 842.876 L1170.14 842.876 L1170.14 844.89 Q1170.91 843.721 1171.94 843.142 Q1172.98 842.563 1174.33 842.563 Q1176.57 842.563 1177.71 843.952 Q1178.86 845.329 1178.86 848.015 Z\" fill=\"#000000\" fill-rule=\"evenodd\" fill-opacity=\"1\" /><path clip-path=\"url(#clip470)\" d=\"M1185.21 839.195 L1185.21 842.876 L1189.6 842.876 L1189.6 844.531 L1185.21 844.531 L1185.21 851.568 Q1185.21 853.153 1185.64 853.605 Q1186.08 854.056 1187.41 854.056 L1189.6 854.056 L1189.6 855.839 L1187.41 855.839 Q1184.94 855.839 1184.01 854.924 Q1183.07 853.998 1183.07 851.568 L1183.07 844.531 L1181.51 844.531 L1181.51 842.876 L1183.07 842.876 L1183.07 839.195 L1185.21 839.195 Z\" fill=\"#000000\" fill-rule=\"evenodd\" fill-opacity=\"1\" /><path clip-path=\"url(#clip470)\" d=\"M1203.49 848.825 L1203.49 849.866 L1193.69 849.866 Q1193.83 852.065 1195.01 853.223 Q1196.21 854.369 1198.32 854.369 Q1199.55 854.369 1200.7 854.068 Q1201.85 853.767 1202.99 853.165 L1202.99 855.179 Q1201.84 855.665 1200.64 855.92 Q1199.44 856.174 1198.2 856.174 Q1195.1 856.174 1193.28 854.369 Q1191.47 852.563 1191.47 849.484 Q1191.47 846.302 1193.19 844.438 Q1194.91 842.563 1197.83 842.563 Q1200.44 842.563 1201.96 844.253 Q1203.49 845.931 1203.49 848.825 M1201.36 848.2 Q1201.33 846.452 1200.37 845.41 Q1199.42 844.369 1197.85 844.369 Q1196.07 844.369 1194.99 845.376 Q1193.93 846.383 1193.76 848.211 L1201.36 848.2 Z\" fill=\"#000000\" fill-rule=\"evenodd\" fill-opacity=\"1\" /><path clip-path=\"url(#clip470)\" d=\"M1215.51 849.207 Q1215.51 846.892 1214.55 845.619 Q1213.6 844.346 1211.88 844.346 Q1210.16 844.346 1209.2 845.619 Q1208.25 846.892 1208.25 849.207 Q1208.25 851.51 1209.2 852.783 Q1210.16 854.056 1211.88 854.056 Q1213.6 854.056 1214.55 852.783 Q1215.51 851.51 1215.51 849.207 M1217.64 854.23 Q1217.64 857.54 1216.17 859.149 Q1214.7 860.769 1211.67 860.769 Q1210.55 860.769 1209.55 860.596 Q1208.56 860.434 1207.62 860.086 L1207.62 858.015 Q1208.56 858.524 1209.47 858.767 Q1210.38 859.01 1211.33 859.01 Q1213.43 859.01 1214.47 857.91 Q1215.51 856.822 1215.51 854.612 L1215.51 853.559 Q1214.85 854.704 1213.82 855.271 Q1212.79 855.839 1211.36 855.839 Q1208.97 855.839 1207.51 854.022 Q1206.06 852.204 1206.06 849.207 Q1206.06 846.197 1207.51 844.38 Q1208.97 842.563 1211.36 842.563 Q1212.79 842.563 1213.82 843.13 Q1214.85 843.697 1215.51 844.843 L1215.51 842.876 L1217.64 842.876 L1217.64 854.23 Z\" fill=\"#000000\" fill-rule=\"evenodd\" fill-opacity=\"1\" /><path clip-path=\"url(#clip470)\" d=\"M1233.12 848.825 L1233.12 849.866 L1223.32 849.866 Q1223.46 852.065 1224.64 853.223 Q1225.84 854.369 1227.95 854.369 Q1229.18 854.369 1230.33 854.068 Q1231.48 853.767 1232.62 853.165 L1232.62 855.179 Q1231.47 855.665 1230.27 855.92 Q1229.07 856.174 1227.83 856.174 Q1224.72 856.174 1222.91 854.369 Q1221.1 852.563 1221.1 849.484 Q1221.1 846.302 1222.82 844.438 Q1224.54 842.563 1227.46 842.563 Q1230.07 842.563 1231.59 844.253 Q1233.12 845.931 1233.12 848.825 M1230.99 848.2 Q1230.96 846.452 1230 845.41 Q1229.05 844.369 1227.48 844.369 Q1225.7 844.369 1224.62 845.376 Q1223.56 846.383 1223.39 848.211 L1230.99 848.2 Z\" fill=\"#000000\" fill-rule=\"evenodd\" fill-opacity=\"1\" /><path clip-path=\"url(#clip470)\" d=\"M1244.12 844.866 Q1243.76 844.658 1243.34 844.566 Q1242.92 844.461 1242.41 844.461 Q1240.6 844.461 1239.63 845.642 Q1238.67 846.811 1238.67 849.01 L1238.67 855.839 L1236.53 855.839 L1236.53 842.876 L1238.67 842.876 L1238.67 844.89 Q1239.34 843.709 1240.42 843.142 Q1241.5 842.563 1243.03 842.563 Q1243.25 842.563 1243.52 842.598 Q1243.79 842.621 1244.11 842.679 L1244.12 844.866 Z\" fill=\"#000000\" fill-rule=\"evenodd\" fill-opacity=\"1\" /><path clip-path=\"url(#clip470)\" d=\"M1298.12 1034.1 L1298.12 1040.43 L1301.87 1040.43 Q1303.76 1040.43 1304.66 1039.66 Q1305.58 1038.87 1305.58 1037.26 Q1305.58 1035.64 1304.66 1034.88 Q1303.76 1034.1 1301.87 1034.1 L1298.12 1034.1 M1298.12 1026.99 L1298.12 1032.2 L1301.59 1032.2 Q1303.3 1032.2 1304.13 1031.57 Q1304.98 1030.92 1304.98 1029.6 Q1304.98 1028.29 1304.13 1027.64 Q1303.3 1026.99 1301.59 1026.99 L1298.12 1026.99 M1295.79 1025.07 L1301.76 1025.07 Q1304.43 1025.07 1305.88 1026.18 Q1307.33 1027.3 1307.33 1029.34 Q1307.33 1030.93 1306.59 1031.87 Q1305.84 1032.8 1304.41 1033.04 Q1306.13 1033.41 1307.08 1034.59 Q1308.04 1035.76 1308.04 1037.52 Q1308.04 1039.83 1306.47 1041.09 Q1304.9 1042.35 1301.99 1042.35 L1295.79 1042.35 L1295.79 1025.07 Z\" fill=\"#000000\" fill-rule=\"evenodd\" fill-opacity=\"1\" /><path clip-path=\"url(#clip470)\" d=\"M1316.98 1030.88 Q1315.27 1030.88 1314.27 1032.23 Q1313.27 1033.56 1313.27 1035.88 Q1313.27 1038.21 1314.26 1039.55 Q1315.25 1040.88 1316.98 1040.88 Q1318.68 1040.88 1319.68 1039.54 Q1320.67 1038.2 1320.67 1035.88 Q1320.67 1033.58 1319.68 1032.24 Q1318.68 1030.88 1316.98 1030.88 M1316.98 1029.08 Q1319.76 1029.08 1321.34 1030.88 Q1322.93 1032.69 1322.93 1035.88 Q1322.93 1039.07 1321.34 1040.88 Q1319.76 1042.69 1316.98 1042.69 Q1314.19 1042.69 1312.6 1040.88 Q1311.03 1039.07 1311.03 1035.88 Q1311.03 1032.69 1312.6 1030.88 Q1314.19 1029.08 1316.98 1029.08 Z\" fill=\"#000000\" fill-rule=\"evenodd\" fill-opacity=\"1\" /><path clip-path=\"url(#clip470)\" d=\"M1331.48 1030.88 Q1329.77 1030.88 1328.77 1032.23 Q1327.78 1033.56 1327.78 1035.88 Q1327.78 1038.21 1328.76 1039.55 Q1329.76 1040.88 1331.48 1040.88 Q1333.18 1040.88 1334.18 1039.54 Q1335.17 1038.2 1335.17 1035.88 Q1335.17 1033.58 1334.18 1032.24 Q1333.18 1030.88 1331.48 1030.88 M1331.48 1029.08 Q1334.26 1029.08 1335.84 1030.88 Q1337.43 1032.69 1337.43 1035.88 Q1337.43 1039.07 1335.84 1040.88 Q1334.26 1042.69 1331.48 1042.69 Q1328.69 1042.69 1327.11 1040.88 Q1325.53 1039.07 1325.53 1035.88 Q1325.53 1032.69 1327.11 1030.88 Q1328.69 1029.08 1331.48 1029.08 Z\" fill=\"#000000\" fill-rule=\"evenodd\" fill-opacity=\"1\" /><path clip-path=\"url(#clip470)\" d=\"M1340.96 1024.34 L1343.09 1024.34 L1343.09 1042.35 L1340.96 1042.35 L1340.96 1024.34 Z\" fill=\"#000000\" fill-rule=\"evenodd\" fill-opacity=\"1\" /><path clip-path=\"url(#clip470)\" d=\"M1058.45 1091.45 Q1055.91 1091.45 1054.4 1093.35 Q1052.91 1095.24 1052.91 1098.52 Q1052.91 1101.78 1054.4 1103.68 Q1055.91 1105.58 1058.45 1105.58 Q1061 1105.58 1062.48 1103.68 Q1063.97 1101.78 1063.97 1098.52 Q1063.97 1095.24 1062.48 1093.35 Q1061 1091.45 1058.45 1091.45 M1058.45 1089.55 Q1062.09 1089.55 1064.26 1091.99 Q1066.44 1094.42 1066.44 1098.52 Q1066.44 1102.61 1064.26 1105.05 Q1062.09 1107.48 1058.45 1107.48 Q1054.81 1107.48 1052.62 1105.05 Q1050.44 1102.62 1050.44 1098.52 Q1050.44 1094.42 1052.62 1091.99 Q1054.81 1089.55 1058.45 1089.55 Z\" fill=\"#000000\" fill-rule=\"evenodd\" fill-opacity=\"1\" /><path clip-path=\"url(#clip470)\" d=\"M1076.57 1089.13 L1076.57 1090.9 L1074.53 1090.9 Q1073.38 1090.9 1072.93 1091.37 Q1072.49 1091.83 1072.49 1093.03 L1072.49 1094.18 L1076 1094.18 L1076 1095.83 L1072.49 1095.83 L1072.49 1107.14 L1070.35 1107.14 L1070.35 1095.83 L1068.31 1095.83 L1068.31 1094.18 L1070.35 1094.18 L1070.35 1093.28 Q1070.35 1091.11 1071.36 1090.13 Q1072.36 1089.13 1074.55 1089.13 L1076.57 1089.13 Z\" fill=\"#000000\" fill-rule=\"evenodd\" fill-opacity=\"1\" /><path clip-path=\"url(#clip470)\" d=\"M1084.91 1089.13 L1084.91 1090.9 L1082.87 1090.9 Q1081.73 1090.9 1081.28 1091.37 Q1080.84 1091.83 1080.84 1093.03 L1080.84 1094.18 L1084.34 1094.18 L1084.34 1095.83 L1080.84 1095.83 L1080.84 1107.14 L1078.69 1107.14 L1078.69 1095.83 L1076.66 1095.83 L1076.66 1094.18 L1078.69 1094.18 L1078.69 1093.28 Q1078.69 1091.11 1079.7 1090.13 Q1080.71 1089.13 1082.9 1089.13 L1084.91 1089.13 Z\" fill=\"#000000\" fill-rule=\"evenodd\" fill-opacity=\"1\" /><path clip-path=\"url(#clip470)\" d=\"M1094.96 1094.56 L1094.96 1096.58 Q1094.05 1096.11 1093.08 1095.88 Q1092.11 1095.65 1091.07 1095.65 Q1089.48 1095.65 1088.68 1096.14 Q1087.9 1096.62 1087.9 1097.59 Q1087.9 1098.33 1088.46 1098.76 Q1089.03 1099.18 1090.74 1099.56 L1091.47 1099.72 Q1093.74 1100.21 1094.69 1101.1 Q1095.65 1101.98 1095.65 1103.57 Q1095.65 1105.37 1094.22 1106.42 Q1092.79 1107.48 1090.29 1107.48 Q1089.25 1107.48 1088.12 1107.27 Q1086.99 1107.07 1085.74 1106.67 L1085.74 1104.47 Q1086.92 1105.08 1088.07 1105.39 Q1089.22 1105.7 1090.34 1105.7 Q1091.84 1105.7 1092.65 1105.19 Q1093.46 1104.67 1093.46 1103.73 Q1093.46 1102.86 1092.87 1102.4 Q1092.29 1101.93 1090.32 1101.51 L1089.57 1101.33 Q1087.6 1100.92 1086.72 1100.06 Q1085.84 1099.19 1085.84 1097.69 Q1085.84 1095.86 1087.13 1094.86 Q1088.43 1093.87 1090.81 1093.87 Q1091.99 1093.87 1093.03 1094.04 Q1094.08 1094.21 1094.96 1094.56 Z\" fill=\"#000000\" fill-rule=\"evenodd\" fill-opacity=\"1\" /><path clip-path=\"url(#clip470)\" d=\"M1110.13 1100.13 L1110.13 1101.17 L1100.34 1101.17 Q1100.48 1103.37 1101.66 1104.53 Q1102.85 1105.67 1104.97 1105.67 Q1106.19 1105.67 1107.34 1105.37 Q1108.5 1105.07 1109.63 1104.47 L1109.63 1106.48 Q1108.49 1106.97 1107.28 1107.22 Q1106.08 1107.48 1104.84 1107.48 Q1101.74 1107.48 1099.92 1105.67 Q1098.12 1103.87 1098.12 1100.79 Q1098.12 1097.61 1099.83 1095.74 Q1101.55 1093.87 1104.47 1093.87 Q1107.09 1093.87 1108.6 1095.56 Q1110.13 1097.23 1110.13 1100.13 M1108 1099.5 Q1107.98 1097.76 1107.02 1096.71 Q1106.07 1095.67 1104.49 1095.67 Q1102.71 1095.67 1101.63 1096.68 Q1100.57 1097.69 1100.41 1099.51 L1108 1099.5 Z\" fill=\"#000000\" fill-rule=\"evenodd\" fill-opacity=\"1\" /><path clip-path=\"url(#clip470)\" d=\"M1115.73 1090.5 L1115.73 1094.18 L1120.12 1094.18 L1120.12 1095.83 L1115.73 1095.83 L1115.73 1102.87 Q1115.73 1104.46 1116.16 1104.91 Q1116.6 1105.36 1117.93 1105.36 L1120.12 1105.36 L1120.12 1107.14 L1117.93 1107.14 Q1115.47 1107.14 1114.53 1106.23 Q1113.59 1105.3 1113.59 1102.87 L1113.59 1095.83 L1112.03 1095.83 L1112.03 1094.18 L1113.59 1094.18 L1113.59 1090.5 L1115.73 1090.5 Z\" fill=\"#000000\" fill-rule=\"evenodd\" fill-opacity=\"1\" /><path clip-path=\"url(#clip470)\" d=\"M1123.01 1089.86 L1125.35 1089.86 L1125.35 1107.14 L1123.01 1107.14 L1123.01 1089.86 Z\" fill=\"#000000\" fill-rule=\"evenodd\" fill-opacity=\"1\" /><path clip-path=\"url(#clip470)\" d=\"M1140.69 1099.32 L1140.69 1107.14 L1138.56 1107.14 L1138.56 1099.39 Q1138.56 1097.55 1137.84 1096.63 Q1137.12 1095.72 1135.69 1095.72 Q1133.96 1095.72 1132.97 1096.82 Q1131.97 1097.92 1131.97 1099.82 L1131.97 1107.14 L1129.83 1107.14 L1129.83 1094.18 L1131.97 1094.18 L1131.97 1096.19 Q1132.73 1095.02 1133.76 1094.45 Q1134.81 1093.87 1136.16 1093.87 Q1138.39 1093.87 1139.54 1095.26 Q1140.69 1096.63 1140.69 1099.32 Z\" fill=\"#000000\" fill-rule=\"evenodd\" fill-opacity=\"1\" /><path clip-path=\"url(#clip470)\" d=\"M1147.04 1090.5 L1147.04 1094.18 L1151.43 1094.18 L1151.43 1095.83 L1147.04 1095.83 L1147.04 1102.87 Q1147.04 1104.46 1147.47 1104.91 Q1147.91 1105.36 1149.24 1105.36 L1151.43 1105.36 L1151.43 1107.14 L1149.24 1107.14 Q1146.77 1107.14 1145.84 1106.23 Q1144.9 1105.3 1144.9 1102.87 L1144.9 1095.83 L1143.34 1095.83 L1143.34 1094.18 L1144.9 1094.18 L1144.9 1090.5 L1147.04 1090.5 Z\" fill=\"#000000\" fill-rule=\"evenodd\" fill-opacity=\"1\" /><path clip-path=\"url(#clip470)\" d=\"M1165.31 1100.13 L1165.31 1101.17 L1155.52 1101.17 Q1155.66 1103.37 1156.84 1104.53 Q1158.03 1105.67 1160.15 1105.67 Q1161.38 1105.67 1162.53 1105.37 Q1163.68 1105.07 1164.82 1104.47 L1164.82 1106.48 Q1163.67 1106.97 1162.47 1107.22 Q1161.26 1107.48 1160.03 1107.48 Q1156.92 1107.48 1155.11 1105.67 Q1153.3 1103.87 1153.3 1100.79 Q1153.3 1097.61 1155.01 1095.74 Q1156.74 1093.87 1159.65 1093.87 Q1162.27 1093.87 1163.79 1095.56 Q1165.31 1097.23 1165.31 1100.13 M1163.19 1099.5 Q1163.16 1097.76 1162.2 1096.71 Q1161.25 1095.67 1159.68 1095.67 Q1157.9 1095.67 1156.82 1096.68 Q1155.75 1097.69 1155.59 1099.51 L1163.19 1099.5 Z\" fill=\"#000000\" fill-rule=\"evenodd\" fill-opacity=\"1\" /><path clip-path=\"url(#clip470)\" d=\"M1177.34 1100.51 Q1177.34 1098.2 1176.38 1096.92 Q1175.43 1095.65 1173.71 1095.65 Q1171.99 1095.65 1171.03 1096.92 Q1170.08 1098.2 1170.08 1100.51 Q1170.08 1102.81 1171.03 1104.09 Q1171.99 1105.36 1173.71 1105.36 Q1175.43 1105.36 1176.38 1104.09 Q1177.34 1102.81 1177.34 1100.51 M1179.47 1105.53 Q1179.47 1108.84 1178 1110.45 Q1176.53 1112.07 1173.5 1112.07 Q1172.37 1112.07 1171.38 1111.9 Q1170.38 1111.74 1169.45 1111.39 L1169.45 1109.32 Q1170.38 1109.83 1171.3 1110.07 Q1172.21 1110.31 1173.16 1110.31 Q1175.26 1110.31 1176.3 1109.21 Q1177.34 1108.13 1177.34 1105.92 L1177.34 1104.86 Q1176.68 1106.01 1175.65 1106.58 Q1174.62 1107.14 1173.18 1107.14 Q1170.8 1107.14 1169.34 1105.33 Q1167.88 1103.51 1167.88 1100.51 Q1167.88 1097.5 1169.34 1095.68 Q1170.8 1093.87 1173.18 1093.87 Q1174.62 1093.87 1175.65 1094.43 Q1176.68 1095 1177.34 1096.15 L1177.34 1094.18 L1179.47 1094.18 L1179.47 1105.53 Z\" fill=\"#000000\" fill-rule=\"evenodd\" fill-opacity=\"1\" /><path clip-path=\"url(#clip470)\" d=\"M1194.94 1100.13 L1194.94 1101.17 L1185.15 1101.17 Q1185.29 1103.37 1186.47 1104.53 Q1187.66 1105.67 1189.78 1105.67 Q1191.01 1105.67 1192.15 1105.37 Q1193.31 1105.07 1194.45 1104.47 L1194.45 1106.48 Q1193.3 1106.97 1192.1 1107.22 Q1190.89 1107.48 1189.65 1107.48 Q1186.55 1107.48 1184.74 1105.67 Q1182.93 1103.87 1182.93 1100.79 Q1182.93 1097.61 1184.64 1095.74 Q1186.37 1093.87 1189.28 1093.87 Q1191.9 1093.87 1193.42 1095.56 Q1194.94 1097.23 1194.94 1100.13 M1192.81 1099.5 Q1192.79 1097.76 1191.83 1096.71 Q1190.88 1095.67 1189.31 1095.67 Q1187.53 1095.67 1186.45 1096.68 Q1185.38 1097.69 1185.22 1099.51 L1192.81 1099.5 Z\" fill=\"#000000\" fill-rule=\"evenodd\" fill-opacity=\"1\" /><path clip-path=\"url(#clip470)\" d=\"M1205.95 1096.17 Q1205.59 1095.96 1205.16 1095.87 Q1204.75 1095.76 1204.24 1095.76 Q1202.43 1095.76 1201.46 1096.95 Q1200.5 1098.11 1200.5 1100.31 L1200.5 1107.14 L1198.36 1107.14 L1198.36 1094.18 L1200.5 1094.18 L1200.5 1096.19 Q1201.17 1095.01 1202.25 1094.45 Q1203.32 1093.87 1204.86 1093.87 Q1205.08 1093.87 1205.35 1093.9 Q1205.62 1093.92 1205.94 1093.98 L1205.95 1096.17 Z\" fill=\"#000000\" fill-rule=\"evenodd\" fill-opacity=\"1\" /><path clip-path=\"url(#clip470)\" d=\"M1166.65 1115.02 Q1164.1 1115.02 1162.6 1116.91 Q1161.1 1118.81 1161.1 1122.09 Q1161.1 1125.35 1162.6 1127.25 Q1164.1 1129.15 1166.65 1129.15 Q1169.2 1129.15 1170.68 1127.25 Q1172.17 1125.35 1172.17 1122.09 Q1172.17 1118.81 1170.68 1116.91 Q1169.2 1115.02 1166.65 1115.02 M1166.65 1113.12 Q1170.28 1113.12 1172.46 1115.56 Q1174.63 1117.99 1174.63 1122.09 Q1174.63 1126.17 1172.46 1128.62 Q1170.28 1131.05 1166.65 1131.05 Q1163 1131.05 1160.82 1128.62 Q1158.64 1126.18 1158.64 1122.09 Q1158.64 1117.99 1160.82 1115.56 Q1163 1113.12 1166.65 1113.12 Z\" fill=\"#000000\" fill-rule=\"evenodd\" fill-opacity=\"1\" /><path clip-path=\"url(#clip470)\" d=\"M1184.76 1112.7 L1184.76 1114.47 L1182.73 1114.47 Q1181.58 1114.47 1181.13 1114.93 Q1180.69 1115.4 1180.69 1116.6 L1180.69 1117.75 L1184.2 1117.75 L1184.2 1119.4 L1180.69 1119.4 L1180.69 1130.71 L1178.55 1130.71 L1178.55 1119.4 L1176.51 1119.4 L1176.51 1117.75 L1178.55 1117.75 L1178.55 1116.84 Q1178.55 1114.68 1179.55 1113.7 Q1180.56 1112.7 1182.75 1112.7 L1184.76 1112.7 Z\" fill=\"#000000\" fill-rule=\"evenodd\" fill-opacity=\"1\" /><path clip-path=\"url(#clip470)\" d=\"M1193.11 1112.7 L1193.11 1114.47 L1191.07 1114.47 Q1189.92 1114.47 1189.47 1114.93 Q1189.03 1115.4 1189.03 1116.6 L1189.03 1117.75 L1192.54 1117.75 L1192.54 1119.4 L1189.03 1119.4 L1189.03 1130.71 L1186.89 1130.71 L1186.89 1119.4 L1184.85 1119.4 L1184.85 1117.75 L1186.89 1117.75 L1186.89 1116.84 Q1186.89 1114.68 1187.9 1113.7 Q1188.91 1112.7 1191.09 1112.7 L1193.11 1112.7 Z\" fill=\"#000000\" fill-rule=\"evenodd\" fill-opacity=\"1\" /><path clip-path=\"url(#clip470)\" d=\"M1203.15 1118.13 L1203.15 1120.14 Q1202.25 1119.68 1201.28 1119.45 Q1200.31 1119.22 1199.26 1119.22 Q1197.68 1119.22 1196.88 1119.7 Q1196.09 1120.19 1196.09 1121.16 Q1196.09 1121.9 1196.66 1122.33 Q1197.23 1122.75 1198.94 1123.13 L1199.67 1123.29 Q1201.94 1123.78 1202.89 1124.67 Q1203.85 1125.55 1203.85 1127.13 Q1203.85 1128.94 1202.41 1129.99 Q1200.99 1131.05 1198.49 1131.05 Q1197.45 1131.05 1196.31 1130.84 Q1195.19 1130.64 1193.94 1130.24 L1193.94 1128.04 Q1195.12 1128.65 1196.27 1128.96 Q1197.41 1129.26 1198.54 1129.26 Q1200.04 1129.26 1200.85 1128.75 Q1201.66 1128.23 1201.66 1127.3 Q1201.66 1126.43 1201.07 1125.96 Q1200.49 1125.5 1198.51 1125.07 L1197.77 1124.9 Q1195.79 1124.48 1194.91 1123.63 Q1194.03 1122.76 1194.03 1121.25 Q1194.03 1119.43 1195.33 1118.43 Q1196.63 1117.43 1199.01 1117.43 Q1200.19 1117.43 1201.23 1117.61 Q1202.27 1117.78 1203.15 1118.13 Z\" fill=\"#000000\" fill-rule=\"evenodd\" fill-opacity=\"1\" /><path clip-path=\"url(#clip470)\" d=\"M1218.33 1123.7 L1218.33 1124.74 L1208.54 1124.74 Q1208.67 1126.94 1209.85 1128.09 Q1211.05 1129.24 1213.16 1129.24 Q1214.39 1129.24 1215.54 1128.94 Q1216.69 1128.64 1217.83 1128.04 L1217.83 1130.05 Q1216.68 1130.54 1215.48 1130.79 Q1214.28 1131.05 1213.04 1131.05 Q1209.94 1131.05 1208.12 1129.24 Q1206.31 1127.43 1206.31 1124.36 Q1206.31 1121.17 1208.03 1119.31 Q1209.75 1117.43 1212.67 1117.43 Q1215.28 1117.43 1216.8 1119.12 Q1218.33 1120.8 1218.33 1123.7 M1216.2 1123.07 Q1216.17 1121.32 1215.21 1120.28 Q1214.26 1119.24 1212.69 1119.24 Q1210.91 1119.24 1209.83 1120.25 Q1208.77 1121.25 1208.6 1123.08 L1216.2 1123.07 Z\" fill=\"#000000\" fill-rule=\"evenodd\" fill-opacity=\"1\" /><path clip-path=\"url(#clip470)\" d=\"M1223.93 1114.07 L1223.93 1117.75 L1228.32 1117.75 L1228.32 1119.4 L1223.93 1119.4 L1223.93 1126.44 Q1223.93 1128.03 1224.36 1128.48 Q1224.8 1128.93 1226.13 1128.93 L1228.32 1128.93 L1228.32 1130.71 L1226.13 1130.71 Q1223.66 1130.71 1222.72 1129.8 Q1221.79 1128.87 1221.79 1126.44 L1221.79 1119.4 L1220.22 1119.4 L1220.22 1117.75 L1221.79 1117.75 L1221.79 1114.07 L1223.93 1114.07 Z\" fill=\"#000000\" fill-rule=\"evenodd\" fill-opacity=\"1\" /><path clip-path=\"url(#clip470)\" d=\"M1231.21 1113.43 L1233.55 1113.43 L1233.55 1130.71 L1231.21 1130.71 L1231.21 1113.43 Z\" fill=\"#000000\" fill-rule=\"evenodd\" fill-opacity=\"1\" /><path clip-path=\"url(#clip470)\" d=\"M1248.88 1122.89 L1248.88 1130.71 L1246.75 1130.71 L1246.75 1122.96 Q1246.75 1121.12 1246.04 1120.2 Q1245.32 1119.29 1243.88 1119.29 Q1242.16 1119.29 1241.16 1120.39 Q1240.17 1121.49 1240.17 1123.38 L1240.17 1130.71 L1238.03 1130.71 L1238.03 1117.75 L1240.17 1117.75 L1240.17 1119.76 Q1240.93 1118.59 1241.96 1118.01 Q1243 1117.43 1244.36 1117.43 Q1246.59 1117.43 1247.74 1118.82 Q1248.88 1120.2 1248.88 1122.89 Z\" fill=\"#000000\" fill-rule=\"evenodd\" fill-opacity=\"1\" /><path clip-path=\"url(#clip470)\" d=\"M1255.24 1114.07 L1255.24 1117.75 L1259.62 1117.75 L1259.62 1119.4 L1255.24 1119.4 L1255.24 1126.44 Q1255.24 1128.03 1255.66 1128.48 Q1256.1 1128.93 1257.44 1128.93 L1259.62 1128.93 L1259.62 1130.71 L1257.44 1130.71 Q1254.97 1130.71 1254.03 1129.8 Q1253.1 1128.87 1253.1 1126.44 L1253.1 1119.4 L1251.53 1119.4 L1251.53 1117.75 L1253.1 1117.75 L1253.1 1114.07 L1255.24 1114.07 Z\" fill=\"#000000\" fill-rule=\"evenodd\" fill-opacity=\"1\" /><path clip-path=\"url(#clip470)\" d=\"M1273.51 1123.7 L1273.51 1124.74 L1263.72 1124.74 Q1263.86 1126.94 1265.04 1128.09 Q1266.23 1129.24 1268.35 1129.24 Q1269.58 1129.24 1270.72 1128.94 Q1271.88 1128.64 1273.01 1128.04 L1273.01 1130.05 Q1271.87 1130.54 1270.66 1130.79 Q1269.46 1131.05 1268.22 1131.05 Q1265.12 1131.05 1263.3 1129.24 Q1261.5 1127.43 1261.5 1124.36 Q1261.5 1121.17 1263.21 1119.31 Q1264.94 1117.43 1267.85 1117.43 Q1270.47 1117.43 1271.98 1119.12 Q1273.51 1120.8 1273.51 1123.7 M1271.38 1123.07 Q1271.36 1121.32 1270.4 1120.28 Q1269.45 1119.24 1267.88 1119.24 Q1266.09 1119.24 1265.02 1120.25 Q1263.95 1121.25 1263.79 1123.08 L1271.38 1123.07 Z\" fill=\"#000000\" fill-rule=\"evenodd\" fill-opacity=\"1\" /><path clip-path=\"url(#clip470)\" d=\"M1285.54 1124.08 Q1285.54 1121.76 1284.58 1120.49 Q1283.63 1119.22 1281.9 1119.22 Q1280.19 1119.22 1279.23 1120.49 Q1278.28 1121.76 1278.28 1124.08 Q1278.28 1126.38 1279.23 1127.65 Q1280.19 1128.93 1281.9 1128.93 Q1283.63 1128.93 1284.58 1127.65 Q1285.54 1126.38 1285.54 1124.08 M1287.67 1129.1 Q1287.67 1132.41 1286.2 1134.02 Q1284.73 1135.64 1281.69 1135.64 Q1280.57 1135.64 1279.58 1135.47 Q1278.58 1135.31 1277.64 1134.96 L1277.64 1132.89 Q1278.58 1133.4 1279.5 1133.64 Q1280.41 1133.88 1281.36 1133.88 Q1283.45 1133.88 1284.5 1132.78 Q1285.54 1131.69 1285.54 1129.48 L1285.54 1128.43 Q1284.88 1129.58 1283.85 1130.14 Q1282.82 1130.71 1281.38 1130.71 Q1279 1130.71 1277.54 1128.89 Q1276.08 1127.08 1276.08 1124.08 Q1276.08 1121.07 1277.54 1119.25 Q1279 1117.43 1281.38 1117.43 Q1282.82 1117.43 1283.85 1118 Q1284.88 1118.57 1285.54 1119.71 L1285.54 1117.75 L1287.67 1117.75 L1287.67 1129.1 Z\" fill=\"#000000\" fill-rule=\"evenodd\" fill-opacity=\"1\" /><path clip-path=\"url(#clip470)\" d=\"M1303.14 1123.7 L1303.14 1124.74 L1293.35 1124.74 Q1293.49 1126.94 1294.67 1128.09 Q1295.86 1129.24 1297.98 1129.24 Q1299.21 1129.24 1300.35 1128.94 Q1301.51 1128.64 1302.64 1128.04 L1302.64 1130.05 Q1301.5 1130.54 1300.29 1130.79 Q1299.09 1131.05 1297.85 1131.05 Q1294.75 1131.05 1292.93 1129.24 Q1291.13 1127.43 1291.13 1124.36 Q1291.13 1121.17 1292.84 1119.31 Q1294.56 1117.43 1297.48 1117.43 Q1300.1 1117.43 1301.61 1119.12 Q1303.14 1120.8 1303.14 1123.7 M1301.01 1123.07 Q1300.99 1121.32 1300.03 1120.28 Q1299.08 1119.24 1297.5 1119.24 Q1295.72 1119.24 1294.65 1120.25 Q1293.58 1121.25 1293.42 1123.08 L1301.01 1123.07 Z\" fill=\"#000000\" fill-rule=\"evenodd\" fill-opacity=\"1\" /><path clip-path=\"url(#clip470)\" d=\"M1314.15 1119.74 Q1313.79 1119.53 1313.36 1119.44 Q1312.94 1119.33 1312.44 1119.33 Q1310.63 1119.33 1309.66 1120.51 Q1308.7 1121.68 1308.7 1123.88 L1308.7 1130.71 L1306.56 1130.71 L1306.56 1117.75 L1308.7 1117.75 L1308.7 1119.76 Q1309.37 1118.58 1310.44 1118.01 Q1311.52 1117.43 1313.06 1117.43 Q1313.28 1117.43 1313.55 1117.47 Q1313.81 1117.49 1314.14 1117.55 L1314.15 1119.74 Z\" fill=\"#000000\" fill-rule=\"evenodd\" fill-opacity=\"1\" /><path clip-path=\"url(#clip470)\" d=\"M886.807 1010.98 L886.807 1013.26 Q885.476 1012.62 884.296 1012.31 Q883.115 1012 882.016 1012 Q880.106 1012 879.064 1012.74 Q878.034 1013.48 878.034 1014.85 Q878.034 1015.99 878.717 1016.58 Q879.411 1017.16 881.333 1017.52 L882.745 1017.81 Q885.36 1018.31 886.599 1019.57 Q887.849 1020.82 887.849 1022.92 Q887.849 1025.44 886.159 1026.73 Q884.481 1028.03 881.229 1028.03 Q880.002 1028.03 878.613 1027.75 Q877.235 1027.47 875.754 1026.93 L875.754 1024.52 Q877.178 1025.32 878.543 1025.72 Q879.909 1026.13 881.229 1026.13 Q883.231 1026.13 884.319 1025.34 Q885.407 1024.56 885.407 1023.1 Q885.407 1021.82 884.62 1021.11 Q883.844 1020.39 882.062 1020.03 L880.638 1019.75 Q878.023 1019.23 876.854 1018.12 Q875.685 1017.01 875.685 1015.03 Q875.685 1012.74 877.293 1011.42 Q878.914 1010.1 881.749 1010.1 Q882.965 1010.1 884.226 1010.32 Q885.488 1010.54 886.807 1010.98 Z\" fill=\"#000000\" fill-rule=\"evenodd\" fill-opacity=\"1\" /><path clip-path=\"url(#clip470)\" d=\"M891.402 1014.73 L893.532 1014.73 L893.532 1027.69 L891.402 1027.69 L891.402 1014.73 M891.402 1009.68 L893.532 1009.68 L893.532 1012.38 L891.402 1012.38 L891.402 1009.68 Z\" fill=\"#000000\" fill-rule=\"evenodd\" fill-opacity=\"1\" /><path clip-path=\"url(#clip470)\" d=\"M906.518 1021.06 Q906.518 1018.75 905.557 1017.47 Q904.608 1016.2 902.883 1016.2 Q901.171 1016.2 900.21 1017.47 Q899.261 1018.75 899.261 1021.06 Q899.261 1023.36 900.21 1024.64 Q901.171 1025.91 902.883 1025.91 Q904.608 1025.91 905.557 1024.64 Q906.518 1023.36 906.518 1021.06 M908.647 1026.08 Q908.647 1029.39 907.177 1031 Q905.708 1032.62 902.675 1032.62 Q901.552 1032.62 900.557 1032.45 Q899.562 1032.29 898.624 1031.94 L898.624 1029.87 Q899.562 1030.38 900.476 1030.62 Q901.39 1030.86 902.34 1030.86 Q904.434 1030.86 905.476 1029.76 Q906.518 1028.68 906.518 1026.47 L906.518 1025.41 Q905.858 1026.56 904.828 1027.13 Q903.798 1027.69 902.363 1027.69 Q899.978 1027.69 898.52 1025.88 Q897.062 1024.06 897.062 1021.06 Q897.062 1018.05 898.52 1016.23 Q899.978 1014.42 902.363 1014.42 Q903.798 1014.42 904.828 1014.98 Q905.858 1015.55 906.518 1016.7 L906.518 1014.73 L908.647 1014.73 L908.647 1026.08 Z\" fill=\"#000000\" fill-rule=\"evenodd\" fill-opacity=\"1\" /><path clip-path=\"url(#clip470)\" d=\"M923.809 1019.87 L923.809 1027.69 L921.68 1027.69 L921.68 1019.94 Q921.68 1018.1 920.962 1017.18 Q920.245 1016.27 918.809 1016.27 Q917.085 1016.27 916.089 1017.37 Q915.094 1018.47 915.094 1020.37 L915.094 1027.69 L912.953 1027.69 L912.953 1014.73 L915.094 1014.73 L915.094 1016.74 Q915.858 1015.57 916.888 1015 Q917.93 1014.42 919.284 1014.42 Q921.518 1014.42 922.663 1015.81 Q923.809 1017.18 923.809 1019.87 Z\" fill=\"#000000\" fill-rule=\"evenodd\" fill-opacity=\"1\" /><path clip-path=\"url(#clip470)\" d=\"M939.145 1020.68 L939.145 1021.72 L929.353 1021.72 Q929.492 1023.92 930.673 1025.08 Q931.865 1026.22 933.983 1026.22 Q935.21 1026.22 936.356 1025.92 Q937.513 1025.62 938.647 1025.02 L938.647 1027.03 Q937.501 1027.52 936.298 1027.77 Q935.094 1028.03 933.856 1028.03 Q930.754 1028.03 928.937 1026.22 Q927.131 1024.42 927.131 1021.34 Q927.131 1018.16 928.844 1016.29 Q930.569 1014.42 933.485 1014.42 Q936.101 1014.42 937.617 1016.11 Q939.145 1017.79 939.145 1020.68 M937.015 1020.05 Q936.992 1018.31 936.031 1017.26 Q935.082 1016.22 933.508 1016.22 Q931.726 1016.22 930.65 1017.23 Q929.585 1018.24 929.423 1020.07 L937.015 1020.05 Z\" fill=\"#000000\" fill-rule=\"evenodd\" fill-opacity=\"1\" /><path clip-path=\"url(#clip470)\" d=\"M951.17 1016.7 L951.17 1009.68 L953.3 1009.68 L953.3 1027.69 L951.17 1027.69 L951.17 1025.75 Q950.499 1026.91 949.469 1027.47 Q948.45 1028.03 947.015 1028.03 Q944.666 1028.03 943.184 1026.15 Q941.714 1024.28 941.714 1021.22 Q941.714 1018.17 943.184 1016.29 Q944.666 1014.42 947.015 1014.42 Q948.45 1014.42 949.469 1014.98 Q950.499 1015.54 951.17 1016.7 M943.913 1021.22 Q943.913 1023.57 944.874 1024.91 Q945.846 1026.25 947.536 1026.25 Q949.226 1026.25 950.198 1024.91 Q951.17 1023.57 951.17 1021.22 Q951.17 1018.87 950.198 1017.54 Q949.226 1016.2 947.536 1016.2 Q945.846 1016.2 944.874 1017.54 Q943.913 1018.87 943.913 1021.22 Z\" fill=\"#000000\" fill-rule=\"evenodd\" fill-opacity=\"1\" /><path clip-path=\"url(#clip470)\" d=\"M939.419 1319.42 L939.419 1325.75 L943.169 1325.75 Q945.056 1325.75 945.958 1324.98 Q946.873 1324.19 946.873 1322.58 Q946.873 1320.96 945.958 1320.2 Q945.056 1319.42 943.169 1319.42 L939.419 1319.42 M939.419 1312.32 L939.419 1317.52 L942.88 1317.52 Q944.593 1317.52 945.426 1316.89 Q946.271 1316.24 946.271 1314.92 Q946.271 1313.61 945.426 1312.96 Q944.593 1312.32 942.88 1312.32 L939.419 1312.32 M937.081 1310.39 L943.053 1310.39 Q945.727 1310.39 947.174 1311.5 Q948.62 1312.62 948.62 1314.66 Q948.62 1316.25 947.88 1317.19 Q947.139 1318.13 945.704 1318.36 Q947.428 1318.73 948.377 1319.91 Q949.338 1321.08 949.338 1322.84 Q949.338 1325.15 947.764 1326.41 Q946.19 1327.67 943.285 1327.67 L937.081 1327.67 L937.081 1310.39 Z\" fill=\"#000000\" fill-rule=\"evenodd\" fill-opacity=\"1\" /><path clip-path=\"url(#clip470)\" d=\"M953.25 1314.71 L955.38 1314.71 L955.38 1327.67 L953.25 1327.67 L953.25 1314.71 M953.25 1309.66 L955.38 1309.66 L955.38 1312.36 L953.25 1312.36 L953.25 1309.66 Z\" fill=\"#000000\" fill-rule=\"evenodd\" fill-opacity=\"1\" /><path clip-path=\"url(#clip470)\" d=\"M968.366 1321.04 Q968.366 1318.73 967.405 1317.45 Q966.456 1316.18 964.731 1316.18 Q963.018 1316.18 962.058 1317.45 Q961.109 1318.73 961.109 1321.04 Q961.109 1323.35 962.058 1324.62 Q963.018 1325.89 964.731 1325.89 Q966.456 1325.89 967.405 1324.62 Q968.366 1323.35 968.366 1321.04 M970.495 1326.07 Q970.495 1329.38 969.025 1330.98 Q967.555 1332.6 964.523 1332.6 Q963.4 1332.6 962.405 1332.43 Q961.41 1332.27 960.472 1331.92 L960.472 1329.85 Q961.41 1330.36 962.324 1330.6 Q963.238 1330.85 964.187 1330.85 Q966.282 1330.85 967.324 1329.75 Q968.366 1328.66 968.366 1326.45 L968.366 1325.39 Q967.706 1326.54 966.676 1327.11 Q965.646 1327.67 964.211 1327.67 Q961.826 1327.67 960.368 1325.86 Q958.91 1324.04 958.91 1321.04 Q958.91 1318.03 960.368 1316.22 Q961.826 1314.4 964.211 1314.4 Q965.646 1314.4 966.676 1314.97 Q967.706 1315.53 968.366 1316.68 L968.366 1314.71 L970.495 1314.71 L970.495 1326.07 Z\" fill=\"#000000\" fill-rule=\"evenodd\" fill-opacity=\"1\" /><path clip-path=\"url(#clip470)\" d=\"M974.974 1310.39 L977.312 1310.39 L977.312 1327.67 L974.974 1327.67 L974.974 1310.39 Z\" fill=\"#000000\" fill-rule=\"evenodd\" fill-opacity=\"1\" /><path clip-path=\"url(#clip470)\" d=\"M992.648 1319.85 L992.648 1327.67 L990.518 1327.67 L990.518 1319.92 Q990.518 1318.08 989.801 1317.16 Q989.083 1316.25 987.648 1316.25 Q985.923 1316.25 984.928 1317.35 Q983.933 1318.45 983.933 1320.35 L983.933 1327.67 L981.791 1327.67 L981.791 1314.71 L983.933 1314.71 L983.933 1316.72 Q984.697 1315.56 985.727 1314.98 Q986.768 1314.4 988.122 1314.4 Q990.356 1314.4 991.502 1315.79 Q992.648 1317.16 992.648 1319.85 Z\" fill=\"#000000\" fill-rule=\"evenodd\" fill-opacity=\"1\" /><path clip-path=\"url(#clip470)\" d=\"M999.002 1311.03 L999.002 1314.71 L1003.39 1314.71 L1003.39 1316.37 L999.002 1316.37 L999.002 1323.4 Q999.002 1324.99 999.43 1325.44 Q999.87 1325.89 1001.2 1325.89 L1003.39 1325.89 L1003.39 1327.67 L1001.2 1327.67 Q998.736 1327.67 997.798 1326.76 Q996.861 1325.83 996.861 1323.4 L996.861 1316.37 L995.298 1316.37 L995.298 1314.71 L996.861 1314.71 L996.861 1311.03 L999.002 1311.03 Z\" fill=\"#000000\" fill-rule=\"evenodd\" fill-opacity=\"1\" /><path clip-path=\"url(#clip470)\" d=\"M985.414 1248.04 L987.752 1248.04 L987.752 1265.32 L985.414 1265.32 L985.414 1248.04 Z\" fill=\"#000000\" fill-rule=\"evenodd\" fill-opacity=\"1\" /><path clip-path=\"url(#clip470)\" d=\"M1003.09 1257.5 L1003.09 1265.32 L1000.96 1265.32 L1000.96 1257.57 Q1000.96 1255.73 1000.24 1254.81 Q999.523 1253.9 998.087 1253.9 Q996.363 1253.9 995.367 1255 Q994.372 1256.1 994.372 1258 L994.372 1265.32 L992.231 1265.32 L992.231 1252.36 L994.372 1252.36 L994.372 1254.37 Q995.136 1253.2 996.166 1252.63 Q997.208 1252.05 998.562 1252.05 Q1000.8 1252.05 1001.94 1253.44 Q1003.09 1254.81 1003.09 1257.5 Z\" fill=\"#000000\" fill-rule=\"evenodd\" fill-opacity=\"1\" /><path clip-path=\"url(#clip470)\" d=\"M1009.44 1248.68 L1009.44 1252.36 L1013.83 1252.36 L1013.83 1254.01 L1009.44 1254.01 L1009.44 1261.05 Q1009.44 1262.64 1009.87 1263.09 Q1010.31 1263.54 1011.64 1263.54 L1013.83 1263.54 L1013.83 1265.32 L1011.64 1265.32 Q1009.18 1265.32 1008.24 1264.41 Q1007.3 1263.48 1007.3 1261.05 L1007.3 1254.01 L1005.74 1254.01 L1005.74 1252.36 L1007.3 1252.36 L1007.3 1248.68 L1009.44 1248.68 Z\" fill=\"#000000\" fill-rule=\"evenodd\" fill-opacity=\"1\" /><path clip-path=\"url(#clip470)\" d=\"M1017.33 1263.36 L1021.15 1263.36 L1021.15 1250.17 L1017 1251.01 L1017 1248.88 L1021.13 1248.04 L1023.47 1248.04 L1023.47 1263.36 L1027.29 1263.36 L1027.29 1265.32 L1017.33 1265.32 L1017.33 1263.36 Z\" fill=\"#000000\" fill-rule=\"evenodd\" fill-opacity=\"1\" /><path clip-path=\"url(#clip470)\" d=\"M1034.02 1263.36 L1042.18 1263.36 L1042.18 1265.32 L1031.21 1265.32 L1031.21 1263.36 Q1032.54 1261.98 1034.83 1259.66 Q1037.14 1257.34 1037.73 1256.67 Q1038.85 1255.4 1039.29 1254.54 Q1039.74 1253.66 1039.74 1252.81 Q1039.74 1251.43 1038.77 1250.57 Q1037.81 1249.7 1036.26 1249.7 Q1035.16 1249.7 1033.93 1250.08 Q1032.72 1250.46 1031.33 1251.24 L1031.33 1248.88 Q1032.74 1248.31 1033.97 1248.02 Q1035.19 1247.73 1036.21 1247.73 Q1038.9 1247.73 1040.49 1249.07 Q1042.09 1250.42 1042.09 1252.66 Q1042.09 1253.73 1041.69 1254.69 Q1041.29 1255.64 1040.24 1256.93 Q1039.95 1257.27 1038.4 1258.88 Q1036.85 1260.47 1034.02 1263.36 Z\" fill=\"#000000\" fill-rule=\"evenodd\" fill-opacity=\"1\" /><path clip-path=\"url(#clip470)\" d=\"M1052.09 1257.12 Q1050.43 1257.12 1049.46 1258.01 Q1048.52 1258.9 1048.52 1260.46 Q1048.52 1262.02 1049.46 1262.92 Q1050.43 1263.81 1052.09 1263.81 Q1053.76 1263.81 1054.72 1262.92 Q1055.68 1262.01 1055.68 1260.46 Q1055.68 1258.9 1054.72 1258.01 Q1053.77 1257.12 1052.09 1257.12 M1049.75 1256.12 Q1048.25 1255.75 1047.4 1254.72 Q1046.57 1253.69 1046.57 1252.21 Q1046.57 1250.14 1048.04 1248.93 Q1049.52 1247.73 1052.09 1247.73 Q1054.67 1247.73 1056.14 1248.93 Q1057.61 1250.14 1057.61 1252.21 Q1057.61 1253.69 1056.77 1254.72 Q1055.93 1255.75 1054.44 1256.12 Q1056.13 1256.51 1057.07 1257.66 Q1058.02 1258.81 1058.02 1260.46 Q1058.02 1262.97 1056.48 1264.32 Q1054.95 1265.66 1052.09 1265.66 Q1049.23 1265.66 1047.69 1264.32 Q1046.17 1262.97 1046.17 1260.46 Q1046.17 1258.81 1047.11 1257.66 Q1048.06 1256.51 1049.75 1256.12 M1048.9 1252.43 Q1048.9 1253.77 1049.73 1254.52 Q1050.58 1255.28 1052.09 1255.28 Q1053.6 1255.28 1054.44 1254.52 Q1055.3 1253.77 1055.3 1252.43 Q1055.3 1251.09 1054.44 1250.33 Q1053.6 1249.58 1052.09 1249.58 Q1050.58 1249.58 1049.73 1250.33 Q1048.9 1251.09 1048.9 1252.43 Z\" fill=\"#000000\" fill-rule=\"evenodd\" fill-opacity=\"1\" /><path clip-path=\"url(#clip470)\" d=\"M720.977 1221.92 L723.315 1221.92 L723.315 1239.2 L720.977 1239.2 L720.977 1221.92 Z\" fill=\"#000000\" fill-rule=\"evenodd\" fill-opacity=\"1\" /><path clip-path=\"url(#clip470)\" d=\"M738.651 1231.37 L738.651 1239.2 L736.521 1239.2 L736.521 1231.44 Q736.521 1229.6 735.804 1228.69 Q735.086 1227.77 733.651 1227.77 Q731.926 1227.77 730.931 1228.87 Q729.936 1229.97 729.936 1231.87 L729.936 1239.2 L727.794 1239.2 L727.794 1226.23 L729.936 1226.23 L729.936 1228.25 Q730.699 1227.08 731.73 1226.5 Q732.771 1225.92 734.125 1225.92 Q736.359 1225.92 737.505 1227.31 Q738.651 1228.69 738.651 1231.37 Z\" fill=\"#000000\" fill-rule=\"evenodd\" fill-opacity=\"1\" /><path clip-path=\"url(#clip470)\" d=\"M745.005 1222.55 L745.005 1226.23 L749.391 1226.23 L749.391 1227.89 L745.005 1227.89 L745.005 1234.93 Q745.005 1236.51 745.433 1236.96 Q745.873 1237.41 747.204 1237.41 L749.391 1237.41 L749.391 1239.2 L747.204 1239.2 Q744.739 1239.2 743.801 1238.28 Q742.864 1237.36 742.864 1234.93 L742.864 1227.89 L741.301 1227.89 L741.301 1226.23 L742.864 1226.23 L742.864 1222.55 L745.005 1222.55 Z\" fill=\"#000000\" fill-rule=\"evenodd\" fill-opacity=\"1\" /><path clip-path=\"url(#clip470)\" d=\"M752.898 1237.23 L756.718 1237.23 L756.718 1224.05 L752.563 1224.88 L752.563 1222.75 L756.695 1221.92 L759.033 1221.92 L759.033 1237.23 L762.852 1237.23 L762.852 1239.2 L752.898 1239.2 L752.898 1237.23 Z\" fill=\"#000000\" fill-rule=\"evenodd\" fill-opacity=\"1\" /><path clip-path=\"url(#clip470)\" d=\"M772.864 1229.62 Q771.289 1229.62 770.364 1230.7 Q769.449 1231.78 769.449 1233.65 Q769.449 1235.52 770.364 1236.6 Q771.289 1237.68 772.864 1237.68 Q774.438 1237.68 775.352 1236.6 Q776.278 1235.52 776.278 1233.65 Q776.278 1231.78 775.352 1230.7 Q774.438 1229.62 772.864 1229.62 M777.505 1222.3 L777.505 1224.43 Q776.625 1224.01 775.722 1223.79 Q774.831 1223.57 773.952 1223.57 Q771.637 1223.57 770.41 1225.13 Q769.195 1226.7 769.021 1229.86 Q769.704 1228.85 770.734 1228.32 Q771.764 1227.77 773.002 1227.77 Q775.607 1227.77 777.111 1229.36 Q778.627 1230.93 778.627 1233.65 Q778.627 1236.31 777.053 1237.92 Q775.479 1239.53 772.864 1239.53 Q769.866 1239.53 768.28 1237.24 Q766.695 1234.94 766.695 1230.57 Q766.695 1226.48 768.639 1224.05 Q770.583 1221.6 773.859 1221.6 Q774.739 1221.6 775.63 1221.78 Q776.533 1221.95 777.505 1222.3 Z\" fill=\"#000000\" fill-rule=\"evenodd\" fill-opacity=\"1\" /><path clip-path=\"url(#clip470)\" d=\"M735.453 1307.69 L737.791 1307.69 L737.791 1324.97 L735.453 1324.97 L735.453 1307.69 Z\" fill=\"#000000\" fill-rule=\"evenodd\" fill-opacity=\"1\" /><path clip-path=\"url(#clip470)\" d=\"M753.127 1317.15 L753.127 1324.97 L750.997 1324.97 L750.997 1317.22 Q750.997 1315.38 750.28 1314.47 Q749.562 1313.55 748.127 1313.55 Q746.402 1313.55 745.407 1314.65 Q744.412 1315.75 744.412 1317.65 L744.412 1324.97 L742.27 1324.97 L742.27 1312.01 L744.412 1312.01 L744.412 1314.03 Q745.176 1312.86 746.206 1312.28 Q747.247 1311.7 748.601 1311.7 Q750.835 1311.7 751.981 1313.09 Q753.127 1314.47 753.127 1317.15 Z\" fill=\"#000000\" fill-rule=\"evenodd\" fill-opacity=\"1\" /><path clip-path=\"url(#clip470)\" d=\"M759.481 1308.33 L759.481 1312.01 L763.868 1312.01 L763.868 1313.67 L759.481 1313.67 L759.481 1320.7 Q759.481 1322.29 759.909 1322.74 Q760.349 1323.19 761.68 1323.19 L763.868 1323.19 L763.868 1324.97 L761.68 1324.97 Q759.215 1324.97 758.277 1324.06 Q757.34 1323.13 757.34 1320.7 L757.34 1313.67 L755.777 1313.67 L755.777 1312.01 L757.34 1312.01 L757.34 1308.33 L759.481 1308.33 Z\" fill=\"#000000\" fill-rule=\"evenodd\" fill-opacity=\"1\" /><path clip-path=\"url(#clip470)\" d=\"M774.053 1315.66 Q775.731 1316.02 776.668 1317.15 Q777.617 1318.29 777.617 1319.95 Q777.617 1322.51 775.858 1323.91 Q774.099 1325.31 770.858 1325.31 Q769.77 1325.31 768.613 1325.09 Q767.467 1324.88 766.24 1324.45 L766.24 1322.2 Q767.212 1322.76 768.37 1323.05 Q769.527 1323.34 770.789 1323.34 Q772.988 1323.34 774.134 1322.47 Q775.291 1321.61 775.291 1319.95 Q775.291 1318.42 774.215 1317.57 Q773.15 1316.7 771.24 1316.7 L769.226 1316.7 L769.226 1314.78 L771.333 1314.78 Q773.057 1314.78 773.972 1314.1 Q774.886 1313.4 774.886 1312.1 Q774.886 1310.77 773.937 1310.07 Q772.999 1309.35 771.24 1309.35 Q770.28 1309.35 769.18 1309.56 Q768.08 1309.77 766.761 1310.21 L766.761 1308.12 Q768.092 1307.75 769.249 1307.57 Q770.418 1307.38 771.449 1307.38 Q774.111 1307.38 775.661 1308.6 Q777.212 1309.8 777.212 1311.86 Q777.212 1313.3 776.391 1314.29 Q775.569 1315.28 774.053 1315.66 Z\" fill=\"#000000\" fill-rule=\"evenodd\" fill-opacity=\"1\" /><path clip-path=\"url(#clip470)\" d=\"M784.064 1323.01 L792.224 1323.01 L792.224 1324.97 L781.252 1324.97 L781.252 1323.01 Q782.583 1321.63 784.874 1319.32 Q787.178 1316.99 787.768 1316.32 Q788.891 1315.06 789.33 1314.19 Q789.782 1313.31 789.782 1312.46 Q789.782 1311.09 788.81 1310.22 Q787.849 1309.35 786.298 1309.35 Q785.198 1309.35 783.972 1309.73 Q782.756 1310.11 781.367 1310.89 L781.367 1308.53 Q782.779 1307.96 784.006 1307.67 Q785.233 1307.38 786.252 1307.38 Q788.937 1307.38 790.534 1308.72 Q792.131 1310.07 792.131 1312.31 Q792.131 1313.38 791.726 1314.34 Q791.333 1315.29 790.279 1316.58 Q789.99 1316.92 788.439 1318.53 Q786.888 1320.13 784.064 1323.01 Z\" fill=\"#000000\" fill-rule=\"evenodd\" fill-opacity=\"1\" /><path clip-path=\"url(#clip470)\" d=\"M840.245 1297.41 L842.583 1297.41 L842.583 1314.69 L840.245 1314.69 L840.245 1297.41 Z\" fill=\"#000000\" fill-rule=\"evenodd\" fill-opacity=\"1\" /><path clip-path=\"url(#clip470)\" d=\"M857.919 1306.87 L857.919 1314.69 L855.789 1314.69 L855.789 1306.94 Q855.789 1305.1 855.072 1304.18 Q854.354 1303.27 852.919 1303.27 Q851.194 1303.27 850.199 1304.37 Q849.204 1305.47 849.204 1307.36 L849.204 1314.69 L847.062 1314.69 L847.062 1301.73 L849.204 1301.73 L849.204 1303.74 Q849.968 1302.57 850.998 1301.99 Q852.039 1301.42 853.393 1301.42 Q855.627 1301.42 856.773 1302.8 Q857.919 1304.18 857.919 1306.87 Z\" fill=\"#000000\" fill-rule=\"evenodd\" fill-opacity=\"1\" /><path clip-path=\"url(#clip470)\" d=\"M864.273 1298.05 L864.273 1301.73 L868.66 1301.73 L868.66 1303.38 L864.273 1303.38 L864.273 1310.42 Q864.273 1312.01 864.701 1312.46 Q865.141 1312.91 866.472 1312.91 L868.66 1312.91 L868.66 1314.69 L866.472 1314.69 Q864.007 1314.69 863.069 1313.78 Q862.132 1312.85 862.132 1310.42 L862.132 1303.38 L860.569 1303.38 L860.569 1301.73 L862.132 1301.73 L862.132 1298.05 L864.273 1298.05 Z\" fill=\"#000000\" fill-rule=\"evenodd\" fill-opacity=\"1\" /><path clip-path=\"url(#clip470)\" d=\"M877.051 1305.12 Q875.477 1305.12 874.551 1306.2 Q873.636 1307.27 873.636 1309.15 Q873.636 1311.01 874.551 1312.1 Q875.477 1313.17 877.051 1313.17 Q878.625 1313.17 879.539 1312.1 Q880.465 1311.01 880.465 1309.15 Q880.465 1307.27 879.539 1306.2 Q878.625 1305.12 877.051 1305.12 M881.692 1297.79 L881.692 1299.92 Q880.812 1299.51 879.909 1299.29 Q879.018 1299.07 878.139 1299.07 Q875.824 1299.07 874.597 1300.63 Q873.382 1302.19 873.208 1305.35 Q873.891 1304.34 874.921 1303.81 Q875.951 1303.27 877.19 1303.27 Q879.794 1303.27 881.298 1304.85 Q882.815 1306.43 882.815 1309.15 Q882.815 1311.81 881.24 1313.42 Q879.666 1315.03 877.051 1315.03 Q874.053 1315.03 872.467 1312.73 Q870.882 1310.43 870.882 1306.07 Q870.882 1301.97 872.826 1299.54 Q874.771 1297.1 878.046 1297.1 Q878.926 1297.1 879.817 1297.27 Q880.72 1297.45 881.692 1297.79 Z\" fill=\"#000000\" fill-rule=\"evenodd\" fill-opacity=\"1\" /><path clip-path=\"url(#clip470)\" d=\"M893.266 1299.45 L887.363 1308.67 L893.266 1308.67 L893.266 1299.45 M892.652 1297.41 L895.592 1297.41 L895.592 1308.67 L898.058 1308.67 L898.058 1310.62 L895.592 1310.62 L895.592 1314.69 L893.266 1314.69 L893.266 1310.62 L885.465 1310.62 L885.465 1308.36 L892.652 1297.41 Z\" fill=\"#000000\" fill-rule=\"evenodd\" fill-opacity=\"1\" /><path clip-path=\"url(#clip470)\" d=\"M641.096 1211.98 L643.434 1211.98 L643.434 1229.26 L641.096 1229.26 L641.096 1211.98 Z\" fill=\"#000000\" fill-rule=\"evenodd\" fill-opacity=\"1\" /><path clip-path=\"url(#clip470)\" d=\"M658.77 1221.44 L658.77 1229.26 L656.64 1229.26 L656.64 1221.51 Q656.64 1219.67 655.923 1218.75 Q655.205 1217.84 653.77 1217.84 Q652.045 1217.84 651.05 1218.94 Q650.055 1220.04 650.055 1221.93 L650.055 1229.26 L647.913 1229.26 L647.913 1216.3 L650.055 1216.3 L650.055 1218.31 Q650.818 1217.14 651.849 1216.56 Q652.89 1215.98 654.244 1215.98 Q656.478 1215.98 657.624 1217.37 Q658.77 1218.75 658.77 1221.44 Z\" fill=\"#000000\" fill-rule=\"evenodd\" fill-opacity=\"1\" /><path clip-path=\"url(#clip470)\" d=\"M665.124 1212.62 L665.124 1216.3 L669.51 1216.3 L669.51 1217.95 L665.124 1217.95 L665.124 1224.99 Q665.124 1226.58 665.552 1227.03 Q665.992 1227.48 667.323 1227.48 L669.51 1227.48 L669.51 1229.26 L667.323 1229.26 Q664.858 1229.26 663.92 1228.35 Q662.983 1227.42 662.983 1224.99 L662.983 1217.95 L661.42 1217.95 L661.42 1216.3 L662.983 1216.3 L662.983 1212.62 L665.124 1212.62 Z\" fill=\"#000000\" fill-rule=\"evenodd\" fill-opacity=\"1\" /><path clip-path=\"url(#clip470)\" d=\"M677.612 1221.05 Q675.946 1221.05 674.985 1221.95 Q674.036 1222.84 674.036 1224.4 Q674.036 1225.96 674.985 1226.85 Q675.946 1227.74 677.612 1227.74 Q679.279 1227.74 680.24 1226.85 Q681.2 1225.95 681.2 1224.4 Q681.2 1222.84 680.24 1221.95 Q679.29 1221.05 677.612 1221.05 M675.274 1220.06 Q673.77 1219.69 672.925 1218.66 Q672.091 1217.63 672.091 1216.15 Q672.091 1214.08 673.561 1212.87 Q675.043 1211.67 677.612 1211.67 Q680.193 1211.67 681.663 1212.87 Q683.133 1214.08 683.133 1216.15 Q683.133 1217.63 682.288 1218.66 Q681.455 1219.69 679.962 1220.06 Q681.652 1220.45 682.589 1221.6 Q683.538 1222.74 683.538 1224.4 Q683.538 1226.91 681.999 1228.25 Q680.471 1229.6 677.612 1229.6 Q674.753 1229.6 673.214 1228.25 Q671.686 1226.91 671.686 1224.4 Q671.686 1222.74 672.635 1221.6 Q673.585 1220.45 675.274 1220.06 M674.418 1216.37 Q674.418 1217.71 675.251 1218.46 Q676.096 1219.21 677.612 1219.21 Q679.117 1219.21 679.962 1218.46 Q680.818 1217.71 680.818 1216.37 Q680.818 1215.02 679.962 1214.27 Q679.117 1213.52 677.612 1213.52 Q676.096 1213.52 675.251 1214.27 Q674.418 1215.02 674.418 1216.37 Z\" fill=\"#000000\" fill-rule=\"evenodd\" fill-opacity=\"1\" /><path clip-path=\"url(#clip470)\" d=\"M1435.35 1064.98 L1437.7 1064.98 L1437.7 1075.48 Q1437.7 1078.26 1438.7 1079.48 Q1439.71 1080.7 1441.97 1080.7 Q1444.21 1080.7 1445.22 1079.48 Q1446.23 1078.26 1446.23 1075.48 L1446.23 1064.98 L1448.58 1064.98 L1448.58 1075.77 Q1448.58 1079.15 1446.9 1080.87 Q1445.23 1082.6 1441.97 1082.6 Q1438.69 1082.6 1437.01 1080.87 Q1435.35 1079.15 1435.35 1075.77 L1435.35 1064.98 Z\" fill=\"#000000\" fill-rule=\"evenodd\" fill-opacity=\"1\" /><path clip-path=\"url(#clip470)\" d=\"M1463.64 1074.44 L1463.64 1082.26 L1461.51 1082.26 L1461.51 1074.51 Q1461.51 1072.67 1460.8 1071.75 Q1460.08 1070.84 1458.64 1070.84 Q1456.92 1070.84 1455.92 1071.94 Q1454.93 1073.04 1454.93 1074.93 L1454.93 1082.26 L1452.79 1082.26 L1452.79 1069.3 L1454.93 1069.3 L1454.93 1071.31 Q1455.69 1070.14 1456.72 1069.56 Q1457.76 1068.99 1459.12 1068.99 Q1461.35 1068.99 1462.5 1070.37 Q1463.64 1071.75 1463.64 1074.44 Z\" fill=\"#000000\" fill-rule=\"evenodd\" fill-opacity=\"1\" /><path clip-path=\"url(#clip470)\" d=\"M1476.16 1069.68 L1476.16 1071.69 Q1475.25 1071.23 1474.28 1071 Q1473.31 1070.77 1472.27 1070.77 Q1470.68 1070.77 1469.88 1071.25 Q1469.1 1071.74 1469.1 1072.71 Q1469.1 1073.45 1469.66 1073.88 Q1470.23 1074.3 1471.94 1074.68 L1472.67 1074.84 Q1474.94 1075.33 1475.89 1076.22 Q1476.85 1077.1 1476.85 1078.68 Q1476.85 1080.49 1475.42 1081.54 Q1473.99 1082.6 1471.49 1082.6 Q1470.45 1082.6 1469.32 1082.39 Q1468.19 1082.19 1466.94 1081.79 L1466.94 1079.59 Q1468.12 1080.2 1469.27 1080.51 Q1470.42 1080.81 1471.54 1080.81 Q1473.04 1080.81 1473.85 1080.3 Q1474.66 1079.78 1474.66 1078.85 Q1474.66 1077.98 1474.07 1077.52 Q1473.49 1077.05 1471.51 1076.62 L1470.77 1076.45 Q1468.79 1076.03 1467.92 1075.18 Q1467.04 1074.31 1467.04 1072.81 Q1467.04 1070.98 1468.33 1069.98 Q1469.63 1068.99 1472.01 1068.99 Q1473.19 1068.99 1474.23 1069.16 Q1475.28 1069.33 1476.16 1069.68 Z\" fill=\"#000000\" fill-rule=\"evenodd\" fill-opacity=\"1\" /><path clip-path=\"url(#clip470)\" d=\"M1480.24 1069.3 L1482.37 1069.3 L1482.37 1082.26 L1480.24 1082.26 L1480.24 1069.3 M1480.24 1064.25 L1482.37 1064.25 L1482.37 1066.95 L1480.24 1066.95 L1480.24 1064.25 Z\" fill=\"#000000\" fill-rule=\"evenodd\" fill-opacity=\"1\" /><path clip-path=\"url(#clip470)\" d=\"M1495.36 1075.63 Q1495.36 1073.31 1494.4 1072.04 Q1493.45 1070.77 1491.72 1070.77 Q1490.01 1070.77 1489.05 1072.04 Q1488.1 1073.31 1488.1 1075.63 Q1488.1 1077.93 1489.05 1079.21 Q1490.01 1080.48 1491.72 1080.48 Q1493.45 1080.48 1494.4 1079.21 Q1495.36 1077.93 1495.36 1075.63 M1497.49 1080.65 Q1497.49 1083.96 1496.02 1085.57 Q1494.55 1087.19 1491.51 1087.19 Q1490.39 1087.19 1489.4 1087.02 Q1488.4 1086.86 1487.46 1086.51 L1487.46 1084.44 Q1488.4 1084.95 1489.32 1085.19 Q1490.23 1085.43 1491.18 1085.43 Q1493.27 1085.43 1494.32 1084.33 Q1495.36 1083.24 1495.36 1081.03 L1495.36 1079.98 Q1494.7 1081.13 1493.67 1081.69 Q1492.64 1082.26 1491.2 1082.26 Q1488.82 1082.26 1487.36 1080.44 Q1485.9 1078.63 1485.9 1075.63 Q1485.9 1072.62 1487.36 1070.8 Q1488.82 1068.99 1491.2 1068.99 Q1492.64 1068.99 1493.67 1069.55 Q1494.7 1070.12 1495.36 1071.27 L1495.36 1069.3 L1497.49 1069.3 L1497.49 1080.65 Z\" fill=\"#000000\" fill-rule=\"evenodd\" fill-opacity=\"1\" /><path clip-path=\"url(#clip470)\" d=\"M1512.65 1074.44 L1512.65 1082.26 L1510.52 1082.26 L1510.52 1074.51 Q1510.52 1072.67 1509.8 1071.75 Q1509.08 1070.84 1507.65 1070.84 Q1505.92 1070.84 1504.93 1071.94 Q1503.93 1073.04 1503.93 1074.93 L1503.93 1082.26 L1501.79 1082.26 L1501.79 1069.3 L1503.93 1069.3 L1503.93 1071.31 Q1504.7 1070.14 1505.73 1069.56 Q1506.77 1068.99 1508.12 1068.99 Q1510.36 1068.99 1511.5 1070.37 Q1512.65 1071.75 1512.65 1074.44 Z\" fill=\"#000000\" fill-rule=\"evenodd\" fill-opacity=\"1\" /><path clip-path=\"url(#clip470)\" d=\"M1527.98 1075.25 L1527.98 1076.29 L1518.19 1076.29 Q1518.33 1078.49 1519.51 1079.65 Q1520.7 1080.79 1522.82 1080.79 Q1524.05 1080.79 1525.19 1080.49 Q1526.35 1080.19 1527.49 1079.59 L1527.49 1081.6 Q1526.34 1082.09 1525.14 1082.34 Q1523.93 1082.6 1522.7 1082.6 Q1519.59 1082.6 1517.78 1080.79 Q1515.97 1078.99 1515.97 1075.91 Q1515.97 1072.72 1517.68 1070.86 Q1519.41 1068.99 1522.32 1068.99 Q1524.94 1068.99 1526.46 1070.68 Q1527.98 1072.35 1527.98 1075.25 M1525.85 1074.62 Q1525.83 1072.87 1524.87 1071.83 Q1523.92 1070.79 1522.35 1070.79 Q1520.57 1070.79 1519.49 1071.8 Q1518.42 1072.81 1518.26 1074.63 L1525.85 1074.62 Z\" fill=\"#000000\" fill-rule=\"evenodd\" fill-opacity=\"1\" /><path clip-path=\"url(#clip470)\" d=\"M1540.01 1071.27 L1540.01 1064.25 L1542.14 1064.25 L1542.14 1082.26 L1540.01 1082.26 L1540.01 1080.32 Q1539.34 1081.47 1538.31 1082.04 Q1537.29 1082.6 1535.85 1082.6 Q1533.51 1082.6 1532.02 1080.72 Q1530.55 1078.85 1530.55 1075.79 Q1530.55 1072.74 1532.02 1070.86 Q1533.51 1068.99 1535.85 1068.99 Q1537.29 1068.99 1538.31 1069.55 Q1539.34 1070.11 1540.01 1071.27 M1532.75 1075.79 Q1532.75 1078.14 1533.71 1079.48 Q1534.69 1080.81 1536.38 1080.81 Q1538.07 1080.81 1539.04 1079.48 Q1540.01 1078.14 1540.01 1075.79 Q1540.01 1073.44 1539.04 1072.11 Q1538.07 1070.77 1536.38 1070.77 Q1534.69 1070.77 1533.71 1072.11 Q1532.75 1073.44 1532.75 1075.79 Z\" fill=\"#000000\" fill-rule=\"evenodd\" fill-opacity=\"1\" /><path clip-path=\"url(#clip470)\" d=\"M1352.11 1322.79 L1354.46 1322.79 L1354.46 1333.28 Q1354.46 1336.06 1355.47 1337.29 Q1356.47 1338.5 1358.73 1338.5 Q1360.98 1338.5 1361.98 1337.29 Q1362.99 1336.06 1362.99 1333.28 L1362.99 1322.79 L1365.34 1322.79 L1365.34 1333.57 Q1365.34 1336.95 1363.66 1338.68 Q1361.99 1340.4 1358.73 1340.4 Q1355.45 1340.4 1353.78 1338.68 Q1352.11 1336.95 1352.11 1333.57 L1352.11 1322.79 Z\" fill=\"#000000\" fill-rule=\"evenodd\" fill-opacity=\"1\" /><path clip-path=\"url(#clip470)\" d=\"M1369.73 1322.79 L1372.06 1322.79 L1372.06 1340.07 L1369.73 1340.07 L1369.73 1322.79 Z\" fill=\"#000000\" fill-rule=\"evenodd\" fill-opacity=\"1\" /><path clip-path=\"url(#clip470)\" d=\"M1387.4 1332.24 L1387.4 1340.07 L1385.27 1340.07 L1385.27 1332.31 Q1385.27 1330.47 1384.55 1329.56 Q1383.83 1328.64 1382.4 1328.64 Q1380.67 1328.64 1379.68 1329.74 Q1378.68 1330.84 1378.68 1332.74 L1378.68 1340.07 L1376.54 1340.07 L1376.54 1327.1 L1378.68 1327.1 L1378.68 1329.12 Q1379.45 1327.95 1380.48 1327.37 Q1381.52 1326.79 1382.87 1326.79 Q1385.11 1326.79 1386.25 1328.18 Q1387.4 1329.56 1387.4 1332.24 Z\" fill=\"#000000\" fill-rule=\"evenodd\" fill-opacity=\"1\" /><path clip-path=\"url(#clip470)\" d=\"M1393.75 1323.42 L1393.75 1327.1 L1398.14 1327.1 L1398.14 1328.76 L1393.75 1328.76 L1393.75 1335.8 Q1393.75 1337.38 1394.18 1337.83 Q1394.62 1338.28 1395.95 1338.28 L1398.14 1338.28 L1398.14 1340.07 L1395.95 1340.07 Q1393.49 1340.07 1392.55 1339.15 Q1391.61 1338.23 1391.61 1335.8 L1391.61 1328.76 L1390.05 1328.76 L1390.05 1327.1 L1391.61 1327.1 L1391.61 1323.42 L1393.75 1323.42 Z\" fill=\"#000000\" fill-rule=\"evenodd\" fill-opacity=\"1\" /><path clip-path=\"url(#clip470)\" d=\"M1401.65 1338.1 L1405.47 1338.1 L1405.47 1324.92 L1401.31 1325.75 L1401.31 1323.62 L1405.44 1322.79 L1407.78 1322.79 L1407.78 1338.1 L1411.6 1338.1 L1411.6 1340.07 L1401.65 1340.07 L1401.65 1338.1 Z\" fill=\"#000000\" fill-rule=\"evenodd\" fill-opacity=\"1\" /><path clip-path=\"url(#clip470)\" d=\"M1418.34 1338.1 L1426.5 1338.1 L1426.5 1340.07 L1415.52 1340.07 L1415.52 1338.1 Q1416.85 1336.72 1419.15 1334.41 Q1421.45 1332.08 1422.04 1331.41 Q1423.16 1330.15 1423.6 1329.28 Q1424.05 1328.4 1424.05 1327.56 Q1424.05 1326.18 1423.08 1325.31 Q1422.12 1324.44 1420.57 1324.44 Q1419.47 1324.44 1418.24 1324.82 Q1417.03 1325.21 1415.64 1325.98 L1415.64 1323.62 Q1417.05 1323.05 1418.28 1322.76 Q1419.51 1322.47 1420.52 1322.47 Q1423.21 1322.47 1424.81 1323.82 Q1426.4 1325.16 1426.4 1327.41 Q1426.4 1328.47 1426 1329.43 Q1425.6 1330.38 1424.55 1331.68 Q1424.26 1332.01 1422.71 1333.62 Q1421.16 1335.22 1418.34 1338.1 Z\" fill=\"#000000\" fill-rule=\"evenodd\" fill-opacity=\"1\" /><path clip-path=\"url(#clip470)\" d=\"M1436.4 1331.86 Q1434.74 1331.86 1433.78 1332.75 Q1432.83 1333.64 1432.83 1335.21 Q1432.83 1336.77 1433.78 1337.66 Q1434.74 1338.55 1436.4 1338.55 Q1438.07 1338.55 1439.03 1337.66 Q1439.99 1336.76 1439.99 1335.21 Q1439.99 1333.64 1439.03 1332.75 Q1438.08 1331.86 1436.4 1331.86 M1434.07 1330.87 Q1432.56 1330.5 1431.72 1329.47 Q1430.88 1328.44 1430.88 1326.95 Q1430.88 1324.88 1432.35 1323.68 Q1433.83 1322.47 1436.4 1322.47 Q1438.98 1322.47 1440.45 1323.68 Q1441.92 1324.88 1441.92 1326.95 Q1441.92 1328.44 1441.08 1329.47 Q1440.25 1330.5 1438.75 1330.87 Q1440.44 1331.26 1441.38 1332.41 Q1442.33 1333.55 1442.33 1335.21 Q1442.33 1337.72 1440.79 1339.06 Q1439.26 1340.4 1436.4 1340.4 Q1433.54 1340.4 1432.01 1339.06 Q1430.48 1337.72 1430.48 1335.21 Q1430.48 1333.55 1431.43 1332.41 Q1432.38 1331.26 1434.07 1330.87 M1433.21 1327.17 Q1433.21 1328.52 1434.04 1329.27 Q1434.89 1330.02 1436.4 1330.02 Q1437.91 1330.02 1438.75 1329.27 Q1439.61 1328.52 1439.61 1327.17 Q1439.61 1325.83 1438.75 1325.08 Q1437.91 1324.33 1436.4 1324.33 Q1434.89 1324.33 1434.04 1325.08 Q1433.21 1325.83 1433.21 1327.17 Z\" fill=\"#000000\" fill-rule=\"evenodd\" fill-opacity=\"1\" /><path clip-path=\"url(#clip470)\" d=\"M1550.91 1329.04 L1553.26 1329.04 L1553.26 1339.54 Q1553.26 1342.32 1554.27 1343.55 Q1555.27 1344.76 1557.53 1344.76 Q1559.78 1344.76 1560.78 1343.55 Q1561.79 1342.32 1561.79 1339.54 L1561.79 1329.04 L1564.14 1329.04 L1564.14 1339.83 Q1564.14 1343.21 1562.46 1344.93 Q1560.79 1346.66 1557.53 1346.66 Q1554.25 1346.66 1552.58 1344.93 Q1550.91 1343.21 1550.91 1339.83 L1550.91 1329.04 Z\" fill=\"#000000\" fill-rule=\"evenodd\" fill-opacity=\"1\" /><path clip-path=\"url(#clip470)\" d=\"M1568.53 1329.04 L1570.86 1329.04 L1570.86 1346.32 L1568.53 1346.32 L1568.53 1329.04 Z\" fill=\"#000000\" fill-rule=\"evenodd\" fill-opacity=\"1\" /><path clip-path=\"url(#clip470)\" d=\"M1586.2 1338.5 L1586.2 1346.32 L1584.07 1346.32 L1584.07 1338.57 Q1584.07 1336.73 1583.35 1335.81 Q1582.63 1334.9 1581.2 1334.9 Q1579.47 1334.9 1578.48 1336 Q1577.48 1337.1 1577.48 1339 L1577.48 1346.32 L1575.34 1346.32 L1575.34 1333.36 L1577.48 1333.36 L1577.48 1335.37 Q1578.25 1334.2 1579.28 1333.63 Q1580.32 1333.05 1581.67 1333.05 Q1583.91 1333.05 1585.05 1334.44 Q1586.2 1335.81 1586.2 1338.5 Z\" fill=\"#000000\" fill-rule=\"evenodd\" fill-opacity=\"1\" /><path clip-path=\"url(#clip470)\" d=\"M1592.55 1329.68 L1592.55 1333.36 L1596.94 1333.36 L1596.94 1335.01 L1592.55 1335.01 L1592.55 1342.05 Q1592.55 1343.64 1592.98 1344.09 Q1593.42 1344.54 1594.75 1344.54 L1596.94 1344.54 L1596.94 1346.32 L1594.75 1346.32 Q1592.29 1346.32 1591.35 1345.41 Q1590.41 1344.48 1590.41 1342.05 L1590.41 1335.01 L1588.85 1335.01 L1588.85 1333.36 L1590.41 1333.36 L1590.41 1329.68 L1592.55 1329.68 Z\" fill=\"#000000\" fill-rule=\"evenodd\" fill-opacity=\"1\" /><path clip-path=\"url(#clip470)\" d=\"M1600.45 1344.36 L1604.27 1344.36 L1604.27 1331.17 L1600.11 1332.01 L1600.11 1329.88 L1604.24 1329.04 L1606.58 1329.04 L1606.58 1344.36 L1610.4 1344.36 L1610.4 1346.32 L1600.45 1346.32 L1600.45 1344.36 Z\" fill=\"#000000\" fill-rule=\"evenodd\" fill-opacity=\"1\" /><path clip-path=\"url(#clip470)\" d=\"M1620.41 1336.75 Q1618.84 1336.75 1617.91 1337.83 Q1617 1338.9 1617 1340.78 Q1617 1342.64 1617.91 1343.73 Q1618.84 1344.81 1620.41 1344.81 Q1621.99 1344.81 1622.9 1343.73 Q1623.83 1342.64 1623.83 1340.78 Q1623.83 1338.9 1622.9 1337.83 Q1621.99 1336.75 1620.41 1336.75 M1625.05 1329.42 L1625.05 1331.55 Q1624.17 1331.14 1623.27 1330.92 Q1622.38 1330.7 1621.5 1330.7 Q1619.18 1330.7 1617.96 1332.26 Q1616.74 1333.82 1616.57 1336.98 Q1617.25 1335.98 1618.28 1335.44 Q1619.31 1334.9 1620.55 1334.9 Q1623.15 1334.9 1624.66 1336.48 Q1626.18 1338.06 1626.18 1340.78 Q1626.18 1343.44 1624.6 1345.05 Q1623.03 1346.66 1620.41 1346.66 Q1617.41 1346.66 1615.83 1344.37 Q1614.24 1342.06 1614.24 1337.7 Q1614.24 1333.6 1616.19 1331.17 Q1618.13 1328.73 1621.41 1328.73 Q1622.29 1328.73 1623.18 1328.9 Q1624.08 1329.08 1625.05 1329.42 Z\" fill=\"#000000\" fill-rule=\"evenodd\" fill-opacity=\"1\" /><path clip-path=\"url(#clip470)\" d=\"M1700.49 1260 L1702.84 1260 L1702.84 1270.5 Q1702.84 1273.27 1703.85 1274.5 Q1704.85 1275.71 1707.11 1275.71 Q1709.36 1275.71 1710.36 1274.5 Q1711.37 1273.27 1711.37 1270.5 L1711.37 1260 L1713.72 1260 L1713.72 1270.78 Q1713.72 1274.16 1712.04 1275.89 Q1710.37 1277.61 1707.11 1277.61 Q1703.83 1277.61 1702.16 1275.89 Q1700.49 1274.16 1700.49 1270.78 L1700.49 1260 Z\" fill=\"#000000\" fill-rule=\"evenodd\" fill-opacity=\"1\" /><path clip-path=\"url(#clip470)\" d=\"M1718.11 1260 L1720.44 1260 L1720.44 1277.28 L1718.11 1277.28 L1718.11 1260 Z\" fill=\"#000000\" fill-rule=\"evenodd\" fill-opacity=\"1\" /><path clip-path=\"url(#clip470)\" d=\"M1735.78 1269.45 L1735.78 1277.28 L1733.65 1277.28 L1733.65 1269.52 Q1733.65 1267.68 1732.93 1266.77 Q1732.21 1265.85 1730.78 1265.85 Q1729.05 1265.85 1728.06 1266.95 Q1727.06 1268.05 1727.06 1269.95 L1727.06 1277.28 L1724.92 1277.28 L1724.92 1264.31 L1727.06 1264.31 L1727.06 1266.33 Q1727.83 1265.16 1728.86 1264.58 Q1729.9 1264 1731.25 1264 Q1733.49 1264 1734.63 1265.39 Q1735.78 1266.77 1735.78 1269.45 Z\" fill=\"#000000\" fill-rule=\"evenodd\" fill-opacity=\"1\" /><path clip-path=\"url(#clip470)\" d=\"M1742.13 1260.63 L1742.13 1264.31 L1746.52 1264.31 L1746.52 1265.97 L1742.13 1265.97 L1742.13 1273.01 Q1742.13 1274.59 1742.56 1275.04 Q1743 1275.5 1744.33 1275.5 L1746.52 1275.5 L1746.52 1277.28 L1744.33 1277.28 Q1741.87 1277.28 1740.93 1276.36 Q1739.99 1275.44 1739.99 1273.01 L1739.99 1265.97 L1738.43 1265.97 L1738.43 1264.31 L1739.99 1264.31 L1739.99 1260.63 L1742.13 1260.63 Z\" fill=\"#000000\" fill-rule=\"evenodd\" fill-opacity=\"1\" /><path clip-path=\"url(#clip470)\" d=\"M1756.7 1267.96 Q1758.38 1268.32 1759.32 1269.45 Q1760.27 1270.59 1760.27 1272.25 Q1760.27 1274.81 1758.51 1276.21 Q1756.75 1277.61 1753.51 1277.61 Q1752.42 1277.61 1751.26 1277.39 Q1750.12 1277.18 1748.89 1276.76 L1748.89 1274.5 Q1749.86 1275.07 1751.02 1275.36 Q1752.18 1275.65 1753.44 1275.65 Q1755.64 1275.65 1756.79 1274.78 Q1757.94 1273.91 1757.94 1272.25 Q1757.94 1270.73 1756.87 1269.87 Q1755.8 1269 1753.89 1269 L1751.88 1269 L1751.88 1267.08 L1753.98 1267.08 Q1755.71 1267.08 1756.62 1266.4 Q1757.54 1265.7 1757.54 1264.41 Q1757.54 1263.08 1756.59 1262.37 Q1755.65 1261.65 1753.89 1261.65 Q1752.93 1261.65 1751.83 1261.86 Q1750.73 1262.07 1749.41 1262.51 L1749.41 1260.43 Q1750.74 1260.06 1751.9 1259.87 Q1753.07 1259.68 1754.1 1259.68 Q1756.76 1259.68 1758.31 1260.9 Q1759.86 1262.1 1759.86 1264.16 Q1759.86 1265.6 1759.04 1266.59 Q1758.22 1267.58 1756.7 1267.96 Z\" fill=\"#000000\" fill-rule=\"evenodd\" fill-opacity=\"1\" /><path clip-path=\"url(#clip470)\" d=\"M1766.72 1275.31 L1774.88 1275.31 L1774.88 1277.28 L1763.9 1277.28 L1763.9 1275.31 Q1765.23 1273.93 1767.53 1271.62 Q1769.83 1269.29 1770.42 1268.62 Q1771.54 1267.36 1771.98 1266.49 Q1772.43 1265.61 1772.43 1264.77 Q1772.43 1263.39 1771.46 1262.52 Q1770.5 1261.65 1768.95 1261.65 Q1767.85 1261.65 1766.62 1262.03 Q1765.41 1262.42 1764.02 1263.19 L1764.02 1260.83 Q1765.43 1260.26 1766.66 1259.97 Q1767.89 1259.68 1768.9 1259.68 Q1771.59 1259.68 1773.19 1261.03 Q1774.78 1262.37 1774.78 1264.62 Q1774.78 1265.68 1774.38 1266.64 Q1773.98 1267.59 1772.93 1268.89 Q1772.64 1269.22 1771.09 1270.83 Q1769.54 1272.43 1766.72 1275.31 Z\" fill=\"#000000\" fill-rule=\"evenodd\" fill-opacity=\"1\" /><path clip-path=\"url(#clip470)\" d=\"M1630.75 1234.65 L1633.1 1234.65 L1633.1 1245.14 Q1633.1 1247.92 1634.11 1249.15 Q1635.11 1250.36 1637.37 1250.36 Q1639.62 1250.36 1640.62 1249.15 Q1641.63 1247.92 1641.63 1245.14 L1641.63 1234.65 L1643.98 1234.65 L1643.98 1245.43 Q1643.98 1248.81 1642.3 1250.54 Q1640.64 1252.26 1637.37 1252.26 Q1634.1 1252.26 1632.42 1250.54 Q1630.75 1248.81 1630.75 1245.43 L1630.75 1234.65 Z\" fill=\"#000000\" fill-rule=\"evenodd\" fill-opacity=\"1\" /><path clip-path=\"url(#clip470)\" d=\"M1648.37 1234.65 L1650.7 1234.65 L1650.7 1251.93 L1648.37 1251.93 L1648.37 1234.65 Z\" fill=\"#000000\" fill-rule=\"evenodd\" fill-opacity=\"1\" /><path clip-path=\"url(#clip470)\" d=\"M1666.04 1244.1 L1666.04 1251.93 L1663.91 1251.93 L1663.91 1244.17 Q1663.91 1242.33 1663.19 1241.42 Q1662.48 1240.5 1661.04 1240.5 Q1659.32 1240.5 1658.32 1241.6 Q1657.33 1242.7 1657.33 1244.6 L1657.33 1251.93 L1655.18 1251.93 L1655.18 1238.96 L1657.33 1238.96 L1657.33 1240.98 Q1658.09 1239.81 1659.12 1239.23 Q1660.16 1238.65 1661.52 1238.65 Q1663.75 1238.65 1664.89 1240.04 Q1666.04 1241.42 1666.04 1244.1 Z\" fill=\"#000000\" fill-rule=\"evenodd\" fill-opacity=\"1\" /><path clip-path=\"url(#clip470)\" d=\"M1672.39 1235.28 L1672.39 1238.96 L1676.78 1238.96 L1676.78 1240.62 L1672.39 1240.62 L1672.39 1247.66 Q1672.39 1249.24 1672.82 1249.69 Q1673.26 1250.14 1674.59 1250.14 L1676.78 1250.14 L1676.78 1251.93 L1674.59 1251.93 Q1672.13 1251.93 1671.19 1251.01 Q1670.25 1250.09 1670.25 1247.66 L1670.25 1240.62 L1668.69 1240.62 L1668.69 1238.96 L1670.25 1238.96 L1670.25 1235.28 L1672.39 1235.28 Z\" fill=\"#000000\" fill-rule=\"evenodd\" fill-opacity=\"1\" /><path clip-path=\"url(#clip470)\" d=\"M1685.17 1242.36 Q1683.6 1242.36 1682.67 1243.43 Q1681.76 1244.51 1681.76 1246.38 Q1681.76 1248.25 1682.67 1249.33 Q1683.6 1250.41 1685.17 1250.41 Q1686.75 1250.41 1687.66 1249.33 Q1688.59 1248.25 1688.59 1246.38 Q1688.59 1244.51 1687.66 1243.43 Q1686.75 1242.36 1685.17 1242.36 M1689.81 1235.03 L1689.81 1237.16 Q1688.93 1236.74 1688.03 1236.52 Q1687.14 1236.3 1686.26 1236.3 Q1683.95 1236.3 1682.72 1237.86 Q1681.5 1239.43 1681.33 1242.59 Q1682.01 1241.58 1683.04 1241.05 Q1684.07 1240.5 1685.31 1240.5 Q1687.92 1240.5 1689.42 1242.09 Q1690.94 1243.66 1690.94 1246.38 Q1690.94 1249.05 1689.36 1250.65 Q1687.79 1252.26 1685.17 1252.26 Q1682.17 1252.26 1680.59 1249.97 Q1679 1247.67 1679 1243.3 Q1679 1239.21 1680.95 1236.78 Q1682.89 1234.33 1686.17 1234.33 Q1687.05 1234.33 1687.94 1234.51 Q1688.84 1234.68 1689.81 1235.03 Z\" fill=\"#000000\" fill-rule=\"evenodd\" fill-opacity=\"1\" /><path clip-path=\"url(#clip470)\" d=\"M1701.39 1236.68 L1695.48 1245.91 L1701.39 1245.91 L1701.39 1236.68 M1700.77 1234.65 L1703.71 1234.65 L1703.71 1245.91 L1706.18 1245.91 L1706.18 1247.85 L1703.71 1247.85 L1703.71 1251.93 L1701.39 1251.93 L1701.39 1247.85 L1693.59 1247.85 L1693.59 1245.6 L1700.77 1234.65 Z\" fill=\"#000000\" fill-rule=\"evenodd\" fill-opacity=\"1\" /><path clip-path=\"url(#clip470)\" d=\"M1478.84 1269.32 L1481.19 1269.32 L1481.19 1279.82 Q1481.19 1282.6 1482.2 1283.83 Q1483.2 1285.04 1485.46 1285.04 Q1487.71 1285.04 1488.71 1283.83 Q1489.72 1282.6 1489.72 1279.82 L1489.72 1269.32 L1492.07 1269.32 L1492.07 1280.11 Q1492.07 1283.49 1490.39 1285.22 Q1488.72 1286.94 1485.46 1286.94 Q1482.18 1286.94 1480.51 1285.22 Q1478.84 1283.49 1478.84 1280.11 L1478.84 1269.32 Z\" fill=\"#000000\" fill-rule=\"evenodd\" fill-opacity=\"1\" /><path clip-path=\"url(#clip470)\" d=\"M1496.46 1269.32 L1498.79 1269.32 L1498.79 1286.6 L1496.46 1286.6 L1496.46 1269.32 Z\" fill=\"#000000\" fill-rule=\"evenodd\" fill-opacity=\"1\" /><path clip-path=\"url(#clip470)\" d=\"M1514.13 1278.78 L1514.13 1286.6 L1512 1286.6 L1512 1278.85 Q1512 1277.01 1511.28 1276.1 Q1510.56 1275.18 1509.13 1275.18 Q1507.4 1275.18 1506.41 1276.28 Q1505.41 1277.38 1505.41 1279.28 L1505.41 1286.6 L1503.27 1286.6 L1503.27 1273.64 L1505.41 1273.64 L1505.41 1275.66 Q1506.18 1274.49 1507.21 1273.91 Q1508.25 1273.33 1509.6 1273.33 Q1511.84 1273.33 1512.98 1274.72 Q1514.13 1276.1 1514.13 1278.78 Z\" fill=\"#000000\" fill-rule=\"evenodd\" fill-opacity=\"1\" /><path clip-path=\"url(#clip470)\" d=\"M1520.48 1269.96 L1520.48 1273.64 L1524.87 1273.64 L1524.87 1275.3 L1520.48 1275.3 L1520.48 1282.33 Q1520.48 1283.92 1520.91 1284.37 Q1521.35 1284.82 1522.68 1284.82 L1524.87 1284.82 L1524.87 1286.6 L1522.68 1286.6 Q1520.22 1286.6 1519.28 1285.69 Q1518.34 1284.76 1518.34 1282.33 L1518.34 1275.3 L1516.78 1275.3 L1516.78 1273.64 L1518.34 1273.64 L1518.34 1269.96 L1520.48 1269.96 Z\" fill=\"#000000\" fill-rule=\"evenodd\" fill-opacity=\"1\" /><path clip-path=\"url(#clip470)\" d=\"M1532.97 1278.4 Q1531.3 1278.4 1530.34 1279.29 Q1529.4 1280.18 1529.4 1281.74 Q1529.4 1283.31 1530.34 1284.2 Q1531.3 1285.09 1532.97 1285.09 Q1534.64 1285.09 1535.6 1284.2 Q1536.56 1283.29 1536.56 1281.74 Q1536.56 1280.18 1535.6 1279.29 Q1534.65 1278.4 1532.97 1278.4 M1530.63 1277.4 Q1529.13 1277.03 1528.28 1276 Q1527.45 1274.97 1527.45 1273.49 Q1527.45 1271.42 1528.92 1270.22 Q1530.4 1269.01 1532.97 1269.01 Q1535.55 1269.01 1537.02 1270.22 Q1538.49 1271.42 1538.49 1273.49 Q1538.49 1274.97 1537.65 1276 Q1536.81 1277.03 1535.32 1277.4 Q1537.01 1277.8 1537.95 1278.94 Q1538.9 1280.09 1538.9 1281.74 Q1538.9 1284.25 1537.36 1285.6 Q1535.83 1286.94 1532.97 1286.94 Q1530.11 1286.94 1528.57 1285.6 Q1527.05 1284.25 1527.05 1281.74 Q1527.05 1280.09 1527.99 1278.94 Q1528.94 1277.8 1530.63 1277.4 M1529.78 1273.71 Q1529.78 1275.05 1530.61 1275.81 Q1531.46 1276.56 1532.97 1276.56 Q1534.48 1276.56 1535.32 1275.81 Q1536.18 1275.05 1536.18 1273.71 Q1536.18 1272.37 1535.32 1271.62 Q1534.48 1270.86 1532.97 1270.86 Q1531.46 1270.86 1530.61 1271.62 Q1529.78 1272.37 1529.78 1273.71 Z\" fill=\"#000000\" fill-rule=\"evenodd\" fill-opacity=\"1\" /></svg>\n"
      ]
     },
     "execution_count": 11,
     "metadata": {},
     "output_type": "execute_result"
    }
   ],
   "source": [
    "using GraphRecipes, Plots\n",
    "\n",
    "gr(size=(600, 400))\n",
    "theme(:default)\n",
    "\n",
    "plot(Integer, method=:tree, fontsize=4)"
   ]
  },
  {
   "cell_type": "markdown",
   "metadata": {},
   "source": [
    "source: [Visualizing Graphs in Julia using Plots and PlotRecipes](http://www.breloff.com/Graphs/)"
   ]
  },
  {
   "cell_type": "markdown",
   "metadata": {},
   "source": [
    "### Unsigned integers\n",
    "\n",
    "* Model for $\\mathbb{N} \\cup \\{0\\}$.\n",
    "* For unsigned integers, the range is $[0,2^M-1]$.\n",
    "* Julia functions `typemin(T)` and `typemax(T)` give the lowest and highest representable number of a type `T` respectively"
   ]
  },
  {
   "cell_type": "code",
   "execution_count": 9,
   "metadata": {
    "scrolled": true
   },
   "outputs": [
    {
     "name": "stdout",
     "output_type": "stream",
     "text": [
      "UInt8\t0\t255\n",
      "UInt16\t0\t65535\n",
      "UInt32\t0\t4294967295\n",
      "UInt64\t0\t18446744073709551615\n",
      "UInt128\t0\t340282366920938463463374607431768211455\n"
     ]
    }
   ],
   "source": [
    "for t in [UInt8, UInt16, UInt32, UInt64, UInt128]\n",
    "    println(t, '\\t', typemin(t), '\\t', typemax(t))\n",
    "end"
   ]
  },
  {
   "cell_type": "markdown",
   "metadata": {},
   "source": [
    "### Signed integers\n",
    "\n",
    "* Model of $\\mathbb{Z}$. Can do subtraction.\n",
    "\n",
    "* First bit (\"most significant bit\" or MSB) is the sign bit.  \n",
    "    - `0` for nonnegative numbers\n",
    "    - `1` for negative numbers  "
   ]
  },
  {
   "cell_type": "code",
   "execution_count": null,
   "metadata": {},
   "outputs": [],
   "source": [
    "# 8을 나타낼 때, 8bits 사용 시, \n",
    "# unsigned : 8 = 00001000\n",
    "# Q. -8 = ??  : 10001000 with signed? Nope.\n",
    "# 둘을 더했을 때 0이 되지 않는다.\n",
    "\n",
    "# 그럼 어떻게 나타내냐? \"2의 보수법\" 사용"
   ]
  },
  {
   "cell_type": "markdown",
   "metadata": {},
   "source": [
    "* **Two's complement representation** for negative numbers. \n",
    "    - Set the sign bit to 1  \n",
    "    - Negate (`0`->`1`, `1`->`0`) the remaining bits\n",
    "    - Add to `1` to the result  \n",
    "    - Two's complement representation of a negative integer $x$ is the same as the unsigned integer $2^M - x$."
   ]
  },
  {
   "cell_type": "code",
   "execution_count": null,
   "metadata": {},
   "outputs": [],
   "source": [
    "# M=0(8bits)라 가정하자.\n",
    "\n",
    "# 1. sign bit = 1 로 만든다.           -> 10001000\n",
    "# 2. 나머지 1을 0으로, 0을 1로 바꿔준다.    -> 11110111\n",
    "# 3. 마지막으로 1을 더해준다.              -> 11111000\n",
    "\n",
    "# 한 마디로 정리하면, 2^M - x = 256 - 8 = 248 를 unsigned integer로 나타내 준 것.\n",
    "# (8_10=00001000 과 더하면 0이됨을 알 수 있다.)\n",
    "# = 0000_1000 + 1111_1000 = 1_0000_0000 -> 0000_0000 (9th bit 무시한다.)\n",
    "# 10진수로 나타내면, 8 + (256-8) = 256\n",
    "# 8bits 에서 256 = 0 과 같다.\n",
    "# 257=1, 258=2 (모듈러 연산)\n",
    "# -8 = (mod 256)"
   ]
  },
  {
   "cell_type": "code",
   "execution_count": 22,
   "metadata": {
    "ExecuteTime": {
     "end_time": "2021-09-23T20:43:00.588000+09:00",
     "start_time": "2021-09-23T11:43:00.583Z"
    }
   },
   "outputs": [
    {
     "name": "stdout",
     "output_type": "stream",
     "text": [
      "typeof(5) = Int64\n",
      "bitstring(5) = \"0000000000000000000000000000000000000000000000000000000000000101\"\n",
      "bitstring(-5) = \"1111111111111111111111111111111111111111111111111111111111111011\"\n",
      "bitstring(UInt64(Int128(2) ^ 64 - 5)) == bitstring(-5) = true\n",
      "bitstring(2 * 5) = \"0000000000000000000000000000000000000000000000000000000000001010\"\n",
      "bitstring(2 * -5) = \"1111111111111111111111111111111111111111111111111111111111110110\"\n"
     ]
    }
   ],
   "source": [
    "@show typeof(5)\n",
    "@show bitstring(5) # 64자리 2진수\n",
    "@show bitstring(-5)\n",
    "@show bitstring(UInt64(Int128(2)^64 - 5)) == bitstring(-5) # unsigned 와의 관계\n",
    "@show bitstring(2 * 5) # shift bits of 5 to the left\n",
    "@show bitstring(2 * -5); # shift bits of -5 to left"
   ]
  },
  {
   "cell_type": "markdown",
   "metadata": {},
   "source": [
    "* Two's complement representation respects modular arithmetic nicely.  \n",
    "    Addition of any two signed integers are just bitwise addition, possibly modulo $2^M$\n",
    "    - $M=4$ case: mod 16 연산\n",
    "    \n",
    "<img src=\"http://users.dickinson.edu/~braught/courses/cs251f02/classes/images/twosCompWheel.png\" width=\"400\" align=\"center\"/>    \n",
    "\n",
    "Source: [Signed Binary Numbers, Subtraction and Overflow](http://users.dickinson.edu/~braught/courses/cs251f02/classes/notes07.html) by Grant Braught"
   ]
  },
  {
   "cell_type": "markdown",
   "metadata": {},
   "source": [
    "* **Range** of representable integers by $M$-bit **signed integer** is $[-2^{M-1},2^{M-1}-1]$:"
   ]
  },
  {
   "cell_type": "code",
   "execution_count": null,
   "metadata": {},
   "outputs": [],
   "source": [
    "# When M=4, 4-bit signed interger : [-8, 7] "
   ]
  },
  {
   "cell_type": "code",
   "execution_count": 11,
   "metadata": {},
   "outputs": [
    {
     "data": {
      "text/plain": [
       "(-9223372036854775808, 9223372036854775807)"
      ]
     },
     "execution_count": 11,
     "metadata": {},
     "output_type": "execute_result"
    }
   ],
   "source": [
    "typemin(Int64), typemax(Int64)"
   ]
  },
  {
   "cell_type": "code",
   "execution_count": 12,
   "metadata": {},
   "outputs": [
    {
     "name": "stdout",
     "output_type": "stream",
     "text": [
      "Int8\t-128\t127\n",
      "Int16\t-32768\t32767\n",
      "Int32\t-2147483648\t2147483647\n",
      "Int64\t-9223372036854775808\t9223372036854775807\n",
      "Int128\t-170141183460469231731687303715884105728\t170141183460469231731687303715884105727\n"
     ]
    }
   ],
   "source": [
    "for T in [Int8, Int16, Int32, Int64, Int128]\n",
    "    println(T, '\\t', typemin(T), '\\t', typemax(T))\n",
    "end"
   ]
  },
  {
   "cell_type": "markdown",
   "metadata": {},
   "source": [
    "### `BigInt`\n",
    "\n",
    "Julia `BigInt` type is arbitrary precision."
   ]
  },
  {
   "cell_type": "code",
   "execution_count": 13,
   "metadata": {},
   "outputs": [
    {
     "name": "stdout",
     "output_type": "stream",
     "text": [
      "typemax(Int128) = 170141183460469231731687303715884105727\n",
      "typemax(Int128) + 1 = -170141183460469231731687303715884105728\n",
      "BigInt(typemax(Int128)) + 1 = 170141183460469231731687303715884105728\n"
     ]
    }
   ],
   "source": [
    "@show typemax(Int128)\n",
    "@show typemax(Int128) + 1 # overflow!\n",
    "@show BigInt(typemax(Int128)) + 1;"
   ]
  },
  {
   "cell_type": "code",
   "execution_count": null,
   "metadata": {},
   "outputs": [],
   "source": [
    "# 가장 큰 정수에 1 더해주면 overflow!"
   ]
  },
  {
   "cell_type": "markdown",
   "metadata": {},
   "source": [
    "### Overflow in integer arithmetic\n",
    "\n",
    "R reports `NA` for integer overflow.\n",
    "**Julia outputs the result according to modular arithmetic.**"
   ]
  },
  {
   "cell_type": "code",
   "execution_count": null,
   "metadata": {},
   "outputs": [],
   "source": [
    "# R 에서는 overflow가 일어나면 NA를 준다.\n",
    "# Julia 에서는 모듈러 연산을 통해 값을 리턴한다."
   ]
  },
  {
   "cell_type": "code",
   "execution_count": 23,
   "metadata": {
    "ExecuteTime": {
     "end_time": "2021-09-23T20:51:10.634000+09:00",
     "start_time": "2021-09-23T11:51:10.620Z"
    }
   },
   "outputs": [
    {
     "name": "stdout",
     "output_type": "stream",
     "text": [
      "typemax(Int32) = 2147483647\n",
      "typemax(Int32) + Int32(1) = -2147483648\n"
     ]
    }
   ],
   "source": [
    "@show typemax(Int32)\n",
    "@show typemax(Int32) + Int32(1); # modular arithmetics!"
   ]
  },
  {
   "cell_type": "code",
   "execution_count": 24,
   "metadata": {
    "ExecuteTime": {
     "end_time": "2021-09-23T20:51:17.471000+09:00",
     "start_time": "2021-09-23T11:51:11.407Z"
    }
   },
   "outputs": [
    {
     "data": {
      "text/plain": [
       "RObject{IntSxp}\n",
       "[1] 2147483647\n"
      ]
     },
     "execution_count": 24,
     "metadata": {},
     "output_type": "execute_result"
    }
   ],
   "source": [
    "using RCall\n",
    "# The largest integer R can hold\n",
    "R\"\"\"\n",
    ".Machine$integer.max \n",
    "\"\"\"\n",
    "# R은 기본적으로 32bits"
   ]
  },
  {
   "cell_type": "code",
   "execution_count": 26,
   "metadata": {
    "ExecuteTime": {
     "end_time": "2021-09-23T20:52:02.850000+09:00",
     "start_time": "2021-09-23T11:52:02.783Z"
    }
   },
   "outputs": [
    {
     "data": {
      "text/plain": [
       "RObject{IntSxp}\n",
       "[1] 2147483647\n"
      ]
     },
     "execution_count": 26,
     "metadata": {},
     "output_type": "execute_result"
    }
   ],
   "source": [
    "R\"\"\"\n",
    "M <- 32\n",
    "big <- 2^(M-1) - 1\n",
    "as.integer(big)\n",
    "\"\"\""
   ]
  },
  {
   "cell_type": "code",
   "execution_count": 27,
   "metadata": {
    "ExecuteTime": {
     "end_time": "2021-09-23T20:52:03.580000+09:00",
     "start_time": "2021-09-23T11:52:03.503Z"
    }
   },
   "outputs": [
    {
     "name": "stderr",
     "output_type": "stream",
     "text": [
      "┌ Warning: RCall.jl: 경고: NAs introduced by coercion to integer range\n",
      "└ @ RCall /Users/user5/.julia/packages/RCall/iMDW2/src/io.jl:160\n"
     ]
    },
    {
     "data": {
      "text/plain": [
       "RObject{IntSxp}\n",
       "[1] NA\n"
      ]
     },
     "execution_count": 27,
     "metadata": {},
     "output_type": "execute_result"
    }
   ],
   "source": [
    "# overflow 발생 시 NA리턴\n",
    "R\"\"\"\n",
    "as.integer(big+1)\n",
    "\"\"\""
   ]
  },
  {
   "cell_type": "markdown",
   "metadata": {},
   "source": [
    "## Real numbers: floating-point number system\n",
    "\n",
    "Floating-point number system is a computer model for the real line $\\mathbb{R}$.\n",
    "\n",
    "* Most computer systems adopt the [IEEE 754 standard](https://en.wikipedia.org/wiki/IEEE_floating_point), established in 1985, for floating-point arithmetics.  \n",
    "For the history, see an [interview with William Kahan](http://www.cs.berkeley.edu/~wkahan/ieee754status/754story.html).\n",
    "\n",
    "* In the scientific notation, a real number is represented as\n",
    "$$\n",
    "\\pm d_1.d_2d_3 \\cdots d_p \\times b^e, \\quad 0 \\le d_i < b.\n",
    "$$\n",
    "Humans use the _base_ $b=10$ and _digits_ $d_i=0, 1, \\dotsc, 9$.\\\n",
    "    In computer, the base is $b=2$ and the digits $d_i$ are 0 or 1. The *exponent* $e$ is between $e_{\\min}$ and $e_{\\max}$.\n",
    "\n",
    "* **Normalized** vs **denormalized** numbers. For example, decimal number 18 is\n",
    "$$ +1.0010 \\times 2^4 \\quad (\\text{normalized})$$\n",
    "or, equivalently,\n",
    "$$ +0.1001 \\times 2^5 \\quad (\\text{denormalized}).$$\n",
    "\n",
    "* In the floating-number system, computer stores \n",
    "    - sign bit  \n",
    "    - the _fraction_ (or _mantissa_, or _significand_) of the **normalized** representation (except some special cases)\n",
    "    - the actual exponent plus a *bias*\n",
    "        + Because $e_{\\min}$ is likely negative and $e_{\\max}$ is positive, the exponent requires a sign. IEEE 754 handles the sign of the exponent by subtracting the bias from the value of the exponent evaluated as an unsigned integer."
   ]
  },
  {
   "cell_type": "code",
   "execution_count": 32,
   "metadata": {
    "ExecuteTime": {
     "end_time": "2021-09-23T22:46:24.417000+09:00",
     "start_time": "2021-09-23T13:46:24.417Z"
    }
   },
   "outputs": [],
   "source": [
    "# 유효숫자 표기법\n",
    "# why normalized? 최대의 유효숫자 수를 확보하기 위함\n",
    "\n",
    "# sign bit(1)\n",
    "# fraction(p-1) : d_1 ~ d_p & normalized 사용\n",
    "    # 64-bit 안에 `b`도 저장해야하나? No. b=2로 정해져있음\n",
    "    # fraction을 저장하기 위한 비트 수? : (p-1) bits, d_1 != 0 이기 때문 (normalized)\n",
    "# exponent : e_min, e_max 가 정해져야 함 -> `bias`를 이용\n"
   ]
  },
  {
   "cell_type": "markdown",
   "metadata": {},
   "source": [
    "* Julia provides `Float16` (half precision, implemented in software using `Float32`), `Float32` (single precision), `Float64` (double precision), and `BigFloat` (arbitrary precision)."
   ]
  },
  {
   "cell_type": "code",
   "execution_count": 30,
   "metadata": {
    "ExecuteTime": {
     "end_time": "2021-09-23T21:25:06.891000+09:00",
     "start_time": "2021-09-23T12:25:05.975Z"
    }
   },
   "outputs": [
    {
     "data": {
      "image/svg+xml": [
       "<?xml version=\"1.0\" encoding=\"utf-8\"?>\n",
       "<svg xmlns=\"http://www.w3.org/2000/svg\" xmlns:xlink=\"http://www.w3.org/1999/xlink\" width=\"600\" height=\"400\" viewBox=\"0 0 2400 1600\">\n",
       "<defs>\n",
       "  <clipPath id=\"clip230\">\n",
       "    <rect x=\"0\" y=\"0\" width=\"2400\" height=\"1600\"/>\n",
       "  </clipPath>\n",
       "</defs>\n",
       "<path clip-path=\"url(#clip230)\" d=\"\n",
       "M0 1600 L2400 1600 L2400 0 L0 0  Z\n",
       "  \" fill=\"#ffffff\" fill-rule=\"evenodd\" fill-opacity=\"1\"/>\n",
       "<defs>\n",
       "  <clipPath id=\"clip231\">\n",
       "    <rect x=\"480\" y=\"0\" width=\"1681\" height=\"1600\"/>\n",
       "  </clipPath>\n",
       "</defs>\n",
       "<path clip-path=\"url(#clip230)\" d=\"\n",
       "M447.244 1552.76 L1952.76 1552.76 L1952.76 47.2441 L447.244 47.2441  Z\n",
       "  \" fill=\"#ffffff\" fill-rule=\"evenodd\" fill-opacity=\"1\"/>\n",
       "<defs>\n",
       "  <clipPath id=\"clip232\">\n",
       "    <rect x=\"447\" y=\"47\" width=\"1507\" height=\"1507\"/>\n",
       "  </clipPath>\n",
       "</defs>\n",
       "<polyline clip-path=\"url(#clip232)\" style=\"stroke:#000000; stroke-linecap:butt; stroke-linejoin:round; stroke-width:4; stroke-opacity:1; fill:none\" points=\"\n",
       "  1163.17,262.317 1163.09,271.3 1162.86,280.468 1162.49,289.806 1162,299.301 1161.38,308.939 1160.66,318.707 1159.84,328.591 1158.95,338.577 1157.97,348.652 \n",
       "  1156.94,358.802 1155.86,369.013 1154.74,379.272 1153.59,389.565 1152.42,399.879 1151.25,410.2 1150.08,420.513 1148.93,430.807 1147.81,441.066 1146.73,451.277 \n",
       "  1145.69,461.427 1144.72,471.502 1143.82,481.488 1143.01,491.372 1142.29,501.14 1141.67,510.778 1141.17,520.273 1140.81,529.611 1140.58,538.778 1140.5,547.762 \n",
       "  \n",
       "  \"/>\n",
       "<polyline clip-path=\"url(#clip232)\" style=\"stroke:#000000; stroke-linecap:butt; stroke-linejoin:round; stroke-width:4; stroke-opacity:1; fill:none\" points=\"\n",
       "  1140.5,547.762 1140.87,555.598 1141.94,563.448 1143.66,571.309 1145.98,579.181 1148.85,587.064 1152.22,594.955 1156.03,602.855 1160.22,610.761 1164.76,618.674 \n",
       "  1169.58,626.592 1174.64,634.515 1179.88,642.44 1185.25,650.369 1190.7,658.298 1196.17,666.228 1201.62,674.158 1206.99,682.086 1212.23,690.011 1217.29,697.934 \n",
       "  1222.11,705.852 1226.65,713.765 1230.85,721.672 1234.66,729.571 1238.02,737.462 1240.89,745.345 1243.21,753.217 1244.94,761.079 1246.01,768.928 1246.38,776.765 \n",
       "  \n",
       "  \"/>\n",
       "<polyline clip-path=\"url(#clip232)\" style=\"stroke:#000000; stroke-linecap:butt; stroke-linejoin:round; stroke-width:4; stroke-opacity:1; fill:none\" points=\"\n",
       "  1246.38,776.765 1246.28,786.376 1246.01,796.182 1245.56,806.17 1244.96,816.324 1244.22,826.629 1243.35,837.073 1242.36,847.639 1241.28,858.314 1240.1,869.083 \n",
       "  1238.86,879.931 1237.55,890.845 1236.2,901.809 1234.81,912.81 1233.4,923.832 1231.98,934.861 1230.57,945.883 1229.19,956.884 1227.83,967.848 1226.52,978.762 \n",
       "  1225.28,989.61 1224.1,1000.38 1223.02,1011.05 1222.03,1021.62 1221.16,1032.06 1220.42,1042.37 1219.82,1052.52 1219.38,1062.51 1219.1,1072.32 1219,1081.93 \n",
       "  \n",
       "  \"/>\n",
       "<polyline clip-path=\"url(#clip232)\" style=\"stroke:#000000; stroke-linecap:butt; stroke-linejoin:round; stroke-width:4; stroke-opacity:1; fill:none\" points=\"\n",
       "  1219,1081.93 1217.94,1091.08 1214.84,1099.62 1209.85,1107.59 1203.14,1115.05 1194.84,1122.04 1185.12,1128.6 1174.11,1134.78 1161.97,1140.62 1148.86,1146.16 \n",
       "  1134.91,1151.46 1120.29,1156.56 1105.14,1161.49 1089.62,1166.32 1073.87,1171.08 1058.04,1175.81 1042.29,1180.57 1026.77,1185.4 1011.62,1190.33 996.997,1195.43 \n",
       "  983.053,1200.73 969.938,1206.27 957.801,1212.11 946.794,1218.29 937.068,1224.85 928.772,1231.84 922.057,1239.29 917.075,1247.27 913.975,1255.81 912.908,1264.96 \n",
       "  \n",
       "  \"/>\n",
       "<polyline clip-path=\"url(#clip232)\" style=\"stroke:#000000; stroke-linecap:butt; stroke-linejoin:round; stroke-width:4; stroke-opacity:1; fill:none\" points=\"\n",
       "  1219,1081.93 1220.81,1094.71 1226.06,1106.64 1234.51,1117.79 1245.88,1128.22 1259.94,1137.98 1276.42,1147.14 1295.08,1155.77 1315.64,1163.93 1337.86,1171.68 \n",
       "  1361.49,1179.09 1386.27,1186.21 1411.94,1193.11 1438.24,1199.85 1464.93,1206.5 1491.75,1213.11 1518.44,1219.76 1544.75,1226.51 1570.42,1233.41 1595.19,1240.53 \n",
       "  1618.82,1247.93 1641.05,1255.68 1661.61,1263.84 1680.26,1272.47 1696.74,1281.63 1710.8,1291.4 1722.18,1301.82 1730.62,1312.97 1735.88,1324.9 1737.68,1337.68 \n",
       "  \n",
       "  \"/>\n",
       "<polyline clip-path=\"url(#clip232)\" style=\"stroke:#000000; stroke-linecap:butt; stroke-linejoin:round; stroke-width:4; stroke-opacity:1; fill:none\" points=\"\n",
       "  1219,1081.93 1219.85,1091.62 1222.3,1100.8 1226.24,1109.5 1231.55,1117.76 1238.11,1125.61 1245.8,1133.1 1254.5,1140.27 1264.09,1147.14 1274.46,1153.77 \n",
       "  1285.49,1160.19 1297.05,1166.43 1309.03,1172.54 1321.3,1178.55 1333.76,1184.51 1346.27,1190.45 1358.72,1196.4 1371,1202.42 1382.98,1208.53 1394.54,1214.77 \n",
       "  1405.56,1221.19 1415.93,1227.82 1425.53,1234.69 1434.23,1241.86 1441.92,1249.35 1448.48,1257.2 1453.79,1265.46 1457.73,1274.16 1460.18,1283.34 1461.02,1293.03 \n",
       "  \n",
       "  \"/>\n",
       "<polyline clip-path=\"url(#clip232)\" style=\"stroke:#000000; stroke-linecap:butt; stroke-linejoin:round; stroke-width:4; stroke-opacity:1; fill:none\" points=\"\n",
       "  1219,1081.93 1217.06,1093.6 1211.43,1104.5 1202.36,1114.67 1190.15,1124.19 1175.06,1133.1 1157.38,1141.47 1137.36,1149.35 1115.29,1156.8 1091.43,1163.88 \n",
       "  1066.07,1170.64 1039.48,1177.14 1011.93,1183.44 983.698,1189.6 955.052,1195.67 926.269,1201.71 897.623,1207.78 869.388,1213.93 841.838,1220.23 815.247,1226.74 \n",
       "  789.888,1233.49 766.035,1240.57 743.963,1248.02 723.946,1255.9 706.256,1264.27 691.168,1273.18 678.957,1282.7 669.895,1292.88 664.257,1303.77 662.317,1315.44 \n",
       "  \n",
       "  \"/>\n",
       "<path clip-path=\"url(#clip232)\" d=\"\n",
       "M1191.14 262.317 L1177.15 238.095 L1149.19 238.095 L1135.2 262.317 L1149.19 286.539 L1177.15 286.539 L1191.14 262.317 L1191.14 262.317  Z\n",
       "  \" fill=\"#009af9\" fill-rule=\"evenodd\" fill-opacity=\"1\"/>\n",
       "<polyline clip-path=\"url(#clip232)\" style=\"stroke:#000000; stroke-linecap:butt; stroke-linejoin:round; stroke-width:4; stroke-opacity:1; fill:none\" points=\"\n",
       "  1191.14,262.317 1177.15,238.095 1149.19,238.095 1135.2,262.317 1149.19,286.539 1177.15,286.539 1191.14,262.317 \n",
       "  \"/>\n",
       "<path clip-path=\"url(#clip232)\" d=\"\n",
       "M1189.19 547.762 L1164.85 505.589 L1116.15 505.589 L1091.8 547.762 L1116.15 589.934 L1164.85 589.934 L1189.19 547.762 L1189.19 547.762  Z\n",
       "  \" fill=\"#009af9\" fill-rule=\"evenodd\" fill-opacity=\"1\"/>\n",
       "<polyline clip-path=\"url(#clip232)\" style=\"stroke:#000000; stroke-linecap:butt; stroke-linejoin:round; stroke-width:4; stroke-opacity:1; fill:none\" points=\"\n",
       "  1189.19,547.762 1164.85,505.589 1116.15,505.589 1091.8,547.762 1116.15,589.934 1164.85,589.934 1189.19,547.762 \n",
       "  \"/>\n",
       "<path clip-path=\"url(#clip232)\" d=\"\n",
       "M1281.59 776.765 L1263.98 746.275 L1228.77 746.275 L1211.17 776.765 L1228.77 807.255 L1263.98 807.255 L1281.59 776.765 L1281.59 776.765  Z\n",
       "  \" fill=\"#009af9\" fill-rule=\"evenodd\" fill-opacity=\"1\"/>\n",
       "<polyline clip-path=\"url(#clip232)\" style=\"stroke:#000000; stroke-linecap:butt; stroke-linejoin:round; stroke-width:4; stroke-opacity:1; fill:none\" points=\"\n",
       "  1281.59,776.765 1263.98,746.275 1228.77,746.275 1211.17,776.765 1228.77,807.255 1263.98,807.255 1281.59,776.765 \n",
       "  \"/>\n",
       "<path clip-path=\"url(#clip232)\" d=\"\n",
       "M1309.4 1081.93 L1264.2 1003.65 L1173.81 1003.65 L1128.61 1081.93 L1173.81 1160.21 L1264.2 1160.21 L1309.4 1081.93 L1309.4 1081.93  Z\n",
       "  \" fill=\"#009af9\" fill-rule=\"evenodd\" fill-opacity=\"1\"/>\n",
       "<polyline clip-path=\"url(#clip232)\" style=\"stroke:#000000; stroke-linecap:butt; stroke-linejoin:round; stroke-width:4; stroke-opacity:1; fill:none\" points=\"\n",
       "  1309.4,1081.93 1264.2,1003.65 1173.81,1003.65 1128.61,1081.93 1173.81,1160.21 1264.2,1160.21 1309.4,1081.93 \n",
       "  \"/>\n",
       "<path clip-path=\"url(#clip232)\" d=\"\n",
       "M974.207 1264.96 L943.557 1211.87 L882.258 1211.87 L851.609 1264.96 L882.258 1318.05 L943.557 1318.05 L974.207 1264.96 L974.207 1264.96  Z\n",
       "  \" fill=\"#009af9\" fill-rule=\"evenodd\" fill-opacity=\"1\"/>\n",
       "<polyline clip-path=\"url(#clip232)\" style=\"stroke:#000000; stroke-linecap:butt; stroke-linejoin:round; stroke-width:4; stroke-opacity:1; fill:none\" points=\"\n",
       "  974.207,1264.96 943.557,1211.87 882.258,1211.87 851.609,1264.96 882.258,1318.05 943.557,1318.05 974.207,1264.96 \n",
       "  \"/>\n",
       "<path clip-path=\"url(#clip232)\" d=\"\n",
       "M1792.77 1337.68 L1765.23 1289.98 L1710.14 1289.98 L1682.59 1337.68 L1710.14 1385.39 L1765.23 1385.39 L1792.77 1337.68 L1792.77 1337.68  Z\n",
       "  \" fill=\"#009af9\" fill-rule=\"evenodd\" fill-opacity=\"1\"/>\n",
       "<polyline clip-path=\"url(#clip232)\" style=\"stroke:#000000; stroke-linecap:butt; stroke-linejoin:round; stroke-width:4; stroke-opacity:1; fill:none\" points=\"\n",
       "  1792.77,1337.68 1765.23,1289.98 1710.14,1289.98 1682.59,1337.68 1710.14,1385.39 1765.23,1385.39 1792.77,1337.68 \n",
       "  \"/>\n",
       "<path clip-path=\"url(#clip232)\" d=\"\n",
       "M1516.11 1293.03 L1488.57 1245.32 L1433.48 1245.32 L1405.93 1293.03 L1433.48 1340.74 L1488.57 1340.74 L1516.11 1293.03 L1516.11 1293.03  Z\n",
       "  \" fill=\"#009af9\" fill-rule=\"evenodd\" fill-opacity=\"1\"/>\n",
       "<polyline clip-path=\"url(#clip232)\" style=\"stroke:#000000; stroke-linecap:butt; stroke-linejoin:round; stroke-width:4; stroke-opacity:1; fill:none\" points=\"\n",
       "  1516.11,1293.03 1488.57,1245.32 1433.48,1245.32 1405.93,1293.03 1433.48,1340.74 1488.57,1340.74 1516.11,1293.03 \n",
       "  \"/>\n",
       "<path clip-path=\"url(#clip232)\" d=\"\n",
       "M717.405 1315.44 L689.861 1267.74 L634.773 1267.74 L607.229 1315.44 L634.773 1363.15 L689.861 1363.15 L717.405 1315.44 L717.405 1315.44  Z\n",
       "  \" fill=\"#009af9\" fill-rule=\"evenodd\" fill-opacity=\"1\"/>\n",
       "<polyline clip-path=\"url(#clip232)\" style=\"stroke:#000000; stroke-linecap:butt; stroke-linejoin:round; stroke-width:4; stroke-opacity:1; fill:none\" points=\"\n",
       "  717.405,1315.44 689.861,1267.74 634.773,1267.74 607.229,1315.44 634.773,1363.15 689.861,1363.15 717.405,1315.44 \n",
       "  \"/>\n",
       "<circle clip-path=\"url(#clip232)\" style=\"fill:#009af9; stroke:none; fill-opacity:1\" cx=\"1163.17\" cy=\"262.317\" r=\"2\"/>\n",
       "<circle clip-path=\"url(#clip232)\" style=\"fill:#009af9; stroke:none; fill-opacity:1\" cx=\"1140.5\" cy=\"547.762\" r=\"2\"/>\n",
       "<circle clip-path=\"url(#clip232)\" style=\"fill:#009af9; stroke:none; fill-opacity:1\" cx=\"1246.38\" cy=\"776.765\" r=\"2\"/>\n",
       "<circle clip-path=\"url(#clip232)\" style=\"fill:#009af9; stroke:none; fill-opacity:1\" cx=\"1219\" cy=\"1081.93\" r=\"2\"/>\n",
       "<circle clip-path=\"url(#clip232)\" style=\"fill:#009af9; stroke:none; fill-opacity:1\" cx=\"912.908\" cy=\"1264.96\" r=\"2\"/>\n",
       "<circle clip-path=\"url(#clip232)\" style=\"fill:#009af9; stroke:none; fill-opacity:1\" cx=\"1737.68\" cy=\"1337.68\" r=\"2\"/>\n",
       "<circle clip-path=\"url(#clip232)\" style=\"fill:#009af9; stroke:none; fill-opacity:1\" cx=\"1461.02\" cy=\"1293.03\" r=\"2\"/>\n",
       "<circle clip-path=\"url(#clip232)\" style=\"fill:#009af9; stroke:none; fill-opacity:1\" cx=\"662.317\" cy=\"1315.44\" r=\"2\"/>\n",
       "<path clip-path=\"url(#clip230)\" d=\"M1148.9 255.98 L1145.73 264.58 L1152.08 264.58 L1148.9 255.98 M1147.58 253.677 L1150.23 253.677 L1156.82 270.957 L1154.39 270.957 L1152.81 266.524 L1145.02 266.524 L1143.45 270.957 L1140.98 270.957 L1147.58 253.677 Z\" fill=\"#000000\" fill-rule=\"evenodd\" fill-opacity=\"1\" /><path clip-path=\"url(#clip230)\" d=\"M1170.02 263.133 L1170.02 270.957 L1167.89 270.957 L1167.89 263.203 Q1167.89 261.362 1167.17 260.448 Q1166.46 259.534 1165.02 259.534 Q1163.3 259.534 1162.3 260.633 Q1161.31 261.733 1161.31 263.631 L1161.31 270.957 L1159.17 270.957 L1159.17 257.994 L1161.31 257.994 L1161.31 260.008 Q1162.07 258.839 1163.1 258.261 Q1164.14 257.682 1165.5 257.682 Q1167.73 257.682 1168.88 259.071 Q1170.02 260.448 1170.02 263.133 Z\" fill=\"#000000\" fill-rule=\"evenodd\" fill-opacity=\"1\" /><path clip-path=\"url(#clip230)\" d=\"M1179.66 272.161 Q1178.76 274.476 1177.9 275.182 Q1177.05 275.888 1175.61 275.888 L1173.91 275.888 L1173.91 274.105 L1175.16 274.105 Q1176.04 274.105 1176.53 273.689 Q1177.01 273.272 1177.6 271.721 L1177.98 270.749 L1172.74 257.994 L1175 257.994 L1179.05 268.133 L1183.1 257.994 L1185.36 257.994 L1179.66 272.161 Z\" fill=\"#000000\" fill-rule=\"evenodd\" fill-opacity=\"1\" /><path clip-path=\"url(#clip230)\" d=\"M1094.05 539.122 L1097.2 539.122 L1104.86 553.577 L1104.86 539.122 L1107.13 539.122 L1107.13 556.402 L1103.98 556.402 L1096.32 541.946 L1096.32 556.402 L1094.05 556.402 L1094.05 539.122 Z\" fill=\"#000000\" fill-rule=\"evenodd\" fill-opacity=\"1\" /><path clip-path=\"url(#clip230)\" d=\"M1111.47 551.286 L1111.47 543.439 L1113.6 543.439 L1113.6 551.205 Q1113.6 553.045 1114.32 553.971 Q1115.03 554.885 1116.47 554.885 Q1118.19 554.885 1119.19 553.786 Q1120.2 552.686 1120.2 550.788 L1120.2 543.439 L1122.33 543.439 L1122.33 556.402 L1120.2 556.402 L1120.2 554.411 Q1119.42 555.591 1118.39 556.17 Q1117.37 556.737 1116.02 556.737 Q1113.78 556.737 1112.63 555.348 Q1111.47 553.959 1111.47 551.286 M1116.83 543.126 L1116.83 543.126 Z\" fill=\"#000000\" fill-rule=\"evenodd\" fill-opacity=\"1\" /><path clip-path=\"url(#clip230)\" d=\"M1136.81 545.927 Q1137.6 544.492 1138.71 543.809 Q1139.83 543.126 1141.33 543.126 Q1143.36 543.126 1144.46 544.55 Q1145.56 545.962 1145.56 548.578 L1145.56 556.402 L1143.41 556.402 L1143.41 548.647 Q1143.41 546.784 1142.75 545.881 Q1142.09 544.978 1140.74 544.978 Q1139.09 544.978 1138.12 546.078 Q1137.16 547.177 1137.16 549.075 L1137.16 556.402 L1135.02 556.402 L1135.02 548.647 Q1135.02 546.772 1134.36 545.881 Q1133.7 544.978 1132.33 544.978 Q1130.69 544.978 1129.73 546.089 Q1128.77 547.189 1128.77 549.075 L1128.77 556.402 L1126.63 556.402 L1126.63 543.439 L1128.77 543.439 L1128.77 545.453 Q1129.5 544.26 1130.52 543.693 Q1131.54 543.126 1132.94 543.126 Q1134.35 543.126 1135.34 543.844 Q1136.33 544.561 1136.81 545.927 Z\" fill=\"#000000\" fill-rule=\"evenodd\" fill-opacity=\"1\" /><path clip-path=\"url(#clip230)\" d=\"M1159.11 549.932 Q1159.11 547.582 1158.14 546.251 Q1157.18 544.909 1155.49 544.909 Q1153.8 544.909 1152.82 546.251 Q1151.86 547.582 1151.86 549.932 Q1151.86 552.281 1152.82 553.624 Q1153.8 554.955 1155.49 554.955 Q1157.18 554.955 1158.14 553.624 Q1159.11 552.281 1159.11 549.932 M1151.86 545.406 Q1152.53 544.249 1153.55 543.693 Q1154.58 543.126 1156.01 543.126 Q1158.37 543.126 1159.84 545.001 Q1161.32 546.876 1161.32 549.932 Q1161.32 552.987 1159.84 554.862 Q1158.37 556.737 1156.01 556.737 Q1154.58 556.737 1153.55 556.182 Q1152.53 555.615 1151.86 554.457 L1151.86 556.402 L1149.72 556.402 L1149.72 538.392 L1151.86 538.392 L1151.86 545.406 Z\" fill=\"#000000\" fill-rule=\"evenodd\" fill-opacity=\"1\" /><path clip-path=\"url(#clip230)\" d=\"M1175.94 549.388 L1175.94 550.429 L1166.15 550.429 Q1166.28 552.628 1167.46 553.786 Q1168.66 554.932 1170.77 554.932 Q1172 554.932 1173.15 554.631 Q1174.3 554.33 1175.44 553.728 L1175.44 555.742 Q1174.29 556.228 1173.09 556.483 Q1171.89 556.737 1170.65 556.737 Q1167.55 556.737 1165.73 554.932 Q1163.92 553.126 1163.92 550.047 Q1163.92 546.865 1165.64 545.001 Q1167.36 543.126 1170.28 543.126 Q1172.89 543.126 1174.41 544.816 Q1175.94 546.494 1175.94 549.388 M1173.81 548.763 Q1173.78 547.015 1172.82 545.973 Q1171.87 544.932 1170.3 544.932 Q1168.52 544.932 1167.44 545.939 Q1166.38 546.946 1166.21 548.774 L1173.81 548.763 Z\" fill=\"#000000\" fill-rule=\"evenodd\" fill-opacity=\"1\" /><path clip-path=\"url(#clip230)\" d=\"M1186.94 545.429 Q1186.58 545.221 1186.16 545.128 Q1185.74 545.024 1185.23 545.024 Q1183.43 545.024 1182.45 546.205 Q1181.49 547.374 1181.49 549.573 L1181.49 556.402 L1179.35 556.402 L1179.35 543.439 L1181.49 543.439 L1181.49 545.453 Q1182.16 544.272 1183.24 543.705 Q1184.32 543.126 1185.86 543.126 Q1186.08 543.126 1186.34 543.161 Q1186.61 543.184 1186.93 543.242 L1186.94 545.429 Z\" fill=\"#000000\" fill-rule=\"evenodd\" fill-opacity=\"1\" /><path clip-path=\"url(#clip230)\" d=\"M1231.3 777.303 Q1232.05 777.558 1232.76 778.391 Q1233.47 779.224 1234.19 780.682 L1236.56 785.405 L1234.05 785.405 L1231.84 780.972 Q1230.98 779.236 1230.17 778.669 Q1229.38 778.101 1227.99 778.101 L1225.44 778.101 L1225.44 785.405 L1223.1 785.405 L1223.1 768.125 L1228.38 768.125 Q1231.34 768.125 1232.8 769.363 Q1234.26 770.602 1234.26 773.102 Q1234.26 774.733 1233.5 775.81 Q1232.74 776.886 1231.3 777.303 M1225.44 770.046 L1225.44 776.18 L1228.38 776.18 Q1230.07 776.18 1230.93 775.405 Q1231.79 774.618 1231.79 773.102 Q1231.79 771.585 1230.93 770.821 Q1230.07 770.046 1228.38 770.046 L1225.44 770.046 Z\" fill=\"#000000\" fill-rule=\"evenodd\" fill-opacity=\"1\" /><path clip-path=\"url(#clip230)\" d=\"M1249.5 778.391 L1249.5 779.432 L1239.71 779.432 Q1239.85 781.632 1241.03 782.789 Q1242.22 783.935 1244.34 783.935 Q1245.57 783.935 1246.71 783.634 Q1247.87 783.333 1249.01 782.731 L1249.01 784.745 Q1247.86 785.231 1246.66 785.486 Q1245.45 785.74 1244.21 785.74 Q1241.11 785.74 1239.29 783.935 Q1237.49 782.129 1237.49 779.051 Q1237.49 775.868 1239.2 774.004 Q1240.93 772.129 1243.84 772.129 Q1246.46 772.129 1247.98 773.819 Q1249.5 775.497 1249.5 778.391 M1247.37 777.766 Q1247.35 776.018 1246.39 774.977 Q1245.44 773.935 1243.87 773.935 Q1242.08 773.935 1241.01 774.942 Q1239.94 775.949 1239.78 777.777 L1247.37 777.766 Z\" fill=\"#000000\" fill-rule=\"evenodd\" fill-opacity=\"1\" /><path clip-path=\"url(#clip230)\" d=\"M1258.89 778.889 Q1256.31 778.889 1255.31 779.479 Q1254.32 780.069 1254.32 781.493 Q1254.32 782.627 1255.06 783.298 Q1255.81 783.958 1257.1 783.958 Q1258.87 783.958 1259.93 782.708 Q1261.01 781.446 1261.01 779.363 L1261.01 778.889 L1258.89 778.889 M1263.14 778.009 L1263.14 785.405 L1261.01 785.405 L1261.01 783.437 Q1260.28 784.618 1259.19 785.185 Q1258.1 785.74 1256.53 785.74 Q1254.54 785.74 1253.36 784.629 Q1252.19 783.507 1252.19 781.632 Q1252.19 779.444 1253.65 778.333 Q1255.12 777.222 1258.02 777.222 L1261.01 777.222 L1261.01 777.014 Q1261.01 775.544 1260.04 774.745 Q1259.07 773.935 1257.33 773.935 Q1256.22 773.935 1255.16 774.201 Q1254.11 774.467 1253.14 775 L1253.14 773.032 Q1254.31 772.581 1255.41 772.361 Q1256.51 772.129 1257.55 772.129 Q1260.36 772.129 1261.75 773.588 Q1263.14 775.046 1263.14 778.009 Z\" fill=\"#000000\" fill-rule=\"evenodd\" fill-opacity=\"1\" /><path clip-path=\"url(#clip230)\" d=\"M1267.52 767.396 L1269.65 767.396 L1269.65 785.405 L1267.52 785.405 L1267.52 767.396 Z\" fill=\"#000000\" fill-rule=\"evenodd\" fill-opacity=\"1\" /><path clip-path=\"url(#clip230)\" d=\"M1148.27 1075.59 L1145.1 1084.19 L1151.46 1084.19 L1148.27 1075.59 M1146.96 1073.29 L1149.61 1073.29 L1156.19 1090.57 L1153.76 1090.57 L1152.19 1086.14 L1144.4 1086.14 L1142.82 1090.57 L1140.36 1090.57 L1146.96 1073.29 Z\" fill=\"#000000\" fill-rule=\"evenodd\" fill-opacity=\"1\" /><path clip-path=\"url(#clip230)\" d=\"M1167.93 1084.1 Q1167.93 1081.75 1166.96 1080.42 Q1165.99 1079.08 1164.3 1079.08 Q1162.61 1079.08 1161.64 1080.42 Q1160.68 1081.75 1160.68 1084.1 Q1160.68 1086.45 1161.64 1087.79 Q1162.61 1089.12 1164.3 1089.12 Q1165.99 1089.12 1166.96 1087.79 Q1167.93 1086.45 1167.93 1084.1 M1160.68 1079.57 Q1161.35 1078.42 1162.37 1077.86 Q1163.4 1077.29 1164.83 1077.29 Q1167.19 1077.29 1168.66 1079.17 Q1170.14 1081.04 1170.14 1084.1 Q1170.14 1087.15 1168.66 1089.03 Q1167.19 1090.9 1164.83 1090.9 Q1163.4 1090.9 1162.37 1090.35 Q1161.35 1089.78 1160.68 1088.62 L1160.68 1090.57 L1158.54 1090.57 L1158.54 1072.56 L1160.68 1072.56 L1160.68 1079.57 Z\" fill=\"#000000\" fill-rule=\"evenodd\" fill-opacity=\"1\" /><path clip-path=\"url(#clip230)\" d=\"M1181.93 1077.99 L1181.93 1080 Q1181.03 1079.54 1180.06 1079.31 Q1179.08 1079.08 1178.04 1079.08 Q1176.46 1079.08 1175.66 1079.56 Q1174.87 1080.05 1174.87 1081.02 Q1174.87 1081.76 1175.44 1082.19 Q1176.01 1082.61 1177.72 1082.99 L1178.45 1083.15 Q1180.72 1083.64 1181.67 1084.53 Q1182.63 1085.41 1182.63 1086.99 Q1182.63 1088.8 1181.19 1089.85 Q1179.77 1090.9 1177.27 1090.9 Q1176.23 1090.9 1175.09 1090.7 Q1173.97 1090.5 1172.72 1090.09 L1172.72 1087.89 Q1173.9 1088.51 1175.05 1088.82 Q1176.19 1089.12 1177.31 1089.12 Q1178.82 1089.12 1179.63 1088.61 Q1180.44 1088.09 1180.44 1087.15 Q1180.44 1086.29 1179.85 1085.82 Q1179.27 1085.36 1177.29 1084.93 L1176.55 1084.76 Q1174.57 1084.34 1173.69 1083.48 Q1172.81 1082.62 1172.81 1081.11 Q1172.81 1079.28 1174.11 1078.29 Q1175.4 1077.29 1177.79 1077.29 Q1178.97 1077.29 1180.01 1077.47 Q1181.05 1077.64 1181.93 1077.99 Z\" fill=\"#000000\" fill-rule=\"evenodd\" fill-opacity=\"1\" /><path clip-path=\"url(#clip230)\" d=\"M1188.12 1073.92 L1188.12 1077.61 L1192.51 1077.61 L1192.51 1079.26 L1188.12 1079.26 L1188.12 1086.3 Q1188.12 1087.88 1188.55 1088.33 Q1188.99 1088.79 1190.32 1088.79 L1192.51 1088.79 L1192.51 1090.57 L1190.32 1090.57 Q1187.86 1090.57 1186.92 1089.65 Q1185.98 1088.73 1185.98 1086.3 L1185.98 1079.26 L1184.42 1079.26 L1184.42 1077.61 L1185.98 1077.61 L1185.98 1073.92 L1188.12 1073.92 Z\" fill=\"#000000\" fill-rule=\"evenodd\" fill-opacity=\"1\" /><path clip-path=\"url(#clip230)\" d=\"M1202.82 1079.6 Q1202.46 1079.39 1202.04 1079.3 Q1201.62 1079.19 1201.11 1079.19 Q1199.3 1079.19 1198.33 1080.37 Q1197.37 1081.54 1197.37 1083.74 L1197.37 1090.57 L1195.23 1090.57 L1195.23 1077.61 L1197.37 1077.61 L1197.37 1079.62 Q1198.04 1078.44 1199.12 1077.87 Q1200.2 1077.29 1201.74 1077.29 Q1201.96 1077.29 1202.22 1077.33 Q1202.49 1077.35 1202.81 1077.41 L1202.82 1079.6 Z\" fill=\"#000000\" fill-rule=\"evenodd\" fill-opacity=\"1\" /><path clip-path=\"url(#clip230)\" d=\"M1210.95 1084.05 Q1208.37 1084.05 1207.37 1084.64 Q1206.38 1085.23 1206.38 1086.66 Q1206.38 1087.79 1207.12 1088.46 Q1207.87 1089.12 1209.15 1089.12 Q1210.92 1089.12 1211.99 1087.87 Q1213.07 1086.61 1213.07 1084.53 L1213.07 1084.05 L1210.95 1084.05 M1215.2 1083.17 L1215.2 1090.57 L1213.07 1090.57 L1213.07 1088.6 Q1212.34 1089.78 1211.25 1090.35 Q1210.16 1090.9 1208.59 1090.9 Q1206.6 1090.9 1205.42 1089.79 Q1204.25 1088.67 1204.25 1086.8 Q1204.25 1084.61 1205.71 1083.5 Q1207.17 1082.39 1210.08 1082.39 L1213.07 1082.39 L1213.07 1082.18 Q1213.07 1080.71 1212.09 1079.91 Q1211.13 1079.1 1209.39 1079.1 Q1208.27 1079.1 1207.22 1079.36 Q1206.17 1079.63 1205.2 1080.16 L1205.2 1078.2 Q1206.36 1077.74 1207.46 1077.52 Q1208.56 1077.29 1209.61 1077.29 Q1212.42 1077.29 1213.81 1078.75 Q1215.2 1080.21 1215.2 1083.17 Z\" fill=\"#000000\" fill-rule=\"evenodd\" fill-opacity=\"1\" /><path clip-path=\"url(#clip230)\" d=\"M1228.91 1078.1 L1228.91 1080.09 Q1228.01 1079.6 1227.09 1079.35 Q1226.19 1079.1 1225.27 1079.1 Q1223.19 1079.1 1222.05 1080.42 Q1220.9 1081.73 1220.9 1084.1 Q1220.9 1086.47 1222.05 1087.79 Q1223.19 1089.1 1225.27 1089.1 Q1226.19 1089.1 1227.09 1088.86 Q1228.01 1088.6 1228.91 1088.1 L1228.91 1090.07 Q1228.02 1090.49 1227.06 1090.7 Q1226.11 1090.9 1225.03 1090.9 Q1222.11 1090.9 1220.38 1089.06 Q1218.66 1087.22 1218.66 1084.1 Q1218.66 1080.93 1220.39 1079.11 Q1222.14 1077.29 1225.17 1077.29 Q1226.16 1077.29 1227.09 1077.5 Q1228.03 1077.7 1228.91 1078.1 Z\" fill=\"#000000\" fill-rule=\"evenodd\" fill-opacity=\"1\" /><path clip-path=\"url(#clip230)\" d=\"M1234.72 1073.92 L1234.72 1077.61 L1239.11 1077.61 L1239.11 1079.26 L1234.72 1079.26 L1234.72 1086.3 Q1234.72 1087.88 1235.15 1088.33 Q1235.59 1088.79 1236.92 1088.79 L1239.11 1088.79 L1239.11 1090.57 L1236.92 1090.57 Q1234.45 1090.57 1233.52 1089.65 Q1232.58 1088.73 1232.58 1086.3 L1232.58 1079.26 L1231.02 1079.26 L1231.02 1077.61 L1232.58 1077.61 L1232.58 1073.92 L1234.72 1073.92 Z\" fill=\"#000000\" fill-rule=\"evenodd\" fill-opacity=\"1\" /><path clip-path=\"url(#clip230)\" d=\"M1242 1073.29 L1251.93 1073.29 L1251.93 1075.26 L1244.34 1075.26 L1244.34 1080.35 L1251.19 1080.35 L1251.19 1082.32 L1244.34 1082.32 L1244.34 1090.57 L1242 1090.57 L1242 1073.29 Z\" fill=\"#000000\" fill-rule=\"evenodd\" fill-opacity=\"1\" /><path clip-path=\"url(#clip230)\" d=\"M1255.54 1072.56 L1257.67 1072.56 L1257.67 1090.57 L1255.54 1090.57 L1255.54 1072.56 Z\" fill=\"#000000\" fill-rule=\"evenodd\" fill-opacity=\"1\" /><path clip-path=\"url(#clip230)\" d=\"M1267.15 1079.1 Q1265.44 1079.1 1264.44 1080.44 Q1263.45 1081.77 1263.45 1084.1 Q1263.45 1086.42 1264.43 1087.77 Q1265.43 1089.1 1267.15 1089.1 Q1268.85 1089.1 1269.85 1087.76 Q1270.84 1086.41 1270.84 1084.1 Q1270.84 1081.8 1269.85 1080.45 Q1268.85 1079.1 1267.15 1079.1 M1267.15 1077.29 Q1269.93 1077.29 1271.51 1079.1 Q1273.1 1080.9 1273.1 1084.1 Q1273.1 1087.28 1271.51 1089.1 Q1269.93 1090.9 1267.15 1090.9 Q1264.36 1090.9 1262.78 1089.1 Q1261.2 1087.28 1261.2 1084.1 Q1261.2 1080.9 1262.78 1079.1 Q1264.36 1077.29 1267.15 1077.29 Z\" fill=\"#000000\" fill-rule=\"evenodd\" fill-opacity=\"1\" /><path clip-path=\"url(#clip230)\" d=\"M1282.52 1084.05 Q1279.94 1084.05 1278.95 1084.64 Q1277.95 1085.23 1277.95 1086.66 Q1277.95 1087.79 1278.69 1088.46 Q1279.44 1089.12 1280.73 1089.12 Q1282.5 1089.12 1283.56 1087.87 Q1284.64 1086.61 1284.64 1084.53 L1284.64 1084.05 L1282.52 1084.05 M1286.77 1083.17 L1286.77 1090.57 L1284.64 1090.57 L1284.64 1088.6 Q1283.91 1089.78 1282.82 1090.35 Q1281.73 1090.9 1280.16 1090.9 Q1278.17 1090.9 1276.99 1089.79 Q1275.82 1088.67 1275.82 1086.8 Q1275.82 1084.61 1277.28 1083.5 Q1278.75 1082.39 1281.65 1082.39 L1284.64 1082.39 L1284.64 1082.18 Q1284.64 1080.71 1283.67 1079.91 Q1282.71 1079.1 1280.96 1079.1 Q1279.85 1079.1 1278.79 1079.36 Q1277.74 1079.63 1276.77 1080.16 L1276.77 1078.2 Q1277.94 1077.74 1279.04 1077.52 Q1280.14 1077.29 1281.18 1077.29 Q1283.99 1077.29 1285.38 1078.75 Q1286.77 1080.21 1286.77 1083.17 Z\" fill=\"#000000\" fill-rule=\"evenodd\" fill-opacity=\"1\" /><path clip-path=\"url(#clip230)\" d=\"M1293.26 1073.92 L1293.26 1077.61 L1297.65 1077.61 L1297.65 1079.26 L1293.26 1079.26 L1293.26 1086.3 Q1293.26 1087.88 1293.69 1088.33 Q1294.13 1088.79 1295.46 1088.79 L1297.65 1088.79 L1297.65 1090.57 L1295.46 1090.57 Q1293 1090.57 1292.06 1089.65 Q1291.12 1088.73 1291.12 1086.3 L1291.12 1079.26 L1289.56 1079.26 L1289.56 1077.61 L1291.12 1077.61 L1291.12 1073.92 L1293.26 1073.92 Z\" fill=\"#000000\" fill-rule=\"evenodd\" fill-opacity=\"1\" /><path clip-path=\"url(#clip230)\" d=\"M868.475 1265.35 L868.475 1271.68 L872.225 1271.68 Q874.112 1271.68 875.015 1270.9 Q875.929 1270.12 875.929 1268.51 Q875.929 1266.89 875.015 1266.12 Q874.112 1265.35 872.225 1265.35 L868.475 1265.35 M868.475 1258.24 L868.475 1263.45 L871.936 1263.45 Q873.649 1263.45 874.482 1262.81 Q875.327 1262.17 875.327 1260.85 Q875.327 1259.54 874.482 1258.89 Q873.649 1258.24 871.936 1258.24 L868.475 1258.24 M866.137 1256.32 L872.109 1256.32 Q874.783 1256.32 876.23 1257.43 Q877.677 1258.54 877.677 1260.59 Q877.677 1262.18 876.936 1263.11 Q876.195 1264.05 874.76 1264.28 Q876.484 1264.65 877.434 1265.83 Q878.394 1267 878.394 1268.76 Q878.394 1271.08 876.82 1272.34 Q875.246 1273.6 872.341 1273.6 L866.137 1273.6 L866.137 1256.32 Z\" fill=\"#000000\" fill-rule=\"evenodd\" fill-opacity=\"1\" /><path clip-path=\"url(#clip230)\" d=\"M882.306 1260.64 L884.436 1260.64 L884.436 1273.6 L882.306 1273.6 L882.306 1260.64 M882.306 1255.59 L884.436 1255.59 L884.436 1258.29 L882.306 1258.29 L882.306 1255.59 Z\" fill=\"#000000\" fill-rule=\"evenodd\" fill-opacity=\"1\" /><path clip-path=\"url(#clip230)\" d=\"M897.422 1266.97 Q897.422 1264.65 896.461 1263.38 Q895.512 1262.11 893.788 1262.11 Q892.075 1262.11 891.114 1263.38 Q890.165 1264.65 890.165 1266.97 Q890.165 1269.27 891.114 1270.55 Q892.075 1271.82 893.788 1271.82 Q895.512 1271.82 896.461 1270.55 Q897.422 1269.27 897.422 1266.97 M899.551 1271.99 Q899.551 1275.3 898.082 1276.91 Q896.612 1278.53 893.579 1278.53 Q892.457 1278.53 891.461 1278.36 Q890.466 1278.2 889.528 1277.85 L889.528 1275.78 Q890.466 1276.29 891.38 1276.53 Q892.295 1276.77 893.244 1276.77 Q895.339 1276.77 896.38 1275.67 Q897.422 1274.58 897.422 1272.37 L897.422 1271.32 Q896.762 1272.47 895.732 1273.03 Q894.702 1273.6 893.267 1273.6 Q890.883 1273.6 889.424 1271.78 Q887.966 1269.97 887.966 1266.97 Q887.966 1263.96 889.424 1262.14 Q890.883 1260.33 893.267 1260.33 Q894.702 1260.33 895.732 1260.89 Q896.762 1261.46 897.422 1262.61 L897.422 1260.64 L899.551 1260.64 L899.551 1271.99 Z\" fill=\"#000000\" fill-rule=\"evenodd\" fill-opacity=\"1\" /><path clip-path=\"url(#clip230)\" d=\"M904.031 1256.32 L913.961 1256.32 L913.961 1258.29 L906.369 1258.29 L906.369 1263.38 L913.22 1263.38 L913.22 1265.35 L906.369 1265.35 L906.369 1273.6 L904.031 1273.6 L904.031 1256.32 Z\" fill=\"#000000\" fill-rule=\"evenodd\" fill-opacity=\"1\" /><path clip-path=\"url(#clip230)\" d=\"M917.572 1255.59 L919.702 1255.59 L919.702 1273.6 L917.572 1273.6 L917.572 1255.59 Z\" fill=\"#000000\" fill-rule=\"evenodd\" fill-opacity=\"1\" /><path clip-path=\"url(#clip230)\" d=\"M929.181 1262.13 Q927.468 1262.13 926.473 1263.47 Q925.477 1264.8 925.477 1267.13 Q925.477 1269.46 926.461 1270.8 Q927.456 1272.13 929.181 1272.13 Q930.882 1272.13 931.878 1270.79 Q932.873 1269.45 932.873 1267.13 Q932.873 1264.83 931.878 1263.49 Q930.882 1262.13 929.181 1262.13 M929.181 1260.33 Q931.959 1260.33 933.544 1262.13 Q935.13 1263.94 935.13 1267.13 Q935.13 1270.31 933.544 1272.13 Q931.959 1273.94 929.181 1273.94 Q926.392 1273.94 924.806 1272.13 Q923.232 1270.31 923.232 1267.13 Q923.232 1263.94 924.806 1262.13 Q926.392 1260.33 929.181 1260.33 Z\" fill=\"#000000\" fill-rule=\"evenodd\" fill-opacity=\"1\" /><path clip-path=\"url(#clip230)\" d=\"M944.551 1267.08 Q941.97 1267.08 940.975 1267.68 Q939.979 1268.27 939.979 1269.69 Q939.979 1270.82 940.72 1271.49 Q941.473 1272.15 942.757 1272.15 Q944.528 1272.15 945.593 1270.9 Q946.669 1269.64 946.669 1267.56 L946.669 1267.08 L944.551 1267.08 M948.799 1266.21 L948.799 1273.6 L946.669 1273.6 L946.669 1271.63 Q945.94 1272.81 944.852 1273.38 Q943.764 1273.94 942.19 1273.94 Q940.199 1273.94 939.019 1272.83 Q937.85 1271.7 937.85 1269.83 Q937.85 1267.64 939.308 1266.53 Q940.778 1265.42 943.683 1265.42 L946.669 1265.42 L946.669 1265.21 Q946.669 1263.74 945.697 1262.94 Q944.736 1262.13 942.989 1262.13 Q941.878 1262.13 940.824 1262.4 Q939.771 1262.66 938.799 1263.2 L938.799 1261.23 Q939.968 1260.78 941.067 1260.56 Q942.167 1260.33 943.209 1260.33 Q946.021 1260.33 947.41 1261.78 Q948.799 1263.24 948.799 1266.21 Z\" fill=\"#000000\" fill-rule=\"evenodd\" fill-opacity=\"1\" /><path clip-path=\"url(#clip230)\" d=\"M955.292 1256.96 L955.292 1260.64 L959.678 1260.64 L959.678 1262.29 L955.292 1262.29 L955.292 1269.33 Q955.292 1270.92 955.72 1271.37 Q956.16 1271.82 957.491 1271.82 L959.678 1271.82 L959.678 1273.6 L957.491 1273.6 Q955.026 1273.6 954.088 1272.69 Q953.151 1271.76 953.151 1269.33 L953.151 1262.29 L951.588 1262.29 L951.588 1260.64 L953.151 1260.64 L953.151 1256.96 L955.292 1256.96 Z\" fill=\"#000000\" fill-rule=\"evenodd\" fill-opacity=\"1\" /><path clip-path=\"url(#clip230)\" d=\"M1695.24 1329.04 L1705.17 1329.04 L1705.17 1331.01 L1697.58 1331.01 L1697.58 1336.1 L1704.43 1336.1 L1704.43 1338.07 L1697.58 1338.07 L1697.58 1346.32 L1695.24 1346.32 L1695.24 1329.04 Z\" fill=\"#000000\" fill-rule=\"evenodd\" fill-opacity=\"1\" /><path clip-path=\"url(#clip230)\" d=\"M1708.78 1328.31 L1710.91 1328.31 L1710.91 1346.32 L1708.78 1346.32 L1708.78 1328.31 Z\" fill=\"#000000\" fill-rule=\"evenodd\" fill-opacity=\"1\" /><path clip-path=\"url(#clip230)\" d=\"M1720.39 1334.85 Q1718.68 1334.85 1717.68 1336.2 Q1716.69 1337.53 1716.69 1339.85 Q1716.69 1342.18 1717.67 1343.52 Q1718.67 1344.85 1720.39 1344.85 Q1722.09 1344.85 1723.09 1343.51 Q1724.08 1342.17 1724.08 1339.85 Q1724.08 1337.55 1723.09 1336.21 Q1722.09 1334.85 1720.39 1334.85 M1720.39 1333.05 Q1723.17 1333.05 1724.75 1334.85 Q1726.34 1336.66 1726.34 1339.85 Q1726.34 1343.04 1724.75 1344.85 Q1723.17 1346.66 1720.39 1346.66 Q1717.6 1346.66 1716.02 1344.85 Q1714.44 1343.04 1714.44 1339.85 Q1714.44 1336.66 1716.02 1334.85 Q1717.6 1333.05 1720.39 1333.05 Z\" fill=\"#000000\" fill-rule=\"evenodd\" fill-opacity=\"1\" /><path clip-path=\"url(#clip230)\" d=\"M1735.76 1339.81 Q1733.18 1339.81 1732.19 1340.4 Q1731.19 1340.99 1731.19 1342.41 Q1731.19 1343.55 1731.93 1344.22 Q1732.68 1344.88 1733.97 1344.88 Q1735.74 1344.88 1736.8 1343.63 Q1737.88 1342.36 1737.88 1340.28 L1737.88 1339.81 L1735.76 1339.81 M1740.01 1338.93 L1740.01 1346.32 L1737.88 1346.32 L1737.88 1344.36 Q1737.15 1345.54 1736.06 1346.1 Q1734.97 1346.66 1733.4 1346.66 Q1731.41 1346.66 1730.23 1345.55 Q1729.06 1344.42 1729.06 1342.55 Q1729.06 1340.36 1730.52 1339.25 Q1731.99 1338.14 1734.89 1338.14 L1737.88 1338.14 L1737.88 1337.93 Q1737.88 1336.46 1736.91 1335.66 Q1735.95 1334.85 1734.2 1334.85 Q1733.09 1334.85 1732.03 1335.12 Q1730.98 1335.39 1730.01 1335.92 L1730.01 1333.95 Q1731.18 1333.5 1732.28 1333.28 Q1733.38 1333.05 1734.42 1333.05 Q1737.23 1333.05 1738.62 1334.51 Q1740.01 1335.96 1740.01 1338.93 Z\" fill=\"#000000\" fill-rule=\"evenodd\" fill-opacity=\"1\" /><path clip-path=\"url(#clip230)\" d=\"M1746.5 1329.68 L1746.5 1333.36 L1750.89 1333.36 L1750.89 1335.01 L1746.5 1335.01 L1746.5 1342.05 Q1746.5 1343.64 1746.93 1344.09 Q1747.37 1344.54 1748.7 1344.54 L1750.89 1344.54 L1750.89 1346.32 L1748.7 1346.32 Q1746.24 1346.32 1745.3 1345.41 Q1744.36 1344.48 1744.36 1342.05 L1744.36 1335.01 L1742.8 1335.01 L1742.8 1333.36 L1744.36 1333.36 L1744.36 1329.68 L1746.5 1329.68 Z\" fill=\"#000000\" fill-rule=\"evenodd\" fill-opacity=\"1\" /><path clip-path=\"url(#clip230)\" d=\"M1754.4 1344.36 L1758.22 1344.36 L1758.22 1331.17 L1754.06 1332.01 L1754.06 1329.88 L1758.19 1329.04 L1760.53 1329.04 L1760.53 1344.36 L1764.35 1344.36 L1764.35 1346.32 L1754.4 1346.32 L1754.4 1344.36 Z\" fill=\"#000000\" fill-rule=\"evenodd\" fill-opacity=\"1\" /><path clip-path=\"url(#clip230)\" d=\"M1774.36 1336.75 Q1772.79 1336.75 1771.86 1337.83 Q1770.95 1338.9 1770.95 1340.78 Q1770.95 1342.64 1771.86 1343.73 Q1772.79 1344.81 1774.36 1344.81 Q1775.93 1344.81 1776.85 1343.73 Q1777.78 1342.64 1777.78 1340.78 Q1777.78 1338.9 1776.85 1337.83 Q1775.93 1336.75 1774.36 1336.75 M1779 1329.42 L1779 1331.55 Q1778.12 1331.14 1777.22 1330.92 Q1776.33 1330.7 1775.45 1330.7 Q1773.13 1330.7 1771.91 1332.26 Q1770.69 1333.82 1770.52 1336.98 Q1771.2 1335.98 1772.23 1335.44 Q1773.26 1334.9 1774.5 1334.9 Q1777.1 1334.9 1778.61 1336.48 Q1780.12 1338.06 1780.12 1340.78 Q1780.12 1343.44 1778.55 1345.05 Q1776.98 1346.66 1774.36 1346.66 Q1771.36 1346.66 1769.78 1344.37 Q1768.19 1342.06 1768.19 1337.7 Q1768.19 1333.6 1770.14 1331.17 Q1772.08 1328.73 1775.36 1328.73 Q1776.24 1328.73 1777.13 1328.9 Q1778.03 1329.08 1779 1329.42 Z\" fill=\"#000000\" fill-rule=\"evenodd\" fill-opacity=\"1\" /><path clip-path=\"url(#clip230)\" d=\"M1419.02 1284.39 L1428.95 1284.39 L1428.95 1286.36 L1421.36 1286.36 L1421.36 1291.45 L1428.21 1291.45 L1428.21 1293.42 L1421.36 1293.42 L1421.36 1301.67 L1419.02 1301.67 L1419.02 1284.39 Z\" fill=\"#000000\" fill-rule=\"evenodd\" fill-opacity=\"1\" /><path clip-path=\"url(#clip230)\" d=\"M1432.56 1283.66 L1434.69 1283.66 L1434.69 1301.67 L1432.56 1301.67 L1432.56 1283.66 Z\" fill=\"#000000\" fill-rule=\"evenodd\" fill-opacity=\"1\" /><path clip-path=\"url(#clip230)\" d=\"M1444.17 1290.2 Q1442.46 1290.2 1441.46 1291.54 Q1440.47 1292.88 1440.47 1295.2 Q1440.47 1297.53 1441.45 1298.87 Q1442.45 1300.2 1444.17 1300.2 Q1445.87 1300.2 1446.87 1298.86 Q1447.86 1297.52 1447.86 1295.2 Q1447.86 1292.9 1446.87 1291.56 Q1445.87 1290.2 1444.17 1290.2 M1444.17 1288.4 Q1446.95 1288.4 1448.53 1290.2 Q1450.12 1292.01 1450.12 1295.2 Q1450.12 1298.38 1448.53 1300.2 Q1446.95 1302.01 1444.17 1302.01 Q1441.38 1302.01 1439.8 1300.2 Q1438.22 1298.38 1438.22 1295.2 Q1438.22 1292.01 1439.8 1290.2 Q1441.38 1288.4 1444.17 1288.4 Z\" fill=\"#000000\" fill-rule=\"evenodd\" fill-opacity=\"1\" /><path clip-path=\"url(#clip230)\" d=\"M1459.54 1295.16 Q1456.96 1295.16 1455.96 1295.75 Q1454.97 1296.34 1454.97 1297.76 Q1454.97 1298.89 1455.71 1299.56 Q1456.46 1300.22 1457.75 1300.22 Q1459.52 1300.22 1460.58 1298.97 Q1461.66 1297.71 1461.66 1295.63 L1461.66 1295.16 L1459.54 1295.16 M1463.79 1294.28 L1463.79 1301.67 L1461.66 1301.67 L1461.66 1299.7 Q1460.93 1300.88 1459.84 1301.45 Q1458.75 1302.01 1457.18 1302.01 Q1455.19 1302.01 1454.01 1300.9 Q1452.84 1299.77 1452.84 1297.9 Q1452.84 1295.71 1454.3 1294.6 Q1455.77 1293.49 1458.67 1293.49 L1461.66 1293.49 L1461.66 1293.28 Q1461.66 1291.81 1460.69 1291.01 Q1459.73 1290.2 1457.98 1290.2 Q1456.87 1290.2 1455.81 1290.47 Q1454.76 1290.73 1453.79 1291.27 L1453.79 1289.3 Q1454.96 1288.85 1456.06 1288.63 Q1457.16 1288.4 1458.2 1288.4 Q1461.01 1288.4 1462.4 1289.85 Q1463.79 1291.31 1463.79 1294.28 Z\" fill=\"#000000\" fill-rule=\"evenodd\" fill-opacity=\"1\" /><path clip-path=\"url(#clip230)\" d=\"M1470.28 1285.03 L1470.28 1288.71 L1474.67 1288.71 L1474.67 1290.36 L1470.28 1290.36 L1470.28 1297.4 Q1470.28 1298.99 1470.71 1299.44 Q1471.15 1299.89 1472.48 1299.89 L1474.67 1299.89 L1474.67 1301.67 L1472.48 1301.67 Q1470.02 1301.67 1469.08 1300.76 Q1468.14 1299.83 1468.14 1297.4 L1468.14 1290.36 L1466.58 1290.36 L1466.58 1288.71 L1468.14 1288.71 L1468.14 1285.03 L1470.28 1285.03 Z\" fill=\"#000000\" fill-rule=\"evenodd\" fill-opacity=\"1\" /><path clip-path=\"url(#clip230)\" d=\"M1484.85 1292.35 Q1486.53 1292.71 1487.47 1293.85 Q1488.42 1294.98 1488.42 1296.65 Q1488.42 1299.21 1486.66 1300.61 Q1484.9 1302.01 1481.66 1302.01 Q1480.57 1302.01 1479.41 1301.79 Q1478.27 1301.58 1477.04 1301.15 L1477.04 1298.89 Q1478.01 1299.46 1479.17 1299.75 Q1480.33 1300.04 1481.59 1300.04 Q1483.79 1300.04 1484.93 1299.17 Q1486.09 1298.3 1486.09 1296.65 Q1486.09 1295.12 1485.01 1294.26 Q1483.95 1293.4 1482.04 1293.4 L1480.03 1293.4 L1480.03 1291.47 L1482.13 1291.47 Q1483.86 1291.47 1484.77 1290.79 Q1485.69 1290.1 1485.69 1288.8 Q1485.69 1287.47 1484.74 1286.76 Q1483.8 1286.05 1482.04 1286.05 Q1481.08 1286.05 1479.98 1286.25 Q1478.88 1286.46 1477.56 1286.9 L1477.56 1284.82 Q1478.89 1284.45 1480.05 1284.26 Q1481.22 1284.08 1482.25 1284.08 Q1484.91 1284.08 1486.46 1285.29 Q1488.01 1286.5 1488.01 1288.56 Q1488.01 1289.99 1487.19 1290.99 Q1486.37 1291.97 1484.85 1292.35 Z\" fill=\"#000000\" fill-rule=\"evenodd\" fill-opacity=\"1\" /><path clip-path=\"url(#clip230)\" d=\"M1494.86 1299.7 L1503.02 1299.7 L1503.02 1301.67 L1492.05 1301.67 L1492.05 1299.7 Q1493.38 1298.33 1495.67 1296.01 Q1497.98 1293.69 1498.57 1293.01 Q1499.69 1291.75 1500.13 1290.88 Q1500.58 1290 1500.58 1289.16 Q1500.58 1287.78 1499.61 1286.91 Q1498.65 1286.05 1497.1 1286.05 Q1496 1286.05 1494.77 1286.43 Q1493.56 1286.81 1492.17 1287.59 L1492.17 1285.22 Q1493.58 1284.66 1494.81 1284.37 Q1496.03 1284.08 1497.05 1284.08 Q1499.74 1284.08 1501.33 1285.42 Q1502.93 1286.76 1502.93 1289.01 Q1502.93 1290.07 1502.53 1291.03 Q1502.13 1291.98 1501.08 1293.28 Q1500.79 1293.62 1499.24 1295.22 Q1497.69 1296.82 1494.86 1299.7 Z\" fill=\"#000000\" fill-rule=\"evenodd\" fill-opacity=\"1\" /><path clip-path=\"url(#clip230)\" d=\"M619.794 1306.8 L629.725 1306.8 L629.725 1308.77 L622.132 1308.77 L622.132 1313.86 L628.984 1313.86 L628.984 1315.83 L622.132 1315.83 L622.132 1324.08 L619.794 1324.08 L619.794 1306.8 Z\" fill=\"#000000\" fill-rule=\"evenodd\" fill-opacity=\"1\" /><path clip-path=\"url(#clip230)\" d=\"M633.336 1306.08 L635.466 1306.08 L635.466 1324.08 L633.336 1324.08 L633.336 1306.08 Z\" fill=\"#000000\" fill-rule=\"evenodd\" fill-opacity=\"1\" /><path clip-path=\"url(#clip230)\" d=\"M644.945 1312.61 Q643.232 1312.61 642.236 1313.96 Q641.241 1315.29 641.241 1317.61 Q641.241 1319.94 642.225 1321.28 Q643.22 1322.61 644.945 1322.61 Q646.646 1322.61 647.641 1321.27 Q648.637 1319.93 648.637 1317.61 Q648.637 1315.31 647.641 1313.97 Q646.646 1312.61 644.945 1312.61 M644.945 1310.81 Q647.722 1310.81 649.308 1312.61 Q650.894 1314.42 650.894 1317.61 Q650.894 1320.8 649.308 1322.61 Q647.722 1324.42 644.945 1324.42 Q642.155 1324.42 640.57 1322.61 Q638.996 1320.8 638.996 1317.61 Q638.996 1314.42 640.57 1312.61 Q642.155 1310.81 644.945 1310.81 Z\" fill=\"#000000\" fill-rule=\"evenodd\" fill-opacity=\"1\" /><path clip-path=\"url(#clip230)\" d=\"M660.315 1317.57 Q657.734 1317.57 656.739 1318.16 Q655.743 1318.75 655.743 1320.17 Q655.743 1321.31 656.484 1321.98 Q657.236 1322.64 658.521 1322.64 Q660.292 1322.64 661.357 1321.39 Q662.433 1320.13 662.433 1318.04 L662.433 1317.57 L660.315 1317.57 M664.563 1316.69 L664.563 1324.08 L662.433 1324.08 L662.433 1322.12 Q661.704 1323.3 660.616 1323.86 Q659.528 1324.42 657.954 1324.42 Q655.963 1324.42 654.783 1323.31 Q653.614 1322.19 653.614 1320.31 Q653.614 1318.12 655.072 1317.01 Q656.542 1315.9 659.447 1315.9 L662.433 1315.9 L662.433 1315.69 Q662.433 1314.22 661.461 1313.42 Q660.5 1312.61 658.752 1312.61 Q657.641 1312.61 656.588 1312.88 Q655.535 1313.15 654.563 1313.68 L654.563 1311.71 Q655.732 1311.26 656.831 1311.04 Q657.931 1310.81 658.972 1310.81 Q661.785 1310.81 663.174 1312.27 Q664.563 1313.73 664.563 1316.69 Z\" fill=\"#000000\" fill-rule=\"evenodd\" fill-opacity=\"1\" /><path clip-path=\"url(#clip230)\" d=\"M671.056 1307.44 L671.056 1311.12 L675.442 1311.12 L675.442 1312.78 L671.056 1312.78 L671.056 1319.81 Q671.056 1321.4 671.484 1321.85 Q671.924 1322.3 673.255 1322.3 L675.442 1322.3 L675.442 1324.08 L673.255 1324.08 Q670.789 1324.08 669.852 1323.17 Q668.914 1322.24 668.914 1319.81 L668.914 1312.78 L667.352 1312.78 L667.352 1311.12 L668.914 1311.12 L668.914 1307.44 L671.056 1307.44 Z\" fill=\"#000000\" fill-rule=\"evenodd\" fill-opacity=\"1\" /><path clip-path=\"url(#clip230)\" d=\"M683.833 1314.51 Q682.259 1314.51 681.333 1315.59 Q680.419 1316.67 680.419 1318.54 Q680.419 1320.4 681.333 1321.49 Q682.259 1322.57 683.833 1322.57 Q685.407 1322.57 686.322 1321.49 Q687.248 1320.4 687.248 1318.54 Q687.248 1316.67 686.322 1315.59 Q685.407 1314.51 683.833 1314.51 M688.474 1307.19 L688.474 1309.32 Q687.595 1308.9 686.692 1308.68 Q685.801 1308.46 684.921 1308.46 Q682.606 1308.46 681.38 1310.02 Q680.164 1311.58 679.991 1314.74 Q680.674 1313.74 681.704 1313.2 Q682.734 1312.66 683.972 1312.66 Q686.576 1312.66 688.081 1314.25 Q689.597 1315.82 689.597 1318.54 Q689.597 1321.2 688.023 1322.81 Q686.449 1324.42 683.833 1324.42 Q680.836 1324.42 679.25 1322.13 Q677.664 1319.83 677.664 1315.46 Q677.664 1311.36 679.609 1308.93 Q681.553 1306.49 684.829 1306.49 Q685.708 1306.49 686.599 1306.67 Q687.502 1306.84 688.474 1307.19 Z\" fill=\"#000000\" fill-rule=\"evenodd\" fill-opacity=\"1\" /><path clip-path=\"url(#clip230)\" d=\"M700.048 1308.84 L694.146 1318.07 L700.048 1318.07 L700.048 1308.84 M699.435 1306.8 L702.375 1306.8 L702.375 1318.07 L704.84 1318.07 L704.84 1320.01 L702.375 1320.01 L702.375 1324.08 L700.048 1324.08 L700.048 1320.01 L692.248 1320.01 L692.248 1317.75 L699.435 1306.8 Z\" fill=\"#000000\" fill-rule=\"evenodd\" fill-opacity=\"1\" /></svg>\n"
      ]
     },
     "execution_count": 30,
     "metadata": {},
     "output_type": "execute_result"
    }
   ],
   "source": [
    "using GraphRecipes, Plots\n",
    "\n",
    "#pyplot(size=(800, 600))\n",
    "gr(size=(600, 400))\n",
    "theme(:default)\n",
    "\n",
    "plot(AbstractFloat, method=:tree, fontsize=4)"
   ]
  },
  {
   "cell_type": "markdown",
   "metadata": {},
   "source": [
    "### Half precision (Float16)\n",
    "\n",
    "<img src=\"https://upload.wikimedia.org/wikipedia/commons/thumb/2/21/IEEE_754r_Half_Floating_Point_Format.svg/350px-IEEE_754r_Half_Floating_Point_Format.svg.png\" width=\"300\" align=\"center\"/>\n",
    "\n",
    "Source: <https://en.wikipedia.org/wiki/Half-precision_floating-point_format>\n",
    "    \n",
    "- In Julia, `Float16` is the type for half precision numbers.\n",
    "\n",
    "- MSB is the sign bit.  \n",
    "\n",
    "- 10 significand bits (**fraction**=**mantissa**), hence $p=11$ (why?)\n",
    "\n",
    "- 5 exponent bits: $e_{\\max}=15$, $e_{\\min}=-14$, **bias**=15 = $01111_2$ for encoding:\n",
    "    + $e_{\\min} = \\mathbf{00001_2} - 01111_2 = -14_{10}$\n",
    "    + $e_{\\max} = \\mathbf{11110_2} - 01111_2 = 15_{10}$\n",
    "\n",
    "- $e_{\\text{min}}-1$ and $e_{\\text{max}}+1$ are reserved for special numbers.  \n",
    "\n",
    "- range of **magnitude**: $10^{\\pm 4}$ in decimal because $\\log_{10} (2^{15}) \\approx 4$.  \n",
    "\n",
    "- **Precision**: $\\log_{10}2^{11} \\approx 3.311$ decimal digits. \n",
    "\n",
    "$$\n",
    "(value) = (-1)^{b_{15}}\\times 2^{(\\sum_{j=1}^5 b_{15-j}2^{5-j}) - 15} \\times \\left( 1 + \\sum_{i=1}^{10}\\frac{b_{10-i}}{2^i}\\right)\n",
    "$$"
   ]
  },
  {
   "cell_type": "code",
   "execution_count": null,
   "metadata": {},
   "outputs": [],
   "source": [
    "## In half precision, 16-bit\n",
    "# 각각에 할당된 비트 수는 사전에 정해진 것.\n",
    "# sign bit\n",
    "# exponent : 2^5=32 개의 정수 표현가능\n",
    "    # bias = 15  (2^M-1 로 정해지는 듯 하다... just 내 생각)\n",
    "    # unsigned 로 생각했을 때, 가장 작은 수가 e_min, 가장 큰 수가 e_max\n",
    "    # e_min = 00001_2, e_max = 11110_2\n",
    "    # 근데 32개 쓸 수 있다며? 0,32는 특별한 용도를 위해 아껴둠\n",
    "# fraction : p=11 why? d_2 ~ d_11 을 저장할 수 있음\n"
   ]
  },
  {
   "cell_type": "code",
   "execution_count": 19,
   "metadata": {},
   "outputs": [
    {
     "name": "stdout",
     "output_type": "stream",
     "text": [
      "Half precision:\n",
      "bitstring(Float16(5)) = \"0100010100000000\"\n",
      "bitstring(Float16(-5)) = \"1100010100000000\"\n"
     ]
    }
   ],
   "source": [
    "println(\"Half precision:\")\n",
    "@show bitstring(Float16(5)) # 5 in half precision\n",
    "@show bitstring(Float16(-5)); # -5 in half precision"
   ]
  },
  {
   "cell_type": "code",
   "execution_count": 31,
   "metadata": {
    "ExecuteTime": {
     "end_time": "2021-09-23T21:44:34.171000+09:00",
     "start_time": "2021-09-23T12:44:34.170Z"
    }
   },
   "outputs": [],
   "source": [
    "# sign : 0 양수\n",
    "# exponent : 10001 = 17 -> 17-15(bias) = 2\n",
    "# fraction : 01만 사용한다고 생각 -> 1.01"
   ]
  },
  {
   "cell_type": "markdown",
   "metadata": {},
   "source": [
    "$5 = 1.01 \\times 2^2$ 가 0_10001_0100000000<br>\n",
    "$-5 = -1.01 \\times 2^2$ 가 1_10001_0100000000 로 표현"
   ]
  },
  {
   "cell_type": "markdown",
   "metadata": {},
   "source": [
    "### Single precision (Float32)\n",
    "\n",
    "<img src=\"https://upload.wikimedia.org/wikipedia/commons/thumb/d/d2/Float_example.svg/1180px-Float_example.svg.png\" width=\"600\" align=\"center\"/>\n",
    "\n",
    "Source: <https://en.wikipedia.org/wiki/Single-precision_floating-point_format>\n",
    "\n",
    "- In Julia, `Float32` is the type for single precision numbers.  \n",
    "\n",
    "- MSB is the sign bit.  \n",
    "\n",
    "- 23 significand bits ($p=24$).  \n",
    "\n",
    "- 8 exponent bits: $e_{\\max}=127$, $e_{\\min}=-126$, **bias**=127.  \n",
    "\n",
    "- $e_{\\text{min}}-1$ and $e_{\\text{max}}+1$ are reserved for special numbers.  \n",
    "\n",
    "- range of **magnitude**: $10^{\\pm 38}$ in decimal because $\\log_{10} (2^{127}) \\approx 38$.\n",
    "\n",
    "- **precision**: $\\log_{10}(2^{24}) \\approx 7.225$ decimal digits.  "
   ]
  },
  {
   "cell_type": "code",
   "execution_count": 20,
   "metadata": {},
   "outputs": [
    {
     "name": "stdout",
     "output_type": "stream",
     "text": [
      "Single precision:\n",
      "bitstring(Float32(5)) = \"01000000101000000000000000000000\"\n",
      "bitstring(Float32(-5)) = \"11000000101000000000000000000000\"\n"
     ]
    }
   ],
   "source": [
    "println(\"Single precision:\")\n",
    "@show bitstring(Float32(5)) # 5 in single precision\n",
    "@show bitstring(Float32(-5)); # -5 in single precision"
   ]
  },
  {
   "cell_type": "markdown",
   "metadata": {},
   "source": [
    "### Double precision (Float64)\n",
    "\n",
    "<img src=\"https://upload.wikimedia.org/wikipedia/commons/thumb/a/a9/IEEE_754_Double_Floating_Point_Format.svg/1236px-IEEE_754_Double_Floating_Point_Format.svg.png\" width=\"600\" align=\"center\"/>\n",
    "\n",
    "Source: <https://en.wikipedia.org/wiki/Double-precision_floating-point_format>\n",
    "\n",
    "- Double precision (64 bits = 8 bytes) numbers are the dominant data type in scientific computing.\n",
    "      \n",
    "- In Julia, `Float64` is the type for double precision numbers.    \n",
    "\n",
    "- MSB is the sign bit.  \n",
    "\n",
    "- 52 significand bits ($p=53$).\n",
    "\n",
    "- 11 exponent bits: $e_{\\max}=1023$, $e_{\\min}=-1022$, **bias**=1023.  \n",
    "\n",
    "- $e_{\\text{min}}-1$ and $e_{\\text{max}}+1$ are reserved for special numbers.  \n",
    "\n",
    "- range of **magnitude**: $10^{\\pm 308}$ in decimal because $\\log_{10} (2^{1023}) \\approx 308$.  \n",
    "\n",
    "- **precision** to the $\\log_{10}(2^{53}) \\approx 15.95$ decimal point."
   ]
  },
  {
   "cell_type": "code",
   "execution_count": 21,
   "metadata": {},
   "outputs": [
    {
     "name": "stdout",
     "output_type": "stream",
     "text": [
      "Double precision:\n",
      "bitstring(Float64(5)) = \"0100000000010100000000000000000000000000000000000000000000000000\"\n",
      "bitstring(Float64(-5)) = \"1100000000010100000000000000000000000000000000000000000000000000\"\n"
     ]
    }
   ],
   "source": [
    "println(\"Double precision:\")\n",
    "@show bitstring(Float64(5)) # 5 in double precision\n",
    "@show bitstring(Float64(-5)); # -5 in double precision"
   ]
  },
  {
   "cell_type": "markdown",
   "metadata": {},
   "source": [
    "### Special floating-point numbers\n",
    "\n",
    "- Exponent $e_{\\max}+1$ plus a zero mantissa means $\\pm \\infty$."
   ]
  },
  {
   "cell_type": "markdown",
   "metadata": {},
   "source": [
    "$e_{min}-1, \\; e_{max}+1$은 $\\infty$와 0을 표현하기 위함<br>\n",
    "$d_1 \\neq 0$으로 정했기 때문에, 0을 정확하게 나타낼 수 없다."
   ]
  },
  {
   "cell_type": "code",
   "execution_count": 22,
   "metadata": {},
   "outputs": [
    {
     "name": "stdout",
     "output_type": "stream",
     "text": [
      "bitstring(Inf) = \"0111111111110000000000000000000000000000000000000000000000000000\"\n",
      "bitstring(-Inf) = \"1111111111110000000000000000000000000000000000000000000000000000\"\n"
     ]
    }
   ],
   "source": [
    "@show bitstring(Inf) # Inf in double precision\n",
    "@show bitstring(-Inf); # -Inf in double precision"
   ]
  },
  {
   "cell_type": "markdown",
   "metadata": {},
   "source": [
    "- Exponent $e_{\\max}+1$ plus a nonzero mantissa means `NaN`. `NaN` could be produced from `0 / 0`, `0 * Inf`, ...  \n",
    "\n",
    "- In general `NaN ≠ NaN` bitwise. Test whether a number is `NaN` by `isnan` function.  "
   ]
  },
  {
   "cell_type": "code",
   "execution_count": 23,
   "metadata": {},
   "outputs": [
    {
     "name": "stdout",
     "output_type": "stream",
     "text": [
      "bitstring(0 / 0) = \"1111111111111000000000000000000000000000000000000000000000000000\"\n",
      "bitstring(0Inf) = \"1111111111111000000000000000000000000000000000000000000000000000\"\n"
     ]
    }
   ],
   "source": [
    "@show bitstring(0 / 0) # NaN\n",
    "@show bitstring(0 * Inf); # NaN"
   ]
  },
  {
   "cell_type": "markdown",
   "metadata": {},
   "source": [
    "- Exponent $e_{\\min}-1$ with a zero mantissa represents the real number 0 (\"exact zero\").  \n",
    "    + Why do we need an exact zero?"
   ]
  },
  {
   "cell_type": "code",
   "execution_count": 24,
   "metadata": {},
   "outputs": [
    {
     "name": "stdout",
     "output_type": "stream",
     "text": [
      "bitstring(0.0) = \"0000000000000000000000000000000000000000000000000000000000000000\"\n"
     ]
    }
   ],
   "source": [
    "@show bitstring(0.0); # 0 in double precision "
   ]
  },
  {
   "cell_type": "markdown",
   "metadata": {},
   "source": [
    "- Exponent $e_{\\min}-1$ with a nonzero mantissa are for numbers less than $b^{e_{\\min}}$ (subnormal numbers).\n",
    "- Numbers are _denormalized_ in the range $(0,b^{e_{\\min}})$ -- **gradual underflow**. \n",
    "- For example, in half-precision, $e_{\\min}=-14$ but $2^{-24}$ is represented by $0.0000000001_2 \\times 2^{-14}$.\n",
    "- If floating point numbers are all normalized, the spacing between 0 and $b^{e_{\\min}}$ is just $b^{e_{\\min}}$, whereas the spacing between $b^{e_{\\min}}$ and $b^{e_{\\min}+1}$ is $b^{e_{\\min}-p+1}$. With subnormal numbers, the spacing between 0 and $b^{e_{\\min}}$ can be $b^{e_{\\min}-p}$, which is more consistent with the spacing just above $b^{e_{\\min}}$.<br> \n",
    "($b^{e_{min}}$ 과 $b^{e_{min}+1}$의 사이의 수들은 $b^{e_{min}-p+1}$간격으로 나타낼 수 있다.)<br>\n",
    "(0과 $b^{e_{min}}$ 사이의 수들은 $b^{e_{min}-p}$ 간격... $d_1 = 0$이기 때문.)"
   ]
  },
  {
   "cell_type": "code",
   "execution_count": 33,
   "metadata": {
    "ExecuteTime": {
     "end_time": "2021-09-23T22:51:46.729000+09:00",
     "start_time": "2021-09-23T13:51:46.728Z"
    }
   },
   "outputs": [],
   "source": [
    "# exponent가 e_min - 1 일 때, if fraction is not equal to 000000000000,\n",
    "# use `denormalized`. 0보다 훨씬 작은 수들을 나타낼 수 있음. (d_1 = 0)\n"
   ]
  },
  {
   "cell_type": "code",
   "execution_count": 25,
   "metadata": {},
   "outputs": [
    {
     "name": "stdout",
     "output_type": "stream",
     "text": [
      "Float16(2 ^ -14) = Float16(6.104e-5)\n",
      "bitstring(Float16(2 ^ -14)) = \"0000010000000000\"\n",
      "Float16(2 ^ -24) = Float16(6.0e-8)\n",
      "bitstring(Float16(2 ^ -24)) = \"0000000000000001\"\n"
     ]
    }
   ],
   "source": [
    "@show Float16(2^(-14))  # emin=-14\n",
    "@show bitstring(Float16(2^(-14)));\n",
    "@show Float16(2^(-24))  # emin=-14\n",
    "@show bitstring(Float16(2^(-24))); # denormalized"
   ]
  },
  {
   "cell_type": "code",
   "execution_count": 26,
   "metadata": {},
   "outputs": [
    {
     "name": "stdout",
     "output_type": "stream",
     "text": [
      "nextfloat(Float16(0.0)) = Float16(6.0e-8)\n",
      "bitstring(nextfloat(Float16(0.0))) = \"0000000000000001\"\n"
     ]
    }
   ],
   "source": [
    "@show nextfloat(Float16(0.0)) # next representable number\n",
    "@show bitstring(nextfloat(Float16(0.0))); # denormalized"
   ]
  },
  {
   "cell_type": "markdown",
   "metadata": {},
   "source": [
    "### Rounding\n",
    "\n",
    "* Rounding is necessary whenever a number has more than $p$ significand bits. Most computer systems use the default IEEE 754 _round to nearest_ mode (also called _ties to even_ mode). Julia offers several [rounding modes](https://docs.julialang.org/en/v1/base/math/#Base.Rounding.RoundingMode), the default being [`RoundNearest`](https://docs.julialang.org/en/v1/base/math/#Base.Rounding.RoundNearest). \n",
    "<br>\n",
    "\n",
    "* \"*Round to nearest, ties to even*\" rule: rounds to the nearest value; if the number falls midway, it is rounded to the nearest value with an even least significant digit (i.e., zero; default for IEEE 754 binary floating point numbers)<br>\n",
    "(ties to even)중간 값에서 항상 큰 값으로 올리다보면, 수들에 bias가 생긴다. 따라서 경우에 따라 중간값일 때 내리거나, 올리는 규칙이 존재 -> 가장 가까운 `짝수`로 반올림하게 되어있다. 그 다음에 bit수에 맞게 자른다.\n",
    "<br>\n",
    "\n",
    "* For example, the number 1/10 cannot be represented accurately as a (binary) floating point number:\n",
    "$$ 0.1 = 1.10011001\\dotsc_2 \\times 2^{-4} $$"
   ]
  },
  {
   "cell_type": "code",
   "execution_count": 27,
   "metadata": {},
   "outputs": [
    {
     "name": "stdout",
     "output_type": "stream",
     "text": [
      "bitstring(0.1) = \"0011111110111001100110011001100110011001100110011001100110011010\"\n",
      "bitstring(0.1f0) = \"00111101110011001100110011001101\"\n",
      "bitstring(Float16(0.1)) = \"0010111001100110\"\n"
     ]
    }
   ],
   "source": [
    "@show bitstring(0.1);  # double precision Float64\n",
    "@show bitstring(0.1f0); # single precision Float32, 1001 gets rounded to 101(0)\n",
    "@show bitstring(Float16(0.1)); # half precision Float16, 1001 gets rounded to 101(0)"
   ]
  },
  {
   "cell_type": "code",
   "execution_count": 34,
   "metadata": {
    "ExecuteTime": {
     "end_time": "2021-09-23T23:27:33.239000+09:00",
     "start_time": "2021-09-23T14:27:33.238Z"
    }
   },
   "outputs": [],
   "source": [
    "# 끝의 1001 에서 가까운 1010\n",
    "# 끝의 1001 에서 1010으로 반올림 후 101(0)\n",
    "# 끝의 1001 에서 1010으로 반올림 후 10(10)"
   ]
  },
  {
   "cell_type": "markdown",
   "metadata": {},
   "source": [
    "### Errors\n",
    "\n",
    "Rounding (more fundamentally, finite precision) incurs errors in floating porint computation. If a real number $x$ is represented by a floating point number $[x]$, then\n",
    "\n",
    "* Absolute error(절대오차)\n",
    "$$\n",
    "    | [x] - x |\n",
    "$$\n",
    "\n",
    "* Relative error(상대오차)\n",
    "$$\n",
    "    \\frac{| [x] - x |}{|x|}\n",
    "$$\n",
    "(if $x \\neq 0$).\n",
    "\n",
    "Of course, we want to ensure that the error after a computation is small."
   ]
  },
  {
   "cell_type": "markdown",
   "metadata": {},
   "source": [
    "### Machine epsilons\n",
    "\n",
    "- Floating-point numbers do not occur uniformly over the real number line\n",
    "    <img src=\"http://www.volkerschatz.com/science/pics/fltscale-wh.png\" width=\"700\" align=\"center\"/>\n",
    "        \n",
    "Source: [What you never wanted to know about floating point but will be forced to find out](http://www.volkerschatz.com/science/float.html)"
   ]
  },
  {
   "cell_type": "code",
   "execution_count": 42,
   "metadata": {
    "ExecuteTime": {
     "end_time": "2021-09-23T23:41:09.337000+09:00",
     "start_time": "2021-09-23T14:41:09.336Z"
    }
   },
   "outputs": [],
   "source": [
    "# floating-point numbers는 모든 구간에서 일정한 간격을 갖지 않는다.\n",
    "# exponent가 변하면 표현되는 구간의 크기도 변함.\n",
    "\n",
    "\n",
    "# (2^i, 2^(i+1)] 의 한 구간만 알면, 나머지는 *2, /2를 통해 구할 수 있음\n",
    "\n",
    "### Machine epsilons\n",
    "# rounding하면 1\n",
    "# e_max : 1에 더해줘서 반올림했을 때, 1이 아니게되는 가장 작은 수\n",
    "# e_min : 1에 빼줘서 반올림했을 때, 1이 아니게되는 가장 작은 수"
   ]
  },
  {
   "cell_type": "markdown",
   "metadata": {},
   "source": [
    "$(1-\\epsilon_{min}, 1+\\epsilon_{max}]$ 안의 수들은 rounding해주면 1이된다. "
   ]
  },
  {
   "cell_type": "markdown",
   "metadata": {},
   "source": [
    "- Same number of representible numbers in $(2^i, 2^{i+1}]$ as in $(2^{i+1}, 2^{i+2}]$. Within an interval, they are uniformly distributed.\n",
    "    \n",
    "- **Machine epsilons** are the spacings of numbers around 1: \n",
    "    + $\\epsilon_{\\max}$ = (smallest positive floating point number that added to 1 will give a result different from 1) = $\\frac{1}{2^p} + \\frac{1}{2^{2p-1}}$\n",
    "    + $\\epsilon_{\\min}$ = (smallest positive floating point number that subtracted from 1 will give a result different from 1) = $\\frac{1}{2^{p+1}} + \\frac{1}{2^{2p}}$.\n",
    "    + That is, $1 + \\epsilon_{\\max}$ is the number in the \"midway\" between 1 and the floating point number right next to it, etc.\n",
    "    \n",
    "    <img src=\"images/machine_epsilons.png\" width=\"600\" align=\"center\"/>\n",
    "\n",
    "Source: *Computational Statistics*, James Gentle, Springer, New York, 2009.\n",
    "\n",
    "*Caution: the definition of $\\epsilon_{\\max}$ and $\\epsilon_{\\min}$ in this book is different from the lecture note.*\n",
    "\n",
    "- Any real number in the interval $\\left[1 - \\frac{1}{2^{p+1}}, 1 + \\frac{1}{2^p}\\right]=[1.111\\dotsb1|1_2 \\times 2^{-1}, 1.000\\dotsb 0|1 \\times 2^0]$ is represented by a floating point number $1 = 1.00\\dotsc 0_2 \\times 2^0$ (assuming the \"ties to even\" rule: consider $p=2$ case).\n",
    "\n",
    "- Adding $\\frac{1}{2^p}$ to 1 won't reach the next representable floating point number  $1.00\\dotsc 01_2 \\times 2^0 = 1 + \\frac{1}{2^{p-1}}$. Hence $\\epsilon_{\\max} > \\frac{1}{2^p} = 1.00\\dotsc 0_2 \\times 2^{-p}$.\n",
    "\n",
    "- Adding the floating point number *next to* $\\frac{1}{2^p} = 1.00\\dotsc 0_2 \\times 2^{-p}$ to 1 WILL result in $1.00\\dotsc 01_2 \\times 2^0 = 1 + \\frac{1}{2^{p-1}}$, hence $\\epsilon_{\\max} = 1.00\\dotsb 01_2 \\times 2^{-p} = \\frac{1}{2^p} + \\frac{1}{2^{p+p-1}}$.\n",
    "\n",
    "- Subtracting $\\frac{1}{2^{p+1}}$ from 1 results in $1-\\frac{1}{2^{p+1}} = \\frac{1}{2} + \\frac{1}{2^2} + \\dotsb + \\frac{1}{2^p} + \\frac{1}{2^{p+1}}$, which is represented by the floating point number $1.00\\dotsb 0_2 \\times 2^{0} = 1$ by the \"ties to even\" rule. Hence $\\epsilon_{\\min} > \\frac{1}{2^{p+1}}$.\n",
    "\n",
    "- The smallest positive floating point number larger than $\\frac{1}{2^{p+1}}$ is $\\frac{1}{2^{p+1}} + \\frac{1}{2^{2p}}=1.00\\dotsc 1_2 \\times 2^{-p-1}$. Thus $\\epsilon_{\\min} = \\frac{1}{2^{p+1}} + \\frac{1}{2^{2p}}$."
   ]
  },
  {
   "cell_type": "markdown",
   "metadata": {},
   "source": [
    "### Machine precision\n",
    "\n",
    "* Machine epsilon is often called the machine precision.\n",
    "\n",
    "* If a positive real number $x \\in \\mathbb{R}$ is represented by $[x]$ in the floating point arithmetic, then \n",
    "$$\n",
    "    [x] = \\left( 1 + \\sum_{i=1}^{p-1}\\frac{b_{i+1}}{2^i}\\right) \\times 2^e.\n",
    "$$\n",
    "Thus $x - \\frac{2^e}{2^p} < [x] \\le x + \\frac{2^e}{2^p}$, \n",
    "and\n",
    "$$\n",
    "    \\begin{split}\n",
    "    \\frac{| x - [x] |}{|x|} &\\le \\frac{2^e}{2^p|x|} \\le \\frac{2^e}{2^p}\\frac{1}{[x]-2^e/2^p} \\\\\n",
    "                            &\\le \\frac{2^e}{2^p}\\frac{1}{2^e(1-1/2^p)}  \\quad (\\because [x] \\ge 2^e, \\; d_2=\\dotsb=d_p=0\\; 인\\; 경우) \\\\\n",
    "                            &\\le \\frac{2^e}{2^p}\\frac{1}{2^e}(1 + \\frac{1}{2^{p-1}}) \\\\\n",
    "                            &= \\frac{1}{2^p} + \\frac{1}{2^{2p-1}} = \\epsilon_{\\max}.\n",
    "    \\end{split}\n",
    "$$\n",
    "That is, the **relative error** of the floating point representation $[x]$ of real number $x$ is bounded by $\\epsilon_{\\max}$."
   ]
  },
  {
   "cell_type": "code",
   "execution_count": 46,
   "metadata": {
    "ExecuteTime": {
     "end_time": "2021-09-24T12:52:54.534000+09:00",
     "start_time": "2021-09-24T03:52:54.533Z"
    }
   },
   "outputs": [],
   "source": [
    "# Machine precision : 기계로 나타낼 수 있는 유효숫자의 한계?\n",
    "\n",
    "# 상대오차는 e_max로 bound된다."
   ]
  },
  {
   "cell_type": "code",
   "execution_count": 28,
   "metadata": {},
   "outputs": [
    {
     "name": "stdout",
     "output_type": "stream",
     "text": [
      "2 ^ -53 + 2 ^ -105 = 1.1102230246251568e-16\n",
      "1.0 + 2 ^ -53 = 1.0\n",
      "1.0 + (2 ^ -53 + 2 ^ -105) = 1.0000000000000002\n",
      "1.0 + 2 ^ -53 + 2 ^ -105 = 1.0\n",
      "Float32(2 ^ -24 + 2 ^ -47) = 5.960465f-8\n",
      "1.0f0 + Float32(2 ^ -24) = 1.0f0\n",
      "1.0f0 + Float32(2 ^ -24 + 2 ^ -47) = 1.0000001f0\n"
     ]
    }
   ],
   "source": [
    "@show 2^(-53) + 2^(-105);   # epsilon_max for Float64\n",
    "@show 1.0 + 2^(-53);    # bound되어 1로 표현된다.\n",
    "@show 1.0 + (2^(-53) + 2^(-105));\n",
    "@show 1.0 + 2^(-53) + 2^(-105);  # why is the result?  See \"Catastrophic cancellation\"\n",
    "                                 # 앞에서부터 계산해서 반올림이 두 번 된 것\n",
    "\n",
    "@show Float32(2^(-24) + 2^(-47)); # epsilon_max for Float32\n",
    "@show 1.0f0 + Float32(2^(-24));\n",
    "@show 1.0f0 + Float32(2^(-24) + 2^(-47));"
   ]
  },
  {
   "cell_type": "code",
   "execution_count": 29,
   "metadata": {},
   "outputs": [
    {
     "name": "stdout",
     "output_type": "stream",
     "text": [
      "2 ^ -54 + 2 ^ -106 = 5.551115123125784e-17\n",
      "1 - (2 ^ -54 + 2 ^ -106) = 0.9999999999999999\n",
      "bitstring(1.0) = \"0011111111110000000000000000000000000000000000000000000000000000\"\n",
      "bitstring(1 - (2 ^ -54 + 2 ^ -106)) = \"0011111111101111111111111111111111111111111111111111111111111111\"\n"
     ]
    },
    {
     "data": {
      "text/plain": [
       "\"0011111111101111111111111111111111111111111111111111111111111111\""
      ]
     },
     "execution_count": 29,
     "metadata": {},
     "output_type": "execute_result"
    }
   ],
   "source": [
    "@show 2^(-54) + 2^(-106);  # epsilon_min for Float64\n",
    "@show 1 - (2^(-54) + 2^(-106))\n",
    "@show bitstring(1.0)\n",
    "@show bitstring(1 - (2^(-54) + 2^(-106)))"
   ]
  },
  {
   "cell_type": "markdown",
   "metadata": {},
   "source": [
    "In Julia, `eps(x)` gives the distance between consecutive representable floating point values at `x`, i.e.,\n",
    "```Julia\n",
    "eps(x) == max(x-prevfloat(x), nextfloat(x)-x)\n",
    "```\n",
    "which is roughly twice the $\\epsilon_{\\max}$."
   ]
  },
  {
   "cell_type": "code",
   "execution_count": 30,
   "metadata": {},
   "outputs": [
    {
     "name": "stdout",
     "output_type": "stream",
     "text": [
      "eps(Float32) = 1.1920929f-7\n",
      "eps(Float64) = 2.220446049250313e-16\n",
      "eps(100.0) = 1.4210854715202004e-14\n",
      "eps(0.0) = 5.0e-324\n",
      "x = 1.25f0 = 1.25f0\n",
      "(prevfloat(x), x, nextfloat(x)) = (1.2499999f0, 1.25f0, 1.2500001f0)\n",
      "(bitstring(prevfloat(x)), bitstring(x), bitstring(nextfloat(x))) = (\"00111111100111111111111111111111\", \"00111111101000000000000000000000\", \"00111111101000000000000000000001\")\n"
     ]
    }
   ],
   "source": [
    "@show eps(Float32)  # machine epsilon for a floating point type, roughly twice our \\epsilon_{\\max}\n",
    "@show eps(Float64)  # same as eps()\n",
    "# eps(x) is the spacing after x\n",
    "@show eps(100.0) # 100에 더했을 때 100이 아닌 수가 나오게하는 가장 작은 양수\n",
    "@show eps(0.0) # 0 주변에선 굉장히 작은 간격\n",
    "# nextfloat(x) and prevfloat(x) give the neighbors of x\n",
    "@show x = 1.25f0\n",
    "@show prevfloat(x), x, nextfloat(x)\n",
    "@show bitstring(prevfloat(x)), bitstring(x), bitstring(nextfloat(x));"
   ]
  },
  {
   "cell_type": "markdown",
   "metadata": {},
   "source": [
    "* In R, the variable `.Machine` contains numerical characteristics of the machine. `double.eps` and `double.neg.eps` are roughly twice our $\\epsilon_{\\max}$ and $\\epsilon_{\\min}$, respectively."
   ]
  },
  {
   "cell_type": "code",
   "execution_count": 31,
   "metadata": {},
   "outputs": [
    {
     "data": {
      "text/plain": [
       "RObject{VecSxp}\n",
       "$double.eps\n",
       "[1] 2.220446e-16\n",
       "\n",
       "$double.neg.eps\n",
       "[1] 1.110223e-16\n",
       "\n",
       "$double.xmin\n",
       "[1] 2.225074e-308\n",
       "\n",
       "$double.xmax\n",
       "[1] 1.797693e+308\n",
       "\n",
       "$double.base\n",
       "[1] 2\n",
       "\n",
       "$double.digits\n",
       "[1] 53\n",
       "\n",
       "$double.rounding\n",
       "[1] 5\n",
       "\n",
       "$double.guard\n",
       "[1] 0\n",
       "\n",
       "$double.ulp.digits\n",
       "[1] -52\n",
       "\n",
       "$double.neg.ulp.digits\n",
       "[1] -53\n",
       "\n",
       "$double.exponent\n",
       "[1] 11\n",
       "\n",
       "$double.min.exp\n",
       "[1] -1022\n",
       "\n",
       "$double.max.exp\n",
       "[1] 1024\n",
       "\n",
       "$integer.max\n",
       "[1] 2147483647\n",
       "\n",
       "$sizeof.long\n",
       "[1] 8\n",
       "\n",
       "$sizeof.longlong\n",
       "[1] 8\n",
       "\n",
       "$sizeof.longdouble\n",
       "[1] 16\n",
       "\n",
       "$sizeof.pointer\n",
       "[1] 8\n",
       "\n",
       "$longdouble.eps\n",
       "[1] 1.084202e-19\n",
       "\n",
       "$longdouble.neg.eps\n",
       "[1] 5.421011e-20\n",
       "\n",
       "$longdouble.digits\n",
       "[1] 64\n",
       "\n",
       "$longdouble.rounding\n",
       "[1] 5\n",
       "\n",
       "$longdouble.guard\n",
       "[1] 0\n",
       "\n",
       "$longdouble.ulp.digits\n",
       "[1] -63\n",
       "\n",
       "$longdouble.neg.ulp.digits\n",
       "[1] -64\n",
       "\n",
       "$longdouble.exponent\n",
       "[1] 15\n",
       "\n",
       "$longdouble.min.exp\n",
       "[1] -16382\n",
       "\n",
       "$longdouble.max.exp\n",
       "[1] 16384\n",
       "\n"
      ]
     },
     "execution_count": 31,
     "metadata": {},
     "output_type": "execute_result"
    }
   ],
   "source": [
    "R\"\"\"\n",
    ".Machine\n",
    "\"\"\""
   ]
  },
  {
   "cell_type": "markdown",
   "metadata": {},
   "source": [
    "### Overflow and underflow of floating-point number\n",
    "\n",
    "* For double precision, the range is $\\pm 10^{\\pm 308}$. In most situations, underflow (magnitude of result is less than $10^{-308}$) is preferred over overflow (magnitude of result is larger than $10^{+308}$). Overflow produces $\\pm \\inf$. Underflow yields zeros or subnormal numbers. \n",
    "\n",
    "\n",
    "* E.g., the logit link function is\n",
    "$$p = \\frac{\\exp (x^T \\beta)}{1 + \\exp (x^T \\beta)} = \\frac{1}{1+\\exp(- x^T \\beta)}.$$\n",
    "\n",
    "The former expression can easily lead to `Inf / Inf = NaN`, while the latter expression leads to gradual underflow.\n",
    "\n",
    "\n",
    "* `floatmin` and `floatmax` functions gives largest and smallest _non-subnormal_ number represented by the given floating point type.(normalized인 숫자 중 가장 작은, 큰 숫자)"
   ]
  },
  {
   "cell_type": "markdown",
   "metadata": {},
   "source": [
    "$p = \\frac{\\exp (x^T \\beta)}{1 + \\exp (x^T \\beta)}$를 이용하면 `NaN`값이 나오기 쉬운데, $\\frac{1}{1+\\exp(- x^T \\beta)}$를 이용하면 지수부분이 커져도 underflow가 일어나 0에 가깝게 표현이 된다.\n",
    "\n",
    "<br>\n",
    "Underflow : $10^{-380}$ 보다 작은 수를 나타낼 때 유효숫자를 잃어버리는 것<br>\n",
    "Overflow : $10^{380}$ 보다 큰 수를 나타낼 떄 $\\infty$로 취급되는 것"
   ]
  },
  {
   "cell_type": "code",
   "execution_count": 32,
   "metadata": {},
   "outputs": [
    {
     "name": "stdout",
     "output_type": "stream",
     "text": [
      "Float16\t6.104e-5\t6.55e4\t-Inf\tInf\t0.000977\n",
      "Float32\t1.1754944e-38\t3.4028235e38\t-Inf\tInf\t1.1920929e-7\n",
      "Float64\t2.2250738585072014e-308\t1.7976931348623157e308\t-Inf\tInf\t2.220446049250313e-16\n"
     ]
    }
   ],
   "source": [
    "for T in [Float16, Float32, Float64]\n",
    "    println(T, '\\t', floatmin(T), '\\t', floatmax(T), '\\t', typemin(T), \n",
    "        '\\t', typemax(T), '\\t', eps(T))\n",
    "end"
   ]
  },
  {
   "cell_type": "markdown",
   "metadata": {},
   "source": [
    "* `BigFloat` in Julia offers arbitrary precision."
   ]
  },
  {
   "cell_type": "code",
   "execution_count": 33,
   "metadata": {},
   "outputs": [
    {
     "name": "stdout",
     "output_type": "stream",
     "text": [
      "precision(BigFloat) = 256\n",
      "floatmin(BigFloat) = 8.50969131174083613912978790962048280567755996982969624908264897850135431080301e-1388255822130839284\n",
      "floatmax(BigFloat) = 5.875653789111587590936911998878442589938516392745498308333779606469323584389875e+1388255822130839282\n"
     ]
    }
   ],
   "source": [
    "@show precision(BigFloat) # 256개의 유효숫자를 표현할 수 있다.\n",
    "@show floatmin(BigFloat)\n",
    "@show floatmax(BigFloat);"
   ]
  },
  {
   "cell_type": "code",
   "execution_count": 60,
   "metadata": {
    "ExecuteTime": {
     "end_time": "2021-09-24T14:06:31.965000+09:00",
     "start_time": "2021-09-24T05:06:31.953Z"
    }
   },
   "outputs": [
    {
     "name": "stdout",
     "output_type": "stream",
     "text": [
      "Float64(π) = 3.141592653589793\n",
      "BigFloat(π) = 3.141592653589793238462643383279502884197169399375105820974944592307816406286198\n",
      "BigFloat(π) = 3.141592653589793238462643383279502884197169399375105820974944592307816406286208998628034825342117067982148086513282306647093844609550582231725359408128481117450284102701938521105559644622948954930381964428810975665933446128475648233786783165271201909145648566923460348610454326648213393607260249141273724586997\n"
     ]
    }
   ],
   "source": [
    "@show Float64(π)\n",
    "@show BigFloat(π); # default precision for BigFloat is 256 bits\n",
    "# set precision to 1024 bits\n",
    "setprecision(BigFloat, 1024) do \n",
    "    @show BigFloat(π)\n",
    "end;"
   ]
  },
  {
   "cell_type": "markdown",
   "metadata": {},
   "source": [
    "## Catastrophic cancellation\n",
    "\n",
    "> The result of computation is just the digits that represented the rounding.(계산의 결과는 반올림이 끝난 값임)\n",
    "\n",
    "* **Scenario 1** (benign cancellation): Addition or subtraction of two numbers of widely different magnitudes: $a+b$ or $a-b$ where $a \\gg b$ or $a \\ll b$. We lose the precision in the number of smaller magnitude. Consider \n",
    "$$\\begin{eqnarray*}\n",
    "    a &=& x.xxx ... \\times 2^{30} \\\\  \n",
    "    b &=& y.yyy... \\times 2^{-30}\n",
    "\\end{eqnarray*}$$\n",
    "What happens when computer calculates $a+b$? We get $a+b=a$!"
   ]
  },
  {
   "cell_type": "code",
   "execution_count": null,
   "metadata": {},
   "outputs": [],
   "source": [
    "# cancellation : rounding에 의해 유효숫자를 잃어버리는 것\n",
    "    # 절대값이 작은 부분의 유효숫자를 잃어버리게 된다."
   ]
  },
  {
   "cell_type": "code",
   "execution_count": 35,
   "metadata": {},
   "outputs": [
    {
     "name": "stdout",
     "output_type": "stream",
     "text": [
      "a = 2.0 ^ 30 = 1.073741824e9\n",
      "b = 2.0 ^ -30 = 9.313225746154785e-10\n",
      "a + b == a = true\n",
      "bitstring(a) = \"0100000111010000000000000000000000000000000000000000000000000000\"\n",
      "bitstring(a + b) = \"0100000111010000000000000000000000000000000000000000000000000000\"\n"
     ]
    }
   ],
   "source": [
    "@show a = 2.0^30\n",
    "@show b = 2.0^-30\n",
    "@show a + b == a\n",
    "@show bitstring(a)\n",
    "@show bitstring(a + b);"
   ]
  },
  {
   "cell_type": "code",
   "execution_count": null,
   "metadata": {},
   "outputs": [],
   "source": [
    "# [x]+[y] 값이 floating point가 아닐 수 있음 -> [[x]+[y]]\n",
    "# 상대오차를 e_max로 bound할 수 있다."
   ]
  },
  {
   "cell_type": "markdown",
   "metadata": {},
   "source": [
    "$[x] \\leq x(1+\\epsilon_{max})$"
   ]
  },
  {
   "cell_type": "markdown",
   "metadata": {},
   "source": [
    "Analysis: suppose we want to compute $x + y$, $x, y > 0$. Let the relative error of $x$ and $y$ be\n",
    "$$\n",
    "\\delta_x = \\frac{[x] - x}{x},\n",
    "\\quad\n",
    "\\delta_y = \\frac{[y] - y}{y}\n",
    ".\n",
    "$$\n",
    "What the computer actually calculates is $[x] + [y]$, which in turn is represented by $[ [x] + [y] ]$. The relative error of this representation is\n",
    "$$\n",
    "\\delta_{\\text{sum}} = \\frac{[[x]+[y]] - ([x]+[y])}{[x]+[y]}\n",
    ".\n",
    "$$\n",
    "Recall that $|\\delta_x|, |\\delta_y|, |\\delta_{\\text{sum}}| \\le \\epsilon_{\\max}$.\n",
    "\n",
    "We want to find a bound of the relative error of $[[x]+[y]]$ with respect to $x+y$.\n",
    "Since $|[x]+[y]| = |x(1+\\delta_x) + y(1+\\delta_y)| \\le |x+y|(1+\\epsilon_{\\max})$, we have\n",
    "$$\n",
    "\\begin{split}\n",
    "| [[x]+[y]]-(x+y) | &= | [[x]+[y]] - [x] - [y] + [x] - x + [y] - y | \\\\\n",
    "                   &\\le | [[x]+[y]] - [x] - [y] | +  | [x] - x | + | [y] - y | \\\\\n",
    "                   &= |\\delta_{\\text{sum}}([x]+[y])| + |\\delta_x x| + |\\delta_y y| \\\\\n",
    "                   &\\le \\epsilon_{\\max}(x+y)(1+\\epsilon_{\\max}) + \\epsilon_{\\max}x + \\epsilon_{\\max}y \\\\\n",
    "                   &\\approx 2\\epsilon_{\\max}(x+y)\n",
    "\\end{split}\n",
    "$$\n",
    "because $\\epsilon_{\\max}^2 \\approx 0$. Thus\n",
    "$$\n",
    "\\frac{| [[x]+[y]]-(x+y) |}{|x+y|} \\le 2\\epsilon_{\\max}\n",
    "$$\n",
    "approximately.\n",
    "<br>\n",
    "\n",
    "계산하고자 하는 값의 상대 오차가 대략 $\\epsilon_{max}$의 2배 정도로 bound된다.<br>\n",
    "덧셈의 정밀도가 대략 $\\epsilon_{max}$의 order가 된다."
   ]
  },
  {
   "cell_type": "markdown",
   "metadata": {},
   "source": [
    "* **Scenario 2** (catastrophic cancellation): Subtraction of two nearly equal numbers eliminates significant digits.  $a-b$ where $a \\approx b$. Consider \n",
    "$$\\begin{eqnarray*}\n",
    "    a &=& x.xxxxxxxxxx1ssss  \\\\\n",
    "    b &=& x.xxxxxxxxxx0tttt\n",
    "\\end{eqnarray*}$$\n",
    "\n",
    "The result is $1.vvvvu...u$ where $u$ are unassigned digits. <br>\n",
    "\n",
    "두 숫자의 크기가 굉장히 비슷한 경우에 뺄셈을 할 때 유효숫자를 잃어버리는 것"
   ]
  },
  {
   "cell_type": "code",
   "execution_count": 62,
   "metadata": {
    "ExecuteTime": {
     "end_time": "2021-09-24T14:35:27.998000+09:00",
     "start_time": "2021-09-24T05:35:27.971Z"
    }
   },
   "outputs": [
    {
     "name": "stdout",
     "output_type": "stream",
     "text": [
      "bitstring(a) = \"00111111100111100000011001010001\"\n",
      "bitstring(b) = \"00111111100111100000011001010000\"\n",
      "a - b = 1.1920929f-7\n",
      "bitstring(a - b) = \"00110100000000000000000000000000\"\n",
      "Float32(1 / 2 ^ 23) = 1.1920929f-7\n"
     ]
    }
   ],
   "source": [
    "a = 1.2345678f0 # rounding\n",
    "@show bitstring(a) # rounding\n",
    "b = 1.2345677f0\n",
    "@show bitstring(b)\n",
    "@show a - b # correct result should be 1f-7\n",
    "@show bitstring(a - b)   # must be 1.0000...0 x 2^(-23)\n",
    "@show Float32(1/2^23);"
   ]
  },
  {
   "cell_type": "code",
   "execution_count": 63,
   "metadata": {
    "ExecuteTime": {
     "end_time": "2021-09-24T14:35:28.467000+09:00",
     "start_time": "2021-09-24T05:35:28.465Z"
    }
   },
   "outputs": [
    {
     "data": {
      "text/plain": [
       "\"00110100000000000000000000000000\""
      ]
     },
     "execution_count": 63,
     "metadata": {},
     "output_type": "execute_result"
    }
   ],
   "source": [
    "# bitstring of a,b : 끝 한자리만 다르다. \n",
    "# a-b : 유효숫자가 예상했던 결과와 한 자리만 같음 (single에서 유효숫자 23개.... 22개 잃은 것)\n",
    "    # a,b가 너무 비슷해서 빼는 과정에서 유효숫자를 거의 다 잃어버렸다."
   ]
  },
  {
   "cell_type": "markdown",
   "metadata": {},
   "source": [
    "Analysis: Let\n",
    "$$\n",
    "[x] = 1 + \\sum_{i=1}^{p-2}\\frac{d_{i+1}}{2^i} + \\frac{1}{2^{p-1}},\n",
    "\\quad\n",
    "[y] = 1 + \\sum_{i=1}^{p-2}\\frac{d_{i+1}}{2^i} + \\frac{0}{2^{p-1}}\n",
    ".\n",
    "$$\n",
    "\n",
    "* $[x]-[y] = \\frac{1}{2^{p-1}} = [[x]-[y]]$.\n",
    "\n",
    "* The true difference $x-y$ may lie anywhere in $(0, \\frac{1}{2^{p-2}}+\\frac{1}{2^{2p}}]$.\n",
    "\n",
    "* Relative error \n",
    "$$\n",
    "\\frac{|x-y -[[x]-[y]]|}{|x-y|}\n",
    "$$\n",
    "is unbounded -- no guarantee of any significant digit!\n",
    "\n",
    "x-y 가 0에 한없이 가까워질 수 있기 때문이다."
   ]
  },
  {
   "cell_type": "markdown",
   "metadata": {},
   "source": [
    ">    * Implications for numerical computation\n",
    "        - Rule 1: add small numbers together before adding larger ones  \n",
    "        - Rule 2: add numbers of like magnitude together (paring). When all numbers are of same sign and similar magnitude, add in pairs so each stage the summands are of similar magnitude  \n",
    "        - Rule 3: avoid substraction of two numbers that are nearly equal"
   ]
  },
  {
   "cell_type": "markdown",
   "metadata": {},
   "source": [
    "### Algebraic laws\n",
    "\n",
    "Floating-point numbers may violate many algebraic laws we are familiar with, such associative and distributive laws. See the example in the Machine Epsilon section and HW1."
   ]
  },
  {
   "cell_type": "markdown",
   "metadata": {},
   "source": [
    "## Coditioning\n",
    "\n",
    "Condiser solving a linear system $Ax=b$:\n",
    "\n",
    "$$\n",
    "\\begin{bmatrix} 1.000 & 0.500 \\\\ 0.667 & 0.333 \\end{bmatrix}\n",
    "\\begin{bmatrix} x_1 \\\\ x_2 \\end{bmatrix}\n",
    "=\n",
    "\\begin{bmatrix} 1.500 \\\\ 1.000 \\end{bmatrix}\n",
    ",\n",
    "$$\n",
    "\n",
    "whose solution is $(x_1, x_2) = (1.000, 1.000)$."
   ]
  },
  {
   "cell_type": "code",
   "execution_count": 17,
   "metadata": {
    "ExecuteTime": {
     "end_time": "2021-09-27T17:42:52.457000+09:00",
     "start_time": "2021-09-27T08:42:52.343Z"
    }
   },
   "outputs": [
    {
     "data": {
      "text/plain": [
       "2-element Vector{Float64}:\n",
       " 0.9999999999998335\n",
       " 1.000000000000333"
      ]
     },
     "execution_count": 17,
     "metadata": {},
     "output_type": "execute_result"
    }
   ],
   "source": [
    "A=[1.0 0.5; 0.667 0.333]; b = [1.5, 1.0]; A\\b"
   ]
  },
  {
   "cell_type": "markdown",
   "metadata": {},
   "source": [
    "If we *perturb* $b$ by 0.001, i.e., solve\n",
    "\n",
    "$$\n",
    "\\begin{bmatrix} 1.000 & 0.500 \\\\ 0.667 & 0.333 \\end{bmatrix}\n",
    "\\begin{bmatrix} x_1 \\\\ x_2 \\end{bmatrix}\n",
    "=\n",
    "\\begin{bmatrix} 1.500 \\\\ 0.999 \\end{bmatrix}\n",
    ",\n",
    "$$\n",
    "\n",
    "then the solution changes to $(x_1, x_2) = (0.000, 3.000)$."
   ]
  },
  {
   "cell_type": "code",
   "execution_count": 38,
   "metadata": {},
   "outputs": [
    {
     "data": {
      "text/plain": [
       "2-element Vector{Float64}:\n",
       " -1.6653345369377348e-13\n",
       "  3.000000000000333"
      ]
     },
     "execution_count": 38,
     "metadata": {},
     "output_type": "execute_result"
    }
   ],
   "source": [
    "b1 = [1.5, 0.999]; A\\b1"
   ]
  },
  {
   "cell_type": "markdown",
   "metadata": {},
   "source": [
    "If we instead perturb $A$ by 0.001, i.e., solve\n",
    "\n",
    "$$\n",
    "\\begin{bmatrix} 1.000 & 0.500 \\\\ 0.667 & 0.334 \\end{bmatrix}\n",
    "\\begin{bmatrix} x_1 \\\\ x_2 \\end{bmatrix}\n",
    "=\n",
    "\\begin{bmatrix} 1.500 \\\\ 1.000 \\end{bmatrix}\n",
    ",\n",
    "$$\n",
    "\n",
    "then this time the solution changes to $(x_1, x_2) = (2.000, -1.000)$."
   ]
  },
  {
   "cell_type": "code",
   "execution_count": 39,
   "metadata": {},
   "outputs": [
    {
     "data": {
      "text/plain": [
       "2-element Vector{Float64}:\n",
       "  2.0000000000001665\n",
       " -1.000000000000333"
      ]
     },
     "execution_count": 39,
     "metadata": {},
     "output_type": "execute_result"
    }
   ],
   "source": [
    "A1=[1.0 0.5; 0.667 0.334]; A1\\b"
   ]
  },
  {
   "cell_type": "code",
   "execution_count": 9,
   "metadata": {
    "ExecuteTime": {
     "end_time": "2021-09-27T16:09:02.082000+09:00",
     "start_time": "2021-09-27T07:09:02.070Z"
    }
   },
   "outputs": [],
   "source": [
    "# 입력과 출력의 변화하는 크기가 매우 많이 차이난다."
   ]
  },
  {
   "cell_type": "markdown",
   "metadata": {},
   "source": [
    "In other words, an input perturbation of order $10^{-3}$ yield an output perturbation of order $10^0$. Thats 3 orders of magnutide of relative change!\n",
    "\n",
    "Floating point representation $[x]$ of a real number $x$ in a digital computer may introduce such input perturbation easily. The perturbation of output of a problem with respect to the input is called *conditioning*.\n",
    "\n",
    "입력의 perturbation에 비해, 출력이 pertubation되는 비율을 `conditioning`이라고 한다."
   ]
  },
  {
   "cell_type": "code",
   "execution_count": 10,
   "metadata": {
    "ExecuteTime": {
     "end_time": "2021-09-27T16:45:49.241000+09:00",
     "start_time": "2021-09-27T07:45:49.236Z"
    }
   },
   "outputs": [],
   "source": [
    "# conditioning이 좋다 : 입,출력의 order차이가 많이 나지 않는다."
   ]
  },
  {
   "cell_type": "markdown",
   "metadata": {},
   "source": [
    "* Abstractly, a *problem* can be viewed as function $f: \\mathcal{X} \\to \\mathcal{Y}$ where $\\mathcal{X}$ is a normed vector space of data and $\\mathcal{Y}$ is a normed vector space of solutions.\n",
    "    - The problem of solving $Ax=b$ for fixed $b$ is $f: A \\mapsto A^{-1}b$ with $\\mathcal{X}=\\{M\\in\\mathbb{R}^{n\\times n}: M \\text{ is invertible} \\}$ and $\\mathcal{Y} = \\mathbb{R}^n$.\n",
    "    - The combination of a problem $f$ with a given data $x$ is called a *problem instance*, or simply problem unless no confusion occurs.\n",
    "     \n",
    "     \n",
    "* A *well-conditioned* problem (instance) is one such that all small perturbations of $x$ lead to only small changes in $f(x)$.\n",
    "\n",
    "\n",
    "* An *ill-conditioned* problem is one such that some small perturbation of $x$ leads to a large change in $f(x)$.\n",
    "\n",
    "\n",
    "* The (relative) *condition number* $\\kappa=\\kappa(\\theta)$ of a problem is defined by\n",
    "$$\n",
    "    \\kappa = \\lim_{\\delta\\to 0}\\sup_{\\|\\delta \\theta\\|\\le \\delta}\\frac{\\|\\delta f\\|/\\|f(\\theta)\\|}{\\|\\delta \\theta\\|/\\|\\theta\\|}\n",
    "    ,\n",
    "$$\n",
    "where $\\delta f = f(\\theta + \\delta \\theta) - f(\\theta)$.<br>\n",
    "분모는 입력의 상대오차, $\\delta\\theta$는 pertubation의 정도 \n",
    "\n",
    "\n",
    "* For the problem of solving $Ax=b$ for fixed $b$,  $f: A \\mapsto A^{-1}b$, it can be shown that the condition number of $f$ is\n",
    "$$\n",
    "    \\kappa = \\|A\\|\\|A^{-1}\\| =: \\kappa(A)\n",
    "    ,\n",
    "$$\n",
    "where $\\|A\\|$ is the matrix norm induced by vector norm $\\|\\cdot\\|$, i.e.,\n",
    "$$\n",
    "    \\|A\\| = \\sup_{x\\neq 0} \\frac{\\|Ax\\|}{\\|x\\|}.\n",
    "$$\n",
    "\n",
    "$\\|x\\|$가 euclidean norm일 땐, $\\|Ax\\|$는 A의 가장 큰 singular value인 것이 알려져 있다."
   ]
  },
  {
   "cell_type": "markdown",
   "metadata": {},
   "source": [
    "* To see this, recall $f(A) = A^{-1}b = x$. Since $b = Ax$ and the LHS is fixed, if a perturbation of the input $A \\to A + \\delta A$ yields a perturbation of the output $x \\to x + \\delta x$ or $f \\to f + \\delta f$, then we have (좌변-우변) 하면,\n",
    "\n",
    "$$\n",
    "    0 = (\\delta A) x + A \\delta x + (\\delta A) \\delta x \n",
    "$$\n",
    "\n",
    "or\n",
    "\n",
    "$$\n",
    "    \\delta x = -A^{-1}(\\delta A)x + o(\\Vert \\delta A \\Vert)\n",
    "    .\n",
    "$$\n",
    "\n",
    "That is, $\\delta f = f(A + \\delta A) - f(A) = - A^{-1}(\\delta A)A^{-1}b + o(\\Vert \\delta A \\Vert)$. Then\n",
    "$$\n",
    "\\begin{aligned}\n",
    "    \\kappa &= \\lim_{\\delta\\to 0}\\sup_{\\|\\delta A\\|\\le \\delta}\\frac{(\\Vert A^{-1}(\\delta A)A^{-1}b\\Vert + o(\\Vert \\delta A \\Vert)\\Vert) / \\Vert A^{-1}b \\Vert}{\\Vert \\delta A \\Vert / \\Vert A \\Vert}\n",
    "    =\n",
    "    \\lim_{\\delta\\to 0}\\sup_{\\|\\delta A\\|\\le \\delta} \\frac{\\Vert A^{-1}(\\delta A)A^{-1}b\\Vert / \\Vert A^{-1}b \\Vert}{\\Vert \\delta A \\Vert / \\Vert A \\Vert} + o(1)\n",
    "    \\\\\n",
    "    &=\n",
    "    \\lim_{\\delta\\to 0}\\sup_{\\|\\delta A\\|\\le \\delta} \\frac{\\Vert A^{-1}(\\delta A)A^{-1}b\\Vert / \\Vert A^{-1}b \\Vert}{\\Vert \\delta A \\Vert / \\Vert A \\Vert}\n",
    "    .\n",
    "\\end{aligned}\n",
    "$$\n",
    "\n",
    "From the property of a matrix norm (https://en.wikipedia.org/wiki/Matrix_norm),\n",
    "$$\n",
    "    \\frac{\\Vert A^{-1}(\\delta A)A^{-1}b\\Vert / \\Vert A^{-1}b \\Vert}{\\Vert \\delta A \\Vert / \\Vert A \\Vert}\n",
    "    \\le\n",
    "    \\frac{\\Vert A^{-1} \\Vert \\Vert \\delta A \\Vert \\Vert A^{-1}b\\Vert / \\Vert A^{-1}b \\Vert}{\\Vert \\delta A \\Vert / \\Vert A \\Vert}\n",
    "    = \\Vert A^{-1} \\Vert \\Vert A \\Vert\n",
    "    ,\n",
    "$$\n",
    "hence $\\kappa \\le \\Vert A^{-1} \\Vert \\Vert A \\Vert$.\n",
    "\\\n",
    "It can be shown that for any invertible $A$ and $b$, there exits a perturbation $\\delta A$ such that\n",
    "$$\n",
    "    \\frac{\\Vert A^{-1}(\\delta A)A^{-1}b\\Vert / \\Vert A^{-1}b \\Vert}{\\Vert \\delta A \\Vert / \\Vert A \\Vert}\n",
    "    = \\Vert A^{-1} \\Vert \\Vert A \\Vert\n",
    "    .\n",
    "$$\n",
    "\n",
    "It follows that $\\kappa \\ge \\Vert A^{-1} \\Vert \\Vert A \\Vert$. (위 등식을 만족시키는 $\\delta A$를 잡을 수 있다.)"
   ]
  },
  {
   "cell_type": "markdown",
   "metadata": {},
   "source": [
    "* If Euclidean norm is used, then \n",
    "$$\n",
    "\\kappa(A) = \\sigma_{\\max}(A)/\\sigma_{\\min}(A),\n",
    "$$\n",
    "the ratio of the maximum and minimum singular values of $A$. "
   ]
  },
  {
   "cell_type": "markdown",
   "metadata": {},
   "source": [
    "In the above problem, the condition number is matrix $A$ (w.r.t. Euclidean norm) is"
   ]
  },
  {
   "cell_type": "code",
   "execution_count": 20,
   "metadata": {
    "ExecuteTime": {
     "end_time": "2021-09-27T18:01:58.240000+09:00",
     "start_time": "2021-09-27T09:01:58.231Z"
    }
   },
   "outputs": [
    {
     "data": {
      "text/plain": [
       "3611.5557231115513"
      ]
     },
     "execution_count": 20,
     "metadata": {},
     "output_type": "execute_result"
    }
   ],
   "source": [
    "using LinearAlgebra\n",
    "LinearAlgebra.cond(A)\n",
    "# singular value = square root of eigen value of A'A\n",
    "# 아래 결과는 eigen value의 최소값과 최대값의 차이가 굉장히 큼을 보여준다.\n",
    "    # -> A가 singular 에 가깝다. -> A의 singular value의 최소값이 0에 가깝다.\n",
    "# Ax=b를 풀 때에 condition number는 A가 얼마나 invertable 한지에 대한 quantification으로 쓸 수 있다.\n",
    "    # condition number가 크다 -> 해당 선형방정식을 풀기가 수치적으로 어렵다.\n",
    "    # A가 singular 하다면, 가장 작은 특이값은 0이 될 것이고, condition number -> \\infty\n",
    "\n",
    "# 1<= kappa < infty\n"
   ]
  },
  {
   "cell_type": "markdown",
   "metadata": {},
   "source": [
    "## Further readings\n",
    "\n",
    "* Section II.2, [Computational Statistics](https://link.springer.com/book/10.1007%2F978-0-387-98144-4) by James Gentle (2009).\n",
    "\n",
    "* Sections 1.5 and 2.2, [Applied Numerical Linear Algebra](https://doi.org/10.1137/1.9781611971446) by James W. Demmel (1997).\n",
    "\n",
    "* [What every computer scientist should know about floating-point arithmetic](https://www.itu.dk/~sestoft/bachelor/IEEE754_article.pdf) by David Goldberg (1991)."
   ]
  },
  {
   "cell_type": "markdown",
   "metadata": {},
   "source": [
    "## Acknowledgment\n",
    "\n",
    "Many parts of this lecture note is based on [Dr. Hua Zhou](http://hua-zhou.github.io)'s 2019 Spring Statistical Computing course notes available at <http://hua-zhou.github.io/teaching/biostatm280-2019spring/index.html>."
   ]
  }
 ],
 "metadata": {
  "kernelspec": {
   "display_name": "Julia 1.6.2",
   "language": "julia",
   "name": "julia-1.6"
  },
  "language_info": {
   "file_extension": ".jl",
   "mimetype": "application/julia",
   "name": "julia",
   "version": "1.6.2"
  },
  "toc": {
   "base_numbering": 1,
   "nav_menu": {
    "height": "250px",
    "width": "252px"
   },
   "number_sections": true,
   "sideBar": true,
   "skip_h1_title": true,
   "title_cell": "Table of Contents",
   "title_sidebar": "Contents",
   "toc_cell": true,
   "toc_position": {
    "height": "calc(100% - 180px)",
    "left": "10px",
    "top": "150px",
    "width": "283.390625px"
   },
   "toc_section_display": "block",
   "toc_window_display": true
  },
  "varInspector": {
   "cols": {
    "lenName": 16,
    "lenType": 16,
    "lenVar": 40
   },
   "kernels_config": {
    "python": {
     "delete_cmd_postfix": "",
     "delete_cmd_prefix": "del ",
     "library": "var_list.py",
     "varRefreshCmd": "print(var_dic_list())"
    },
    "r": {
     "delete_cmd_postfix": ") ",
     "delete_cmd_prefix": "rm(",
     "library": "var_list.r",
     "varRefreshCmd": "cat(var_dic_list()) "
    }
   },
   "types_to_exclude": [
    "module",
    "function",
    "builtin_function_or_method",
    "instance",
    "_Feature"
   ],
   "window_display": false
  }
 },
 "nbformat": 4,
 "nbformat_minor": 4
}
